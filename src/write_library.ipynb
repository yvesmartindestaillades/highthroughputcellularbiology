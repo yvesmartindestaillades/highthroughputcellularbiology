{
 "cells": [
  {
   "attachments": {},
   "cell_type": "markdown",
   "metadata": {},
   "source": [
    "## Write library"
   ]
  },
  {
   "cell_type": "code",
   "execution_count": 34,
   "metadata": {},
   "outputs": [],
   "source": [
    "import pandas as pd\n",
    "import numpy as np\n",
    "from tqdm import tqdm\n",
    "from util import *\n",
    "\n",
    "# Load df and add family and flank\n",
    "df = fasta_to_df('../data/reference.fasta')\n",
    "df['family'] = df['construct'].apply(lambda s: s.split('_')[1].split('-')[0].split('=')[1])\n",
    "df['flank'] = df['construct'].apply(lambda s: s.split('-')[2].split('=')[0])\n",
    "\n",
    "# define boundaries for the sections\n",
    "boundary = {\n",
    "    'MS2': lambda s: [19, 42],\n",
    "    'TC1': lambda s: [42, 44],\n",
    "    'ROI': lambda s: [44, s.index(LAH)-2],\n",
    "    'TC2': lambda s: [s.index(LAH)-2, s.index(LAH)],\n",
    "    'LAH': lambda s: [s.index(LAH), s.index(LAH)+len(LAH)],\n",
    "    'buffer': lambda s: [s.index(LAH)+len(LAH), 139],\n",
    "    'barcode': lambda s: [139, 151],\n",
    "    'full': lambda s: [0, len(s)],\n",
    "}\n",
    "        \n",
    "# add section and name_section\n",
    "df_out = pd.DataFrame()\n",
    "for f in boundary.keys():\n",
    "    df_temp = df.copy()\n",
    "    df_temp['section_start'],  df_temp['section_end'] = df_temp['sequence'].apply(lambda x: boundary[f](x)[0]+1), df_temp['sequence'].apply(lambda x: boundary[f](x)[1])\n",
    "    df_temp['section'] = df_temp.apply(lambda x: str(x['section_start']) + '-' + str(x['section_end']), axis=1)\n",
    "    df_temp['name_section'] = f\n",
    "    df_temp['barcode'] = df_temp['sequence'].apply(lambda x: x[boundary['barcode'](x)[0]:boundary['barcode'](x)[1]])\n",
    "    df_temp['barcode_start'] = df_temp['sequence'].apply(lambda x: boundary['barcode'](x)[0]+1)\n",
    "    df_temp['barcode_end'] = df_temp['sequence'].apply(lambda x: boundary['barcode'](x)[1])\n",
    "    df_temp['secondary_signature'] = df_temp['sequence'].apply(lambda x: x[boundary['ROI'](x)[0]:boundary['ROI'](x)[1]])\n",
    "    df_temp['secondary_signature_start'] = df_temp['sequence'].apply(lambda x: boundary['ROI'](x)[0]+1)\n",
    "    df_temp['secondary_signature_end'] = df_temp['sequence'].apply(lambda x: boundary['ROI'](x)[1])\n",
    "    df_out = pd.concat([df_out, df_temp], axis=0)\n",
    "\n",
    "# drop sequence, reset index, save to csv\n",
    "df = df_out.reset_index(drop=True)\n",
    "\n",
    "df.to_csv('../data/library.csv', index=False)\n"
   ]
  },
  {
   "cell_type": "code",
   "execution_count": null,
   "metadata": {},
   "outputs": [],
   "source": [
    "\n",
    "\n",
    "df = pd.concat([df.drop(columns=['sequence']), df_out],axis=0)\n",
    "df.reset_index(inplace=True, drop=True)\n",
    "df['family'] = df['construct'].apply(lambda x: x.split('-')[2].split('=')[1])\n",
    "df.sort_values('section')\n",
    "df = df.reset_index(drop=True)\n",
    "\n",
    "df.to_csv('/Users/ymdt/src/Lauren/data/processed/library.csv', index=False)"
   ]
  }
 ],
 "metadata": {
  "kernelspec": {
   "display_name": "venv",
   "language": "python",
   "name": "python3"
  },
  "language_info": {
   "codemirror_mode": {
    "name": "ipython",
    "version": 3
   },
   "file_extension": ".py",
   "mimetype": "text/x-python",
   "name": "python",
   "nbconvert_exporter": "python",
   "pygments_lexer": "ipython3",
   "version": "3.11.0"
  },
  "orig_nbformat": 4,
  "vscode": {
   "interpreter": {
    "hash": "da229f0528e1c0d1c0b9dd42b2435d18e9f382f2b763d9e722ef981a0e650149"
   }
  }
 },
 "nbformat": 4,
 "nbformat_minor": 2
}
