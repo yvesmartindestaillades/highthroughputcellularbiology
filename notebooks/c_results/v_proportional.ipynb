{
 "cells": [
  {
   "attachments": {},
   "cell_type": "markdown",
   "metadata": {},
   "source": [
    "# Signal is proportional to fraction folded\n",
    "## ∆T –  Does the Tm change with reaction Temp?"
   ]
  },
  {
   "attachments": {},
   "cell_type": "markdown",
   "metadata": {},
   "source": [
    "### Change in Temp (w/o prediction)\n",
    "- For each base in ROI, plot mutation fraction vs. T\n",
    "    - should be linear for some portion, then level off when hydrolysis is faster than DMS reaction\n"
   ]
  },
  {
   "cell_type": "code",
   "execution_count": null,
   "metadata": {},
   "outputs": [],
   "source": []
  },
  {
   "attachments": {},
   "cell_type": "markdown",
   "metadata": {},
   "source": [
    "### Change in Temp (w/ prediction at 37)\n",
    "- Curve with Predicted ∆G\n",
    "for each base in ROI, plot mutation fraction vs. pred ∆G (at 37 °C)\n",
    "- fit each curve to ∆∆Goffset \n"
   ]
  },
  {
   "cell_type": "code",
   "execution_count": null,
   "metadata": {},
   "outputs": [],
   "source": []
  },
  {
   "attachments": {},
   "cell_type": "markdown",
   "metadata": {},
   "source": [
    "### Change in Temp (w/ prediction at T) \n",
    "- For each base in ROI at each temp, plot mutation fraction vs. pred ∆G (at that temp) \n",
    "    - fit each curve to ∆∆Goffset\n",
    "    - simple model—the offset should be the same if the algorithm is just off by some amount??\n"
   ]
  },
  {
   "cell_type": "code",
   "execution_count": null,
   "metadata": {},
   "outputs": [],
   "source": []
  },
  {
   "attachments": {},
   "cell_type": "markdown",
   "metadata": {},
   "source": [
    "##   ∆t – is the signal in the linear regime at the working reaction time? \n",
    "### Change in reaction time\n",
    "- For each construct at each position, plot Mutation fraction vs. [DMS]\n",
    "    - scatter plot\n",
    "    - fit linear region (for now that might just be to the first 3 points 1-5 min)--goodness of fit??\n",
    "\n",
    "\n"
   ]
  },
  {
   "cell_type": "code",
   "execution_count": null,
   "metadata": {},
   "outputs": [],
   "source": []
  },
  {
   "attachments": {},
   "cell_type": "markdown",
   "metadata": {},
   "source": [
    "## ∆[DMS] -  is the signal in the linear regime at the working concentration?\n",
    "### Change in [DMS]\n",
    "- For each construct at each position, plot Mutation fraction vs. [DMS]\n",
    "    - fit linear region (for now that might just be to the first 3 points 0.5-1% DMS)--goodness of fit??\n"
   ]
  },
  {
   "cell_type": "code",
   "execution_count": null,
   "metadata": {},
   "outputs": [],
   "source": []
  }
 ],
 "metadata": {
  "kernelspec": {
   "display_name": "venv",
   "language": "python",
   "name": "python3"
  },
  "language_info": {
   "name": "python",
   "version": "3.11.0 (v3.11.0:deaf509e8f, Oct 24 2022, 14:43:23) [Clang 13.0.0 (clang-1300.0.29.30)]"
  },
  "orig_nbformat": 4,
  "vscode": {
   "interpreter": {
    "hash": "da229f0528e1c0d1c0b9dd42b2435d18e9f382f2b763d9e722ef981a0e650149"
   }
  }
 },
 "nbformat": 4,
 "nbformat_minor": 2
}
