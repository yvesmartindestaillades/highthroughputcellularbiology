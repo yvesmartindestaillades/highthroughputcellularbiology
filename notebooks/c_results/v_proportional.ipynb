{
 "cells": [
  {
   "attachments": {},
   "cell_type": "markdown",
   "metadata": {},
   "source": [
    "# Signal is proportional to fraction folded"
   ]
  },
  {
   "cell_type": "code",
   "execution_count": 4,
   "metadata": {},
   "outputs": [
    {
     "name": "stdout",
     "output_type": "stream",
     "text": [
      "The autoreload extension is already loaded. To reload it, use:\n",
      "  %reload_ext autoreload\n"
     ]
    }
   ],
   "source": [
    "%load_ext autoreload\n",
    "%autoreload 2\n",
    "import sys\n",
    "sys.path.append('../../src')\n",
    "from util import *\n",
    "from config import * \n",
    "import generate_dataset\n",
    "from study_gen import study\n",
    "import plots\n",
    "import ipynbname"
   ]
  },
  {
   "cell_type": "markdown",
   "metadata": {},
   "source": [
    "\n",
    "## ∆T –  Does the Tm change with reaction Temp?"
   ]
  },
  {
   "attachments": {},
   "cell_type": "markdown",
   "metadata": {},
   "source": [
    "### Change in Temp (w/o prediction)\n",
    "- For each A/C base in ROI, plot mutation fraction vs. T\n",
    "    - should be linear for some portion, then level off when hydrolysis is faster than DMS reaction\n"
   ]
  },
  {
   "cell_type": "code",
   "execution_count": null,
   "metadata": {},
   "outputs": [],
   "source": [
    "%autoreload 2\n",
    "for construct in study.df.construct.unique():\n",
    "    plot = plots.change_in_temp_mut_frac_vs_temperature(study, temperature_samples, construct)\n",
    "    save_plotly_fig(ipynbname.path(), '[A] Change in temperature (w o prediction)/'+construct, plot['fig'])\n",
    "    if not generate_plots:\n",
    "        plot['fig'].show()\n",
    "        break"
   ]
  },
  {
   "attachments": {},
   "cell_type": "markdown",
   "metadata": {},
   "source": [
    "### Mutation rate across the family vs pred ∆G (at 37 °C)\n",
    "- Curve with Predicted ∆G\n",
    "for each base in ROI, plot mutation fraction vs. pred ∆G (at 37 °C)\n",
    "- fit each curve to ∆∆Goffset \n"
   ]
  },
  {
   "cell_type": "code",
   "execution_count": null,
   "metadata": {},
   "outputs": [],
   "source": [
    "%reload_ext autoreload\n",
    "study.df = generate_dataset.find_frame_shift_ROI(study)\n",
    "\n",
    "for sample in study.df[study.df['temperature_k']==310]['sample'].unique():\n",
    "    for family in study.get_df(sample=sample).family.unique():\n",
    "        plot = plots.mut_rate_across_family_vs_deltaG(study, sample, family)\n",
    "        save_plotly_fig(ipynbname.path(), '[B] Change in temperature (w prediction at 37)/{}/{}'.format(sample, family), plot['fig'])\n",
    "        if not generate_plots:\n",
    "            plot['fig'].show()\n",
    "            break\n",
    "    if not generate_plots:\n",
    "        break"
   ]
  },
  {
   "attachments": {},
   "cell_type": "markdown",
   "metadata": {},
   "source": [
    "### Change in Temp (w/ prediction at T) \n",
    "- For each base in ROI at each temp, plot mutation fraction vs. pred ∆G (at that temp) \n",
    "    - fit each curve to ∆∆Goffset\n",
    "    - simple model—the offset should be the same if the algorithm is just off by some amount??\n"
   ]
  },
  {
   "cell_type": "code",
   "execution_count": null,
   "metadata": {},
   "outputs": [],
   "source": [
    "savefig2(ipynbname.path(), '[C] Change in temperature (w prediction at T)')"
   ]
  },
  {
   "attachments": {},
   "cell_type": "markdown",
   "metadata": {},
   "source": [
    "##   ∆t – is the signal in the linear regime at the working reaction time? \n",
    "### Change in reaction time\n",
    "- For each construct at each position, plot Mutation fraction vs. reaction time\n",
    "    - scatter plot\n",
    "    - fit linear region (for now that might just be to the first 3 points 1-5 min)--goodness of fit??\n",
    "\n",
    "\n"
   ]
  },
  {
   "cell_type": "code",
   "execution_count": null,
   "metadata": {},
   "outputs": [],
   "source": [
    "for construct in study.df.construct.unique():\n",
    "    plot = plots.change_in_reaction_time(study, samples=reaction_time_samples, construct=construct)\n",
    "    save_plotly_fig(ipynbname.path(), '[D] Change in reaction time/'+construct, plot['fig'])\n",
    "    if not generate_plots:\n",
    "        plot['fig'].show()\n",
    "        break"
   ]
  },
  {
   "attachments": {},
   "cell_type": "markdown",
   "metadata": {},
   "source": [
    "## ∆[DMS] -  is the signal in the linear regime at the working concentration?\n",
    "### Change in [DMS]\n",
    "- For each construct at each position, plot Mutation fraction vs. [DMS]\n",
    "    - fit linear region (for now that might just be to the first 3 points 0.5-1% DMS)--goodness of fit??\n"
   ]
  },
  {
   "cell_type": "code",
   "execution_count": 5,
   "metadata": {},
   "outputs": [
    {
     "data": {
      "application/vnd.plotly.v1+json": {
       "config": {
        "plotlyServerURL": "https://plot.ly"
       },
       "data": [
        {
         "marker": {
          "line": {
           "color": "black",
           "width": 0
          },
          "size": 20
         },
         "mode": "markers",
         "name": "A1",
         "type": "scatter",
         "visible": "legendonly",
         "x": [
          52.7,
          211,
          1054,
          10.5,
          211,
          1054,
          105,
          10.5
         ],
         "y": [
          0.0015012965743141805,
          0.00825082508250825,
          0.015532734274711168,
          0.0031253150519205564,
          0.005384922217790187,
          0.01017948031074203,
          0.0018696581196581197,
          0.0023004600920184036
         ]
        },
        {
         "marker": {
          "line": {
           "color": "black",
           "width": 0
          },
          "size": 20
         },
         "mode": "markers",
         "name": "A2",
         "type": "scatter",
         "visible": "legendonly",
         "x": [
          52.7,
          211,
          1054,
          10.5,
          211,
          1054,
          105,
          10.5
         ],
         "y": [
          0.0012236573759347384,
          0.004000941397975994,
          0.00705399512633064,
          0.002614641995172969,
          0.0023995200959808036,
          0.008034279592929834,
          0.0007982969664715274,
          0.0017011908335835084
         ]
        },
        {
         "marker": {
          "line": {
           "color": "black",
           "width": 0
          },
          "size": 20
         },
         "mode": "markers",
         "name": "A4",
         "type": "scatter",
         "visible": "legendonly",
         "x": [
          52.7,
          211,
          1054,
          10.5,
          211,
          1054,
          105,
          10.5
         ],
         "y": [
          0.0010949904188338351,
          0.0030725596785629874,
          0.004772346188572166,
          0.0014178651002633178,
          0.001006036217303823,
          0.006211180124223602,
          0.0008042895442359249,
          0.0012046983234615
         ]
        },
        {
         "marker": {
          "line": {
           "color": "black",
           "width": 0
          },
          "size": 20
         },
         "mode": "markers",
         "name": "A6",
         "type": "scatter",
         "visible": "legendonly",
         "x": [
          52.7,
          211,
          1054,
          10.5,
          211,
          1054,
          105,
          10.5
         ],
         "y": [
          0.0005478701547733187,
          0.0018890200708382527,
          0.0030923850019327404,
          0.001013273887931908,
          0.001001001001001001,
          0.0024180548092423426,
          0.0002672367717797969,
          0.0007057163020465773
         ]
        },
        {
         "marker": {
          "line": {
           "color": "black",
           "width": 0
          },
          "size": 20
         },
         "mode": "markers",
         "name": "C9",
         "type": "scatter",
         "visible": "legendonly",
         "x": [
          52.7,
          211,
          1054,
          10.5,
          211,
          1054,
          105,
          10.5
         ],
         "y": [
          0.0032626427406199023,
          0.004234297812279464,
          0.0034429992348890587,
          0.002508277315139962,
          0.003787878787878788,
          0.005868231528407575,
          0.002124269782262347,
          0.002492025518341308
         ]
        },
        {
         "marker": {
          "line": {
           "color": "black",
           "width": 3
          },
          "size": 20
         },
         "mode": "markers",
         "name": "A11",
         "type": "scatter",
         "visible": "legendonly",
         "x": [
          52.7,
          211,
          1054,
          10.5,
          211,
          1054,
          105,
          10.5
         ],
         "y": [
          0.004065591543569589,
          0.022305705564686546,
          0.047210849539406345,
          0.010032102728731942,
          0.013941445927106154,
          0.03010122535961641,
          0.0050424628450106155,
          0.00946497957557039
         ]
        },
        {
         "marker": {
          "line": {
           "color": "black",
           "width": 3
          },
          "size": 20
         },
         "mode": "markers",
         "name": "A12",
         "type": "scatter",
         "visible": "legendonly",
         "x": [
          52.7,
          211,
          1054,
          10.5,
          211,
          1054,
          105,
          10.5
         ],
         "y": [
          0.0037703016241299302,
          0.0207663782447466,
          0.03996232508073197,
          0.009182058047493403,
          0.015436667371537323,
          0.024823695345557124,
          0.0039018952062430325,
          0.008319292333614153
         ]
        },
        {
         "marker": {
          "line": {
           "color": "black",
           "width": 3
          },
          "size": 20
         },
         "mode": "markers",
         "name": "A13",
         "type": "scatter",
         "visible": "legendonly",
         "x": [
          52.7,
          211,
          1054,
          10.5,
          211,
          1054,
          105,
          10.5
         ],
         "y": [
          0.0051302821655191035,
          0.023430178069353328,
          0.04747359042891689,
          0.011688311688311689,
          0.010309278350515464,
          0.03078556263269639,
          0.0042429063908777515,
          0.010024813895781639
         ]
        },
        {
         "marker": {
          "line": {
           "color": "black",
           "width": 0
          },
          "size": 20
         },
         "mode": "markers",
         "name": "A15",
         "type": "scatter",
         "visible": "legendonly",
         "x": [
          52.7,
          211,
          1054,
          10.5,
          211,
          1054,
          105,
          10.5
         ],
         "y": [
          0.0008200082000820008,
          0.0030653147842489977,
          0.005657708628005658,
          0.0015120967741935483,
          0.002203525641025641,
          0.005628517823639775,
          0.001063264221158958,
          0.0014036494886705434
         ]
        },
        {
         "marker": {
          "line": {
           "color": "black",
           "width": 0
          },
          "size": 20
         },
         "mode": "markers",
         "name": "A16",
         "type": "scatter",
         "visible": "legendonly",
         "x": [
          52.7,
          211,
          1054,
          10.5,
          211,
          1054,
          105,
          10.5
         ],
         "y": [
          0.0012268266085059978,
          0.0014107688690336232,
          0.0030804774740084712,
          0.0017163048965169107,
          0.0013958125623130609,
          0.0024096385542168677,
          0.001332267519317879,
          0.0014036494886705434
         ]
        },
        {
         "marker": {
          "line": {
           "color": "black",
           "width": 0
          },
          "size": 20
         },
         "mode": "markers",
         "name": "A18",
         "type": "scatter",
         "visible": "legendonly",
         "x": [
          52.7,
          211,
          1054,
          10.5,
          211,
          1054,
          105,
          10.5
         ],
         "y": [
          0.000819672131147541,
          0.00047382136934375743,
          0.001799023387304035,
          0.0006048996874684948,
          0.0006019261637239165,
          0.0024154589371980675,
          0.0008019246190858059,
          0.0012037315678603672
         ]
        },
        {
         "marker": {
          "line": {
           "color": "black",
           "width": 0
          },
          "size": 20
         },
         "mode": "markers",
         "name": "C20",
         "type": "scatter",
         "visible": "legendonly",
         "x": [
          52.7,
          211,
          1054,
          10.5,
          211,
          1054,
          105,
          10.5
         ],
         "y": [
          0.005598798306704902,
          0.004024621212121212,
          0.006964147536755223,
          0.0033269482810767215,
          0.005628140703517588,
          0.005906040268456376,
          0.004545454545454545,
          0.004118119726797911
         ]
        }
       ],
       "layout": {
        "template": {
         "data": {
          "bar": [
           {
            "error_x": {
             "color": "#2a3f5f"
            },
            "error_y": {
             "color": "#2a3f5f"
            },
            "marker": {
             "line": {
              "color": "#E5ECF6",
              "width": 0.5
             },
             "pattern": {
              "fillmode": "overlay",
              "size": 10,
              "solidity": 0.2
             }
            },
            "type": "bar"
           }
          ],
          "barpolar": [
           {
            "marker": {
             "line": {
              "color": "#E5ECF6",
              "width": 0.5
             },
             "pattern": {
              "fillmode": "overlay",
              "size": 10,
              "solidity": 0.2
             }
            },
            "type": "barpolar"
           }
          ],
          "carpet": [
           {
            "aaxis": {
             "endlinecolor": "#2a3f5f",
             "gridcolor": "white",
             "linecolor": "white",
             "minorgridcolor": "white",
             "startlinecolor": "#2a3f5f"
            },
            "baxis": {
             "endlinecolor": "#2a3f5f",
             "gridcolor": "white",
             "linecolor": "white",
             "minorgridcolor": "white",
             "startlinecolor": "#2a3f5f"
            },
            "type": "carpet"
           }
          ],
          "choropleth": [
           {
            "colorbar": {
             "outlinewidth": 0,
             "ticks": ""
            },
            "type": "choropleth"
           }
          ],
          "contour": [
           {
            "colorbar": {
             "outlinewidth": 0,
             "ticks": ""
            },
            "colorscale": [
             [
              0,
              "#0d0887"
             ],
             [
              0.1111111111111111,
              "#46039f"
             ],
             [
              0.2222222222222222,
              "#7201a8"
             ],
             [
              0.3333333333333333,
              "#9c179e"
             ],
             [
              0.4444444444444444,
              "#bd3786"
             ],
             [
              0.5555555555555556,
              "#d8576b"
             ],
             [
              0.6666666666666666,
              "#ed7953"
             ],
             [
              0.7777777777777778,
              "#fb9f3a"
             ],
             [
              0.8888888888888888,
              "#fdca26"
             ],
             [
              1,
              "#f0f921"
             ]
            ],
            "type": "contour"
           }
          ],
          "contourcarpet": [
           {
            "colorbar": {
             "outlinewidth": 0,
             "ticks": ""
            },
            "type": "contourcarpet"
           }
          ],
          "heatmap": [
           {
            "colorbar": {
             "outlinewidth": 0,
             "ticks": ""
            },
            "colorscale": [
             [
              0,
              "#0d0887"
             ],
             [
              0.1111111111111111,
              "#46039f"
             ],
             [
              0.2222222222222222,
              "#7201a8"
             ],
             [
              0.3333333333333333,
              "#9c179e"
             ],
             [
              0.4444444444444444,
              "#bd3786"
             ],
             [
              0.5555555555555556,
              "#d8576b"
             ],
             [
              0.6666666666666666,
              "#ed7953"
             ],
             [
              0.7777777777777778,
              "#fb9f3a"
             ],
             [
              0.8888888888888888,
              "#fdca26"
             ],
             [
              1,
              "#f0f921"
             ]
            ],
            "type": "heatmap"
           }
          ],
          "heatmapgl": [
           {
            "colorbar": {
             "outlinewidth": 0,
             "ticks": ""
            },
            "colorscale": [
             [
              0,
              "#0d0887"
             ],
             [
              0.1111111111111111,
              "#46039f"
             ],
             [
              0.2222222222222222,
              "#7201a8"
             ],
             [
              0.3333333333333333,
              "#9c179e"
             ],
             [
              0.4444444444444444,
              "#bd3786"
             ],
             [
              0.5555555555555556,
              "#d8576b"
             ],
             [
              0.6666666666666666,
              "#ed7953"
             ],
             [
              0.7777777777777778,
              "#fb9f3a"
             ],
             [
              0.8888888888888888,
              "#fdca26"
             ],
             [
              1,
              "#f0f921"
             ]
            ],
            "type": "heatmapgl"
           }
          ],
          "histogram": [
           {
            "marker": {
             "pattern": {
              "fillmode": "overlay",
              "size": 10,
              "solidity": 0.2
             }
            },
            "type": "histogram"
           }
          ],
          "histogram2d": [
           {
            "colorbar": {
             "outlinewidth": 0,
             "ticks": ""
            },
            "colorscale": [
             [
              0,
              "#0d0887"
             ],
             [
              0.1111111111111111,
              "#46039f"
             ],
             [
              0.2222222222222222,
              "#7201a8"
             ],
             [
              0.3333333333333333,
              "#9c179e"
             ],
             [
              0.4444444444444444,
              "#bd3786"
             ],
             [
              0.5555555555555556,
              "#d8576b"
             ],
             [
              0.6666666666666666,
              "#ed7953"
             ],
             [
              0.7777777777777778,
              "#fb9f3a"
             ],
             [
              0.8888888888888888,
              "#fdca26"
             ],
             [
              1,
              "#f0f921"
             ]
            ],
            "type": "histogram2d"
           }
          ],
          "histogram2dcontour": [
           {
            "colorbar": {
             "outlinewidth": 0,
             "ticks": ""
            },
            "colorscale": [
             [
              0,
              "#0d0887"
             ],
             [
              0.1111111111111111,
              "#46039f"
             ],
             [
              0.2222222222222222,
              "#7201a8"
             ],
             [
              0.3333333333333333,
              "#9c179e"
             ],
             [
              0.4444444444444444,
              "#bd3786"
             ],
             [
              0.5555555555555556,
              "#d8576b"
             ],
             [
              0.6666666666666666,
              "#ed7953"
             ],
             [
              0.7777777777777778,
              "#fb9f3a"
             ],
             [
              0.8888888888888888,
              "#fdca26"
             ],
             [
              1,
              "#f0f921"
             ]
            ],
            "type": "histogram2dcontour"
           }
          ],
          "mesh3d": [
           {
            "colorbar": {
             "outlinewidth": 0,
             "ticks": ""
            },
            "type": "mesh3d"
           }
          ],
          "parcoords": [
           {
            "line": {
             "colorbar": {
              "outlinewidth": 0,
              "ticks": ""
             }
            },
            "type": "parcoords"
           }
          ],
          "pie": [
           {
            "automargin": true,
            "type": "pie"
           }
          ],
          "scatter": [
           {
            "fillpattern": {
             "fillmode": "overlay",
             "size": 10,
             "solidity": 0.2
            },
            "type": "scatter"
           }
          ],
          "scatter3d": [
           {
            "line": {
             "colorbar": {
              "outlinewidth": 0,
              "ticks": ""
             }
            },
            "marker": {
             "colorbar": {
              "outlinewidth": 0,
              "ticks": ""
             }
            },
            "type": "scatter3d"
           }
          ],
          "scattercarpet": [
           {
            "marker": {
             "colorbar": {
              "outlinewidth": 0,
              "ticks": ""
             }
            },
            "type": "scattercarpet"
           }
          ],
          "scattergeo": [
           {
            "marker": {
             "colorbar": {
              "outlinewidth": 0,
              "ticks": ""
             }
            },
            "type": "scattergeo"
           }
          ],
          "scattergl": [
           {
            "marker": {
             "colorbar": {
              "outlinewidth": 0,
              "ticks": ""
             }
            },
            "type": "scattergl"
           }
          ],
          "scattermapbox": [
           {
            "marker": {
             "colorbar": {
              "outlinewidth": 0,
              "ticks": ""
             }
            },
            "type": "scattermapbox"
           }
          ],
          "scatterpolar": [
           {
            "marker": {
             "colorbar": {
              "outlinewidth": 0,
              "ticks": ""
             }
            },
            "type": "scatterpolar"
           }
          ],
          "scatterpolargl": [
           {
            "marker": {
             "colorbar": {
              "outlinewidth": 0,
              "ticks": ""
             }
            },
            "type": "scatterpolargl"
           }
          ],
          "scatterternary": [
           {
            "marker": {
             "colorbar": {
              "outlinewidth": 0,
              "ticks": ""
             }
            },
            "type": "scatterternary"
           }
          ],
          "surface": [
           {
            "colorbar": {
             "outlinewidth": 0,
             "ticks": ""
            },
            "colorscale": [
             [
              0,
              "#0d0887"
             ],
             [
              0.1111111111111111,
              "#46039f"
             ],
             [
              0.2222222222222222,
              "#7201a8"
             ],
             [
              0.3333333333333333,
              "#9c179e"
             ],
             [
              0.4444444444444444,
              "#bd3786"
             ],
             [
              0.5555555555555556,
              "#d8576b"
             ],
             [
              0.6666666666666666,
              "#ed7953"
             ],
             [
              0.7777777777777778,
              "#fb9f3a"
             ],
             [
              0.8888888888888888,
              "#fdca26"
             ],
             [
              1,
              "#f0f921"
             ]
            ],
            "type": "surface"
           }
          ],
          "table": [
           {
            "cells": {
             "fill": {
              "color": "#EBF0F8"
             },
             "line": {
              "color": "white"
             }
            },
            "header": {
             "fill": {
              "color": "#C8D4E3"
             },
             "line": {
              "color": "white"
             }
            },
            "type": "table"
           }
          ]
         },
         "layout": {
          "annotationdefaults": {
           "arrowcolor": "#2a3f5f",
           "arrowhead": 0,
           "arrowwidth": 1
          },
          "autotypenumbers": "strict",
          "coloraxis": {
           "colorbar": {
            "outlinewidth": 0,
            "ticks": ""
           }
          },
          "colorscale": {
           "diverging": [
            [
             0,
             "#8e0152"
            ],
            [
             0.1,
             "#c51b7d"
            ],
            [
             0.2,
             "#de77ae"
            ],
            [
             0.3,
             "#f1b6da"
            ],
            [
             0.4,
             "#fde0ef"
            ],
            [
             0.5,
             "#f7f7f7"
            ],
            [
             0.6,
             "#e6f5d0"
            ],
            [
             0.7,
             "#b8e186"
            ],
            [
             0.8,
             "#7fbc41"
            ],
            [
             0.9,
             "#4d9221"
            ],
            [
             1,
             "#276419"
            ]
           ],
           "sequential": [
            [
             0,
             "#0d0887"
            ],
            [
             0.1111111111111111,
             "#46039f"
            ],
            [
             0.2222222222222222,
             "#7201a8"
            ],
            [
             0.3333333333333333,
             "#9c179e"
            ],
            [
             0.4444444444444444,
             "#bd3786"
            ],
            [
             0.5555555555555556,
             "#d8576b"
            ],
            [
             0.6666666666666666,
             "#ed7953"
            ],
            [
             0.7777777777777778,
             "#fb9f3a"
            ],
            [
             0.8888888888888888,
             "#fdca26"
            ],
            [
             1,
             "#f0f921"
            ]
           ],
           "sequentialminus": [
            [
             0,
             "#0d0887"
            ],
            [
             0.1111111111111111,
             "#46039f"
            ],
            [
             0.2222222222222222,
             "#7201a8"
            ],
            [
             0.3333333333333333,
             "#9c179e"
            ],
            [
             0.4444444444444444,
             "#bd3786"
            ],
            [
             0.5555555555555556,
             "#d8576b"
            ],
            [
             0.6666666666666666,
             "#ed7953"
            ],
            [
             0.7777777777777778,
             "#fb9f3a"
            ],
            [
             0.8888888888888888,
             "#fdca26"
            ],
            [
             1,
             "#f0f921"
            ]
           ]
          },
          "colorway": [
           "#636efa",
           "#EF553B",
           "#00cc96",
           "#ab63fa",
           "#FFA15A",
           "#19d3f3",
           "#FF6692",
           "#B6E880",
           "#FF97FF",
           "#FECB52"
          ],
          "font": {
           "color": "#2a3f5f"
          },
          "geo": {
           "bgcolor": "white",
           "lakecolor": "white",
           "landcolor": "#E5ECF6",
           "showlakes": true,
           "showland": true,
           "subunitcolor": "white"
          },
          "hoverlabel": {
           "align": "left"
          },
          "hovermode": "closest",
          "mapbox": {
           "style": "light"
          },
          "paper_bgcolor": "white",
          "plot_bgcolor": "#E5ECF6",
          "polar": {
           "angularaxis": {
            "gridcolor": "white",
            "linecolor": "white",
            "ticks": ""
           },
           "bgcolor": "#E5ECF6",
           "radialaxis": {
            "gridcolor": "white",
            "linecolor": "white",
            "ticks": ""
           }
          },
          "scene": {
           "xaxis": {
            "backgroundcolor": "#E5ECF6",
            "gridcolor": "white",
            "gridwidth": 2,
            "linecolor": "white",
            "showbackground": true,
            "ticks": "",
            "zerolinecolor": "white"
           },
           "yaxis": {
            "backgroundcolor": "#E5ECF6",
            "gridcolor": "white",
            "gridwidth": 2,
            "linecolor": "white",
            "showbackground": true,
            "ticks": "",
            "zerolinecolor": "white"
           },
           "zaxis": {
            "backgroundcolor": "#E5ECF6",
            "gridcolor": "white",
            "gridwidth": 2,
            "linecolor": "white",
            "showbackground": true,
            "ticks": "",
            "zerolinecolor": "white"
           }
          },
          "shapedefaults": {
           "line": {
            "color": "#2a3f5f"
           }
          },
          "ternary": {
           "aaxis": {
            "gridcolor": "white",
            "linecolor": "white",
            "ticks": ""
           },
           "baxis": {
            "gridcolor": "white",
            "linecolor": "white",
            "ticks": ""
           },
           "bgcolor": "#E5ECF6",
           "caxis": {
            "gridcolor": "white",
            "linecolor": "white",
            "ticks": ""
           }
          },
          "title": {
           "x": 0.05
          },
          "xaxis": {
           "automargin": true,
           "gridcolor": "white",
           "linecolor": "white",
           "ticks": "",
           "title": {
            "standoff": 15
           },
           "zerolinecolor": "white",
           "zerolinewidth": 2
          },
          "yaxis": {
           "automargin": true,
           "gridcolor": "white",
           "linecolor": "white",
           "ticks": "",
           "title": {
            "standoff": 15
           },
           "zerolinecolor": "white",
           "zerolinewidth": 2
          }
         }
        },
        "title": {
         "text": "Construct: 3042-O-flank_1=hp1-DB"
        },
        "xaxis": {
         "title": {
          "text": "DMS concentration (mM)"
         }
        },
        "yaxis": {
         "title": {
          "text": "Mutation fraction"
         }
        }
       }
      }
     },
     "metadata": {},
     "output_type": "display_data"
    }
   ],
   "source": [
    "%reload_ext autoreload\n",
    "\n",
    "for construct in study.df.construct.unique():\n",
    "    plot = plots.change_in_dms_conc(study, samples=dms_concentration_samples, construct=construct)\n",
    "    save_plotly_fig(ipynbname.path(), '[E] Change in [DMS]/'+construct, plot['fig'])\n",
    "    if not generate_plots:\n",
    "        plot['fig'].show()\n",
    "        break"
   ]
  }
 ],
 "metadata": {
  "kernelspec": {
   "display_name": "venv",
   "language": "python",
   "name": "python3"
  },
  "language_info": {
   "codemirror_mode": {
    "name": "ipython",
    "version": 3
   },
   "file_extension": ".py",
   "mimetype": "text/x-python",
   "name": "python",
   "nbconvert_exporter": "python",
   "pygments_lexer": "ipython3",
   "version": "3.11.0"
  },
  "orig_nbformat": 4,
  "vscode": {
   "interpreter": {
    "hash": "da229f0528e1c0d1c0b9dd42b2435d18e9f382f2b763d9e722ef981a0e650149"
   }
  }
 },
 "nbformat": 4,
 "nbformat_minor": 2
}
