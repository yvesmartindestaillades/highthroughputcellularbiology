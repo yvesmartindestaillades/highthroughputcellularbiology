{
 "cells": [
  {
   "attachments": {},
   "cell_type": "markdown",
   "metadata": {},
   "source": [
    "# Signal is proportional to fraction folded"
   ]
  },
  {
   "cell_type": "code",
   "execution_count": null,
   "metadata": {},
   "outputs": [],
   "source": [
    "%load_ext autoreload\n",
    "%autoreload 2\n",
    "import sys\n",
    "sys.path.append('../../src')\n",
    "from util import *\n",
    "from config import * \n",
    "import generate_dataset\n",
    "from study_gen import study\n",
    "import plots\n",
    "import ipynbname"
   ]
  },
  {
   "cell_type": "markdown",
   "metadata": {},
   "source": [
    "\n",
    "## ∆T –  Does the Tm change with reaction Temp?"
   ]
  },
  {
   "attachments": {},
   "cell_type": "markdown",
   "metadata": {},
   "source": [
    "### Change in Temp (w/o prediction)\n",
    "- For each A/C base in ROI, plot mutation fraction vs. T\n",
    "    - should be linear for some portion, then level off when hydrolysis is faster than DMS reaction\n"
   ]
  },
  {
   "cell_type": "code",
   "execution_count": null,
   "metadata": {},
   "outputs": [],
   "source": [
    "%autoreload 2\n",
    "for construct in study.df.construct.unique():\n",
    "    plot = plots.change_in_temp_mut_frac_vs_temperature(study, temperature_samples, construct)\n",
    "    save_plotly_fig(ipynbname.path(), '[A] Change in temperature (w o prediction)/'+construct, plot['fig'])\n",
    "    if not generate_plots:\n",
    "        plot['fig'].show()\n",
    "        break"
   ]
  },
  {
   "attachments": {},
   "cell_type": "markdown",
   "metadata": {},
   "source": [
    "### Mutation rate across the family vs pred ∆G (at 37 °C)\n",
    "- Curve with Predicted ∆G\n",
    "for each base in ROI, plot mutation fraction vs. pred ∆G (at 37 °C)\n",
    "- fit each curve to ∆∆Goffset \n"
   ]
  },
  {
   "cell_type": "code",
   "execution_count": null,
   "metadata": {},
   "outputs": [],
   "source": [
    "%reload_ext autoreload\n",
    "study.df = generate_dataset.find_frame_shift_ROI(study)\n",
    "\n",
    "for sample in study.df[study.df['temperature_k']==310]['sample'].unique():\n",
    "    for family in study.get_df(sample=sample).family.unique():\n",
    "        plot = plots.mut_rate_across_family_vs_deltaG(study, sample, family)\n",
    "        save_plotly_fig(ipynbname.path(), '[B] Change in temperature (w prediction at 37)/{}/{}'.format(sample, family), plot['fig'])\n",
    "        if not generate_plots:\n",
    "            plot['fig'].show()\n",
    "            break\n",
    "    if not generate_plots:\n",
    "        break"
   ]
  },
  {
   "attachments": {},
   "cell_type": "markdown",
   "metadata": {},
   "source": [
    "### Change in Temp (w/ prediction at T) \n",
    "- For each base in ROI at each temp, plot mutation fraction vs. pred ∆G (at that temp) \n",
    "    - fit each curve to ∆∆Goffset\n",
    "    - simple model—the offset should be the same if the algorithm is just off by some amount??\n"
   ]
  },
  {
   "cell_type": "code",
   "execution_count": null,
   "metadata": {},
   "outputs": [],
   "source": [
    "savefig2(ipynbname.path(), '[C] Change in temperature (w prediction at T)')"
   ]
  },
  {
   "attachments": {},
   "cell_type": "markdown",
   "metadata": {},
   "source": [
    "##   ∆t – is the signal in the linear regime at the working reaction time? \n",
    "### Change in reaction time\n",
    "- For each construct at each position, plot Mutation fraction vs. reaction time\n",
    "    - scatter plot\n",
    "    - fit linear region (for now that might just be to the first 3 points 1-5 min)--goodness of fit??\n",
    "\n",
    "\n"
   ]
  },
  {
   "cell_type": "code",
   "execution_count": null,
   "metadata": {},
   "outputs": [],
   "source": [
    "for construct in study.df.construct.unique():\n",
    "    plot = plots.change_in_reaction_time(study, samples=reaction_time_samples, construct=construct)\n",
    "    save_plotly_fig(ipynbname.path(), '[D] Change in reaction time/'+construct, plot['fig'])\n",
    "    if not generate_plots:\n",
    "        plot['fig'].show()\n",
    "        break"
   ]
  },
  {
   "attachments": {},
   "cell_type": "markdown",
   "metadata": {},
   "source": [
    "## ∆[DMS] -  is the signal in the linear regime at the working concentration?\n",
    "### Change in [DMS]\n",
    "- For each construct at each position, plot Mutation fraction vs. [DMS]\n",
    "    - fit linear region (for now that might just be to the first 3 points 0.5-1% DMS)--goodness of fit??\n"
   ]
  },
  {
   "cell_type": "code",
   "execution_count": null,
   "metadata": {},
   "outputs": [],
   "source": [
    "%reload_ext autoreload\n",
    "\n",
    "for construct in study.df.construct.unique():\n",
    "    plot = plots.change_in_dms_conc(study, samples=dms_concentration_samples, construct=construct)\n",
    "    save_plotly_fig(ipynbname.path(), '[E] Change in [DMS]/'+construct, plot['fig'])\n",
    "    if not generate_plots:\n",
    "        plot['fig'].show()\n",
    "        break"
   ]
  },
  {
   "cell_type": "code",
   "execution_count": null,
   "metadata": {},
   "outputs": [],
   "source": [
    "from scipy.optimize import curve_fit\n",
    "import plotly.graph_objects as go\n",
    "\n",
    "def sigmoid(x, a, b, c):\n",
    "    RT = 1.987204258*310/1000\n",
    "    return a / (1 + b*np.exp(-x/RT)) + c\n",
    "\n",
    "\n",
    "# Generate fake data with noise\n",
    "a = 0.04\n",
    "c = 0\n",
    "b = 1e-5\n",
    "xdata = np.linspace(-20, 0, 4)\n",
    "ydata = sigmoid(xdata, a, b, c ) + 0.005 * np.random.normal(size=len(xdata))\n",
    "\n",
    "# Fit the data\n",
    "popt, pcov = curve_fit(sigmoid, xdata, ydata, p0=[0.04, 0.02, 0.00], bounds=([0, 0, 0], [0.1, np.inf, 0.05]), max_nfev=1000)\n",
    "\n",
    "# Print optimal parameters and covariance matrix\n",
    "print('a =', popt[0])\n",
    "print('b =', popt[1])\n",
    "print('c =', popt[2])\n",
    "print('covariance matrix:')\n",
    "print(pcov)\n",
    "\n",
    "# Do a Monte Carlo simulation to estimate the uncertainty in the fit parameters using a multinormal distribution\n",
    "# with the covariance matrix as the covariance matrix\n",
    "N = 1000\n",
    "param_samples = np.clip(np.random.multivariate_normal(popt, pcov, N).T.reshape(3, N, 1), 0, np.inf)\n",
    "\n",
    "# Compute the sigmoid for each set of parameters for each x value\n",
    "xdata_MC = np.linspace(-20, 0, 1000)\n",
    "y_fit = sigmoid(xdata_MC, *popt)\n",
    "\n",
    "y_MC = sigmoid(xdata_MC.reshape(1, -1) , param_samples[0], param_samples[1], param_samples[2])\n",
    "\n",
    "# Plot the raw data, the fit, and the confidance interval from the Monte Carlo simulation as an error plot\n",
    "go.Figure(data=[\n",
    "    go.Scatter(x=xdata, y=ydata, mode='markers', name='data'),\n",
    "    go.Scatter(x=xdata_MC, y=y_fit, mode='lines', name='fit'),\n",
    "\n",
    "    go.Scatter(\n",
    "        x=np.concatenate((xdata_MC, xdata_MC[::-1])), # x, then x reversed\n",
    "        y=np.concatenate((np.percentile(y_MC, 97.5, axis=0), np.percentile(y_MC, 2.5, axis=0)[::-1])), # upper, then lower reversed\n",
    "        fill='toself',\n",
    "        fillcolor='rgba(0,100,80,0.2)',\n",
    "        line=dict(color='rgba(255,255,255,0)'),\n",
    "        hoverinfo=\"skip\",\n",
    "        showlegend=False\n",
    "    )\n",
    "])"
   ]
  }
 ],
 "metadata": {
  "kernelspec": {
   "display_name": "Python 3",
   "language": "python",
   "name": "python3"
  },
  "language_info": {
   "codemirror_mode": {
    "name": "ipython",
    "version": 3
   },
   "file_extension": ".py",
   "mimetype": "text/x-python",
   "name": "python",
   "nbconvert_exporter": "python",
   "pygments_lexer": "ipython3",
   "version": "3.11.1"
  },
  "orig_nbformat": 4,
  "vscode": {
   "interpreter": {
    "hash": "504d14d30f9136d1bd7245527e106d7a5d0ee4cf0ded86654b2885fd422c2aaa"
   }
  }
 },
 "nbformat": 4,
 "nbformat_minor": 2
}
