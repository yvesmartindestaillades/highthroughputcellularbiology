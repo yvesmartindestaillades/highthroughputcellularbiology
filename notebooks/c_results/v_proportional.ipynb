{
 "cells": [
  {
   "attachments": {},
   "cell_type": "markdown",
   "metadata": {},
   "source": [
    "# Signal is proportional to fraction folded"
   ]
  },
  {
   "cell_type": "code",
   "execution_count": 2,
   "metadata": {},
   "outputs": [
    {
     "name": "stdout",
     "output_type": "stream",
     "text": [
      "The autoreload extension is already loaded. To reload it, use:\n",
      "  %reload_ext autoreload\n"
     ]
    }
   ],
   "source": [
    "%load_ext autoreload\n",
    "%autoreload 2\n",
    "import sys\n",
    "sys.path.append('../../src')\n",
    "from util import *\n",
    "from config import * \n",
    "import generate_dataset\n",
    "from study_gen import study\n",
    "import plots\n",
    "import ipynbname"
   ]
  },
  {
   "cell_type": "markdown",
   "metadata": {},
   "source": [
    "\n",
    "## ∆T –  Does the Tm change with reaction Temp?"
   ]
  },
  {
   "attachments": {},
   "cell_type": "markdown",
   "metadata": {},
   "source": [
    "### Change in Temp (w/o prediction)\n",
    "- For each A/C base in ROI, plot mutation fraction vs. T\n",
    "    - should be linear for some portion, then level off when hydrolysis is faster than DMS reaction\n"
   ]
  },
  {
   "cell_type": "code",
   "execution_count": 23,
   "metadata": {},
   "outputs": [
    {
     "name": "stdout",
     "output_type": "stream",
     "text": [
      "No data: [], 3042-O-flank_1=hp1-DB\n",
      "No data: [], 3043-CC-flank_1=hp1-DB\n",
      "No data: [], 3044-O-flank_1=hp1-DB\n",
      "No data: [], 3045-CC-flank_1=hp1-DB\n",
      "No data: [], 3046-O-flank_1=hp1-DB\n",
      "No data: [], 3047-O-flank_1=hp1-DB\n",
      "No data: [], 3048-O-flank_1=hp1-DB\n",
      "No data: [], 3049-O-flank_1=hp1-DB\n",
      "No data: [], 3050-O-flank_1=hp1-DB\n",
      "No data: [], 3051-O-flank_1=hp1-DB\n",
      "No data: [], 3052-O-flank_1=hp1-DB\n",
      "No data: [], 3053-O-flank_1=hp1-DB\n",
      "No data: [], 3054-O-flank_1=hp2-DB\n",
      "No data: [], 3055-CC-flank_1=hp2-DB\n",
      "No data: [], 3056-O-flank_1=hp2-DB\n",
      "No data: [], 3057-CC-flank_1=hp2-DB\n",
      "No data: [], 3058-O-flank_1=hp2-DB\n",
      "No data: [], 3059-O-flank_1=hp2-DB\n",
      "No data: [], 3060-O-flank_1=hp2-DB\n",
      "No data: [], 3061-O-flank_1=hp2-DB\n",
      "No data: [], 3062-O-flank_1=hp2-DB\n",
      "No data: [], 3063-O-flank_1=hp2-DB\n",
      "No data: [], 3064-O-flank_1=hp2-DB\n",
      "No data: [], 3065-O-flank_1=hp2-DB\n",
      "No data: [], 3066-O-flank_1=hp3-DB\n",
      "No data: [], 3067-CC-flank_1=hp3-DB\n",
      "No data: [], 3068-O-flank_1=hp3-DB\n",
      "No data: [], 3069-CC-flank_1=hp3-DB\n",
      "No data: [], 3070-O-flank_1=hp3-DB\n",
      "No data: [], 3071-O-flank_1=hp3-DB\n",
      "No data: [], 3072-O-flank_1=hp3-DB\n",
      "No data: [], 3073-O-flank_1=hp3-DB\n",
      "No data: [], 3074-O-flank_1=hp3-DB\n",
      "No data: [], 3075-O-flank_1=hp3-DB\n",
      "No data: [], 3076-O-flank_1=hp3-DB\n",
      "No data: [], 3077-O-flank_1=hp3-DB\n",
      "No data: [], 3078-O-flank_1=hp4-DB\n",
      "No data: [], 3079-CC-flank_1=hp4-DB\n",
      "No data: [], 3080-O-flank_1=hp4-DB\n",
      "No data: [], 3081-CC-flank_1=hp4-DB\n",
      "No data: [], 3082-O-flank_1=hp4-DB\n",
      "No data: [], 3083-O-flank_1=hp4-DB\n",
      "No data: [], 3084-O-flank_1=hp4-DB\n",
      "No data: [], 3085-O-flank_1=hp4-DB\n",
      "No data: [], 3086-O-flank_1=hp4-DB\n",
      "No data: [], 3087-O-flank_1=hp4-DB\n",
      "No data: [], 3088-O-flank_1=hp4-DB\n",
      "No data: [], 3089-O-flank_1=hp4-DB\n",
      "No data: [], 3090-O-flank_1=hp5-DB\n",
      "No data: [], 3091-CC-flank_1=hp5-DB\n",
      "No data: [], 3092-O-flank_1=hp5-DB\n",
      "No data: [], 3093-CC-flank_1=hp5-DB\n",
      "No data: [], 3094-O-flank_1=hp5-DB\n",
      "No data: [], 3095-O-flank_1=hp5-DB\n",
      "No data: [], 3096-O-flank_1=hp5-DB\n",
      "No data: [], 3097-O-flank_1=hp5-DB\n",
      "No data: [], 3098-O-flank_1=hp5-DB\n",
      "No data: [], 3099-O-flank_1=hp5-DB\n",
      "No data: [], 3100-O-flank_1=hp5-DB\n",
      "No data: [], 3101-O-flank_1=hp5-DB\n",
      "No data: [], 3102-O-flank_1=hp6-DB\n",
      "No data: [], 3103-CC-flank_1=hp6-DB\n",
      "No data: [], 3104-O-flank_1=hp6-DB\n",
      "No data: [], 3105-CC-flank_1=hp6-DB\n",
      "No data: [], 3106-O-flank_1=hp6-DB\n",
      "No data: [], 3107-O-flank_1=hp6-DB\n",
      "No data: [], 3108-O-flank_1=hp6-DB\n",
      "No data: [], 3109-O-flank_1=hp6-DB\n",
      "No data: [], 3110-O-flank_1=hp6-DB\n",
      "No data: [], 3111-O-flank_1=hp6-DB\n",
      "No data: [], 3112-O-flank_1=hp6-DB\n",
      "No data: [], 3113-O-flank_1=hp6-DB\n",
      "No data: [], 3114-O-flank_1=hp7-DB\n",
      "No data: [], 3115-CC-flank_1=hp7-DB\n",
      "No data: [], 3116-O-flank_1=hp7-DB\n",
      "No data: [], 3117-CC-flank_1=hp7-DB\n",
      "No data: [], 3118-O-flank_1=hp7-DB\n",
      "No data: [], 3119-O-flank_1=hp7-DB\n",
      "No data: [], 3120-O-flank_1=hp7-DB\n",
      "No data: [], 3121-O-flank_1=hp7-DB\n",
      "No data: [], 3122-O-flank_1=hp7-DB\n",
      "No data: [], 3123-O-flank_1=hp7-DB\n",
      "No data: [], 3124-O-flank_1=hp7-DB\n",
      "No data: [], 3125-O-flank_1=hp7-DB\n",
      "No data: [], 3126-O-flank_1=hp8-DB\n",
      "No data: [], 3127-CC-flank_1=hp8-DB\n",
      "No data: [], 3128-O-flank_1=hp8-DB\n",
      "No data: [], 3129-CC-flank_1=hp8-DB\n",
      "No data: [], 3130-O-flank_1=hp8-DB\n",
      "No data: [], 3131-O-flank_1=hp8-DB\n",
      "No data: [], 3132-O-flank_1=hp8-DB\n",
      "No data: [], 3133-O-flank_1=hp8-DB\n",
      "No data: [], 3134-O-flank_1=hp8-DB\n",
      "No data: [], 3135-O-flank_1=hp8-DB\n",
      "No data: [], 3136-O-flank_1=hp8-DB\n",
      "No data: [], 3137-O-flank_1=hp8-DB\n",
      "No data: [], 3138-O-flank_1=hp9-DB\n",
      "No data: [], 3139-CC-flank_1=hp9-DB\n",
      "No data: [], 3140-O-flank_1=hp9-DB\n",
      "No data: [], 3141-CC-flank_1=hp9-DB\n",
      "No data: [], 3142-O-flank_1=hp9-DB\n",
      "No data: [], 3143-O-flank_1=hp9-DB\n",
      "No data: [], 3144-O-flank_1=hp9-DB\n",
      "No data: [], 3145-O-flank_1=hp9-DB\n",
      "No data: [], 3146-O-flank_1=hp9-DB\n",
      "No data: [], 3147-O-flank_1=hp9-DB\n",
      "No data: [], 3148-O-flank_1=hp9-DB\n",
      "No data: [], 3149-O-flank_1=hp10-DB\n",
      "No data: [], 3150-CC-flank_1=hp10-DB\n",
      "No data: [], 3151-O-flank_1=hp10-DB\n",
      "No data: [], 3152-CC-flank_1=hp10-DB\n",
      "No data: [], 3153-O-flank_1=hp10-DB\n",
      "No data: [], 3154-O-flank_1=hp10-DB\n",
      "No data: [], 3155-O-flank_1=hp10-DB\n",
      "No data: [], 3156-O-flank_1=hp10-DB\n",
      "No data: [], 3157-O-flank_1=hp10-DB\n",
      "No data: [], 3158-O-flank_1=hp10-DB\n",
      "No data: [], 3159-O-flank_1=hp10-DB\n",
      "No data: [], 3160-O-flank_1=hp10-DB\n",
      "No data: [], 3161-O-flank_1=hp11-DB\n",
      "No data: [], 3162-CC-flank_1=hp11-DB\n",
      "No data: [], 3163-O-flank_1=hp11-DB\n",
      "No data: [], 3164-CC-flank_1=hp11-DB\n",
      "No data: [], 3165-O-flank_1=hp11-DB\n",
      "No data: [], 3166-O-flank_1=hp11-DB\n",
      "No data: [], 3167-O-flank_1=hp11-DB\n",
      "No data: [], 3168-O-flank_1=hp11-DB\n",
      "No data: [], 3169-O-flank_1=hp11-DB\n",
      "No data: [], 3170-O-flank_1=hp11-DB\n",
      "No data: [], 3171-O-flank_1=hp11-DB\n",
      "No data: [], 3172-O-flank_1=hp11-DB\n",
      "No data: [], 3173-O-flank_1=hp12-DB\n",
      "No data: [], 3174-CC-flank_1=hp12-DB\n",
      "No data: [], 3175-O-flank_1=hp12-DB\n",
      "No data: [], 3176-CC-flank_1=hp12-DB\n",
      "No data: [], 3177-O-flank_1=hp12-DB\n",
      "No data: [], 3178-O-flank_1=hp12-DB\n",
      "No data: [], 3179-O-flank_1=hp12-DB\n",
      "No data: [], 3180-O-flank_1=hp12-DB\n",
      "No data: [], 3181-O-flank_1=hp12-DB\n",
      "No data: [], 3182-O-flank_1=hp12-DB\n",
      "No data: [], 3183-O-flank_1=hp12-DB\n",
      "No data: [], 3184-O-flank_1=hp12-DB\n",
      "No data: [], 3185-O-flank_1=hp13-DB\n",
      "No data: [], 3186-CC-flank_1=hp13-DB\n",
      "No data: [], 3187-O-flank_1=hp13-DB\n",
      "No data: [], 3188-CC-flank_1=hp13-DB\n",
      "No data: [], 3189-O-flank_1=hp13-DB\n",
      "No data: [], 3190-O-flank_1=hp13-DB\n",
      "No data: [], 3191-O-flank_1=hp13-DB\n",
      "No data: [], 3192-O-flank_1=hp13-DB\n",
      "No data: [], 3193-O-flank_1=hp13-DB\n",
      "No data: [], 3194-O-flank_1=hp13-DB\n",
      "No data: [], 3195-O-flank_1=hp13-DB\n",
      "No data: [], 3196-O-flank_1=hp13-DB\n",
      "No data: [], 3197-O-flank_1=hp14-DB\n",
      "No data: [], 3198-CC-flank_1=hp14-DB\n",
      "No data: [], 3199-O-flank_1=hp14-DB\n",
      "No data: [], 3200-CC-flank_1=hp14-DB\n",
      "No data: [], 3201-O-flank_1=hp14-DB\n",
      "No data: [], 3202-O-flank_1=hp14-DB\n",
      "No data: [], 3203-O-flank_1=hp14-DB\n",
      "No data: [], 3204-O-flank_1=hp14-DB\n",
      "No data: [], 3205-O-flank_1=hp14-DB\n",
      "No data: [], 3206-O-flank_1=hp14-DB\n",
      "No data: [], 3207-O-flank_1=hp14-DB\n",
      "No data: [], 3208-O-flank_1=hp14-DB\n",
      "No data: [], 3209-O-flank_1=cb1-DB\n",
      "No data: [], 3210-CC-flank_1=cb1-DB\n",
      "No data: [], 3211-O-flank_1=cb1-DB\n",
      "No data: [], 3212-CC-flank_1=cb1-DB\n",
      "No data: [], 3213-O-flank_1=cb1-DB\n",
      "No data: [], 3214-O-flank_1=cb1-DB\n",
      "No data: [], 3215-O-flank_1=cb1-DB\n",
      "No data: [], 3216-O-flank_1=cb1-DB\n",
      "No data: [], 3217-O-flank_1=cb1-DB\n",
      "No data: [], 3218-O-flank_1=cb1-DB\n",
      "No data: [], 3219-O-flank_1=cb1-DB\n",
      "No data: [], 3220-O-flank_1=cb1-DB\n",
      "No data: [], 3221-O-flank_1=cb2-DB\n",
      "No data: [], 3222-CC-flank_1=cb2-DB\n",
      "No data: [], 3223-O-flank_1=cb2-DB\n",
      "No data: [], 3224-CC-flank_1=cb2-DB\n",
      "No data: [], 3225-O-flank_1=cb2-DB\n",
      "No data: [], 3226-O-flank_1=cb2-DB\n",
      "No data: [], 3227-O-flank_1=cb2-DB\n",
      "No data: [], 3228-O-flank_1=cb2-DB\n",
      "No data: [], 3229-O-flank_1=cb2-DB\n",
      "No data: [], 3230-O-flank_1=cb2-DB\n",
      "No data: [], 3231-O-flank_1=cb2-DB\n",
      "No data: [], 3232-O-flank_1=cb2-DB\n",
      "No data: [], 3233-O-flank_1=cb3-DB\n",
      "No data: [], 3234-CC-flank_1=cb3-DB\n",
      "No data: [], 3235-O-flank_1=cb3-DB\n",
      "No data: [], 3236-CC-flank_1=cb3-DB\n",
      "No data: [], 3237-O-flank_1=cb3-DB\n",
      "No data: [], 3238-O-flank_1=cb3-DB\n",
      "No data: [], 3239-O-flank_1=cb3-DB\n",
      "No data: [], 3240-O-flank_1=cb3-DB\n",
      "No data: [], 3241-O-flank_1=cb3-DB\n",
      "No data: [], 3242-O-flank_1=cb3-DB\n",
      "No data: [], 3243-O-flank_1=cb3-DB\n",
      "No data: [], 3244-O-flank_1=cb3-DB\n",
      "No data: [], 3245-O-flank_1=cb4-DB\n",
      "No data: [], 3246-CC-flank_1=cb4-DB\n",
      "No data: [], 3247-O-flank_1=cb4-DB\n",
      "No data: [], 3248-CC-flank_1=cb4-DB\n",
      "No data: [], 3249-O-flank_1=cb4-DB\n",
      "No data: [], 3250-O-flank_1=cb4-DB\n",
      "No data: [], 3251-O-flank_1=cb4-DB\n",
      "No data: [], 3252-O-flank_1=cb4-DB\n",
      "No data: [], 3253-O-flank_1=cb4-DB\n",
      "No data: [], 3254-O-flank_1=cb4-DB\n",
      "No data: [], 3255-O-flank_1=cb4-DB\n",
      "No data: [], 3256-O-flank_1=cb4-DB\n",
      "No data: [], 3257-O-flank_1=cb5-DB\n",
      "No data: [], 3258-CC-flank_1=cb5-DB\n",
      "No data: [], 3259-O-flank_1=cb5-DB\n",
      "No data: [], 3260-CC-flank_1=cb5-DB\n",
      "No data: [], 3261-O-flank_1=cb5-DB\n",
      "No data: [], 3262-O-flank_1=cb5-DB\n",
      "No data: [], 3263-O-flank_1=cb5-DB\n",
      "No data: [], 3264-O-flank_1=cb5-DB\n",
      "No data: [], 3265-O-flank_1=cb5-DB\n",
      "No data: [], 3266-O-flank_1=cb5-DB\n",
      "No data: [], 3267-O-flank_1=cb5-DB\n",
      "No data: [], 3268-O-flank_1=cb5-DB\n",
      "No data: [], 3269-O-flank_1=cb6-DB\n",
      "No data: [], 3270-CC-flank_1=cb6-DB\n",
      "No data: [], 3271-O-flank_1=cb6-DB\n",
      "No data: [], 3272-CC-flank_1=cb6-DB\n",
      "No data: [], 3273-O-flank_1=cb6-DB\n",
      "No data: [], 3274-O-flank_1=cb6-DB\n",
      "No data: [], 3275-O-flank_1=cb6-DB\n",
      "No data: [], 3276-O-flank_1=cb6-DB\n",
      "No data: [], 3277-O-flank_1=cb6-DB\n",
      "No data: [], 3278-O-flank_1=cb6-DB\n",
      "No data: [], 3279-O-flank_1=cb6-DB\n",
      "No data: [], 3280-O-flank_1=cb6-DB\n",
      "No data: [], 3281-O-flank_1=cb7-DB\n",
      "No data: [], 3282-CC-flank_1=cb7-DB\n",
      "No data: [], 3283-O-flank_1=cb7-DB\n",
      "No data: [], 3284-CC-flank_1=cb7-DB\n",
      "No data: [], 3285-O-flank_1=cb7-DB\n",
      "No data: [], 3286-O-flank_1=cb7-DB\n",
      "No data: [], 3287-O-flank_1=cb7-DB\n",
      "No data: [], 3288-O-flank_1=cb7-DB\n",
      "No data: [], 3289-O-flank_1=cb7-DB\n",
      "No data: [], 3290-O-flank_1=cb7-DB\n",
      "No data: [], 3291-O-flank_1=cb7-DB\n",
      "No data: [], 3292-O-flank_1=cb7-DB\n",
      "No data: [], 3293-O-flank_1=cb8-DB\n",
      "No data: [], 3294-CC-flank_1=cb8-DB\n",
      "No data: [], 3295-O-flank_1=cb8-DB\n",
      "No data: [], 3296-CC-flank_1=cb8-DB\n",
      "No data: [], 3297-O-flank_1=cb8-DB\n",
      "No data: [], 3298-O-flank_1=cb8-DB\n",
      "No data: [], 3299-O-flank_1=cb8-DB\n",
      "No data: [], 3300-O-flank_1=cb8-DB\n",
      "No data: [], 3301-O-flank_1=cb8-DB\n",
      "No data: [], 3302-O-flank_1=cb8-DB\n",
      "No data: [], 3303-O-flank_1=cb8-DB\n",
      "No data: [], 3304-O-flank_1=cb8-DB\n",
      "No data: [], 3305-O-flank_1=cb9-DB\n",
      "No data: [], 3306-CC-flank_1=cb9-DB\n",
      "No data: [], 3307-O-flank_1=cb9-DB\n",
      "No data: [], 3308-CC-flank_1=cb9-DB\n",
      "No data: [], 3309-O-flank_1=cb9-DB\n",
      "No data: [], 3310-O-flank_1=cb9-DB\n",
      "No data: [], 3311-O-flank_1=cb9-DB\n",
      "No data: [], 3312-O-flank_1=cb9-DB\n",
      "No data: [], 3313-O-flank_1=cb9-DB\n",
      "No data: [], 3314-O-flank_1=cb9-DB\n",
      "No data: [], 3315-O-flank_1=cb9-DB\n",
      "No data: [], 3316-O-flank_1=cb9-DB\n",
      "No data: [], 3317-O-flank_1=cb10-DB\n",
      "No data: [], 3318-CC-flank_1=cb10-DB\n",
      "No data: [], 3319-O-flank_1=cb10-DB\n",
      "No data: [], 3320-CC-flank_1=cb10-DB\n",
      "No data: [], 3321-O-flank_1=cb10-DB\n",
      "No data: [], 3322-O-flank_1=cb10-DB\n",
      "No data: [], 3323-O-flank_1=cb10-DB\n",
      "No data: [], 3324-O-flank_1=cb10-DB\n",
      "No data: [], 3325-O-flank_1=cb10-DB\n",
      "No data: [], 3326-O-flank_1=cb10-DB\n",
      "No data: [], 3327-O-flank_1=cb10-DB\n",
      "No data: [], 3328-O-flank_1=cb10-DB\n",
      "No data: [], 3329-O-flank_1=cb11-DB\n",
      "No data: [], 3330-CC-flank_1=cb11-DB\n",
      "No data: [], 3331-O-flank_1=cb11-DB\n",
      "No data: [], 3332-CC-flank_1=cb11-DB\n",
      "No data: [], 3333-O-flank_1=cb11-DB\n",
      "No data: [], 3334-O-flank_1=cb11-DB\n",
      "No data: [], 3335-O-flank_1=cb11-DB\n",
      "No data: [], 3336-O-flank_1=cb11-DB\n",
      "No data: [], 3337-O-flank_1=cb11-DB\n",
      "No data: [], 3338-O-flank_1=cb11-DB\n",
      "No data: [], 3339-O-flank_1=cb11-DB\n",
      "No data: [], 3340-O-flank_1=cb11-DB\n",
      "No data: [], 3341-O-flank_1=cb12-DB\n",
      "No data: [], 3342-CC-flank_1=cb12-DB\n",
      "No data: [], 3343-O-flank_1=cb12-DB\n",
      "No data: [], 3344-CC-flank_1=cb12-DB\n",
      "No data: [], 3345-O-flank_1=cb12-DB\n",
      "No data: [], 3346-O-flank_1=cb12-DB\n",
      "No data: [], 3347-O-flank_1=cb12-DB\n",
      "No data: [], 3348-O-flank_1=cb12-DB\n",
      "No data: [], 3349-O-flank_1=cb12-DB\n",
      "No data: [], 3350-O-flank_1=cb12-DB\n",
      "No data: [], 3351-O-flank_1=cb12-DB\n",
      "No data: [], 3352-O-flank_1=cb12-DB\n",
      "No data: [], 3353-O-flank_1=lp1-DB\n",
      "No data: [], 3354-CC-flank_1=lp1-DB\n",
      "No data: [], 3355-O-flank_1=lp1-DB\n",
      "No data: [], 3356-CC-flank_1=lp1-DB\n",
      "No data: [], 3357-O-flank_1=lp1-DB\n",
      "No data: [], 3358-O-flank_1=lp1-DB\n",
      "No data: [], 3359-O-flank_1=lp1-DB\n",
      "No data: [], 3360-O-flank_1=lp1-DB\n",
      "No data: [], 3361-O-flank_1=lp1-DB\n",
      "No data: [], 3362-O-flank_1=lp1-DB\n",
      "No data: [], 3363-O-flank_1=lp1-DB\n",
      "No data: [], 3364-O-flank_1=lp1-DB\n",
      "No data: [], 3365-O-flank_1=lp2-DB\n",
      "No data: [], 3366-CC-flank_1=lp2-DB\n",
      "No data: [], 3367-O-flank_1=lp2-DB\n",
      "No data: [], 3368-CC-flank_1=lp2-DB\n",
      "No data: [], 3369-O-flank_1=lp2-DB\n",
      "No data: [], 3370-O-flank_1=lp2-DB\n",
      "No data: [], 3371-O-flank_1=lp2-DB\n",
      "No data: [], 3372-O-flank_1=lp2-DB\n",
      "No data: [], 3373-O-flank_1=lp2-DB\n",
      "No data: [], 3374-O-flank_1=lp2-DB\n",
      "No data: [], 3375-O-flank_1=lp2-DB\n",
      "No data: [], 3376-O-flank_1=lp2-DB\n",
      "No data: [], 3377-O-flank_1=lp3-DB\n",
      "No data: [], 3378-CC-flank_1=lp3-DB\n",
      "No data: [], 3379-O-flank_1=lp3-DB\n",
      "No data: [], 3380-CC-flank_1=lp3-DB\n",
      "No data: [], 3381-O-flank_1=lp3-DB\n",
      "No data: [], 3382-O-flank_1=lp3-DB\n",
      "No data: [], 3383-O-flank_1=lp3-DB\n",
      "No data: [], 3384-O-flank_1=lp3-DB\n",
      "No data: [], 3385-O-flank_1=lp3-DB\n",
      "No data: [], 3386-O-flank_1=lp3-DB\n",
      "No data: [], 3387-O-flank_1=lp3-DB\n",
      "No data: [], 3388-O-flank_1=lp3-DB\n",
      "No data: [], 3389-O-flank_1=lp4-DB\n",
      "No data: [], 3390-CC-flank_1=lp4-DB\n",
      "No data: [], 3391-O-flank_1=lp4-DB\n",
      "No data: [], 3392-CC-flank_1=lp4-DB\n",
      "No data: [], 3393-O-flank_1=lp4-DB\n",
      "No data: [], 3394-O-flank_1=lp4-DB\n",
      "No data: [], 3395-O-flank_1=lp4-DB\n",
      "No data: [], 3396-O-flank_1=lp4-DB\n",
      "No data: [], 3397-O-flank_1=lp4-DB\n",
      "No data: [], 3399-O-flank_1=lp4-DB\n",
      "No data: [], 3400-O-flank_1=lp4-DB\n",
      "No data: [], 3401-O-flank_1=lp5-DB\n",
      "No data: [], 3402-CC-flank_1=lp5-DB\n",
      "No data: [], 3403-O-flank_1=lp5-DB\n",
      "No data: [], 3404-CC-flank_1=lp5-DB\n",
      "No data: [], 3405-O-flank_1=lp5-DB\n",
      "No data: [], 3406-O-flank_1=lp5-DB\n",
      "No data: [], 3407-O-flank_1=lp5-DB\n",
      "No data: [], 3408-O-flank_1=lp5-DB\n",
      "No data: [], 3409-O-flank_1=lp5-DB\n",
      "No data: [], 3410-O-flank_1=lp5-DB\n",
      "No data: [], 3411-O-flank_1=lp5-DB\n",
      "No data: [], 3412-O-flank_1=lp5-DB\n",
      "No data: [], 3413-O-flank_1=lp6-DB\n",
      "No data: [], 3414-CC-flank_1=lp6-DB\n",
      "No data: [], 3415-O-flank_1=lp6-DB\n",
      "No data: [], 3416-CC-flank_1=lp6-DB\n",
      "No data: [], 3417-O-flank_1=lp6-DB\n",
      "No data: [], 3418-O-flank_1=lp6-DB\n",
      "No data: [], 3419-O-flank_1=lp6-DB\n",
      "No data: [], 3420-O-flank_1=lp6-DB\n",
      "No data: [], 3421-O-flank_1=lp6-DB\n",
      "No data: [], 3422-O-flank_1=lp6-DB\n",
      "No data: [], 3423-O-flank_1=lp6-DB\n",
      "No data: [], 3424-O-flank_1=lp6-DB\n",
      "No data: [], 3425-O-flank_1=lp7-DB\n",
      "No data: [], 3426-CC-flank_1=lp7-DB\n",
      "No data: [], 3427-O-flank_1=lp7-DB\n",
      "No data: [], 3428-CC-flank_1=lp7-DB\n",
      "No data: [], 3429-O-flank_1=lp7-DB\n",
      "No data: [], 3430-O-flank_1=lp7-DB\n",
      "No data: [], 3431-O-flank_1=lp7-DB\n",
      "No data: [], 3432-O-flank_1=lp7-DB\n",
      "No data: [], 3433-O-flank_1=lp7-DB\n",
      "No data: [], 3434-O-flank_1=lp7-DB\n",
      "No data: [], 3435-O-flank_1=lp7-DB\n",
      "No data: [], 3436-O-flank_1=lp7-DB\n",
      "No data: [], 3437-O-flank_1=lp8-DB\n",
      "No data: [], 3438-CC-flank_1=lp8-DB\n",
      "No data: [], 3439-O-flank_1=lp8-DB\n",
      "No data: [], 3440-CC-flank_1=lp8-DB\n",
      "No data: [], 3441-O-flank_1=lp8-DB\n",
      "No data: [], 3442-O-flank_1=lp8-DB\n",
      "No data: [], 3443-O-flank_1=lp8-DB\n",
      "No data: [], 3444-O-flank_1=lp8-DB\n",
      "No data: [], 3445-O-flank_1=lp8-DB\n",
      "No data: [], 3446-O-flank_1=lp8-DB\n",
      "No data: [], 3447-O-flank_1=lp8-DB\n",
      "No data: [], 3448-O-flank_1=lp8-DB\n",
      "No data: [], 3449-O-flank_1=lp9-DB\n",
      "No data: [], 3450-CC-flank_1=lp9-DB\n",
      "No data: [], 3451-O-flank_1=lp9-DB\n",
      "No data: [], 3452-CC-flank_1=lp9-DB\n",
      "No data: [], 3453-O-flank_1=lp9-DB\n",
      "No data: [], 3454-O-flank_1=lp9-DB\n",
      "No data: [], 3455-O-flank_1=lp9-DB\n",
      "No data: [], 3456-O-flank_1=lp9-DB\n",
      "No data: [], 3457-O-flank_1=lp9-DB\n",
      "No data: [], 3458-O-flank_1=lp9-DB\n",
      "No data: [], 3459-O-flank_1=lp9-DB\n",
      "No data: [], 3460-O-flank_1=lp9-DB\n",
      "No data: [], 3461-O-flank_1=lp10-DB\n",
      "No data: [], 3462-CC-flank_1=lp10-DB\n",
      "No data: [], 3463-O-flank_1=lp10-DB\n",
      "No data: [], 3464-CC-flank_1=lp10-DB\n",
      "No data: [], 3465-O-flank_1=lp10-DB\n",
      "No data: [], 3466-O-flank_1=lp10-DB\n",
      "No data: [], 3467-O-flank_1=lp10-DB\n",
      "No data: [], 3468-O-flank_1=lp10-DB\n",
      "No data: [], 3469-O-flank_1=lp10-DB\n",
      "No data: [], 3470-O-flank_1=lp10-DB\n",
      "No data: [], 3471-O-flank_1=lp10-DB\n",
      "No data: [], 3472-O-flank_1=lp10-DB\n",
      "No data: [], 3473-O-flank_1=lp11-DB\n",
      "No data: [], 3474-CC-flank_1=lp11-DB\n",
      "No data: [], 3475-O-flank_1=lp11-DB\n",
      "No data: [], 3476-CC-flank_1=lp11-DB\n",
      "No data: [], 3477-O-flank_1=lp11-DB\n",
      "No data: [], 3478-O-flank_1=lp11-DB\n",
      "No data: [], 3479-O-flank_1=lp11-DB\n",
      "No data: [], 3480-O-flank_1=lp11-DB\n",
      "No data: [], 3481-O-flank_1=lp11-DB\n",
      "No data: [], 3482-O-flank_1=lp11-DB\n",
      "No data: [], 3483-O-flank_1=lp11-DB\n",
      "No data: [], 3484-O-flank_1=lp11-DB\n",
      "No data: [], 3485-O-flank_1=lp12-DB\n",
      "No data: [], 3486-CC-flank_1=lp12-DB\n",
      "No data: [], 3487-O-flank_1=lp12-DB\n",
      "No data: [], 3488-CC-flank_1=lp12-DB\n",
      "No data: [], 3489-O-flank_1=lp12-DB\n",
      "No data: [], 3490-O-flank_1=lp12-DB\n",
      "No data: [], 3491-O-flank_1=lp12-DB\n",
      "No data: [], 3492-O-flank_1=lp12-DB\n",
      "No data: [], 3493-O-flank_1=lp12-DB\n",
      "No data: [], 3494-O-flank_1=lp12-DB\n",
      "No data: [], 3495-O-flank_1=lp12-DB\n",
      "No data: [], 3496-O-flank_1=lp12-DB\n",
      "No data: [], 3497-O-flank_1=bi1-ms2-DB\n",
      "No data: [], 3498-CC-flank_1=bi1-ms2-DB\n",
      "No data: [], 3499-O-flank_1=bi1-ms2-DB\n",
      "No data: [], 3500-CC-flank_1=bi1-ms2-DB\n",
      "No data: [], 3501-O-flank_1=bi1-ms2-DB\n",
      "No data: [], 3502-O-flank_1=bi1-ms2-DB\n",
      "No data: [], 3503-O-flank_1=bi1-ms2-DB\n",
      "No data: [], 3504-O-flank_1=bi1-ms2-DB\n",
      "No data: [], 3505-O-flank_1=bi1-ms2-DB\n",
      "No data: [], 3506-O-flank_1=bi1-ms2-DB\n",
      "No data: [], 3507-O-flank_1=bi1-ms2-DB\n",
      "No data: [], 3508-O-flank_1=bi1-ms2-DB\n",
      "No data: [], 3509-O-flank_1=bi1-ms2-DB\n",
      "No data: [], 3510-O-flank_1=bi2-pp7-DB\n",
      "No data: [], 3511-CC-flank_1=bi2-pp7-DB\n",
      "No data: [], 3512-O-flank_1=bi2-pp7-DB\n",
      "No data: [], 3513-CC-flank_1=bi2-pp7-DB\n",
      "No data: [], 3514-O-flank_1=bi2-pp7-DB\n",
      "No data: [], 3515-O-flank_1=bi2-pp7-DB\n",
      "No data: [], 3516-O-flank_1=bi2-pp7-DB\n",
      "No data: [], 3517-O-flank_1=bi2-pp7-DB\n",
      "No data: [], 3518-O-flank_1=bi2-pp7-DB\n",
      "No data: [], 3519-O-flank_1=bi2-pp7-DB\n",
      "No data: [], 3520-O-flank_1=bi2-pp7-DB\n",
      "No data: [], 3521-O-flank_1=bi2-pp7-DB\n",
      "No data: [], 3522-O-flank_1=bi2-pp7-DB\n",
      "No data: [], 3523-O-flank_1=bi3-tar-DB\n",
      "No data: [], 3524-CC-flank_1=bi3-tar-DB\n",
      "No data: [], 3525-O-flank_1=bi3-tar-DB\n",
      "No data: [], 3526-CC-flank_1=bi3-tar-DB\n",
      "No data: [], 3527-O-flank_1=bi3-tar-DB\n",
      "No data: [], 3528-O-flank_1=bi3-tar-DB\n",
      "No data: [], 3529-O-flank_1=bi3-tar-DB\n",
      "No data: [], 3530-O-flank_1=bi3-tar-DB\n",
      "No data: [], 3531-O-flank_1=bi3-tar-DB\n",
      "No data: [], 3532-O-flank_1=bi3-tar-DB\n",
      "No data: [], 3533-O-flank_1=bi3-tar-DB\n",
      "No data: [], 3534-O-flank_1=bi3-tar-DB\n",
      "No data: [], 3535-O-flank_1=bi3-tar-DB\n",
      "No data: [], 3536-O-flank_1=bi3-tar-DB\n",
      "No data: [], 3537-O-flank_1=bi3-tar-DB\n",
      "No data: [], 3538-O-flank_1=bi4-rre-DB\n",
      "No data: [], 3539-CC-flank_1=bi4-rre-DB\n",
      "No data: [], 3540-O-flank_1=bi4-rre-DB\n",
      "No data: [], 3541-CC-flank_1=bi4-rre-DB\n",
      "No data: [], 3542-O-flank_1=bi4-rre-DB\n",
      "No data: [], 3543-O-flank_1=bi4-rre-DB\n",
      "No data: [], 3544-O-flank_1=bi4-rre-DB\n",
      "No data: [], 3545-O-flank_1=bi4-rre-DB\n",
      "No data: [], 3546-O-flank_1=bi4-rre-DB\n",
      "No data: [], 3547-O-flank_1=bi4-rre-DB\n",
      "No data: [], 3548-O-flank_1=bi4-rre-DB\n",
      "No data: [], 3549-O-flank_1=bi4-rre-DB\n",
      "No data: [], 3550-O-flank_1=bi4-rre-DB\n",
      "No data: [], 3551-O-flank_1=bi5-cug-DB\n",
      "No data: [], 3552-CC-flank_1=bi5-cug-DB\n",
      "No data: [], 3553-O-flank_1=bi5-cug-DB\n",
      "No data: [], 3554-CC-flank_1=bi5-cug-DB\n",
      "No data: [], 3555-O-flank_1=bi5-cug-DB\n",
      "No data: [], 3556-O-flank_1=bi5-cug-DB\n",
      "No data: [], 3557-O-flank_1=bi5-cug-DB\n",
      "No data: [], 3558-O-flank_1=bi5-cug-DB\n",
      "No data: [], 3559-O-flank_1=bi5-cug-DB\n",
      "No data: [], 3560-O-flank_1=bi5-cug-DB\n",
      "No data: [], 3561-O-flank_1=bi5-cug-DB\n",
      "No data: [], 3562-O-flank_1=bi5-cug-DB\n",
      "No data: [], 3563-O-flank_1=bi5-cug-DB\n",
      "No data: [], 3564-O-flank_1=bi5-cug-DB\n",
      "No data: [], 3565-O-flank_1=bi6-cag-DB\n",
      "No data: [], 3566-CC-flank_1=bi6-cag-DB\n",
      "No data: [], 3567-O-flank_1=bi6-cag-DB\n",
      "No data: [], 3568-CC-flank_1=bi6-cag-DB\n",
      "No data: [], 3569-O-flank_1=bi6-cag-DB\n",
      "No data: [], 3570-O-flank_1=bi6-cag-DB\n",
      "No data: [], 3571-O-flank_1=bi6-cag-DB\n",
      "No data: [], 3572-O-flank_1=bi6-cag-DB\n",
      "No data: [], 3573-O-flank_1=bi6-cag-DB\n",
      "No data: [], 3574-O-flank_1=bi6-cag-DB\n",
      "No data: [], 3575-O-flank_1=bi6-cag-DB\n",
      "No data: [], 3576-O-flank_1=bi6-cag-DB\n",
      "No data: [], 3577-O-flank_1=bi6-cag-DB\n",
      "No data: [], 3578-O-flank_1=bi6-cag-DB\n",
      "No data: [], 3579-O-flank_1=bi7-ire-DB\n",
      "No data: [], 3580-CC-flank_1=bi7-ire-DB\n",
      "No data: [], 3581-O-flank_1=bi7-ire-DB\n",
      "No data: [], 3582-CC-flank_1=bi7-ire-DB\n",
      "No data: [], 3583-O-flank_1=bi7-ire-DB\n",
      "No data: [], 3584-O-flank_1=bi7-ire-DB\n",
      "No data: [], 3585-O-flank_1=bi7-ire-DB\n",
      "No data: [], 3586-O-flank_1=bi7-ire-DB\n",
      "No data: [], 3587-O-flank_1=bi7-ire-DB\n",
      "No data: [], 3588-O-flank_1=bi7-ire-DB\n",
      "No data: [], 3589-O-flank_1=bi7-ire-DB\n",
      "No data: [], 3590-O-flank_1=bi7-ire-DB\n",
      "No data: [], 3591-O-flank_1=bi7-ire-DB\n",
      "No data: [], 3592-O-flank_1=bi7-ire-DB\n",
      "No data: [], 3593-O-flank_1=bi7-ire-DB\n",
      "No data: [], 3594-O-flank_1=bi8-scv2-DB\n",
      "No data: [], 3595-CC-flank_1=bi8-scv2-DB\n",
      "No data: [], 3596-O-flank_1=bi8-scv2-DB\n",
      "No data: [], 3597-CC-flank_1=bi8-scv2-DB\n",
      "No data: [], 3598-O-flank_1=bi8-scv2-DB\n",
      "No data: [], 3599-O-flank_1=bi8-scv2-DB\n",
      "No data: [], 3600-O-flank_1=bi8-scv2-DB\n",
      "No data: [], 3601-O-flank_1=bi8-scv2-DB\n",
      "No data: [], 3602-O-flank_1=bi8-scv2-DB\n",
      "No data: [], 3603-O-flank_1=bi8-scv2-DB\n",
      "No data: [], 3604-O-flank_1=bi8-scv2-DB\n",
      "No data: [], 3605-O-flank_1=bi8-scv2-DB\n",
      "No data: [], 3606-O-flank_1=bi8-scv2-DB\n",
      "No data: [], 3607-O-flank_1=bi8-scv2-DB\n",
      "No data: [], 3608-O-flank_1=bi8-scv2-DB\n",
      "No data: [], 3609-O-flank_1=bi9-broc-DB\n",
      "No data: [], 3610-CC-flank_1=bi9-broc-DB\n",
      "No data: [], 3611-O-flank_1=bi9-broc-DB\n",
      "No data: [], 3612-CC-flank_1=bi9-broc-DB\n",
      "No data: [], 3613-O-flank_1=bi9-broc-DB\n",
      "No data: [], 3614-O-flank_1=bi9-broc-DB\n",
      "No data: [], 3615-O-flank_1=bi9-broc-DB\n",
      "No data: [], 3616-O-flank_1=bi9-broc-DB\n",
      "No data: [], 3617-O-flank_1=bi9-broc-DB\n",
      "No data: [], 3618-O-flank_1=bi9-broc-DB\n",
      "No data: [], 3619-O-flank_1=bi9-broc-DB\n",
      "No data: [], 3620-O-flank_1=bi9-broc-DB\n",
      "No data: [], 3621-O-flank_1=bi9-broc-DB\n",
      "No data: [], 3622-O-flank_1=bi9-broc-DB\n",
      "No data: [], 3623-O-flank_1=bi10-malat-DB\n",
      "No data: [], 3624-CC-flank_1=bi10-malat-DB\n",
      "No data: [], 3625-O-flank_1=bi10-malat-DB\n",
      "No data: [], 3626-CC-flank_1=bi10-malat-DB\n",
      "No data: [], 3627-O-flank_1=bi10-malat-DB\n",
      "No data: [], 3628-O-flank_1=bi10-malat-DB\n",
      "No data: [], 3629-O-flank_1=bi10-malat-DB\n",
      "No data: [], 3630-O-flank_1=bi10-malat-DB\n",
      "No data: [], 3631-O-flank_1=bi10-malat-DB\n",
      "No data: [], 3632-O-flank_1=bi10-malat-DB\n",
      "No data: [], 3633-O-flank_1=bi10-malat-DB\n",
      "No data: [], 3634-O-flank_1=bi10-malat-DB\n",
      "No data: [], 3635-O-flank_1=bi10-malat-DB\n",
      "No data: [], 3636-O-flank_1=bi10-malat-DB\n",
      "No data: [], 3637-O-flank_1=bi10-malat-DB\n",
      "No data: [], 3638-O-flank_1=bi10-malat-DB\n",
      "No data: [], 3639-O-flank_1=bi11-hcv-DB\n",
      "No data: [], 3640-CC-flank_1=bi11-hcv-DB\n",
      "No data: [], 3641-O-flank_1=bi11-hcv-DB\n",
      "No data: [], 3642-CC-flank_1=bi11-hcv-DB\n",
      "No data: [], 3643-O-flank_1=bi11-hcv-DB\n",
      "No data: [], 3644-O-flank_1=bi11-hcv-DB\n",
      "No data: [], 3645-O-flank_1=bi11-hcv-DB\n",
      "No data: [], 3646-O-flank_1=bi11-hcv-DB\n",
      "No data: [], 3647-O-flank_1=bi11-hcv-DB\n",
      "No data: [], 3648-O-flank_1=bi11-hcv-DB\n",
      "No data: [], 3649-O-flank_1=bi11-hcv-DB\n",
      "No data: [], 3650-O-flank_1=bi11-hcv-DB\n",
      "No data: [], 3651-O-flank_1=bi12-kshv-DB\n",
      "No data: [], 3652-CC-flank_1=bi12-kshv-DB\n",
      "No data: [], 3653-O-flank_1=bi12-kshv-DB\n",
      "No data: [], 3654-CC-flank_1=bi12-kshv-DB\n",
      "No data: [], 3655-O-flank_1=bi12-kshv-DB\n",
      "No data: [], 3656-O-flank_1=bi12-kshv-DB\n",
      "No data: [], 3657-O-flank_1=bi12-kshv-DB\n",
      "No data: [], 3658-O-flank_1=bi12-kshv-DB\n",
      "No data: [], 3659-O-flank_1=bi12-kshv-DB\n",
      "No data: [], 3660-O-flank_1=bi12-kshv-DB\n",
      "No data: [], 3661-O-flank_1=bi12-kshv-DB\n",
      "No data: [], 3662-O-flank_1=bi12-kshv-DB\n",
      "No data: [], 3663-O-flank_1=bi12-kshv-DB\n",
      "No data: [], 3664-O-flank_1=bi12-kshv-DB\n",
      "No data: [], 3665-O-flank_1=bi12-kshv-DB\n",
      "No data: [], 3666-O-flank_1=bi12-kshv-DB\n",
      "No data: [], 3667-O-flank_1=bi12-kshv-DB\n",
      "No data: [], 3668-O-flank_1=bi12-kshv-DB\n",
      "No data: [], 3669-O-flank_1=bi12-kshv-DB\n",
      "No data: [], 3670-O-flank_1=bi12-kshv-DB\n",
      "No data: [], 3398-O-flank_1=lp4-DB\n"
     ]
    }
   ],
   "source": [
    "%autoreload 2\n",
    "for construct in study.df.construct.unique():\n",
    "    plot = plots.change_in_temp_mut_frac_vs_temperature(study, temperature_samples, construct)\n",
    "    save_plotly_fig(ipynbname.path(), '[A] Change in temperature (w o prediction)/'+construct, plot['fig'])\n",
    "    if not generate_plots:\n",
    "        plot['fig'].show()\n",
    "        break"
   ]
  },
  {
   "attachments": {},
   "cell_type": "markdown",
   "metadata": {},
   "source": [
    "### Mutation rate across the family vs pred ∆G (at 37 °C)\n",
    "- Curve with Predicted ∆G\n",
    "for each base in ROI, plot mutation fraction vs. pred ∆G (at 37 °C)\n",
    "- fit each curve to ∆∆Goffset \n"
   ]
  },
  {
   "cell_type": "code",
   "execution_count": 1,
   "metadata": {},
   "outputs": [
    {
     "ename": "NameError",
     "evalue": "name 'generate_dataset' is not defined",
     "output_type": "error",
     "traceback": [
      "\u001b[0;31m---------------------------------------------------------------------------\u001b[0m",
      "\u001b[0;31mNameError\u001b[0m                                 Traceback (most recent call last)",
      "Cell \u001b[0;32mIn [1], line 2\u001b[0m\n\u001b[1;32m      1\u001b[0m get_ipython()\u001b[39m.\u001b[39mrun_line_magic(\u001b[39m'\u001b[39m\u001b[39mreload_ext\u001b[39m\u001b[39m'\u001b[39m, \u001b[39m'\u001b[39m\u001b[39mautoreload\u001b[39m\u001b[39m'\u001b[39m)\n\u001b[0;32m----> 2\u001b[0m study\u001b[39m.\u001b[39mdf \u001b[39m=\u001b[39m generate_dataset\u001b[39m.\u001b[39mfind_frame_shift_ROI(study)\n\u001b[1;32m      4\u001b[0m \u001b[39mfor\u001b[39;00m sample \u001b[39min\u001b[39;00m study\u001b[39m.\u001b[39mdf[study\u001b[39m.\u001b[39mdf[\u001b[39m'\u001b[39m\u001b[39mtemperature_k\u001b[39m\u001b[39m'\u001b[39m]\u001b[39m==\u001b[39m\u001b[39m310\u001b[39m][\u001b[39m'\u001b[39m\u001b[39msample\u001b[39m\u001b[39m'\u001b[39m]\u001b[39m.\u001b[39munique():\n\u001b[1;32m      5\u001b[0m     \u001b[39mfor\u001b[39;00m family \u001b[39min\u001b[39;00m study\u001b[39m.\u001b[39mget_df(sample\u001b[39m=\u001b[39msample)\u001b[39m.\u001b[39mfamily\u001b[39m.\u001b[39munique():\n",
      "\u001b[0;31mNameError\u001b[0m: name 'generate_dataset' is not defined"
     ]
    }
   ],
   "source": [
    "%reload_ext autoreload\n",
    "study.df = generate_dataset.find_frame_shift_ROI(study)\n",
    "\n",
    "for sample in study.df[study.df['temperature_k']==310]['sample'].unique():\n",
    "    for family in study.get_df(sample=sample).family.unique():\n",
    "        plot = plots.mut_rate_across_family_vs_deltaG(study, sample, family)\n",
    "        save_plotly_fig(ipynbname.path(), '[B] Change in temperature (w prediction at 37)/{}/{}'.format(sample, family), plot['fig'])\n",
    "        if not generate_plots:\n",
    "            plot['fig'].show()\n",
    "            break\n",
    "    if not generate_plots:\n",
    "        break"
   ]
  },
  {
   "attachments": {},
   "cell_type": "markdown",
   "metadata": {},
   "source": [
    "### Change in Temp (w/ prediction at T) \n",
    "- For each base in ROI at each temp, plot mutation fraction vs. pred ∆G (at that temp) \n",
    "    - fit each curve to ∆∆Goffset\n",
    "    - simple model—the offset should be the same if the algorithm is just off by some amount??\n"
   ]
  },
  {
   "cell_type": "code",
   "execution_count": null,
   "metadata": {},
   "outputs": [],
   "source": [
    "savefig2(ipynbname.path(), '[C] Change in temperature (w prediction at T)')"
   ]
  },
  {
   "attachments": {},
   "cell_type": "markdown",
   "metadata": {},
   "source": [
    "##   ∆t – is the signal in the linear regime at the working reaction time? \n",
    "### Change in reaction time\n",
    "- For each construct at each position, plot Mutation fraction vs. reaction time\n",
    "    - scatter plot\n",
    "    - fit linear region (for now that might just be to the first 3 points 1-5 min)--goodness of fit??\n",
    "\n",
    "\n"
   ]
  },
  {
   "cell_type": "code",
   "execution_count": null,
   "metadata": {},
   "outputs": [
    {
     "name": "stdout",
     "output_type": "stream",
     "text": [
      "No data: ['Lauren_603_1min', 'Lauren_603_3min', 'Lauren_603_5min', 'Lauren_603_10min'], 3042-O-flank_1=hp1-DB\n"
     ]
    },
    {
     "data": {
      "application/vnd.plotly.v1+json": {
       "config": {
        "plotlyServerURL": "https://plot.ly"
       },
       "data": [],
       "layout": {
        "template": {
         "data": {
          "bar": [
           {
            "error_x": {
             "color": "#2a3f5f"
            },
            "error_y": {
             "color": "#2a3f5f"
            },
            "marker": {
             "line": {
              "color": "#E5ECF6",
              "width": 0.5
             },
             "pattern": {
              "fillmode": "overlay",
              "size": 10,
              "solidity": 0.2
             }
            },
            "type": "bar"
           }
          ],
          "barpolar": [
           {
            "marker": {
             "line": {
              "color": "#E5ECF6",
              "width": 0.5
             },
             "pattern": {
              "fillmode": "overlay",
              "size": 10,
              "solidity": 0.2
             }
            },
            "type": "barpolar"
           }
          ],
          "carpet": [
           {
            "aaxis": {
             "endlinecolor": "#2a3f5f",
             "gridcolor": "white",
             "linecolor": "white",
             "minorgridcolor": "white",
             "startlinecolor": "#2a3f5f"
            },
            "baxis": {
             "endlinecolor": "#2a3f5f",
             "gridcolor": "white",
             "linecolor": "white",
             "minorgridcolor": "white",
             "startlinecolor": "#2a3f5f"
            },
            "type": "carpet"
           }
          ],
          "choropleth": [
           {
            "colorbar": {
             "outlinewidth": 0,
             "ticks": ""
            },
            "type": "choropleth"
           }
          ],
          "contour": [
           {
            "colorbar": {
             "outlinewidth": 0,
             "ticks": ""
            },
            "colorscale": [
             [
              0,
              "#0d0887"
             ],
             [
              0.1111111111111111,
              "#46039f"
             ],
             [
              0.2222222222222222,
              "#7201a8"
             ],
             [
              0.3333333333333333,
              "#9c179e"
             ],
             [
              0.4444444444444444,
              "#bd3786"
             ],
             [
              0.5555555555555556,
              "#d8576b"
             ],
             [
              0.6666666666666666,
              "#ed7953"
             ],
             [
              0.7777777777777778,
              "#fb9f3a"
             ],
             [
              0.8888888888888888,
              "#fdca26"
             ],
             [
              1,
              "#f0f921"
             ]
            ],
            "type": "contour"
           }
          ],
          "contourcarpet": [
           {
            "colorbar": {
             "outlinewidth": 0,
             "ticks": ""
            },
            "type": "contourcarpet"
           }
          ],
          "heatmap": [
           {
            "colorbar": {
             "outlinewidth": 0,
             "ticks": ""
            },
            "colorscale": [
             [
              0,
              "#0d0887"
             ],
             [
              0.1111111111111111,
              "#46039f"
             ],
             [
              0.2222222222222222,
              "#7201a8"
             ],
             [
              0.3333333333333333,
              "#9c179e"
             ],
             [
              0.4444444444444444,
              "#bd3786"
             ],
             [
              0.5555555555555556,
              "#d8576b"
             ],
             [
              0.6666666666666666,
              "#ed7953"
             ],
             [
              0.7777777777777778,
              "#fb9f3a"
             ],
             [
              0.8888888888888888,
              "#fdca26"
             ],
             [
              1,
              "#f0f921"
             ]
            ],
            "type": "heatmap"
           }
          ],
          "heatmapgl": [
           {
            "colorbar": {
             "outlinewidth": 0,
             "ticks": ""
            },
            "colorscale": [
             [
              0,
              "#0d0887"
             ],
             [
              0.1111111111111111,
              "#46039f"
             ],
             [
              0.2222222222222222,
              "#7201a8"
             ],
             [
              0.3333333333333333,
              "#9c179e"
             ],
             [
              0.4444444444444444,
              "#bd3786"
             ],
             [
              0.5555555555555556,
              "#d8576b"
             ],
             [
              0.6666666666666666,
              "#ed7953"
             ],
             [
              0.7777777777777778,
              "#fb9f3a"
             ],
             [
              0.8888888888888888,
              "#fdca26"
             ],
             [
              1,
              "#f0f921"
             ]
            ],
            "type": "heatmapgl"
           }
          ],
          "histogram": [
           {
            "marker": {
             "pattern": {
              "fillmode": "overlay",
              "size": 10,
              "solidity": 0.2
             }
            },
            "type": "histogram"
           }
          ],
          "histogram2d": [
           {
            "colorbar": {
             "outlinewidth": 0,
             "ticks": ""
            },
            "colorscale": [
             [
              0,
              "#0d0887"
             ],
             [
              0.1111111111111111,
              "#46039f"
             ],
             [
              0.2222222222222222,
              "#7201a8"
             ],
             [
              0.3333333333333333,
              "#9c179e"
             ],
             [
              0.4444444444444444,
              "#bd3786"
             ],
             [
              0.5555555555555556,
              "#d8576b"
             ],
             [
              0.6666666666666666,
              "#ed7953"
             ],
             [
              0.7777777777777778,
              "#fb9f3a"
             ],
             [
              0.8888888888888888,
              "#fdca26"
             ],
             [
              1,
              "#f0f921"
             ]
            ],
            "type": "histogram2d"
           }
          ],
          "histogram2dcontour": [
           {
            "colorbar": {
             "outlinewidth": 0,
             "ticks": ""
            },
            "colorscale": [
             [
              0,
              "#0d0887"
             ],
             [
              0.1111111111111111,
              "#46039f"
             ],
             [
              0.2222222222222222,
              "#7201a8"
             ],
             [
              0.3333333333333333,
              "#9c179e"
             ],
             [
              0.4444444444444444,
              "#bd3786"
             ],
             [
              0.5555555555555556,
              "#d8576b"
             ],
             [
              0.6666666666666666,
              "#ed7953"
             ],
             [
              0.7777777777777778,
              "#fb9f3a"
             ],
             [
              0.8888888888888888,
              "#fdca26"
             ],
             [
              1,
              "#f0f921"
             ]
            ],
            "type": "histogram2dcontour"
           }
          ],
          "mesh3d": [
           {
            "colorbar": {
             "outlinewidth": 0,
             "ticks": ""
            },
            "type": "mesh3d"
           }
          ],
          "parcoords": [
           {
            "line": {
             "colorbar": {
              "outlinewidth": 0,
              "ticks": ""
             }
            },
            "type": "parcoords"
           }
          ],
          "pie": [
           {
            "automargin": true,
            "type": "pie"
           }
          ],
          "scatter": [
           {
            "fillpattern": {
             "fillmode": "overlay",
             "size": 10,
             "solidity": 0.2
            },
            "type": "scatter"
           }
          ],
          "scatter3d": [
           {
            "line": {
             "colorbar": {
              "outlinewidth": 0,
              "ticks": ""
             }
            },
            "marker": {
             "colorbar": {
              "outlinewidth": 0,
              "ticks": ""
             }
            },
            "type": "scatter3d"
           }
          ],
          "scattercarpet": [
           {
            "marker": {
             "colorbar": {
              "outlinewidth": 0,
              "ticks": ""
             }
            },
            "type": "scattercarpet"
           }
          ],
          "scattergeo": [
           {
            "marker": {
             "colorbar": {
              "outlinewidth": 0,
              "ticks": ""
             }
            },
            "type": "scattergeo"
           }
          ],
          "scattergl": [
           {
            "marker": {
             "colorbar": {
              "outlinewidth": 0,
              "ticks": ""
             }
            },
            "type": "scattergl"
           }
          ],
          "scattermapbox": [
           {
            "marker": {
             "colorbar": {
              "outlinewidth": 0,
              "ticks": ""
             }
            },
            "type": "scattermapbox"
           }
          ],
          "scatterpolar": [
           {
            "marker": {
             "colorbar": {
              "outlinewidth": 0,
              "ticks": ""
             }
            },
            "type": "scatterpolar"
           }
          ],
          "scatterpolargl": [
           {
            "marker": {
             "colorbar": {
              "outlinewidth": 0,
              "ticks": ""
             }
            },
            "type": "scatterpolargl"
           }
          ],
          "scatterternary": [
           {
            "marker": {
             "colorbar": {
              "outlinewidth": 0,
              "ticks": ""
             }
            },
            "type": "scatterternary"
           }
          ],
          "surface": [
           {
            "colorbar": {
             "outlinewidth": 0,
             "ticks": ""
            },
            "colorscale": [
             [
              0,
              "#0d0887"
             ],
             [
              0.1111111111111111,
              "#46039f"
             ],
             [
              0.2222222222222222,
              "#7201a8"
             ],
             [
              0.3333333333333333,
              "#9c179e"
             ],
             [
              0.4444444444444444,
              "#bd3786"
             ],
             [
              0.5555555555555556,
              "#d8576b"
             ],
             [
              0.6666666666666666,
              "#ed7953"
             ],
             [
              0.7777777777777778,
              "#fb9f3a"
             ],
             [
              0.8888888888888888,
              "#fdca26"
             ],
             [
              1,
              "#f0f921"
             ]
            ],
            "type": "surface"
           }
          ],
          "table": [
           {
            "cells": {
             "fill": {
              "color": "#EBF0F8"
             },
             "line": {
              "color": "white"
             }
            },
            "header": {
             "fill": {
              "color": "#C8D4E3"
             },
             "line": {
              "color": "white"
             }
            },
            "type": "table"
           }
          ]
         },
         "layout": {
          "annotationdefaults": {
           "arrowcolor": "#2a3f5f",
           "arrowhead": 0,
           "arrowwidth": 1
          },
          "autotypenumbers": "strict",
          "coloraxis": {
           "colorbar": {
            "outlinewidth": 0,
            "ticks": ""
           }
          },
          "colorscale": {
           "diverging": [
            [
             0,
             "#8e0152"
            ],
            [
             0.1,
             "#c51b7d"
            ],
            [
             0.2,
             "#de77ae"
            ],
            [
             0.3,
             "#f1b6da"
            ],
            [
             0.4,
             "#fde0ef"
            ],
            [
             0.5,
             "#f7f7f7"
            ],
            [
             0.6,
             "#e6f5d0"
            ],
            [
             0.7,
             "#b8e186"
            ],
            [
             0.8,
             "#7fbc41"
            ],
            [
             0.9,
             "#4d9221"
            ],
            [
             1,
             "#276419"
            ]
           ],
           "sequential": [
            [
             0,
             "#0d0887"
            ],
            [
             0.1111111111111111,
             "#46039f"
            ],
            [
             0.2222222222222222,
             "#7201a8"
            ],
            [
             0.3333333333333333,
             "#9c179e"
            ],
            [
             0.4444444444444444,
             "#bd3786"
            ],
            [
             0.5555555555555556,
             "#d8576b"
            ],
            [
             0.6666666666666666,
             "#ed7953"
            ],
            [
             0.7777777777777778,
             "#fb9f3a"
            ],
            [
             0.8888888888888888,
             "#fdca26"
            ],
            [
             1,
             "#f0f921"
            ]
           ],
           "sequentialminus": [
            [
             0,
             "#0d0887"
            ],
            [
             0.1111111111111111,
             "#46039f"
            ],
            [
             0.2222222222222222,
             "#7201a8"
            ],
            [
             0.3333333333333333,
             "#9c179e"
            ],
            [
             0.4444444444444444,
             "#bd3786"
            ],
            [
             0.5555555555555556,
             "#d8576b"
            ],
            [
             0.6666666666666666,
             "#ed7953"
            ],
            [
             0.7777777777777778,
             "#fb9f3a"
            ],
            [
             0.8888888888888888,
             "#fdca26"
            ],
            [
             1,
             "#f0f921"
            ]
           ]
          },
          "colorway": [
           "#636efa",
           "#EF553B",
           "#00cc96",
           "#ab63fa",
           "#FFA15A",
           "#19d3f3",
           "#FF6692",
           "#B6E880",
           "#FF97FF",
           "#FECB52"
          ],
          "font": {
           "color": "#2a3f5f"
          },
          "geo": {
           "bgcolor": "white",
           "lakecolor": "white",
           "landcolor": "#E5ECF6",
           "showlakes": true,
           "showland": true,
           "subunitcolor": "white"
          },
          "hoverlabel": {
           "align": "left"
          },
          "hovermode": "closest",
          "mapbox": {
           "style": "light"
          },
          "paper_bgcolor": "white",
          "plot_bgcolor": "#E5ECF6",
          "polar": {
           "angularaxis": {
            "gridcolor": "white",
            "linecolor": "white",
            "ticks": ""
           },
           "bgcolor": "#E5ECF6",
           "radialaxis": {
            "gridcolor": "white",
            "linecolor": "white",
            "ticks": ""
           }
          },
          "scene": {
           "xaxis": {
            "backgroundcolor": "#E5ECF6",
            "gridcolor": "white",
            "gridwidth": 2,
            "linecolor": "white",
            "showbackground": true,
            "ticks": "",
            "zerolinecolor": "white"
           },
           "yaxis": {
            "backgroundcolor": "#E5ECF6",
            "gridcolor": "white",
            "gridwidth": 2,
            "linecolor": "white",
            "showbackground": true,
            "ticks": "",
            "zerolinecolor": "white"
           },
           "zaxis": {
            "backgroundcolor": "#E5ECF6",
            "gridcolor": "white",
            "gridwidth": 2,
            "linecolor": "white",
            "showbackground": true,
            "ticks": "",
            "zerolinecolor": "white"
           }
          },
          "shapedefaults": {
           "line": {
            "color": "#2a3f5f"
           }
          },
          "ternary": {
           "aaxis": {
            "gridcolor": "white",
            "linecolor": "white",
            "ticks": ""
           },
           "baxis": {
            "gridcolor": "white",
            "linecolor": "white",
            "ticks": ""
           },
           "bgcolor": "#E5ECF6",
           "caxis": {
            "gridcolor": "white",
            "linecolor": "white",
            "ticks": ""
           }
          },
          "title": {
           "x": 0.05
          },
          "xaxis": {
           "automargin": true,
           "gridcolor": "white",
           "linecolor": "white",
           "ticks": "",
           "title": {
            "standoff": 15
           },
           "zerolinecolor": "white",
           "zerolinewidth": 2
          },
          "yaxis": {
           "automargin": true,
           "gridcolor": "white",
           "linecolor": "white",
           "ticks": "",
           "title": {
            "standoff": 15
           },
           "zerolinecolor": "white",
           "zerolinewidth": 2
          }
         }
        }
       }
      }
     },
     "metadata": {},
     "output_type": "display_data"
    }
   ],
   "source": [
    "for construct in study.df.construct.unique():\n",
    "    plot = plots.change_in_reaction_time(study, samples=reaction_time_samples, construct=construct)\n",
    "    save_plotly_fig(ipynbname.path(), '[D] Change in reaction time/'+construct, plot['fig'])\n",
    "    if not generate_plots:\n",
    "        plot['fig'].show()\n",
    "        break"
   ]
  },
  {
   "attachments": {},
   "cell_type": "markdown",
   "metadata": {},
   "source": [
    "## ∆[DMS] -  is the signal in the linear regime at the working concentration?\n",
    "### Change in [DMS]\n",
    "- For each construct at each position, plot Mutation fraction vs. [DMS]\n",
    "    - fit linear region (for now that might just be to the first 3 points 0.5-1% DMS)--goodness of fit??\n"
   ]
  },
  {
   "cell_type": "code",
   "execution_count": null,
   "metadata": {},
   "outputs": [
    {
     "data": {
      "application/vnd.plotly.v1+json": {
       "config": {
        "plotlyServerURL": "https://plot.ly"
       },
       "data": [
        {
         "marker": {
          "line": {
           "color": "black",
           "width": 0
          },
          "size": 20
         },
         "mode": "markers",
         "name": "A1",
         "type": "scatter",
         "visible": "legendonly",
         "x": [
          52.7,
          211,
          1054,
          10.5,
          211,
          1054,
          105,
          10.5
         ],
         "y": [
          0.0015012965743141805,
          0.00825082508250825,
          0.015532734274711168,
          0.0031253150519205564,
          0.005384922217790187,
          0.01017948031074203,
          0.0018696581196581197,
          0.0023004600920184036
         ]
        },
        {
         "marker": {
          "line": {
           "color": "black",
           "width": 0
          },
          "size": 20
         },
         "mode": "markers",
         "name": "A2",
         "type": "scatter",
         "visible": "legendonly",
         "x": [
          52.7,
          211,
          1054,
          10.5,
          211,
          1054,
          105,
          10.5
         ],
         "y": [
          0.0012236573759347384,
          0.004000941397975994,
          0.00705399512633064,
          0.002614641995172969,
          0.0023995200959808036,
          0.008034279592929834,
          0.0007982969664715274,
          0.0017011908335835084
         ]
        },
        {
         "marker": {
          "line": {
           "color": "black",
           "width": 0
          },
          "size": 20
         },
         "mode": "markers",
         "name": "A4",
         "type": "scatter",
         "visible": "legendonly",
         "x": [
          52.7,
          211,
          1054,
          10.5,
          211,
          1054,
          105,
          10.5
         ],
         "y": [
          0.0010949904188338351,
          0.0030725596785629874,
          0.004772346188572166,
          0.0014178651002633178,
          0.001006036217303823,
          0.006211180124223602,
          0.0008042895442359249,
          0.0012046983234615
         ]
        },
        {
         "marker": {
          "line": {
           "color": "black",
           "width": 0
          },
          "size": 20
         },
         "mode": "markers",
         "name": "A6",
         "type": "scatter",
         "visible": "legendonly",
         "x": [
          52.7,
          211,
          1054,
          10.5,
          211,
          1054,
          105,
          10.5
         ],
         "y": [
          0.0005478701547733187,
          0.0018890200708382527,
          0.0030923850019327404,
          0.001013273887931908,
          0.001001001001001001,
          0.0024180548092423426,
          0.0002672367717797969,
          0.0007057163020465773
         ]
        },
        {
         "marker": {
          "line": {
           "color": "black",
           "width": 0
          },
          "size": 20
         },
         "mode": "markers",
         "name": "C9",
         "type": "scatter",
         "visible": "legendonly",
         "x": [
          52.7,
          211,
          1054,
          10.5,
          211,
          1054,
          105,
          10.5
         ],
         "y": [
          0.0032626427406199023,
          0.004234297812279464,
          0.0034429992348890587,
          0.002508277315139962,
          0.003787878787878788,
          0.005868231528407575,
          0.002124269782262347,
          0.002492025518341308
         ]
        },
        {
         "marker": {
          "line": {
           "color": "black",
           "width": 3
          },
          "size": 20
         },
         "mode": "markers",
         "name": "A11",
         "type": "scatter",
         "visible": "legendonly",
         "x": [
          52.7,
          211,
          1054,
          10.5,
          211,
          1054,
          105,
          10.5
         ],
         "y": [
          0.004065591543569589,
          0.022305705564686546,
          0.047210849539406345,
          0.010032102728731942,
          0.013941445927106154,
          0.03010122535961641,
          0.0050424628450106155,
          0.00946497957557039
         ]
        },
        {
         "marker": {
          "line": {
           "color": "black",
           "width": 3
          },
          "size": 20
         },
         "mode": "markers",
         "name": "A12",
         "type": "scatter",
         "visible": "legendonly",
         "x": [
          52.7,
          211,
          1054,
          10.5,
          211,
          1054,
          105,
          10.5
         ],
         "y": [
          0.0037703016241299302,
          0.0207663782447466,
          0.03996232508073197,
          0.009182058047493403,
          0.015436667371537323,
          0.024823695345557124,
          0.0039018952062430325,
          0.008319292333614153
         ]
        },
        {
         "marker": {
          "line": {
           "color": "black",
           "width": 3
          },
          "size": 20
         },
         "mode": "markers",
         "name": "A13",
         "type": "scatter",
         "visible": "legendonly",
         "x": [
          52.7,
          211,
          1054,
          10.5,
          211,
          1054,
          105,
          10.5
         ],
         "y": [
          0.0051302821655191035,
          0.023430178069353328,
          0.04747359042891689,
          0.011688311688311689,
          0.010309278350515464,
          0.03078556263269639,
          0.0042429063908777515,
          0.010024813895781639
         ]
        },
        {
         "marker": {
          "line": {
           "color": "black",
           "width": 0
          },
          "size": 20
         },
         "mode": "markers",
         "name": "A15",
         "type": "scatter",
         "visible": "legendonly",
         "x": [
          52.7,
          211,
          1054,
          10.5,
          211,
          1054,
          105,
          10.5
         ],
         "y": [
          0.0008200082000820008,
          0.0030653147842489977,
          0.005657708628005658,
          0.0015120967741935483,
          0.002203525641025641,
          0.005628517823639775,
          0.001063264221158958,
          0.0014036494886705434
         ]
        },
        {
         "marker": {
          "line": {
           "color": "black",
           "width": 0
          },
          "size": 20
         },
         "mode": "markers",
         "name": "A16",
         "type": "scatter",
         "visible": "legendonly",
         "x": [
          52.7,
          211,
          1054,
          10.5,
          211,
          1054,
          105,
          10.5
         ],
         "y": [
          0.0012268266085059978,
          0.0014107688690336232,
          0.0030804774740084712,
          0.0017163048965169107,
          0.0013958125623130609,
          0.0024096385542168677,
          0.001332267519317879,
          0.0014036494886705434
         ]
        },
        {
         "marker": {
          "line": {
           "color": "black",
           "width": 0
          },
          "size": 20
         },
         "mode": "markers",
         "name": "A18",
         "type": "scatter",
         "visible": "legendonly",
         "x": [
          52.7,
          211,
          1054,
          10.5,
          211,
          1054,
          105,
          10.5
         ],
         "y": [
          0.000819672131147541,
          0.00047382136934375743,
          0.001799023387304035,
          0.0006048996874684948,
          0.0006019261637239165,
          0.0024154589371980675,
          0.0008019246190858059,
          0.0012037315678603672
         ]
        },
        {
         "marker": {
          "line": {
           "color": "black",
           "width": 0
          },
          "size": 20
         },
         "mode": "markers",
         "name": "C20",
         "type": "scatter",
         "visible": "legendonly",
         "x": [
          52.7,
          211,
          1054,
          10.5,
          211,
          1054,
          105,
          10.5
         ],
         "y": [
          0.005598798306704902,
          0.004024621212121212,
          0.006964147536755223,
          0.0033269482810767215,
          0.005628140703517588,
          0.005906040268456376,
          0.004545454545454545,
          0.004118119726797911
         ]
        }
       ],
       "layout": {
        "template": {
         "data": {
          "bar": [
           {
            "error_x": {
             "color": "#2a3f5f"
            },
            "error_y": {
             "color": "#2a3f5f"
            },
            "marker": {
             "line": {
              "color": "#E5ECF6",
              "width": 0.5
             },
             "pattern": {
              "fillmode": "overlay",
              "size": 10,
              "solidity": 0.2
             }
            },
            "type": "bar"
           }
          ],
          "barpolar": [
           {
            "marker": {
             "line": {
              "color": "#E5ECF6",
              "width": 0.5
             },
             "pattern": {
              "fillmode": "overlay",
              "size": 10,
              "solidity": 0.2
             }
            },
            "type": "barpolar"
           }
          ],
          "carpet": [
           {
            "aaxis": {
             "endlinecolor": "#2a3f5f",
             "gridcolor": "white",
             "linecolor": "white",
             "minorgridcolor": "white",
             "startlinecolor": "#2a3f5f"
            },
            "baxis": {
             "endlinecolor": "#2a3f5f",
             "gridcolor": "white",
             "linecolor": "white",
             "minorgridcolor": "white",
             "startlinecolor": "#2a3f5f"
            },
            "type": "carpet"
           }
          ],
          "choropleth": [
           {
            "colorbar": {
             "outlinewidth": 0,
             "ticks": ""
            },
            "type": "choropleth"
           }
          ],
          "contour": [
           {
            "colorbar": {
             "outlinewidth": 0,
             "ticks": ""
            },
            "colorscale": [
             [
              0,
              "#0d0887"
             ],
             [
              0.1111111111111111,
              "#46039f"
             ],
             [
              0.2222222222222222,
              "#7201a8"
             ],
             [
              0.3333333333333333,
              "#9c179e"
             ],
             [
              0.4444444444444444,
              "#bd3786"
             ],
             [
              0.5555555555555556,
              "#d8576b"
             ],
             [
              0.6666666666666666,
              "#ed7953"
             ],
             [
              0.7777777777777778,
              "#fb9f3a"
             ],
             [
              0.8888888888888888,
              "#fdca26"
             ],
             [
              1,
              "#f0f921"
             ]
            ],
            "type": "contour"
           }
          ],
          "contourcarpet": [
           {
            "colorbar": {
             "outlinewidth": 0,
             "ticks": ""
            },
            "type": "contourcarpet"
           }
          ],
          "heatmap": [
           {
            "colorbar": {
             "outlinewidth": 0,
             "ticks": ""
            },
            "colorscale": [
             [
              0,
              "#0d0887"
             ],
             [
              0.1111111111111111,
              "#46039f"
             ],
             [
              0.2222222222222222,
              "#7201a8"
             ],
             [
              0.3333333333333333,
              "#9c179e"
             ],
             [
              0.4444444444444444,
              "#bd3786"
             ],
             [
              0.5555555555555556,
              "#d8576b"
             ],
             [
              0.6666666666666666,
              "#ed7953"
             ],
             [
              0.7777777777777778,
              "#fb9f3a"
             ],
             [
              0.8888888888888888,
              "#fdca26"
             ],
             [
              1,
              "#f0f921"
             ]
            ],
            "type": "heatmap"
           }
          ],
          "heatmapgl": [
           {
            "colorbar": {
             "outlinewidth": 0,
             "ticks": ""
            },
            "colorscale": [
             [
              0,
              "#0d0887"
             ],
             [
              0.1111111111111111,
              "#46039f"
             ],
             [
              0.2222222222222222,
              "#7201a8"
             ],
             [
              0.3333333333333333,
              "#9c179e"
             ],
             [
              0.4444444444444444,
              "#bd3786"
             ],
             [
              0.5555555555555556,
              "#d8576b"
             ],
             [
              0.6666666666666666,
              "#ed7953"
             ],
             [
              0.7777777777777778,
              "#fb9f3a"
             ],
             [
              0.8888888888888888,
              "#fdca26"
             ],
             [
              1,
              "#f0f921"
             ]
            ],
            "type": "heatmapgl"
           }
          ],
          "histogram": [
           {
            "marker": {
             "pattern": {
              "fillmode": "overlay",
              "size": 10,
              "solidity": 0.2
             }
            },
            "type": "histogram"
           }
          ],
          "histogram2d": [
           {
            "colorbar": {
             "outlinewidth": 0,
             "ticks": ""
            },
            "colorscale": [
             [
              0,
              "#0d0887"
             ],
             [
              0.1111111111111111,
              "#46039f"
             ],
             [
              0.2222222222222222,
              "#7201a8"
             ],
             [
              0.3333333333333333,
              "#9c179e"
             ],
             [
              0.4444444444444444,
              "#bd3786"
             ],
             [
              0.5555555555555556,
              "#d8576b"
             ],
             [
              0.6666666666666666,
              "#ed7953"
             ],
             [
              0.7777777777777778,
              "#fb9f3a"
             ],
             [
              0.8888888888888888,
              "#fdca26"
             ],
             [
              1,
              "#f0f921"
             ]
            ],
            "type": "histogram2d"
           }
          ],
          "histogram2dcontour": [
           {
            "colorbar": {
             "outlinewidth": 0,
             "ticks": ""
            },
            "colorscale": [
             [
              0,
              "#0d0887"
             ],
             [
              0.1111111111111111,
              "#46039f"
             ],
             [
              0.2222222222222222,
              "#7201a8"
             ],
             [
              0.3333333333333333,
              "#9c179e"
             ],
             [
              0.4444444444444444,
              "#bd3786"
             ],
             [
              0.5555555555555556,
              "#d8576b"
             ],
             [
              0.6666666666666666,
              "#ed7953"
             ],
             [
              0.7777777777777778,
              "#fb9f3a"
             ],
             [
              0.8888888888888888,
              "#fdca26"
             ],
             [
              1,
              "#f0f921"
             ]
            ],
            "type": "histogram2dcontour"
           }
          ],
          "mesh3d": [
           {
            "colorbar": {
             "outlinewidth": 0,
             "ticks": ""
            },
            "type": "mesh3d"
           }
          ],
          "parcoords": [
           {
            "line": {
             "colorbar": {
              "outlinewidth": 0,
              "ticks": ""
             }
            },
            "type": "parcoords"
           }
          ],
          "pie": [
           {
            "automargin": true,
            "type": "pie"
           }
          ],
          "scatter": [
           {
            "fillpattern": {
             "fillmode": "overlay",
             "size": 10,
             "solidity": 0.2
            },
            "type": "scatter"
           }
          ],
          "scatter3d": [
           {
            "line": {
             "colorbar": {
              "outlinewidth": 0,
              "ticks": ""
             }
            },
            "marker": {
             "colorbar": {
              "outlinewidth": 0,
              "ticks": ""
             }
            },
            "type": "scatter3d"
           }
          ],
          "scattercarpet": [
           {
            "marker": {
             "colorbar": {
              "outlinewidth": 0,
              "ticks": ""
             }
            },
            "type": "scattercarpet"
           }
          ],
          "scattergeo": [
           {
            "marker": {
             "colorbar": {
              "outlinewidth": 0,
              "ticks": ""
             }
            },
            "type": "scattergeo"
           }
          ],
          "scattergl": [
           {
            "marker": {
             "colorbar": {
              "outlinewidth": 0,
              "ticks": ""
             }
            },
            "type": "scattergl"
           }
          ],
          "scattermapbox": [
           {
            "marker": {
             "colorbar": {
              "outlinewidth": 0,
              "ticks": ""
             }
            },
            "type": "scattermapbox"
           }
          ],
          "scatterpolar": [
           {
            "marker": {
             "colorbar": {
              "outlinewidth": 0,
              "ticks": ""
             }
            },
            "type": "scatterpolar"
           }
          ],
          "scatterpolargl": [
           {
            "marker": {
             "colorbar": {
              "outlinewidth": 0,
              "ticks": ""
             }
            },
            "type": "scatterpolargl"
           }
          ],
          "scatterternary": [
           {
            "marker": {
             "colorbar": {
              "outlinewidth": 0,
              "ticks": ""
             }
            },
            "type": "scatterternary"
           }
          ],
          "surface": [
           {
            "colorbar": {
             "outlinewidth": 0,
             "ticks": ""
            },
            "colorscale": [
             [
              0,
              "#0d0887"
             ],
             [
              0.1111111111111111,
              "#46039f"
             ],
             [
              0.2222222222222222,
              "#7201a8"
             ],
             [
              0.3333333333333333,
              "#9c179e"
             ],
             [
              0.4444444444444444,
              "#bd3786"
             ],
             [
              0.5555555555555556,
              "#d8576b"
             ],
             [
              0.6666666666666666,
              "#ed7953"
             ],
             [
              0.7777777777777778,
              "#fb9f3a"
             ],
             [
              0.8888888888888888,
              "#fdca26"
             ],
             [
              1,
              "#f0f921"
             ]
            ],
            "type": "surface"
           }
          ],
          "table": [
           {
            "cells": {
             "fill": {
              "color": "#EBF0F8"
             },
             "line": {
              "color": "white"
             }
            },
            "header": {
             "fill": {
              "color": "#C8D4E3"
             },
             "line": {
              "color": "white"
             }
            },
            "type": "table"
           }
          ]
         },
         "layout": {
          "annotationdefaults": {
           "arrowcolor": "#2a3f5f",
           "arrowhead": 0,
           "arrowwidth": 1
          },
          "autotypenumbers": "strict",
          "coloraxis": {
           "colorbar": {
            "outlinewidth": 0,
            "ticks": ""
           }
          },
          "colorscale": {
           "diverging": [
            [
             0,
             "#8e0152"
            ],
            [
             0.1,
             "#c51b7d"
            ],
            [
             0.2,
             "#de77ae"
            ],
            [
             0.3,
             "#f1b6da"
            ],
            [
             0.4,
             "#fde0ef"
            ],
            [
             0.5,
             "#f7f7f7"
            ],
            [
             0.6,
             "#e6f5d0"
            ],
            [
             0.7,
             "#b8e186"
            ],
            [
             0.8,
             "#7fbc41"
            ],
            [
             0.9,
             "#4d9221"
            ],
            [
             1,
             "#276419"
            ]
           ],
           "sequential": [
            [
             0,
             "#0d0887"
            ],
            [
             0.1111111111111111,
             "#46039f"
            ],
            [
             0.2222222222222222,
             "#7201a8"
            ],
            [
             0.3333333333333333,
             "#9c179e"
            ],
            [
             0.4444444444444444,
             "#bd3786"
            ],
            [
             0.5555555555555556,
             "#d8576b"
            ],
            [
             0.6666666666666666,
             "#ed7953"
            ],
            [
             0.7777777777777778,
             "#fb9f3a"
            ],
            [
             0.8888888888888888,
             "#fdca26"
            ],
            [
             1,
             "#f0f921"
            ]
           ],
           "sequentialminus": [
            [
             0,
             "#0d0887"
            ],
            [
             0.1111111111111111,
             "#46039f"
            ],
            [
             0.2222222222222222,
             "#7201a8"
            ],
            [
             0.3333333333333333,
             "#9c179e"
            ],
            [
             0.4444444444444444,
             "#bd3786"
            ],
            [
             0.5555555555555556,
             "#d8576b"
            ],
            [
             0.6666666666666666,
             "#ed7953"
            ],
            [
             0.7777777777777778,
             "#fb9f3a"
            ],
            [
             0.8888888888888888,
             "#fdca26"
            ],
            [
             1,
             "#f0f921"
            ]
           ]
          },
          "colorway": [
           "#636efa",
           "#EF553B",
           "#00cc96",
           "#ab63fa",
           "#FFA15A",
           "#19d3f3",
           "#FF6692",
           "#B6E880",
           "#FF97FF",
           "#FECB52"
          ],
          "font": {
           "color": "#2a3f5f"
          },
          "geo": {
           "bgcolor": "white",
           "lakecolor": "white",
           "landcolor": "#E5ECF6",
           "showlakes": true,
           "showland": true,
           "subunitcolor": "white"
          },
          "hoverlabel": {
           "align": "left"
          },
          "hovermode": "closest",
          "mapbox": {
           "style": "light"
          },
          "paper_bgcolor": "white",
          "plot_bgcolor": "#E5ECF6",
          "polar": {
           "angularaxis": {
            "gridcolor": "white",
            "linecolor": "white",
            "ticks": ""
           },
           "bgcolor": "#E5ECF6",
           "radialaxis": {
            "gridcolor": "white",
            "linecolor": "white",
            "ticks": ""
           }
          },
          "scene": {
           "xaxis": {
            "backgroundcolor": "#E5ECF6",
            "gridcolor": "white",
            "gridwidth": 2,
            "linecolor": "white",
            "showbackground": true,
            "ticks": "",
            "zerolinecolor": "white"
           },
           "yaxis": {
            "backgroundcolor": "#E5ECF6",
            "gridcolor": "white",
            "gridwidth": 2,
            "linecolor": "white",
            "showbackground": true,
            "ticks": "",
            "zerolinecolor": "white"
           },
           "zaxis": {
            "backgroundcolor": "#E5ECF6",
            "gridcolor": "white",
            "gridwidth": 2,
            "linecolor": "white",
            "showbackground": true,
            "ticks": "",
            "zerolinecolor": "white"
           }
          },
          "shapedefaults": {
           "line": {
            "color": "#2a3f5f"
           }
          },
          "ternary": {
           "aaxis": {
            "gridcolor": "white",
            "linecolor": "white",
            "ticks": ""
           },
           "baxis": {
            "gridcolor": "white",
            "linecolor": "white",
            "ticks": ""
           },
           "bgcolor": "#E5ECF6",
           "caxis": {
            "gridcolor": "white",
            "linecolor": "white",
            "ticks": ""
           }
          },
          "title": {
           "x": 0.05
          },
          "xaxis": {
           "automargin": true,
           "gridcolor": "white",
           "linecolor": "white",
           "ticks": "",
           "title": {
            "standoff": 15
           },
           "zerolinecolor": "white",
           "zerolinewidth": 2
          },
          "yaxis": {
           "automargin": true,
           "gridcolor": "white",
           "linecolor": "white",
           "ticks": "",
           "title": {
            "standoff": 15
           },
           "zerolinecolor": "white",
           "zerolinewidth": 2
          }
         }
        },
        "title": {
         "text": "Construct: 3042-O-flank_1=hp1-DB"
        },
        "xaxis": {
         "title": {
          "text": "DMS concentration (mM)"
         }
        },
        "yaxis": {
         "title": {
          "text": "Mutation fraction"
         }
        }
       }
      }
     },
     "metadata": {},
     "output_type": "display_data"
    }
   ],
   "source": [
    "%reload_ext autoreload\n",
    "\n",
    "for construct in study.df.construct.unique():\n",
    "    plot = plots.change_in_dms_conc(study, samples=dms_concentration_samples, construct=construct)\n",
    "    save_plotly_fig(ipynbname.path(), '[E] Change in [DMS]/'+construct, plot['fig'])\n",
    "    if not generate_plots:\n",
    "        plot['fig'].show()\n",
    "        break"
   ]
  }
 ],
 "metadata": {
  "kernelspec": {
   "display_name": "venv",
   "language": "python",
   "name": "python3"
  },
  "language_info": {
   "codemirror_mode": {
    "name": "ipython",
    "version": 3
   },
   "file_extension": ".py",
   "mimetype": "text/x-python",
   "name": "python",
   "nbconvert_exporter": "python",
   "pygments_lexer": "ipython3",
   "version": "3.11.0"
  },
  "orig_nbformat": 4,
  "vscode": {
   "interpreter": {
    "hash": "da229f0528e1c0d1c0b9dd42b2435d18e9f382f2b763d9e722ef981a0e650149"
   }
  }
 },
 "nbformat": 4,
 "nbformat_minor": 2
}
