{
 "cells": [
  {
   "attachments": {},
   "cell_type": "markdown",
   "metadata": {},
   "source": [
    "# Signal is proportional to fraction folded"
   ]
  },
  {
   "cell_type": "code",
   "execution_count": null,
   "metadata": {},
   "outputs": [],
   "source": [
    "%load_ext autoreload\n",
    "%autoreload 2\n",
    "import sys\n",
    "sys.path.append('../../src')\n",
    "from util import *\n",
    "from config import * \n",
    "import generate_dataset\n",
    "from study_gen import study\n",
    "import plots\n",
    "import ipynbname"
   ]
  },
  {
   "cell_type": "markdown",
   "metadata": {},
   "source": [
    "\n",
    "## ∆T –  Does the Tm change with reaction Temp?"
   ]
  },
  {
   "attachments": {},
   "cell_type": "markdown",
   "metadata": {},
   "source": [
    "### Change in Temp (w/o prediction)\n",
    "- For each A/C base in ROI, plot mutation fraction vs. T\n",
    "    - should be linear for some portion, then level off when hydrolysis is faster than DMS reaction\n"
   ]
  },
  {
   "cell_type": "code",
   "execution_count": null,
   "metadata": {},
   "outputs": [],
   "source": [
    "print('Temperature_samples: ', temperature_samples)')\n",
    "# Edit the construct name below to change the plot\n",
    "construct = '3042-O-flank_1=hp1-DB'\n",
    "##################################################\n",
    "\n",
    "plot = plots.change_in_temp_mut_frac_vs_temperature(study, temperature_samples, construct)\n",
    "save_plotly_fig(ipynbname.path(), '[A] Change in temperature (w o prediction)/'+construct, plot['fig'])\n",
    "plot['fig'].show()\n",
    "        "
   ]
  },
  {
   "attachments": {},
   "cell_type": "markdown",
   "metadata": {},
   "source": [
    "### Mutation rate across the family vs pred ∆G (at 37 °C)\n",
    "- Curve with Predicted ∆G\n",
    "for each base in ROI, plot mutation fraction vs. pred ∆G (at 37 °C)\n",
    "- fit each curve to ∆∆Goffset \n"
   ]
  },
  {
   "cell_type": "code",
   "execution_count": null,
   "metadata": {},
   "outputs": [],
   "source": [
    "print('Samples with t=37c:', samples:=study.df[study.df['temperature_k']==310]['sample'].unique())\n",
    "## Edit the parameters below to change the sample and family\n",
    "sample = samples[0]\n",
    "family = 'hp1'\n",
    "#####################\n",
    "\n",
    "plot = plots.mut_rate_across_family_vs_deltaG(study, sample, family)\n",
    "save_plotly_fig(ipynbname.path(), '[B] Change in temperature (w prediction at 37)/{}/{}'.format(sample, family), plot['fig'])\n",
    "plot['fig'].show()"
   ]
  },
  {
   "attachments": {},
   "cell_type": "markdown",
   "metadata": {},
   "source": [
    "### Change in Temp (w/ prediction at T) \n",
    "- For each base in ROI at each temp, plot mutation fraction vs. pred ∆G (at that temp) \n",
    "    - fit each curve to ∆∆Goffset\n",
    "    - simple model—the offset should be the same if the algorithm is just off by some amount??\n"
   ]
  },
  {
   "cell_type": "code",
   "execution_count": null,
   "metadata": {},
   "outputs": [],
   "source": [
    "savefig2(ipynbname.path(), '[C] Change in temperature (w prediction at T)')"
   ]
  },
  {
   "attachments": {},
   "cell_type": "markdown",
   "metadata": {},
   "source": [
    "##   ∆t – is the signal in the linear regime at the working reaction time? \n",
    "### Change in reaction time\n",
    "- For each construct at each position, plot Mutation fraction vs. reaction time\n",
    "    - scatter plot\n",
    "    - fit linear region (for now that might just be to the first 3 points 1-5 min)--goodness of fit??\n",
    "\n",
    "\n"
   ]
  },
  {
   "cell_type": "code",
   "execution_count": null,
   "metadata": {},
   "outputs": [],
   "source": [
    "print('Samples with change in reaction time:', reaction_time_samples:=study.df[study.df['reaction_time']!=0]['sample'].unique())\n",
    "# Edit the construct name below to change the plot\n",
    "construct = '3042-O-flank_1=hp1-DB'\n",
    "##################################################\n",
    "\n",
    "plot = plots.change_in_reaction_time(study, samples=reaction_time_samples, construct=construct)\n",
    "save_plotly_fig(ipynbname.path(), '[D] Change in reaction time/'+construct, plot['fig'])\n",
    "plot['fig'].show()\n"
   ]
  },
  {
   "attachments": {},
   "cell_type": "markdown",
   "metadata": {},
   "source": [
    "## ∆[DMS] -  is the signal in the linear regime at the working concentration?\n",
    "### Change in [DMS]\n",
    "- For each construct at each position, plot Mutation fraction vs. [DMS]\n",
    "    - fit linear region (for now that might just be to the first 3 points 0.5-1% DMS)--goodness of fit??\n"
   ]
  },
  {
   "cell_type": "code",
   "execution_count": 40,
   "metadata": {},
   "outputs": [],
   "source": [
    "print('Samples with DMS concentration:', dms_concentration_samples:=study.df[study.df['dms_concentration_mM']>0]['sample'].unique())\n",
    "# Edit the construct name below to change the plot\n",
    "construct = '3042-O-flank_1=hp1-DB'\n",
    "##################################################\n",
    "\n",
    "plot = plots.change_in_dms_conc(study, samples=dms_concentration_samples, construct=construct)\n",
    "save_plotly_fig(ipynbname.path(), '[E] Change in [DMS]/'+construct, plot['fig'])\n",
    "plot['fig'].show()\n",
    "        "
   ]
  }
 ],
 "metadata": {
  "kernelspec": {
   "display_name": "venv",
   "language": "python",
   "name": "python3"
  },
  "language_info": {
   "codemirror_mode": {
    "name": "ipython",
    "version": 3
   },
   "file_extension": ".py",
   "mimetype": "text/x-python",
   "name": "python",
   "nbconvert_exporter": "python",
   "pygments_lexer": "ipython3",
   "version": "3.11.0"
  },
  "orig_nbformat": 4,
  "vscode": {
   "interpreter": {
    "hash": "da229f0528e1c0d1c0b9dd42b2435d18e9f382f2b763d9e722ef981a0e650149"
   }
  }
 },
 "nbformat": 4,
 "nbformat_minor": 2
}
