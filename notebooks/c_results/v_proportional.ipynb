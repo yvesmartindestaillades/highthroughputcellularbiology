{
 "cells": [
  {
   "attachments": {},
   "cell_type": "markdown",
   "metadata": {},
   "source": [
    "# Signal is proportional to fraction folded"
   ]
  },
  {
   "cell_type": "code",
   "execution_count": 18,
   "metadata": {},
   "outputs": [
    {
     "name": "stdout",
     "output_type": "stream",
     "text": [
      "The autoreload extension is already loaded. To reload it, use:\n",
      "  %reload_ext autoreload\n"
     ]
    }
   ],
   "source": [
    "%load_ext autoreload\n",
    "%autoreload 2\n",
    "import sys\n",
    "sys.path.append('../../src')\n",
    "from util import *\n",
    "from config import * # where study is defined\n",
    "import generate_dataset\n",
    "import plots\n",
    "import ipynbname"
   ]
  },
  {
   "cell_type": "markdown",
   "metadata": {},
   "source": [
    "\n",
    "## ∆T –  Does the Tm change with reaction Temp?"
   ]
  },
  {
   "attachments": {},
   "cell_type": "markdown",
   "metadata": {},
   "source": [
    "### Change in Temp (w/o prediction)\n",
    "- For each A/C base in ROI, plot mutation fraction vs. T\n",
    "    - should be linear for some portion, then level off when hydrolysis is faster than DMS reaction\n"
   ]
  },
  {
   "cell_type": "code",
   "execution_count": 19,
   "metadata": {},
   "outputs": [
    {
     "name": "stdout",
     "output_type": "stream",
     "text": [
      "No data: ['1_1_S26new_reads' '01_02_S23_reads' 'lauren473_S4' 'lauren471_S2'\n",
      " '1_2_S27new_reads' '01_1_S22_reads' '05_2_S25_reads'], 3593-O-flank_1=bi7-ire-DB\n"
     ]
    }
   ],
   "source": [
    "%autoreload 2\n",
    "for construct in study.df.construct.unique():\n",
    "    plots.change_in_temp_mut_frac_vs_temperature(study, study.get_samples(), construct)\n",
    "    savefig2(ipynbname.path(), '[A] Change in temperature (w o prediction)/'+construct)\n",
    "    if not generate_plots:\n",
    "        break"
   ]
  },
  {
   "attachments": {},
   "cell_type": "markdown",
   "metadata": {},
   "source": [
    "### Mutation rate across the family vs pred ∆G (at 37 °C)\n",
    "- Curve with Predicted ∆G\n",
    "for each base in ROI, plot mutation fraction vs. pred ∆G (at 37 °C)\n",
    "- fit each curve to ∆∆Goffset \n"
   ]
  },
  {
   "cell_type": "code",
   "execution_count": 21,
   "metadata": {},
   "outputs": [
    {
     "name": "stdout",
     "output_type": "stream",
     "text": [
      "Error: sample=lauren473_S4, family=hp2\n",
      "Error: sample=lauren473_S4, family=hp3\n",
      "Error: sample=lauren473_S4, family=hp10\n",
      "Error: sample=lauren473_S4, family=hp14\n",
      "Error: sample=lauren473_S4, family=cb2\n",
      "Error: sample=lauren473_S4, family=lp2\n",
      "Error: sample=lauren473_S4, family=lp3\n",
      "Error: sample=lauren473_S4, family=lp5\n",
      "Error: sample=lauren473_S4, family=lp6\n",
      "Error: sample=lauren473_S4, family=lp11\n",
      "Error: sample=lauren473_S4, family=lp12\n",
      "Error: sample=lauren473_S4, family=bi7\n",
      "Error: sample=lauren473_S4, family=bi8\n",
      "Error: sample=lauren473_S4, family=bi10\n",
      "Error: sample=lauren471_S2, family=hp2\n",
      "Error: sample=lauren471_S2, family=hp10\n",
      "Error: sample=lauren471_S2, family=cb6\n",
      "Error: sample=lauren471_S2, family=lp3\n",
      "Error: sample=lauren471_S2, family=lp5\n",
      "Error: sample=lauren471_S2, family=bi7\n",
      "Error: sample=lauren471_S2, family=bi8\n",
      "Error: sample=1_2_S27new_reads, family=bi10\n",
      "Error: sample=05_2_S25_reads, family=hp1\n",
      "Error: sample=05_2_S25_reads, family=hp2\n",
      "Error: sample=05_2_S25_reads, family=hp3\n",
      "Error: sample=05_2_S25_reads, family=hp4\n",
      "Error: sample=05_2_S25_reads, family=hp5\n",
      "Error: sample=05_2_S25_reads, family=hp6\n",
      "Error: sample=05_2_S25_reads, family=hp7\n",
      "Error: sample=05_2_S25_reads, family=hp8\n",
      "Error: sample=05_2_S25_reads, family=hp9\n",
      "Error: sample=05_2_S25_reads, family=hp10\n",
      "Error: sample=05_2_S25_reads, family=hp11\n",
      "Error: sample=05_2_S25_reads, family=hp12\n",
      "Error: sample=05_2_S25_reads, family=hp13\n",
      "Error: sample=05_2_S25_reads, family=hp14\n",
      "Error: sample=05_2_S25_reads, family=cb1\n",
      "Error: sample=05_2_S25_reads, family=cb2\n",
      "Error: sample=05_2_S25_reads, family=cb3\n",
      "Error: sample=05_2_S25_reads, family=cb4\n",
      "Error: sample=05_2_S25_reads, family=cb5\n",
      "Error: sample=05_2_S25_reads, family=cb6\n",
      "Error: sample=05_2_S25_reads, family=cb7\n",
      "Error: sample=05_2_S25_reads, family=cb8\n",
      "Error: sample=05_2_S25_reads, family=cb9\n",
      "Error: sample=05_2_S25_reads, family=cb10\n",
      "Error: sample=05_2_S25_reads, family=cb11\n",
      "Error: sample=05_2_S25_reads, family=cb12\n",
      "Error: sample=05_2_S25_reads, family=lp1\n",
      "Error: sample=05_2_S25_reads, family=lp2\n",
      "Error: sample=05_2_S25_reads, family=lp3\n",
      "Error: sample=05_2_S25_reads, family=lp4\n",
      "Error: sample=05_2_S25_reads, family=lp5\n",
      "Error: sample=05_2_S25_reads, family=lp6\n",
      "Error: sample=05_2_S25_reads, family=lp7\n",
      "Error: sample=05_2_S25_reads, family=lp8\n",
      "Error: sample=05_2_S25_reads, family=lp9\n",
      "Error: sample=05_2_S25_reads, family=lp10\n",
      "Error: sample=05_2_S25_reads, family=lp11\n",
      "Error: sample=05_2_S25_reads, family=lp12\n",
      "Error: sample=05_2_S25_reads, family=bi1\n",
      "Error: sample=05_2_S25_reads, family=bi2\n",
      "Error: sample=05_2_S25_reads, family=bi3\n",
      "Error: sample=05_2_S25_reads, family=bi4\n",
      "Error: sample=05_2_S25_reads, family=bi5\n",
      "Error: sample=05_2_S25_reads, family=bi6\n",
      "Error: sample=05_2_S25_reads, family=bi7\n",
      "Error: sample=05_2_S25_reads, family=bi8\n",
      "Error: sample=05_2_S25_reads, family=bi9\n",
      "Error: sample=05_2_S25_reads, family=bi10\n",
      "Error: sample=05_2_S25_reads, family=bi11\n",
      "Error: sample=05_2_S25_reads, family=bi12\n"
     ]
    }
   ],
   "source": [
    "\n",
    "%autoreload 2\n",
    "for sample in study.df['sample'].unique():\n",
    "    for family in study.get_df(sample=sample).family.unique():\n",
    "        try:\n",
    "            plots.mut_rate_across_family_vs_deltaG(study, sample, family)\n",
    "            savefig2(ipynbname.path(), '[B] Change in temperature (w prediction at 37)/{}/{}'.format(sample, family))\n",
    "        except:\n",
    "            print('Error: sample={}, family={}'.format(sample, family))\n",
    "        if not generate_plots:\n",
    "            break\n",
    "    if not generate_plots:\n",
    "        break"
   ]
  },
  {
   "attachments": {},
   "cell_type": "markdown",
   "metadata": {},
   "source": [
    "### Change in Temp (w/ prediction at T) \n",
    "- For each base in ROI at each temp, plot mutation fraction vs. pred ∆G (at that temp) \n",
    "    - fit each curve to ∆∆Goffset\n",
    "    - simple model—the offset should be the same if the algorithm is just off by some amount??\n"
   ]
  },
  {
   "cell_type": "code",
   "execution_count": null,
   "metadata": {},
   "outputs": [
    {
     "data": {
      "text/plain": [
       "<Figure size 640x480 with 0 Axes>"
      ]
     },
     "metadata": {},
     "output_type": "display_data"
    }
   ],
   "source": [
    "savefig2(ipynbname.path(), '[C] Change in temperature (w prediction at T)')"
   ]
  },
  {
   "attachments": {},
   "cell_type": "markdown",
   "metadata": {},
   "source": [
    "##   ∆t – is the signal in the linear regime at the working reaction time? \n",
    "### Change in reaction time\n",
    "- For each construct at each position, plot Mutation fraction vs. [DMS]\n",
    "    - scatter plot\n",
    "    - fit linear region (for now that might just be to the first 3 points 1-5 min)--goodness of fit??\n",
    "\n",
    "\n"
   ]
  },
  {
   "cell_type": "code",
   "execution_count": null,
   "metadata": {},
   "outputs": [
    {
     "data": {
      "text/plain": [
       "<Figure size 640x480 with 0 Axes>"
      ]
     },
     "metadata": {},
     "output_type": "display_data"
    }
   ],
   "source": [
    "\n",
    "savefig2(ipynbname.path(), '[D] Change in reaction time')"
   ]
  },
  {
   "attachments": {},
   "cell_type": "markdown",
   "metadata": {},
   "source": [
    "## ∆[DMS] -  is the signal in the linear regime at the working concentration?\n",
    "### Change in [DMS]\n",
    "- For each construct at each position, plot Mutation fraction vs. [DMS]\n",
    "    - fit linear region (for now that might just be to the first 3 points 0.5-1% DMS)--goodness of fit??\n"
   ]
  },
  {
   "cell_type": "code",
   "execution_count": null,
   "metadata": {},
   "outputs": [
    {
     "data": {
      "text/plain": [
       "<Figure size 640x480 with 0 Axes>"
      ]
     },
     "metadata": {},
     "output_type": "display_data"
    }
   ],
   "source": [
    "savefig2(ipynbname.path(), '[E] Change in [DMS]')"
   ]
  }
 ],
 "metadata": {
  "kernelspec": {
   "display_name": "venv",
   "language": "python",
   "name": "python3"
  },
  "language_info": {
   "codemirror_mode": {
    "name": "ipython",
    "version": 3
   },
   "file_extension": ".py",
   "mimetype": "text/x-python",
   "name": "python",
   "nbconvert_exporter": "python",
   "pygments_lexer": "ipython3",
   "version": "3.11.0"
  },
  "orig_nbformat": 4,
  "vscode": {
   "interpreter": {
    "hash": "da229f0528e1c0d1c0b9dd42b2435d18e9f382f2b763d9e722ef981a0e650149"
   }
  }
 },
 "nbformat": 4,
 "nbformat_minor": 2
}
