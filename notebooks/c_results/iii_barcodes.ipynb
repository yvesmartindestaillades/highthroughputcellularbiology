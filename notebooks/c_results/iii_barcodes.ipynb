{
 "cells": [
  {
   "attachments": {},
   "cell_type": "markdown",
   "metadata": {},
   "source": [
    "# Barcodes\n",
    "\n",
    "Show that barcodes don't matter and that we can pick out when they do."
   ]
  },
  {
   "cell_type": "code",
   "execution_count": 1,
   "metadata": {},
   "outputs": [],
   "source": [
    "%load_ext autoreload\n",
    "%autoreload 2\n",
    "import sys\n",
    "sys.path.append('../../src')\n",
    "from util import *\n",
    "from config import *\n",
    "import generate_dataset\n",
    "import ipynbname\n",
    "import plots"
   ]
  },
  {
   "attachments": {},
   "cell_type": "markdown",
   "metadata": {},
   "source": [
    "### Barcodes comparison scatter plot\n",
    "- x-axis = barcode1 \n",
    "- y-axes = barcode2\n",
    "- fit: \n",
    "    - x=y (line of identity)\n",
    "    - best-fit line\n",
    "    - Pearson R\n",
    "- if more than 2 barcode reps then heatmap pearson R everything vs. everything "
   ]
  },
  {
   "cell_type": "code",
   "execution_count": 3,
   "metadata": {},
   "outputs": [
    {
     "name": "stdout",
     "output_type": "stream",
     "text": [
      "Error in barcode comparison scatter plot: lauren471_S2 3063-O-flank_1=hp2-DB 3218-O-flank_1=cb1-DB\n",
      "Error in barcode comparison scatter plot: lauren471_S2 3063-O-flank_1=hp2-DB 3254-O-flank_1=cb4-DB\n",
      "Error in barcode comparison scatter plot: lauren471_S2 3063-O-flank_1=hp2-DB 3266-O-flank_1=cb5-DB\n",
      "Error in barcode comparison scatter plot: lauren471_S2 3063-O-flank_1=hp2-DB 3278-O-flank_1=cb6-DB\n",
      "Error in barcode comparison scatter plot: lauren471_S2 3218-O-flank_1=cb1-DB 3063-O-flank_1=hp2-DB\n",
      "Error in barcode comparison scatter plot: lauren471_S2 3254-O-flank_1=cb4-DB 3063-O-flank_1=hp2-DB\n",
      "Error in barcode comparison scatter plot: lauren471_S2 3266-O-flank_1=cb5-DB 3063-O-flank_1=hp2-DB\n",
      "Error in barcode comparison scatter plot: lauren471_S2 3278-O-flank_1=cb6-DB 3063-O-flank_1=hp2-DB\n"
     ]
    }
   ],
   "source": [
    "\n",
    "%autoreload 2    \n",
    "for sample in study.get_samples():\n",
    "    replicates_lists = generate_dataset.generate_barcode_replicates_pairs(study, sample)       \n",
    "    for construct, replicates in replicates_lists.items():\n",
    "        for replicate in replicates:\n",
    "            try:\n",
    "                plots.barcode_comparison_scatter_plot(study, sample, construct, replicate)\n",
    "                savefig2(ipynbname.path(), '[A] Barcodes comparison scatter plot/{}'.format(sample) + '/{}_{}'.format(construct, replicate))\n",
    "            except:\n",
    "                print('Error in barcode comparison scatter plot: {} {} {}'.format(sample, construct, replicate))\n",
    "            if not generate_plots:\n",
    "                break\n",
    "        if not generate_plots:\n",
    "            break\n",
    "    if not generate_plots:\n",
    "        break"
   ]
  },
  {
   "attachments": {},
   "cell_type": "markdown",
   "metadata": {},
   "source": [
    "### Combined barcode reps in sample\n",
    "- x-axis = barcode1/barcode2 names \n",
    "- y-axis = pearson R \n",
    "- ranked by R\n",
    "- Or is there a better way to do this–% percent total??\n"
   ]
  },
  {
   "cell_type": "code",
   "execution_count": 4,
   "metadata": {},
   "outputs": [
    {
     "ename": "TypeError",
     "evalue": "only integer scalar arrays can be converted to a scalar index",
     "output_type": "error",
     "traceback": [
      "\u001b[0;31m---------------------------------------------------------------------------\u001b[0m",
      "\u001b[0;31mTypeError\u001b[0m                                 Traceback (most recent call last)",
      "Cell \u001b[0;32mIn [4], line 3\u001b[0m\n\u001b[1;32m      1\u001b[0m get_ipython()\u001b[39m.\u001b[39mrun_line_magic(\u001b[39m'\u001b[39m\u001b[39mautoreload\u001b[39m\u001b[39m'\u001b[39m, \u001b[39m'\u001b[39m\u001b[39m2\u001b[39m\u001b[39m'\u001b[39m)\n\u001b[1;32m      2\u001b[0m \u001b[39mfor\u001b[39;00m sample \u001b[39min\u001b[39;00m study\u001b[39m.\u001b[39mget_samples():\n\u001b[0;32m----> 3\u001b[0m     plots\u001b[39m.\u001b[39;49mcombined_barcode_replicates_in_sample(study, sample)\n\u001b[1;32m      4\u001b[0m     savefig2(ipynbname\u001b[39m.\u001b[39mpath(), \u001b[39m'\u001b[39m\u001b[39m[B] Combined barcode reps in sample/\u001b[39m\u001b[39m{}\u001b[39;00m\u001b[39m'\u001b[39m\u001b[39m.\u001b[39mformat(sample))\n\u001b[1;32m      5\u001b[0m     \u001b[39mif\u001b[39;00m \u001b[39mnot\u001b[39;00m config\u001b[39m.\u001b[39mgenerate_plots:\n",
      "File \u001b[0;32m~/src/highthroughputcellularbiology/notebooks/c_results/../../src/plots.py:166\u001b[0m, in \u001b[0;36mcombined_barcode_replicates_in_sample\u001b[0;34m(study, sample)\u001b[0m\n\u001b[1;32m    164\u001b[0m \u001b[39mdef\u001b[39;00m \u001b[39mcombined_barcode_replicates_in_sample\u001b[39m(study, sample):\n\u001b[1;32m    165\u001b[0m     replicates_lists \u001b[39m=\u001b[39m generate_dataset\u001b[39m.\u001b[39mgenerate_barcode_replicates_pairs(study, sample)       \n\u001b[0;32m--> 166\u001b[0m     pearson_scores \u001b[39m=\u001b[39m generate_dataset\u001b[39m.\u001b[39;49mcompute_pearson_scores(study, sample, replicates_lists, SECTION_TO_COMPARE_FOR_BARCODE_REPLICATES)\n\u001b[1;32m    167\u001b[0m     plt\u001b[39m.\u001b[39mbar(np\u001b[39m.\u001b[39marange(\u001b[39mlen\u001b[39m(pearson_scores)), pearson_scores)\n\u001b[1;32m    168\u001b[0m     plt\u001b[39m.\u001b[39mylabel(\u001b[39m'\u001b[39m\u001b[39mPearson correlation score average across barcode replicates\u001b[39m\u001b[39m'\u001b[39m)\n",
      "File \u001b[0;32m~/src/highthroughputcellularbiology/notebooks/c_results/../../src/generate_dataset.py:28\u001b[0m, in \u001b[0;36mcompute_pearson_scores\u001b[0;34m(study, sample, replicates_lists, sections)\u001b[0m\n\u001b[1;32m     26\u001b[0m             x \u001b[39m+\u001b[39m\u001b[39m=\u001b[39m study\u001b[39m.\u001b[39mget_df(sample\u001b[39m=\u001b[39msample, construct\u001b[39m=\u001b[39mconstruct, section\u001b[39m=\u001b[39msection, base_type\u001b[39m=\u001b[39m[\u001b[39m'\u001b[39m\u001b[39mA\u001b[39m\u001b[39m'\u001b[39m,\u001b[39m'\u001b[39m\u001b[39mC\u001b[39m\u001b[39m'\u001b[39m])[\u001b[39m'\u001b[39m\u001b[39mmut_rates\u001b[39m\u001b[39m'\u001b[39m]\u001b[39m.\u001b[39miloc[\u001b[39m0\u001b[39m]\u001b[39m.\u001b[39mtolist()\n\u001b[1;32m     27\u001b[0m             y \u001b[39m+\u001b[39m\u001b[39m=\u001b[39m study\u001b[39m.\u001b[39mget_df(sample\u001b[39m=\u001b[39msample, construct\u001b[39m=\u001b[39mreplicate, section\u001b[39m=\u001b[39msection, base_type\u001b[39m=\u001b[39m[\u001b[39m'\u001b[39m\u001b[39mA\u001b[39m\u001b[39m'\u001b[39m,\u001b[39m'\u001b[39m\u001b[39mC\u001b[39m\u001b[39m'\u001b[39m])[\u001b[39m'\u001b[39m\u001b[39mmut_rates\u001b[39m\u001b[39m'\u001b[39m]\u001b[39m.\u001b[39miloc[\u001b[39m0\u001b[39m]\u001b[39m.\u001b[39mtolist()\n\u001b[0;32m---> 28\u001b[0m         scores_construct\u001b[39m.\u001b[39mappend(custom_pearsonr(x, y))\n\u001b[1;32m     29\u001b[0m     scores\u001b[39m.\u001b[39mappend(np\u001b[39m.\u001b[39mmean(scores_construct))\n\u001b[1;32m     30\u001b[0m scores\u001b[39m.\u001b[39msort(reverse\u001b[39m=\u001b[39m\u001b[39mTrue\u001b[39;00m)\n",
      "File \u001b[0;32m~/src/highthroughputcellularbiology/notebooks/c_results/../../src/util.py:117\u001b[0m, in \u001b[0;36mcustom_pearsonr\u001b[0;34m(x, y, percentile, diff_filter)\u001b[0m\n\u001b[1;32m    115\u001b[0m \u001b[39mif\u001b[39;00m \u001b[39mlen\u001b[39m(x) \u001b[39m!=\u001b[39m \u001b[39mlen\u001b[39m(y):\n\u001b[1;32m    116\u001b[0m     \u001b[39mraise\u001b[39;00m \u001b[39mValueError\u001b[39;00m(\u001b[39m'\u001b[39m\u001b[39mx and y must have the same length\u001b[39m\u001b[39m'\u001b[39m)\n\u001b[0;32m--> 117\u001b[0m x , y \u001b[39m=\u001b[39m x[\u001b[39m~\u001b[39;49mnp\u001b[39m.\u001b[39;49misnan(x) \u001b[39m&\u001b[39;49m \u001b[39m~\u001b[39;49mnp\u001b[39m.\u001b[39;49misnan(y)], y[\u001b[39m~\u001b[39mnp\u001b[39m.\u001b[39misnan(x) \u001b[39m&\u001b[39m \u001b[39m~\u001b[39mnp\u001b[39m.\u001b[39misnan(y)]\n\u001b[1;32m    118\u001b[0m \u001b[39mif\u001b[39;00m min_unique \u001b[39m==\u001b[39m \u001b[39m1\u001b[39m:\n\u001b[1;32m    119\u001b[0m     \u001b[39mreturn\u001b[39;00m np\u001b[39m.\u001b[39mnan\n",
      "\u001b[0;31mTypeError\u001b[0m: only integer scalar arrays can be converted to a scalar index"
     ]
    }
   ],
   "source": [
    "\n",
    "%autoreload 2    \n",
    "for sample in study.get_samples():\n",
    "    try:\n",
    "        plots.combined_barcode_replicates_in_sample(study, sample)\n",
    "        savefig2(ipynbname.path(), '[B] Combined barcode reps in sample/{}'.format(sample))\n",
    "    except:\n",
    "        print('Error in combined barcode reps in sample: {}'.format(sample))\n",
    "    if not config.generate_plots:\n",
    "        break"
   ]
  }
 ],
 "metadata": {
  "kernelspec": {
   "display_name": "venv",
   "language": "python",
   "name": "python3"
  },
  "language_info": {
   "codemirror_mode": {
    "name": "ipython",
    "version": 3
   },
   "file_extension": ".py",
   "mimetype": "text/x-python",
   "name": "python",
   "nbconvert_exporter": "python",
   "pygments_lexer": "ipython3",
   "version": "3.11.0"
  },
  "orig_nbformat": 4,
  "vscode": {
   "interpreter": {
    "hash": "da229f0528e1c0d1c0b9dd42b2435d18e9f382f2b763d9e722ef981a0e650149"
   }
  }
 },
 "nbformat": 4,
 "nbformat_minor": 2
}
