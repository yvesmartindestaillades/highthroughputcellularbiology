{
 "cells": [
  {
   "attachments": {},
   "cell_type": "markdown",
   "metadata": {},
   "source": [
    "# Barcodes\n",
    "\n",
    "Show that barcodes don't matter and that we can pick out when they do."
   ]
  },
  {
   "cell_type": "code",
   "execution_count": null,
   "metadata": {},
   "outputs": [],
   "source": [
    "%load_ext autoreload\n",
    "%autoreload 2  \n",
    "%reload_ext autoreload\n",
    "import sys\n",
    "sys.path.append('../../src')\n",
    "from util import *\n",
    "from config import *\n",
    "from study_gen import study\n",
    "import generate_dataset\n",
    "import ipynbname\n",
    "import plots"
   ]
  },
  {
   "attachments": {},
   "cell_type": "markdown",
   "metadata": {},
   "source": [
    "### Barcodes comparison scatter plot\n",
    "- x-axis = barcode1 \n",
    "- y-axes = barcode2\n",
    "- fit: \n",
    "    - x=y (line of identity)\n",
    "    - best-fit line\n",
    "    - Pearson R\n",
    "- if more than 2 barcode reps then heatmap pearson R everything vs. everything "
   ]
  },
  {
   "cell_type": "code",
   "execution_count": null,
   "metadata": {},
   "outputs": [],
   "source": [
    "## Change sample ##\n",
    "sample = '01_02_S23_reads'   \n",
    "##############################    \n",
    "\n",
    "plot = plots.barcode_comparison_scatter_plot(study, sample)\n",
    "\n",
    "save_plotly_fig(\n",
    "    ipynbname.path(), \n",
    "    '[A] Barcodes comparison scatter plot/{}'.format(sample),\n",
    "    plot['fig']\n",
    "    )\n",
    "\n",
    "plot['fig'].show()"
   ]
  },
  {
   "attachments": {},
   "cell_type": "markdown",
   "metadata": {},
   "source": [
    "### Combined barcode reps in sample\n",
    "- x-axis = barcode1/barcode2 names \n",
    "- y-axis = pearson R \n",
    "- ranked by R\n",
    "- Or is there a better way to do this–% percent total??\n"
   ]
  },
  {
   "cell_type": "code",
   "execution_count": null,
   "metadata": {},
   "outputs": [],
   "source": [
    "plot = plots.combined_barcode_replicates_in_sample(study)\n",
    "save_plotly_fig(ipynbname.path(), '[B] Combined barcode reps in sample', plot['fig'])\n",
    "plot['fig'].show()"
   ]
  }
 ],
 "metadata": {
  "kernelspec": {
   "display_name": "venv",
   "language": "python",
   "name": "python3"
  },
  "language_info": {
   "codemirror_mode": {
    "name": "ipython",
    "version": 3
   },
   "file_extension": ".py",
   "mimetype": "text/x-python",
   "name": "python",
   "nbconvert_exporter": "python",
   "pygments_lexer": "ipython3",
   "version": "3.11.0"
  },
  "orig_nbformat": 4,
  "vscode": {
   "interpreter": {
    "hash": "da229f0528e1c0d1c0b9dd42b2435d18e9f382f2b763d9e722ef981a0e650149"
   }
  }
 },
 "nbformat": 4,
 "nbformat_minor": 2
}
