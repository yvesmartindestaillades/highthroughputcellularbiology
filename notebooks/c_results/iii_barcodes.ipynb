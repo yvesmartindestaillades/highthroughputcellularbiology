{
 "cells": [
  {
   "attachments": {},
   "cell_type": "markdown",
   "metadata": {},
   "source": [
    "# Barcodes\n",
    "\n",
    "Show that barcodes don't matter and that we can pick out when they do."
   ]
  },
  {
   "cell_type": "code",
   "execution_count": 6,
   "metadata": {},
   "outputs": [
    {
     "name": "stdout",
     "output_type": "stream",
     "text": [
      "The autoreload extension is already loaded. To reload it, use:\n",
      "  %reload_ext autoreload\n"
     ]
    }
   ],
   "source": [
    "%load_ext autoreload\n",
    "%autoreload 2\n",
    "import sys\n",
    "sys.path.append('../../src')\n",
    "from util import *\n",
    "from config import *\n",
    "import generate_dataset\n",
    "import ipynbname\n",
    "import plots"
   ]
  },
  {
   "attachments": {},
   "cell_type": "markdown",
   "metadata": {},
   "source": [
    "### Barcodes comparison scatter plot\n",
    "- x-axis = barcode1 \n",
    "- y-axes = barcode2\n",
    "- fit: \n",
    "    - x=y (line of identity)\n",
    "    - best-fit line\n",
    "    - Pearson R\n",
    "- if more than 2 barcode reps then heatmap pearson R everything vs. everything "
   ]
  },
  {
   "cell_type": "code",
   "execution_count": 8,
   "metadata": {},
   "outputs": [
    {
     "name": "stderr",
     "output_type": "stream",
     "text": [
      "/Users/ymdt/src/highthroughputcellularbiology/notebooks/c_results/../../src/plots.py:133: RuntimeWarning:\n",
      "\n",
      "More than 20 figures have been opened. Figures created through the pyplot interface (`matplotlib.pyplot.figure`) are retained until explicitly closed and may consume too much memory. (To control this warning, see the rcParam `figure.max_open_warning`). Consider using `matplotlib.pyplot.close()`.\n",
      "\n"
     ]
    }
   ],
   "source": [
    "\n",
    "%autoreload 2    \n",
    "for sample in study.get_samples():\n",
    "    replicates_lists = generate_dataset.generate_barcode_replicates_pairs(study, sample)       \n",
    "    for construct, replicates in replicates_lists.items():\n",
    "        for replicate in replicates:\n",
    "            try:\n",
    "                plots.barcode_comparison_scatter_plot(study, sample, construct, replicate)\n",
    "                savefig2(ipynbname.path(), '[A] Barcodes comparison scatter plot/{}'.format(sample) + '/{}_{}'.format(construct, replicate))\n",
    "            except:\n",
    "                print('Error in barcode comparison scatter plot: {} {} {}'.format(sample, construct, replicate))\n",
    "            if not generate_plots:\n",
    "                break\n",
    "        if not generate_plots:\n",
    "            break\n",
    "    if not generate_plots:\n",
    "        break"
   ]
  },
  {
   "attachments": {},
   "cell_type": "markdown",
   "metadata": {},
   "source": [
    "### Combined barcode reps in sample\n",
    "- x-axis = barcode1/barcode2 names \n",
    "- y-axis = pearson R \n",
    "- ranked by R\n",
    "- Or is there a better way to do this–% percent total??\n"
   ]
  },
  {
   "cell_type": "code",
   "execution_count": 7,
   "metadata": {},
   "outputs": [
    {
     "name": "stdout",
     "output_type": "stream",
     "text": [
      "Error in combined barcode reps in sample: 1_1_S26new_reads\n",
      "Error in combined barcode reps in sample: 01_02_S23_reads\n",
      "Error in combined barcode reps in sample: lauren473_S4\n",
      "Error in combined barcode reps in sample: lauren471_S2\n",
      "Error in combined barcode reps in sample: 1_2_S27new_reads\n",
      "Error in combined barcode reps in sample: 01_1_S22_reads\n",
      "Error in combined barcode reps in sample: 05_2_S25_reads\n"
     ]
    }
   ],
   "source": [
    "%autoreload 2    \n",
    "for sample in study.get_samples():\n",
    "    try:\n",
    "        plots.combined_barcode_replicates_in_sample(study, sample)\n",
    "        savefig2(ipynbname.path(), '[B] Combined barcode reps in sample/{}'.format(sample))\n",
    "    except:\n",
    "        print('Error in combined barcode reps in sample: {}'.format(sample))\n",
    "    if not generate_plots:\n",
    "        break"
   ]
  }
 ],
 "metadata": {
  "kernelspec": {
   "display_name": "venv",
   "language": "python",
   "name": "python3"
  },
  "language_info": {
   "codemirror_mode": {
    "name": "ipython",
    "version": 3
   },
   "file_extension": ".py",
   "mimetype": "text/x-python",
   "name": "python",
   "nbconvert_exporter": "python",
   "pygments_lexer": "ipython3",
   "version": "3.11.0"
  },
  "orig_nbformat": 4,
  "vscode": {
   "interpreter": {
    "hash": "da229f0528e1c0d1c0b9dd42b2435d18e9f382f2b763d9e722ef981a0e650149"
   }
  }
 },
 "nbformat": 4,
 "nbformat_minor": 2
}
