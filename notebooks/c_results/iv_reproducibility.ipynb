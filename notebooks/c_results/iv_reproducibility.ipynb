{
 "cells": [
  {
   "attachments": {},
   "cell_type": "markdown",
   "metadata": {},
   "source": [
    "# Reproducibility \n",
    "\n",
    "Within samples and across samples.\n",
    "\n",
    "**Note: first run of this cell takes a while**"
   ]
  },
  {
   "cell_type": "code",
   "execution_count": null,
   "metadata": {},
   "outputs": [],
   "source": [
    "%load_ext autoreload\n",
    "%autoreload 2\n",
    "import sys\n",
    "sys.path.append('../../src')\n",
    "from util import *\n",
    "from config import *\n",
    "from study_gen import study\n",
    "import generate_dataset\n",
    "import plots\n",
    "import ipynbname"
   ]
  },
  {
   "attachments": {},
   "cell_type": "markdown",
   "metadata": {},
   "source": [
    "### Barcode replicates\n",
    "- histogram\n",
    "- x-axis = Pearson R (binned)\n",
    "- y-axis = # barcode pairs\n"
   ]
  },
  {
   "cell_type": "code",
   "execution_count": null,
   "metadata": {},
   "outputs": [],
   "source": [
    "%autoreload 2\n",
    "\n",
    "plot = plots.barcode_replicates(study)\n",
    "save_plotly_fig(ipynbname.path(), '[A] Barcodes replicates', plot['fig'])\n",
    "plot['fig'].show()\n"
   ]
  },
  {
   "attachments": {},
   "cell_type": "markdown",
   "metadata": {},
   "source": [
    "### Sample replicates scatter (per construct)\n",
    "- scatter plot\n",
    "- x-axis = construct1 \n",
    "- y-axes = construct2\n",
    "- fit: \n",
    "    - x=y (line of identity)\n",
    "    - best-fit line\n",
    "    - Pearson R\n"
   ]
  },
  {
   "cell_type": "code",
   "execution_count": null,
   "metadata": {},
   "outputs": [],
   "source": [
    "## Change parameters here\n",
    "print('Bio replicates samples: {}'.format(bio_replicates_samples))\n",
    "samples = bio_replicates_samples[0]\n",
    "family = 'hp1'\n",
    "#######################\n",
    "\n",
    "plot = plots.barcode_replicates_per_construct(study, samples, family)\n",
    "\n",
    "save_plotly_fig(\n",
    "    ipynbname.path(), \n",
    "    '[B] Sample replicates scatter (per construct)/{}-{}/{}'.format(samples[0], samples[1], family),\n",
    "    plot['fig']\n",
    "    )\n",
    "plot['fig'].show()\n"
   ]
  },
  {
   "attachments": {},
   "cell_type": "markdown",
   "metadata": {},
   "source": [
    "### Sample replicates heat map (per family)\n",
    "- heat-map\n",
    "- pearson R everything vs. everything\n",
    "- MS2, LAH and ROI seperately\n",
    "- across all samples \n",
    "- inside a family"
   ]
  },
  {
   "cell_type": "code",
   "execution_count": null,
   "metadata": {},
   "outputs": [],
   "source": [
    "## Change parameters here\n",
    "print('Bio replicates samples: {}'.format(bio_replicates_samples))\n",
    "samples = bio_replicates_samples[0]\n",
    "family = 'hp1'\n",
    "section = 'MS2' # 'MS2', 'ROI', 'LAH'\n",
    "#######################\n",
    "\n",
    "plot = plots.sample_replicates_heatmap_per_family(study, samples, family, section=section)\n",
    "save_plotly_fig(\n",
    "    ipynbname.path(), \n",
    "    '[C] Sample replicates heat map (per family)/{}-{}/{}/{}'.format(samples[0], samples[1], family, section),\n",
    "    plot['fig']\n",
    "    )"
   ]
  }
 ],
 "metadata": {
  "kernelspec": {
   "display_name": "venv",
   "language": "python",
   "name": "python3"
  },
  "language_info": {
   "codemirror_mode": {
    "name": "ipython",
    "version": 3
   },
   "file_extension": ".py",
   "mimetype": "text/x-python",
   "name": "python",
   "nbconvert_exporter": "python",
   "pygments_lexer": "ipython3",
   "version": "3.11.0 (v3.11.0:deaf509e8f, Oct 24 2022, 14:43:23) [Clang 13.0.0 (clang-1300.0.29.30)]"
  },
  "orig_nbformat": 4,
  "vscode": {
   "interpreter": {
    "hash": "da229f0528e1c0d1c0b9dd42b2435d18e9f382f2b763d9e722ef981a0e650149"
   }
  }
 },
 "nbformat": 4,
 "nbformat_minor": 2
}
