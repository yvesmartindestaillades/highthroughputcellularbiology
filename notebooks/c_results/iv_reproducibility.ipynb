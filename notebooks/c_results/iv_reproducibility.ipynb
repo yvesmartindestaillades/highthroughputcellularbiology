{
 "cells": [
  {
   "attachments": {},
   "cell_type": "markdown",
   "metadata": {},
   "source": [
    "# Reproducibility \n",
    "\n",
    "Within samples and across samples."
   ]
  },
  {
   "cell_type": "code",
   "execution_count": 7,
   "metadata": {},
   "outputs": [
    {
     "name": "stdout",
     "output_type": "stream",
     "text": [
      "The autoreload extension is already loaded. To reload it, use:\n",
      "  %reload_ext autoreload\n"
     ]
    }
   ],
   "source": [
    "%load_ext autoreload\n",
    "%autoreload 2\n",
    "import sys\n",
    "sys.path.append('../../src')\n",
    "from util import *\n",
    "from config import *\n",
    "import plots\n",
    "import ipynbname"
   ]
  },
  {
   "attachments": {},
   "cell_type": "markdown",
   "metadata": {},
   "source": [
    "### Barcode replicates\n",
    "- histogram\n",
    "- x-axis = Pearson R (binned)\n",
    "- y-axis = # barcode pairs\n"
   ]
  },
  {
   "cell_type": "code",
   "execution_count": 9,
   "metadata": {},
   "outputs": [
    {
     "name": "stdout",
     "output_type": "stream",
     "text": [
      "Error in sample 1_1_S26new_reads\n",
      "Error in sample 01_02_S23_reads\n",
      "Error in sample lauren473_S4\n",
      "Error in sample lauren471_S2\n",
      "Error in sample 1_2_S27new_reads\n"
     ]
    }
   ],
   "source": [
    "\n",
    "for sample in study.get_samples():\n",
    "    try:\n",
    "        plots.barcode_replicates(study, sample)\n",
    "        savefig2(ipynbname.path(), '[A] Barcodes replicates/{}'.format(sample))\n",
    "    except:\n",
    "        print('Error in sample {}'.format(sample))\n",
    "    if not generate_plots:\n",
    "        break"
   ]
  },
  {
   "attachments": {},
   "cell_type": "markdown",
   "metadata": {},
   "source": [
    "### Sample replicates scatter (per construct)\n",
    "- scatter plot\n",
    "- x-axis = construct1 \n",
    "- y-axes = construct2\n",
    "- fit: \n",
    "    - x=y (line of identity)\n",
    "    - best-fit line\n",
    "    - Pearson R\n"
   ]
  },
  {
   "cell_type": "code",
   "execution_count": null,
   "metadata": {},
   "outputs": [],
   "source": [
    "\n",
    "savefig2(ipynbname.path(), '[B] Sample replicates scatter (per construct)')"
   ]
  },
  {
   "attachments": {},
   "cell_type": "markdown",
   "metadata": {},
   "source": [
    "### Sample replicates heat map (per family)\n",
    "- heat-map\n",
    "- pearson R everything vs. everything\n"
   ]
  },
  {
   "cell_type": "code",
   "execution_count": null,
   "metadata": {},
   "outputs": [],
   "source": [
    "savefig2(ipynbname.path(), '[C] Sample replicates heat map (per family)')"
   ]
  }
 ],
 "metadata": {
  "kernelspec": {
   "display_name": "venv",
   "language": "python",
   "name": "python3"
  },
  "language_info": {
   "codemirror_mode": {
    "name": "ipython",
    "version": 3
   },
   "file_extension": ".py",
   "mimetype": "text/x-python",
   "name": "python",
   "nbconvert_exporter": "python",
   "pygments_lexer": "ipython3",
   "version": "3.11.0"
  },
  "orig_nbformat": 4,
  "vscode": {
   "interpreter": {
    "hash": "da229f0528e1c0d1c0b9dd42b2435d18e9f382f2b763d9e722ef981a0e650149"
   }
  }
 },
 "nbformat": 4,
 "nbformat_minor": 2
}
