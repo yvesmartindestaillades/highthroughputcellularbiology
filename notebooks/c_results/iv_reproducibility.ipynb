{
 "cells": [
  {
   "attachments": {},
   "cell_type": "markdown",
   "metadata": {},
   "source": [
    "# Reproducibility \n",
    "\n",
    "Within samples and across samples."
   ]
  },
  {
   "cell_type": "code",
   "execution_count": null,
   "metadata": {},
   "outputs": [],
   "source": [
    "%load_ext autoreload\n",
    "%autoreload 2\n",
    "import sys\n",
    "sys.path.append('../../src')\n",
    "from util import *\n",
    "from config import *\n",
    "from study_gen import study\n",
    "import generate_dataset\n",
    "import plots\n",
    "import ipynbname"
   ]
  },
  {
   "attachments": {},
   "cell_type": "markdown",
   "metadata": {},
   "source": [
    "### Barcode replicates\n",
    "- histogram\n",
    "- x-axis = Pearson R (binned)\n",
    "- y-axis = # barcode pairs\n"
   ]
  },
  {
   "cell_type": "code",
   "execution_count": null,
   "metadata": {},
   "outputs": [],
   "source": [
    "%autoreload 2\n",
    "\n",
    "plot = plots.barcode_replicates(study)\n",
    "save_plotly_fig(ipynbname.path(), '[A] Barcodes replicates', plot['fig'])\n",
    "if not generate_plots:\n",
    "    plot['fig'].show()\n"
   ]
  },
  {
   "attachments": {},
   "cell_type": "markdown",
   "metadata": {},
   "source": [
    "### Sample replicates scatter (per construct)\n",
    "- scatter plot\n",
    "- x-axis = construct1 \n",
    "- y-axes = construct2\n",
    "- fit: \n",
    "    - x=y (line of identity)\n",
    "    - best-fit line\n",
    "    - Pearson R\n"
   ]
  },
  {
   "cell_type": "code",
   "execution_count": null,
   "metadata": {},
   "outputs": [],
   "source": [
    "from plotly.subplots import make_subplots\n",
    "for samples in bio_replicates_samples:\n",
    "\n",
    "    unique_families = study.get_df(sample=samples)['family'].unique()\n",
    "    for fam in unique_families:\n",
    "        \n",
    "        barcode_rep = plots.barcode_replicates_per_construct(study, samples, fam)\n",
    "\n",
    "        save_plotly_fig(\n",
    "            ipynbname.path(), \n",
    "            '[B] Sample replicates scatter (per construct)/{}-{}/{}'.format(samples[0], samples[1], fam),\n",
    "            barcode_rep['fig']\n",
    "            )\n",
    "        # barcode_rep['fig'].show()\n",
    "        if not generate_plots:\n",
    "                break\n",
    "\n",
    "    if not generate_plots:\n",
    "            break"
   ]
  },
  {
   "attachments": {},
   "cell_type": "markdown",
   "metadata": {},
   "source": [
    "### Sample replicates heat map (per family)\n",
    "- heat-map\n",
    "- pearson R everything vs. everything\n",
    "- MS2, LAH and ROI seperately\n",
    "- across all samples \n",
    "- inside a family"
   ]
  },
  {
   "cell_type": "code",
   "execution_count": null,
   "metadata": {},
   "outputs": [],
   "source": [
    "for samples in bio_replicates_samples:\n",
    "    for family in study.df[study.df['sample'].isin(samples)]['family'].unique():\n",
    "        for section in ['MS2','ROI','LAH']:\n",
    "            plot = plots.sample_replicates_heatmap_per_family(study, samples, family, section=section)\n",
    "            save_plotly_fig(\n",
    "                ipynbname.path(), \n",
    "                '[C] Sample replicates heat map (per family)/{}-{}/{}/{}'.format(samples[0], samples[1], family, section),\n",
    "                plot['fig']\n",
    "                )\n",
    "            if not generate_plots:\n",
    "                break\n",
    "        if not generate_plots:\n",
    "            break\n",
    "    if not generate_plots:\n",
    "        break"
   ]
  }
 ],
 "metadata": {
  "kernelspec": {
   "display_name": "Python 3",
   "language": "python",
   "name": "python3"
  },
  "language_info": {
   "codemirror_mode": {
    "name": "ipython",
    "version": 3
   },
   "file_extension": ".py",
   "mimetype": "text/x-python",
   "name": "python",
   "nbconvert_exporter": "python",
   "pygments_lexer": "ipython3",
   "version": "3.11.1"
  },
  "orig_nbformat": 4,
  "vscode": {
   "interpreter": {
    "hash": "504d14d30f9136d1bd7245527e106d7a5d0ee4cf0ded86654b2885fd422c2aaa"
   }
  }
 },
 "nbformat": 4,
 "nbformat_minor": 2
}
