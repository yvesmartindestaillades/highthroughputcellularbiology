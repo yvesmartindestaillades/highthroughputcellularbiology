{
 "cells": [
  {
   "attachments": {},
   "cell_type": "markdown",
   "metadata": {},
   "source": [
    "# Reproducibility \n",
    "\n",
    "Within samples and across samples.\n",
    "\n",
    "**Note: first run of this cell takes a while**"
   ]
  },
  {
   "cell_type": "code",
   "execution_count": null,
   "metadata": {},
   "outputs": [],
   "source": [
    "%load_ext autoreload\n",
    "%autoreload 2\n",
    "import sys\n",
    "sys.path.append('../../src')\n",
    "from util import *\n",
    "from config import *\n",
    "from study_gen import study\n",
    "import generate_dataset\n",
    "import plots\n",
    "import ipynbname"
   ]
  },
  {
   "attachments": {},
   "cell_type": "markdown",
   "metadata": {},
   "source": [
    "### Barcode replicates\n",
    "- histogram\n",
    "- x-axis = Pearson R (binned)\n",
    "- y-axis = # barcode pairs\n"
   ]
  },
  {
   "cell_type": "code",
   "execution_count": null,
   "metadata": {},
   "outputs": [],
   "source": [
    "%reload_ext autoreload\n",
    "plot = plots.barcode_replicates(study)\n",
    "save_plotly_fig(ipynbname.path(), '[A] Barcodes replicates', plot['fig'])\n",
    "plot['fig'].show()\n",
    "plot['data']"
   ]
  },
  {
   "attachments": {},
   "cell_type": "markdown",
   "metadata": {},
   "source": [
    "### Sample replicates scatter (per construct)\n",
    "- scatter plot\n",
    "- x-axis = construct1 \n",
    "- y-axes = construct2\n",
    "- fit: \n",
    "    - x=y (line of identity)\n",
    "    - best-fit line\n",
    "    - Pearson R\n"
   ]
  },
  {
   "cell_type": "code",
   "execution_count": null,
   "metadata": {},
   "outputs": [],
   "source": [
    "## Change parameters here\n",
    "print('Bio replicates samples: {}'.format(bio_replicates_samples))\n",
    "samples = bio_replicates_samples[14]\n",
    "family = 'hp1'\n",
    "#######################\n",
    "\n",
    "%reload_ext autoreload\n",
    "plot = plots.bio_replicates_per_construct(study, samples, family, correct_bias=True)\n",
    "\n",
    "save_plotly_fig(\n",
    "    ipynbname.path(), \n",
    "    '[B] Sample replicates scatter (per construct)/{}-{}/{}'.format(samples[0], samples[1], family),\n",
    "    plot['fig']\n",
    "    )\n",
    "plot['fig'].show()\n"
   ]
  },
  {
   "cell_type": "code",
   "execution_count": null,
   "metadata": {},
   "outputs": [],
   "source": [
    "\n",
    "unique_constructs = study.get_df(sample=samples, family=family)['construct'].unique()\n",
    "\n",
    "big_data = study.get_df(\n",
    "    sample= samples,\n",
    "    construct = unique_constructs,\n",
    "    base_type = ['A','C'],\n",
    "    section='full'\n",
    "    )[['sample','construct', 'mut_rates']]\n",
    "\n",
    "mut_rates_mean = []\n",
    "for sample in samples:\n",
    "    mut_rates_mean.append(np.concatenate(big_data[big_data['sample']==sample]['mut_rates'].values).mean())\n",
    "\n",
    "ratio_mutation_rates = mut_rates_mean[0]/mut_rates_mean[1]\n",
    "\n",
    "big_data\n"
   ]
  },
  {
   "cell_type": "code",
   "execution_count": null,
   "metadata": {},
   "outputs": [],
   "source": [
    "generate_dataset.generate_barcode_replicates_pairs(study, samples[1])"
   ]
  },
  {
   "attachments": {},
   "cell_type": "markdown",
   "metadata": {},
   "source": [
    "### Sample replicates heat map (per family)\n",
    "- heat-map\n",
    "- pearson R everything vs. everything\n",
    "- MS2, LAH and ROI seperately\n",
    "- across all samples \n",
    "- inside a family"
   ]
  },
  {
   "cell_type": "code",
   "execution_count": 10,
   "metadata": {},
   "outputs": [
    {
     "name": "stdout",
     "output_type": "stream",
     "text": [
      "Bio replicates samples: [['18_plasmid_S11_L001', 'lauren474_S5'], ['19_plasmid_S12_L001', 'lauren475_S6'], ['18_RNA_S8_L001', 'lauren471_S2'], ['19_RNA_S10_L001', 'lauren473_S4'], ['01percent_1_S22_L001', '01percent_2_S23_L001', '37degrees_01percent_1_S16_L001', '37degrees_01percent_2_S17_L001'], ['05percent_1_S24_L001', '05percent_2_S25_L001'], ['1min_1_S14_L001', '1min_2_S15_L001'], ['2min_1_S16_L001', '2min_2_S17_L001'], ['5degrees_1_S8_L001', '5degrees_2_S9_L001'], ['10degrees_1_S10_L001', '10degrees_2_S11_L001'], ['25degrees_1_S12_L001', '25degrees_2_S13_L001'], ['1percent_1_S26_L001', '1percent_2_S27_L001', '37degrees_1percent_1_S14_L001', '37degrees_1percent_2_S15_L001', '5min_1_S18_L001', '5min_2_S19_L001'], ['45degrees_1_S18_L001', '45degrees_2_S19_L001'], ['65degrees_1_S20_L001', '65degrees_2_S21_L001'], ['10min_1_S20_L001', '10min_2_S21_L001'], ['2percent_1_S28_L001', '2percent_2_S29_L001'], ['18_DMS_S7_L001', '33DMS_S1', 'Lauren_601_2_S2_L001', 'Lauren_603_3min_S7_L001', 'lauren470_S1'], ['18_DMS_S7_L001', 'Lauren_601_2_S2_L001', 'Lauren_603_3min_S7_L001', 'lauren470_S1'], ['19_DMS_S9_L001', '36DMS_S2', 'lauren472_S3'], ['5percent_1_S30_L001', '5percent_2_S31_L001'], ['10percent_1_S32_L001', '10percent_2_S33_L001']]\n"
     ]
    },
    {
     "data": {
      "application/vnd.plotly.v1+json": {
       "config": {
        "plotlyServerURL": "https://plot.ly"
       },
       "data": [
        {
         "coloraxis": "coloraxis",
         "hovertemplate": "Sample 18_plasmid_S11_L001: %{x}<br>Sample 18_plasmid_S11_L001: %{y}<br>color: %{z}<extra></extra>",
         "name": "0",
         "texttemplate": "%{z:.2f}",
         "type": "heatmap",
         "x": [
          "3042-O-flank_1=hp1-DB",
          "3043-CC-flank_1=hp1-DB",
          "3044-O-flank_1=hp1-DB",
          "3045-CC-flank_1=hp1-DB",
          "3046-O-flank_1=hp1-DB",
          "3047-O-flank_1=hp1-DB",
          "3048-O-flank_1=hp1-DB",
          "3049-O-flank_1=hp1-DB",
          "3050-O-flank_1=hp1-DB",
          "3051-O-flank_1=hp1-DB",
          "3052-O-flank_1=hp1-DB",
          "3053-O-flank_1=hp1-DB"
         ],
         "xaxis": "x",
         "y": [
          "3042-O-flank_1=hp1-DB",
          "3043-CC-flank_1=hp1-DB",
          "3044-O-flank_1=hp1-DB",
          "3045-CC-flank_1=hp1-DB",
          "3046-O-flank_1=hp1-DB",
          "3047-O-flank_1=hp1-DB",
          "3048-O-flank_1=hp1-DB",
          "3049-O-flank_1=hp1-DB",
          "3050-O-flank_1=hp1-DB",
          "3051-O-flank_1=hp1-DB",
          "3052-O-flank_1=hp1-DB",
          "3053-O-flank_1=hp1-DB"
         ],
         "yaxis": "y",
         "z": [
          [
           0.9999999999999999,
           0.5603667338014001,
           0.57206388203563,
           0.7141719844530414,
           0.6463724375398094,
           0.7230910864392476,
           0.6008655126658509,
           0.16965166595869538,
           0.906673130905702,
           0.49936113437453306,
           0.022644513783797504,
           0.33634740808149644
          ],
          [
           0.5603667338014001,
           1,
           0.16723460513571486,
           0.685505763417217,
           0.5244851555942621,
           0.504648765910345,
           -0.03231380514234324,
           0.627777140412698,
           0.4979799852679612,
           0.5697912705738539,
           0.4006155051305511,
           0.5441162590519234
          ],
          [
           0.57206388203563,
           0.16723460513571486,
           0.9999999999999999,
           0.6557977730038776,
           0.7252003464515815,
           0.43091311939843113,
           0.20458528222163896,
           0.10985114709862862,
           0.5017346473841067,
           0.6757526018557074,
           0.12603525386129202,
           0.5606969880920266
          ],
          [
           0.7141719844530414,
           0.685505763417217,
           0.6557977730038776,
           0.9999999999999998,
           0.6022410626160936,
           0.8830372918497145,
           0.17657367226980014,
           0.7401781673899879,
           0.76722739901329,
           0.8330134231696271,
           0.6667815412056765,
           0.8177343647787273
          ],
          [
           0.7934979455194704,
           0.5244851555942621,
           0.7252003464515815,
           0.6022410626160936,
           0.9999999999999997,
           0.748724742960406,
           0.7932334439110089,
           -0.10634738418918038,
           0.5834698353236628,
           0.6095866876542632,
           0.21920226225074335,
           0.532425383985889
          ],
          [
           0.7230910864392476,
           0.504648765910345,
           0.43091311939843113,
           0.8830372918497145,
           0.748724742960406,
           0.9999999999999999,
           -0.05344068122465237,
           0.08135982786508636,
           0.7189814786915296,
           0.6792002822798444,
           0.6723532412901801,
           0.32912967155842354
          ],
          [
           0.6008655126658509,
           -0.03231380514234324,
           0.20458528222163896,
           0.17657367226980014,
           0.7932334439110089,
           -0.05344068122465237,
           0.9999999999999998,
           0.30037469824208096,
           0.37963083611637854,
           0.11686585048278895,
           -0.16198564536941348,
           0.49820184747332547
          ],
          [
           0.16965166595869538,
           0.627777140412698,
           0.10985114709862862,
           0.7401781673899879,
           -0.10634738418918038,
           0.08135982786508636,
           0.30037469824208096,
           0.9999999999999998,
           0.6710347698298623,
           0.036875777884173504,
           0.3752530281940259,
           0.654379707275539
          ],
          [
           0.906673130905702,
           0.4979799852679612,
           0.5017346473841067,
           0.76722739901329,
           0.5834698353236628,
           0.7189814786915296,
           0.37963083611637854,
           0.7483981004797815,
           1,
           0.8874627862559683,
           0.7706252147036815,
           0.7147705608017205
          ],
          [
           0.727714954799295,
           0.5697912705738539,
           0.6757526018557074,
           0.6633101920194419,
           0.48799745890264945,
           0.4935262305534601,
           0.11686585048278895,
           0.036875777884173504,
           0.761582466384187,
           1,
           0.6192197909197736,
           0.515762836480237
          ],
          [
           0.022644513783797504,
           0.4006155051305511,
           0.12603525386129202,
           0.6667815412056765,
           0.21920226225074335,
           0.6723532412901801,
           -0.16198564536941348,
           0.3752530281940259,
           0.7706252147036815,
           0.6192197909197736,
           1,
           0.5900712826021974
          ],
          [
           0.33634740808149644,
           0.5441162590519234,
           0.5606969880920266,
           0.8177343647787273,
           0.532425383985889,
           0.32912967155842354,
           0.49820184747332547,
           0.654379707275539,
           0.7147705608017205,
           0.515762836480237,
           0.5900712826021974,
           1
          ]
         ]
        }
       ],
       "layout": {
        "coloraxis": {
         "cmax": 1,
         "cmin": -1,
         "colorscale": [
          [
           0,
           "rgb(5,48,97)"
          ],
          [
           0.1,
           "rgb(33,102,172)"
          ],
          [
           0.2,
           "rgb(67,147,195)"
          ],
          [
           0.3,
           "rgb(146,197,222)"
          ],
          [
           0.4,
           "rgb(209,229,240)"
          ],
          [
           0.5,
           "rgb(247,247,247)"
          ],
          [
           0.6,
           "rgb(253,219,199)"
          ],
          [
           0.7,
           "rgb(244,165,130)"
          ],
          [
           0.8,
           "rgb(214,96,77)"
          ],
          [
           0.9,
           "rgb(178,24,43)"
          ],
          [
           1,
           "rgb(103,0,31)"
          ]
         ]
        },
        "height": 800,
        "template": {
         "data": {
          "bar": [
           {
            "error_x": {
             "color": "#2a3f5f"
            },
            "error_y": {
             "color": "#2a3f5f"
            },
            "marker": {
             "line": {
              "color": "#E5ECF6",
              "width": 0.5
             },
             "pattern": {
              "fillmode": "overlay",
              "size": 10,
              "solidity": 0.2
             }
            },
            "type": "bar"
           }
          ],
          "barpolar": [
           {
            "marker": {
             "line": {
              "color": "#E5ECF6",
              "width": 0.5
             },
             "pattern": {
              "fillmode": "overlay",
              "size": 10,
              "solidity": 0.2
             }
            },
            "type": "barpolar"
           }
          ],
          "carpet": [
           {
            "aaxis": {
             "endlinecolor": "#2a3f5f",
             "gridcolor": "white",
             "linecolor": "white",
             "minorgridcolor": "white",
             "startlinecolor": "#2a3f5f"
            },
            "baxis": {
             "endlinecolor": "#2a3f5f",
             "gridcolor": "white",
             "linecolor": "white",
             "minorgridcolor": "white",
             "startlinecolor": "#2a3f5f"
            },
            "type": "carpet"
           }
          ],
          "choropleth": [
           {
            "colorbar": {
             "outlinewidth": 0,
             "ticks": ""
            },
            "type": "choropleth"
           }
          ],
          "contour": [
           {
            "colorbar": {
             "outlinewidth": 0,
             "ticks": ""
            },
            "colorscale": [
             [
              0,
              "#0d0887"
             ],
             [
              0.1111111111111111,
              "#46039f"
             ],
             [
              0.2222222222222222,
              "#7201a8"
             ],
             [
              0.3333333333333333,
              "#9c179e"
             ],
             [
              0.4444444444444444,
              "#bd3786"
             ],
             [
              0.5555555555555556,
              "#d8576b"
             ],
             [
              0.6666666666666666,
              "#ed7953"
             ],
             [
              0.7777777777777778,
              "#fb9f3a"
             ],
             [
              0.8888888888888888,
              "#fdca26"
             ],
             [
              1,
              "#f0f921"
             ]
            ],
            "type": "contour"
           }
          ],
          "contourcarpet": [
           {
            "colorbar": {
             "outlinewidth": 0,
             "ticks": ""
            },
            "type": "contourcarpet"
           }
          ],
          "heatmap": [
           {
            "colorbar": {
             "outlinewidth": 0,
             "ticks": ""
            },
            "colorscale": [
             [
              0,
              "#0d0887"
             ],
             [
              0.1111111111111111,
              "#46039f"
             ],
             [
              0.2222222222222222,
              "#7201a8"
             ],
             [
              0.3333333333333333,
              "#9c179e"
             ],
             [
              0.4444444444444444,
              "#bd3786"
             ],
             [
              0.5555555555555556,
              "#d8576b"
             ],
             [
              0.6666666666666666,
              "#ed7953"
             ],
             [
              0.7777777777777778,
              "#fb9f3a"
             ],
             [
              0.8888888888888888,
              "#fdca26"
             ],
             [
              1,
              "#f0f921"
             ]
            ],
            "type": "heatmap"
           }
          ],
          "heatmapgl": [
           {
            "colorbar": {
             "outlinewidth": 0,
             "ticks": ""
            },
            "colorscale": [
             [
              0,
              "#0d0887"
             ],
             [
              0.1111111111111111,
              "#46039f"
             ],
             [
              0.2222222222222222,
              "#7201a8"
             ],
             [
              0.3333333333333333,
              "#9c179e"
             ],
             [
              0.4444444444444444,
              "#bd3786"
             ],
             [
              0.5555555555555556,
              "#d8576b"
             ],
             [
              0.6666666666666666,
              "#ed7953"
             ],
             [
              0.7777777777777778,
              "#fb9f3a"
             ],
             [
              0.8888888888888888,
              "#fdca26"
             ],
             [
              1,
              "#f0f921"
             ]
            ],
            "type": "heatmapgl"
           }
          ],
          "histogram": [
           {
            "marker": {
             "pattern": {
              "fillmode": "overlay",
              "size": 10,
              "solidity": 0.2
             }
            },
            "type": "histogram"
           }
          ],
          "histogram2d": [
           {
            "colorbar": {
             "outlinewidth": 0,
             "ticks": ""
            },
            "colorscale": [
             [
              0,
              "#0d0887"
             ],
             [
              0.1111111111111111,
              "#46039f"
             ],
             [
              0.2222222222222222,
              "#7201a8"
             ],
             [
              0.3333333333333333,
              "#9c179e"
             ],
             [
              0.4444444444444444,
              "#bd3786"
             ],
             [
              0.5555555555555556,
              "#d8576b"
             ],
             [
              0.6666666666666666,
              "#ed7953"
             ],
             [
              0.7777777777777778,
              "#fb9f3a"
             ],
             [
              0.8888888888888888,
              "#fdca26"
             ],
             [
              1,
              "#f0f921"
             ]
            ],
            "type": "histogram2d"
           }
          ],
          "histogram2dcontour": [
           {
            "colorbar": {
             "outlinewidth": 0,
             "ticks": ""
            },
            "colorscale": [
             [
              0,
              "#0d0887"
             ],
             [
              0.1111111111111111,
              "#46039f"
             ],
             [
              0.2222222222222222,
              "#7201a8"
             ],
             [
              0.3333333333333333,
              "#9c179e"
             ],
             [
              0.4444444444444444,
              "#bd3786"
             ],
             [
              0.5555555555555556,
              "#d8576b"
             ],
             [
              0.6666666666666666,
              "#ed7953"
             ],
             [
              0.7777777777777778,
              "#fb9f3a"
             ],
             [
              0.8888888888888888,
              "#fdca26"
             ],
             [
              1,
              "#f0f921"
             ]
            ],
            "type": "histogram2dcontour"
           }
          ],
          "mesh3d": [
           {
            "colorbar": {
             "outlinewidth": 0,
             "ticks": ""
            },
            "type": "mesh3d"
           }
          ],
          "parcoords": [
           {
            "line": {
             "colorbar": {
              "outlinewidth": 0,
              "ticks": ""
             }
            },
            "type": "parcoords"
           }
          ],
          "pie": [
           {
            "automargin": true,
            "type": "pie"
           }
          ],
          "scatter": [
           {
            "fillpattern": {
             "fillmode": "overlay",
             "size": 10,
             "solidity": 0.2
            },
            "type": "scatter"
           }
          ],
          "scatter3d": [
           {
            "line": {
             "colorbar": {
              "outlinewidth": 0,
              "ticks": ""
             }
            },
            "marker": {
             "colorbar": {
              "outlinewidth": 0,
              "ticks": ""
             }
            },
            "type": "scatter3d"
           }
          ],
          "scattercarpet": [
           {
            "marker": {
             "colorbar": {
              "outlinewidth": 0,
              "ticks": ""
             }
            },
            "type": "scattercarpet"
           }
          ],
          "scattergeo": [
           {
            "marker": {
             "colorbar": {
              "outlinewidth": 0,
              "ticks": ""
             }
            },
            "type": "scattergeo"
           }
          ],
          "scattergl": [
           {
            "marker": {
             "colorbar": {
              "outlinewidth": 0,
              "ticks": ""
             }
            },
            "type": "scattergl"
           }
          ],
          "scattermapbox": [
           {
            "marker": {
             "colorbar": {
              "outlinewidth": 0,
              "ticks": ""
             }
            },
            "type": "scattermapbox"
           }
          ],
          "scatterpolar": [
           {
            "marker": {
             "colorbar": {
              "outlinewidth": 0,
              "ticks": ""
             }
            },
            "type": "scatterpolar"
           }
          ],
          "scatterpolargl": [
           {
            "marker": {
             "colorbar": {
              "outlinewidth": 0,
              "ticks": ""
             }
            },
            "type": "scatterpolargl"
           }
          ],
          "scatterternary": [
           {
            "marker": {
             "colorbar": {
              "outlinewidth": 0,
              "ticks": ""
             }
            },
            "type": "scatterternary"
           }
          ],
          "surface": [
           {
            "colorbar": {
             "outlinewidth": 0,
             "ticks": ""
            },
            "colorscale": [
             [
              0,
              "#0d0887"
             ],
             [
              0.1111111111111111,
              "#46039f"
             ],
             [
              0.2222222222222222,
              "#7201a8"
             ],
             [
              0.3333333333333333,
              "#9c179e"
             ],
             [
              0.4444444444444444,
              "#bd3786"
             ],
             [
              0.5555555555555556,
              "#d8576b"
             ],
             [
              0.6666666666666666,
              "#ed7953"
             ],
             [
              0.7777777777777778,
              "#fb9f3a"
             ],
             [
              0.8888888888888888,
              "#fdca26"
             ],
             [
              1,
              "#f0f921"
             ]
            ],
            "type": "surface"
           }
          ],
          "table": [
           {
            "cells": {
             "fill": {
              "color": "#EBF0F8"
             },
             "line": {
              "color": "white"
             }
            },
            "header": {
             "fill": {
              "color": "#C8D4E3"
             },
             "line": {
              "color": "white"
             }
            },
            "type": "table"
           }
          ]
         },
         "layout": {
          "annotationdefaults": {
           "arrowcolor": "#2a3f5f",
           "arrowhead": 0,
           "arrowwidth": 1
          },
          "autotypenumbers": "strict",
          "coloraxis": {
           "colorbar": {
            "outlinewidth": 0,
            "ticks": ""
           }
          },
          "colorscale": {
           "diverging": [
            [
             0,
             "#8e0152"
            ],
            [
             0.1,
             "#c51b7d"
            ],
            [
             0.2,
             "#de77ae"
            ],
            [
             0.3,
             "#f1b6da"
            ],
            [
             0.4,
             "#fde0ef"
            ],
            [
             0.5,
             "#f7f7f7"
            ],
            [
             0.6,
             "#e6f5d0"
            ],
            [
             0.7,
             "#b8e186"
            ],
            [
             0.8,
             "#7fbc41"
            ],
            [
             0.9,
             "#4d9221"
            ],
            [
             1,
             "#276419"
            ]
           ],
           "sequential": [
            [
             0,
             "#0d0887"
            ],
            [
             0.1111111111111111,
             "#46039f"
            ],
            [
             0.2222222222222222,
             "#7201a8"
            ],
            [
             0.3333333333333333,
             "#9c179e"
            ],
            [
             0.4444444444444444,
             "#bd3786"
            ],
            [
             0.5555555555555556,
             "#d8576b"
            ],
            [
             0.6666666666666666,
             "#ed7953"
            ],
            [
             0.7777777777777778,
             "#fb9f3a"
            ],
            [
             0.8888888888888888,
             "#fdca26"
            ],
            [
             1,
             "#f0f921"
            ]
           ],
           "sequentialminus": [
            [
             0,
             "#0d0887"
            ],
            [
             0.1111111111111111,
             "#46039f"
            ],
            [
             0.2222222222222222,
             "#7201a8"
            ],
            [
             0.3333333333333333,
             "#9c179e"
            ],
            [
             0.4444444444444444,
             "#bd3786"
            ],
            [
             0.5555555555555556,
             "#d8576b"
            ],
            [
             0.6666666666666666,
             "#ed7953"
            ],
            [
             0.7777777777777778,
             "#fb9f3a"
            ],
            [
             0.8888888888888888,
             "#fdca26"
            ],
            [
             1,
             "#f0f921"
            ]
           ]
          },
          "colorway": [
           "#636efa",
           "#EF553B",
           "#00cc96",
           "#ab63fa",
           "#FFA15A",
           "#19d3f3",
           "#FF6692",
           "#B6E880",
           "#FF97FF",
           "#FECB52"
          ],
          "font": {
           "color": "#2a3f5f"
          },
          "geo": {
           "bgcolor": "white",
           "lakecolor": "white",
           "landcolor": "#E5ECF6",
           "showlakes": true,
           "showland": true,
           "subunitcolor": "white"
          },
          "hoverlabel": {
           "align": "left"
          },
          "hovermode": "closest",
          "mapbox": {
           "style": "light"
          },
          "paper_bgcolor": "white",
          "plot_bgcolor": "#E5ECF6",
          "polar": {
           "angularaxis": {
            "gridcolor": "white",
            "linecolor": "white",
            "ticks": ""
           },
           "bgcolor": "#E5ECF6",
           "radialaxis": {
            "gridcolor": "white",
            "linecolor": "white",
            "ticks": ""
           }
          },
          "scene": {
           "xaxis": {
            "backgroundcolor": "#E5ECF6",
            "gridcolor": "white",
            "gridwidth": 2,
            "linecolor": "white",
            "showbackground": true,
            "ticks": "",
            "zerolinecolor": "white"
           },
           "yaxis": {
            "backgroundcolor": "#E5ECF6",
            "gridcolor": "white",
            "gridwidth": 2,
            "linecolor": "white",
            "showbackground": true,
            "ticks": "",
            "zerolinecolor": "white"
           },
           "zaxis": {
            "backgroundcolor": "#E5ECF6",
            "gridcolor": "white",
            "gridwidth": 2,
            "linecolor": "white",
            "showbackground": true,
            "ticks": "",
            "zerolinecolor": "white"
           }
          },
          "shapedefaults": {
           "line": {
            "color": "#2a3f5f"
           }
          },
          "ternary": {
           "aaxis": {
            "gridcolor": "white",
            "linecolor": "white",
            "ticks": ""
           },
           "baxis": {
            "gridcolor": "white",
            "linecolor": "white",
            "ticks": ""
           },
           "bgcolor": "#E5ECF6",
           "caxis": {
            "gridcolor": "white",
            "linecolor": "white",
            "ticks": ""
           }
          },
          "title": {
           "x": 0.05
          },
          "xaxis": {
           "automargin": true,
           "gridcolor": "white",
           "linecolor": "white",
           "ticks": "",
           "title": {
            "standoff": 15
           },
           "zerolinecolor": "white",
           "zerolinewidth": 2
          },
          "yaxis": {
           "automargin": true,
           "gridcolor": "white",
           "linecolor": "white",
           "ticks": "",
           "title": {
            "standoff": 15
           },
           "zerolinecolor": "white",
           "zerolinewidth": 2
          }
         }
        },
        "title": {
         "text": "Pearson between samples 18_plasmid_S11_L001 and 18_plasmid_S11_L001 (family hp1)"
        },
        "width": 800,
        "xaxis": {
         "anchor": "y",
         "constrain": "domain",
         "domain": [
          0,
          1
         ],
         "scaleanchor": "y",
         "title": {
          "text": "Sample 18_plasmid_S11_L001"
         }
        },
        "yaxis": {
         "anchor": "x",
         "autorange": "reversed",
         "constrain": "domain",
         "domain": [
          0,
          1
         ],
         "title": {
          "text": "Sample 18_plasmid_S11_L001"
         }
        }
       }
      }
     },
     "metadata": {},
     "output_type": "display_data"
    }
   ],
   "source": [
    "# reload\n",
    "%reload_ext autoreload\n",
    "## Change parameters here\n",
    "print('Bio replicates samples: {}'.format(bio_replicates_samples))\n",
    "samples = (bio_replicates_samples[0][0], bio_replicates_samples[0][0])\n",
    "family = 'hp1'\n",
    "section = 'MS2' # 'MS2', 'ROI', 'LAH'\n",
    "#######################\n",
    "\n",
    "plot = plots.sample_replicates_heatmap_per_family(study, samples, family, section=section)\n",
    "save_plotly_fig(\n",
    "    ipynbname.path(), \n",
    "    '[C] Sample replicates heat map (per family)/{}-{}/{}/{}'.format(samples[0], samples[1], family, section),\n",
    "    plot['fig']\n",
    "    )"
   ]
  },
  {
   "attachments": {},
   "cell_type": "markdown",
   "metadata": {},
   "source": [
    "### Biological replicates histogram"
   ]
  },
  {
   "cell_type": "code",
   "execution_count": null,
   "metadata": {},
   "outputs": [],
   "source": [
    "plot = plots.biological_replicates_histogram(study, bio_replicates_samples)\n",
    "save_plotly_fig(\n",
    "    ipynbname.path(), \n",
    "    '[D] Biological replicates histogram',\n",
    "    plot['fig']\n",
    "    )\n"
   ]
  }
 ],
 "metadata": {
  "kernelspec": {
   "display_name": "venv",
   "language": "python",
   "name": "python3"
  },
  "language_info": {
   "codemirror_mode": {
    "name": "ipython",
    "version": 3
   },
   "file_extension": ".py",
   "mimetype": "text/x-python",
   "name": "python",
   "nbconvert_exporter": "python",
   "pygments_lexer": "ipython3",
   "version": "3.11.0"
  },
  "orig_nbformat": 4,
  "vscode": {
   "interpreter": {
    "hash": "da229f0528e1c0d1c0b9dd42b2435d18e9f382f2b763d9e722ef981a0e650149"
   }
  }
 },
 "nbformat": 4,
 "nbformat_minor": 2
}
