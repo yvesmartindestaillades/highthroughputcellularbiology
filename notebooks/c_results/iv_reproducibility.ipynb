{
 "cells": [
  {
   "attachments": {},
   "cell_type": "markdown",
   "metadata": {},
   "source": [
    "# Reproducibility \n",
    "\n",
    "Within samples and across samples."
   ]
  },
  {
   "cell_type": "code",
   "execution_count": 1,
   "metadata": {},
   "outputs": [
    {
     "ename": "SyntaxError",
     "evalue": "'(' was never closed (plots.py, line 162)",
     "output_type": "error",
     "traceback": [
      "Traceback \u001b[0;36m(most recent call last)\u001b[0m:\n",
      "\u001b[0m  File \u001b[1;32m~/src/highthroughputcellularbiology/venv/lib/python3.11/site-packages/IPython/core/interactiveshell.py:3433\u001b[0m in \u001b[1;35mrun_code\u001b[0m\n    exec(code_obj, self.user_global_ns, self.user_ns)\u001b[0m\n",
      "\u001b[0;36m  Cell \u001b[0;32mIn [1], line 9\u001b[0;36m\n\u001b[0;31m    import plots\u001b[0;36m\n",
      "\u001b[0;36m  File \u001b[0;32m~/src/highthroughputcellularbiology/notebooks/c_results/../../src/plots.py:162\u001b[0;36m\u001b[0m\n\u001b[0;31m    traces.append(\u001b[0m\n\u001b[0m                 ^\u001b[0m\n\u001b[0;31mSyntaxError\u001b[0m\u001b[0;31m:\u001b[0m '(' was never closed\n"
     ]
    }
   ],
   "source": [
    "%load_ext autoreload\n",
    "%autoreload 2\n",
    "import sys\n",
    "sys.path.append('../../src')\n",
    "from util import *\n",
    "from config import *\n",
    "from study_gen import study\n",
    "import generate_dataset\n",
    "import plots\n",
    "import ipynbname"
   ]
  },
  {
   "attachments": {},
   "cell_type": "markdown",
   "metadata": {},
   "source": [
    "### Barcode replicates\n",
    "- histogram\n",
    "- x-axis = Pearson R (binned)\n",
    "- y-axis = # barcode pairs\n"
   ]
  },
  {
   "cell_type": "code",
   "execution_count": null,
   "metadata": {},
   "outputs": [],
   "source": [
    "%autoreload 2\n",
    "\n",
    "for sample in study.get_samples():\n",
    "    plots.barcode_replicates(study, sample)\n",
    "    savefig2(ipynbname.path(), '[A] Barcodes replicates/{}'.format(sample))\n",
    "    if not generate_plots:\n",
    "        break"
   ]
  },
  {
   "attachments": {},
   "cell_type": "markdown",
   "metadata": {},
   "source": [
    "### Sample replicates scatter (per construct)\n",
    "- scatter plot\n",
    "- x-axis = construct1 \n",
    "- y-axes = construct2\n",
    "- fit: \n",
    "    - x=y (line of identity)\n",
    "    - best-fit line\n",
    "    - Pearson R\n"
   ]
  },
  {
   "cell_type": "code",
   "execution_count": null,
   "metadata": {},
   "outputs": [],
   "source": [
    "for samples in bio_replicates_samples:\n",
    "    for construct in study.df[study.df['sample'].isin(samples)]['construct'].unique():\n",
    "        plot = plots.barcode_replicates_per_construct(study, samples, construct)\n",
    "        save_plotly_fig(\n",
    "            ipynbname.path(), \n",
    "            '[B] Sample replicates scatter (per construct)/{}-{}/{}'.format(samples[0], samples[1], construct),\n",
    "            plot['fig']\n",
    "            )\n",
    "\n",
    "        if not generate_plots:\n",
    "            break\n",
    "    if not generate_plots:\n",
    "            break"
   ]
  },
  {
   "attachments": {},
   "cell_type": "markdown",
   "metadata": {},
   "source": [
    "### Sample replicates heat map (per family)\n",
    "- heat-map\n",
    "- pearson R everything vs. everything\n",
    "- MS2, LAH and ROI seperately\n",
    "- across all samples \n",
    "- inside a family"
   ]
  },
  {
   "cell_type": "code",
   "execution_count": null,
   "metadata": {},
   "outputs": [],
   "source": [
    "for samples in bio_replicates_samples:\n",
    "    for family in study.df[study.df['sample'].isin(samples)]['family'].unique():\n",
    "        for section in ['MS2','ROI','LAH']:\n",
    "            plot = plots.sample_replicates_heatmap_per_family(study, samples, family, section=section)\n",
    "            save_plotly_fig(\n",
    "                ipynbname.path(), \n",
    "                '[C] Sample replicates heat map (per family)/{}-{}/{}/{}'.format(samples[0], samples[1], family, section),\n",
    "                plot['fig']\n",
    "                )\n",
    "            if not generate_plots:\n",
    "                break\n",
    "        if not generate_plots:\n",
    "            break\n",
    "    if not generate_plots:\n",
    "        break"
   ]
  }
 ],
 "metadata": {
  "kernelspec": {
   "display_name": "venv",
   "language": "python",
   "name": "python3"
  },
  "language_info": {
   "codemirror_mode": {
    "name": "ipython",
    "version": 3
   },
   "file_extension": ".py",
   "mimetype": "text/x-python",
   "name": "python",
   "nbconvert_exporter": "python",
   "pygments_lexer": "ipython3",
   "version": "3.11.0"
  },
  "orig_nbformat": 4,
  "vscode": {
   "interpreter": {
    "hash": "da229f0528e1c0d1c0b9dd42b2435d18e9f382f2b763d9e722ef981a0e650149"
   }
  }
 },
 "nbformat": 4,
 "nbformat_minor": 2
}
