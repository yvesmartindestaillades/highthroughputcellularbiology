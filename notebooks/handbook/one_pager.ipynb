{
 "cells": [
  {
   "attachments": {},
   "cell_type": "markdown",
   "metadata": {},
   "source": [
    "# One pagers\n",
    "## Load data"
   ]
  },
  {
   "cell_type": "code",
   "execution_count": 35,
   "metadata": {},
   "outputs": [
    {
     "name": "stdout",
     "output_type": "stream",
     "text": [
      "The autoreload extension is already loaded. To reload it, use:\n",
      "  %reload_ext autoreload\n"
     ]
    }
   ],
   "source": [
    "%load_ext autoreload\n",
    "%autoreload 2\n",
    "import sys\n",
    "sys.path.append('../../src')\n",
    "import util\n",
    "from config import *\n",
    "import plots\n",
    "import ipynbname\n",
    "from study_gen import study\n",
    "df = study.df # pandas dataframe"
   ]
  },
  {
   "attachments": {},
   "cell_type": "markdown",
   "metadata": {},
   "source": [
    "## Create a one-pager for a construct"
   ]
  },
  {
   "cell_type": "code",
   "execution_count": 48,
   "metadata": {},
   "outputs": [],
   "source": [
    "def get_avg_pearson_score_for_construct_in_family(study, sample, construct, section):\n",
    "    family = util.family_from_construct(construct)\n",
    "    data = plots.sample_replicates_heatmap_per_family(study, [sample,sample], family, section)['data']\n",
    "    score = data[construct].loc[~data.index.str.contains(construct)].mean()\n",
    "    return '{:.2f}'.format(score)"
   ]
  },
  {
   "cell_type": "code",
   "execution_count": 63,
   "metadata": {},
   "outputs": [
    {
     "name": "stdout",
     "output_type": "stream",
     "text": [
      "Construct info \n",
      " -----------------\n",
      "Construct: 3042-O-flank_1=hp1-DB\n",
      "Sequence: AAGATATTCGAAAGAATATCTT\n",
      "Type: Canonical base pair\n",
      "GC content: 22.73%\n",
      "\n",
      "Library: TODO\n",
      "Cell line: HEK293T\n",
      "DMS concentration: 211.0 mM\n",
      "Reaction time: 180 secs\n",
      "DeltaG: -5.9\n",
      "\n",
      "Number of reads: 1533\n",
      "Pearson R 5 hp: 0.99\n",
      "Pearson R 3 hp: 0.97\n",
      "\n"
     ]
    },
    {
     "data": {
      "application/vnd.plotly.v1+json": {
       "config": {
        "plotlyServerURL": "https://plot.ly"
       },
       "data": [
        {
         "marker": {
          "color": "#636EFA"
         },
         "name": "full",
         "showlegend": true,
         "type": "bar",
         "x": [
          0,
          1,
          2,
          3,
          4,
          5,
          6,
          7,
          8,
          9,
          10,
          11,
          12,
          13,
          14,
          15,
          16,
          17,
          18,
          19,
          20,
          21,
          22,
          23,
          24,
          25,
          26,
          27,
          28,
          29,
          30,
          31,
          32,
          33,
          34,
          35,
          36,
          37,
          38,
          39,
          40,
          41,
          42,
          43,
          44,
          45,
          46,
          47,
          48,
          49,
          50,
          51,
          52,
          53,
          54,
          55,
          56,
          57,
          58,
          59,
          60,
          61,
          62,
          63,
          64,
          65,
          66,
          67,
          68,
          69,
          70,
          71,
          72,
          73,
          74,
          75,
          76,
          77,
          78,
          79,
          80,
          81,
          82,
          83,
          84,
          85,
          86,
          87,
          88,
          89,
          90,
          91,
          92,
          93,
          94,
          95,
          96,
          97,
          98,
          99,
          100,
          101,
          102,
          103,
          104,
          105,
          106,
          107,
          108,
          109,
          110,
          111,
          112,
          113,
          114,
          115,
          116,
          117,
          118,
          119,
          120,
          121,
          122,
          123,
          124,
          125,
          126,
          127,
          128,
          129,
          130,
          131,
          132,
          133,
          134,
          135,
          136,
          137,
          138,
          139,
          140,
          141,
          142,
          143,
          144,
          145,
          146,
          147,
          148,
          149,
          150,
          151,
          152,
          153,
          154,
          155,
          156,
          157,
          158,
          159,
          160,
          161,
          162,
          163,
          164,
          165,
          166,
          167,
          168,
          169
         ],
         "xaxis": "x",
         "y": [
          1407,
          1479,
          1490,
          1526,
          1530,
          1532,
          1532,
          1532,
          1532,
          1532,
          1532,
          1532,
          1532,
          1532,
          1532,
          1532,
          1532,
          1532,
          1532,
          0,
          0,
          0,
          0,
          0,
          0,
          0,
          0,
          0,
          0,
          0,
          0,
          0,
          0,
          0,
          0,
          0,
          0,
          0,
          0,
          0,
          0,
          0,
          0,
          0,
          0,
          0,
          0,
          0,
          0,
          0,
          0,
          0,
          0,
          0,
          0,
          0,
          0,
          0,
          0,
          0,
          0,
          0,
          0,
          0,
          0,
          0,
          0,
          0,
          0,
          0,
          0,
          0,
          0,
          0,
          0,
          0,
          0,
          0,
          0,
          0,
          0,
          0,
          0,
          0,
          0,
          0,
          0,
          0,
          0,
          0,
          0,
          0,
          0,
          0,
          0,
          0,
          0,
          0,
          0,
          0,
          0,
          0,
          0,
          0,
          0,
          0,
          0,
          0,
          0,
          0,
          0,
          0,
          0,
          0,
          0,
          0,
          0,
          0,
          0,
          0,
          0,
          0,
          0,
          0,
          0,
          0,
          0,
          0,
          0,
          0,
          0,
          0,
          0,
          0,
          0,
          0,
          0,
          0,
          0,
          0,
          0,
          0,
          0,
          0,
          0,
          0,
          0,
          0,
          0,
          0,
          0,
          1534,
          1534,
          1534,
          1534,
          1534,
          1534,
          1534,
          1534,
          1534,
          1534,
          1534,
          1534,
          1534,
          1534,
          1534,
          1533,
          1529,
          1519,
          1435
         ],
         "yaxis": "y"
        },
        {
         "marker": {
          "color": "#EF553B"
         },
         "name": "MS2",
         "showlegend": true,
         "type": "bar",
         "x": [
          19,
          20,
          21,
          22,
          23,
          24,
          25,
          26,
          27,
          28,
          29,
          30,
          31,
          32,
          33,
          34,
          35,
          36,
          37,
          38,
          39,
          40,
          41
         ],
         "xaxis": "x",
         "y": [
          1532,
          1532,
          1532,
          1532,
          1532,
          1532,
          1531,
          1531,
          1531,
          1531,
          1532,
          1532,
          1532,
          1532,
          1532,
          1532,
          1532,
          1533,
          1533,
          1533,
          1533,
          1533,
          1533
         ],
         "yaxis": "y"
        },
        {
         "marker": {
          "color": "#00CC96"
         },
         "name": "TC1",
         "showlegend": true,
         "type": "bar",
         "x": [
          42,
          43
         ],
         "xaxis": "x",
         "y": [
          1533,
          1533
         ],
         "yaxis": "y"
        },
        {
         "marker": {
          "color": "#AB63FA"
         },
         "name": "ROI",
         "showlegend": true,
         "type": "bar",
         "x": [
          44,
          45,
          46,
          47,
          48,
          49,
          50,
          51,
          52,
          53,
          54,
          55,
          56,
          57,
          58,
          59,
          60,
          61,
          62,
          63,
          64,
          65
         ],
         "xaxis": "x",
         "y": [
          1533,
          1533,
          1533,
          1533,
          1533,
          1533,
          1533,
          1533,
          1533,
          1533,
          1533,
          1533,
          1533,
          1533,
          1533,
          1533,
          1533,
          1533,
          1533,
          1533,
          1533,
          1533
         ],
         "yaxis": "y"
        },
        {
         "marker": {
          "color": "#FFA15A"
         },
         "name": "TC2",
         "showlegend": true,
         "type": "bar",
         "x": [
          66,
          67
         ],
         "xaxis": "x",
         "y": [
          1533,
          1533
         ],
         "yaxis": "y"
        },
        {
         "marker": {
          "color": "#19D3F3"
         },
         "name": "LAH",
         "showlegend": true,
         "type": "bar",
         "x": [
          68,
          69,
          70,
          71,
          72,
          73,
          74,
          75,
          76,
          77,
          78,
          79,
          80,
          81,
          82,
          83,
          84,
          85
         ],
         "xaxis": "x",
         "y": [
          1533,
          1533,
          1533,
          1533,
          1533,
          1533,
          1533,
          1533,
          1533,
          1533,
          1533,
          1533,
          1533,
          1533,
          1533,
          1533,
          1533,
          1533
         ],
         "yaxis": "y"
        },
        {
         "marker": {
          "color": "#FF6692"
         },
         "name": "buffer",
         "showlegend": true,
         "type": "bar",
         "x": [
          86,
          87,
          88,
          89,
          90,
          91,
          92,
          93,
          94,
          95,
          96,
          97,
          98,
          99,
          100,
          101,
          102,
          103,
          104,
          105,
          106,
          107,
          108,
          109,
          110,
          111,
          112,
          113,
          114,
          115,
          116,
          117,
          118,
          119,
          120,
          121,
          122,
          123,
          124,
          125,
          126,
          127,
          128,
          129,
          130,
          131,
          132,
          133,
          134,
          135,
          136,
          137,
          138
         ],
         "xaxis": "x",
         "y": [
          1533,
          1533,
          1533,
          1533,
          1533,
          1533,
          1533,
          1533,
          1534,
          1534,
          1534,
          1534,
          1534,
          1534,
          1534,
          1534,
          1534,
          1534,
          1534,
          1534,
          1534,
          1534,
          1534,
          1534,
          1534,
          1534,
          1534,
          1534,
          1534,
          1534,
          1534,
          1534,
          1534,
          1534,
          1534,
          1534,
          1534,
          1534,
          1534,
          1534,
          1534,
          1534,
          1534,
          1534,
          1534,
          1534,
          1534,
          1534,
          1534,
          1534,
          1534,
          1534,
          1534
         ],
         "yaxis": "y"
        },
        {
         "marker": {
          "color": "#B6E880"
         },
         "name": "barcode",
         "showlegend": true,
         "type": "bar",
         "x": [
          139,
          140,
          141,
          142,
          143,
          144,
          145,
          146,
          147,
          148,
          149,
          150
         ],
         "xaxis": "x",
         "y": [
          1534,
          1534,
          1534,
          1534,
          1534,
          1534,
          1534,
          1534,
          1534,
          1534,
          1534,
          1534
         ],
         "yaxis": "y"
        }
       ],
       "layout": {
        "annotations": [
         {
          "font": {
           "size": 16
          },
          "showarrow": false,
          "text": "Read coverage per position - 3042-O-flank_1=hp1-DB",
          "x": 0.5,
          "xanchor": "center",
          "xref": "paper",
          "y": 1,
          "yanchor": "bottom",
          "yref": "paper"
         }
        ],
        "barmode": "stack",
        "height": 500,
        "template": {
         "data": {
          "bar": [
           {
            "error_x": {
             "color": "#2a3f5f"
            },
            "error_y": {
             "color": "#2a3f5f"
            },
            "marker": {
             "line": {
              "color": "#E5ECF6",
              "width": 0.5
             },
             "pattern": {
              "fillmode": "overlay",
              "size": 10,
              "solidity": 0.2
             }
            },
            "type": "bar"
           }
          ],
          "barpolar": [
           {
            "marker": {
             "line": {
              "color": "#E5ECF6",
              "width": 0.5
             },
             "pattern": {
              "fillmode": "overlay",
              "size": 10,
              "solidity": 0.2
             }
            },
            "type": "barpolar"
           }
          ],
          "carpet": [
           {
            "aaxis": {
             "endlinecolor": "#2a3f5f",
             "gridcolor": "white",
             "linecolor": "white",
             "minorgridcolor": "white",
             "startlinecolor": "#2a3f5f"
            },
            "baxis": {
             "endlinecolor": "#2a3f5f",
             "gridcolor": "white",
             "linecolor": "white",
             "minorgridcolor": "white",
             "startlinecolor": "#2a3f5f"
            },
            "type": "carpet"
           }
          ],
          "choropleth": [
           {
            "colorbar": {
             "outlinewidth": 0,
             "ticks": ""
            },
            "type": "choropleth"
           }
          ],
          "contour": [
           {
            "colorbar": {
             "outlinewidth": 0,
             "ticks": ""
            },
            "colorscale": [
             [
              0,
              "#0d0887"
             ],
             [
              0.1111111111111111,
              "#46039f"
             ],
             [
              0.2222222222222222,
              "#7201a8"
             ],
             [
              0.3333333333333333,
              "#9c179e"
             ],
             [
              0.4444444444444444,
              "#bd3786"
             ],
             [
              0.5555555555555556,
              "#d8576b"
             ],
             [
              0.6666666666666666,
              "#ed7953"
             ],
             [
              0.7777777777777778,
              "#fb9f3a"
             ],
             [
              0.8888888888888888,
              "#fdca26"
             ],
             [
              1,
              "#f0f921"
             ]
            ],
            "type": "contour"
           }
          ],
          "contourcarpet": [
           {
            "colorbar": {
             "outlinewidth": 0,
             "ticks": ""
            },
            "type": "contourcarpet"
           }
          ],
          "heatmap": [
           {
            "colorbar": {
             "outlinewidth": 0,
             "ticks": ""
            },
            "colorscale": [
             [
              0,
              "#0d0887"
             ],
             [
              0.1111111111111111,
              "#46039f"
             ],
             [
              0.2222222222222222,
              "#7201a8"
             ],
             [
              0.3333333333333333,
              "#9c179e"
             ],
             [
              0.4444444444444444,
              "#bd3786"
             ],
             [
              0.5555555555555556,
              "#d8576b"
             ],
             [
              0.6666666666666666,
              "#ed7953"
             ],
             [
              0.7777777777777778,
              "#fb9f3a"
             ],
             [
              0.8888888888888888,
              "#fdca26"
             ],
             [
              1,
              "#f0f921"
             ]
            ],
            "type": "heatmap"
           }
          ],
          "heatmapgl": [
           {
            "colorbar": {
             "outlinewidth": 0,
             "ticks": ""
            },
            "colorscale": [
             [
              0,
              "#0d0887"
             ],
             [
              0.1111111111111111,
              "#46039f"
             ],
             [
              0.2222222222222222,
              "#7201a8"
             ],
             [
              0.3333333333333333,
              "#9c179e"
             ],
             [
              0.4444444444444444,
              "#bd3786"
             ],
             [
              0.5555555555555556,
              "#d8576b"
             ],
             [
              0.6666666666666666,
              "#ed7953"
             ],
             [
              0.7777777777777778,
              "#fb9f3a"
             ],
             [
              0.8888888888888888,
              "#fdca26"
             ],
             [
              1,
              "#f0f921"
             ]
            ],
            "type": "heatmapgl"
           }
          ],
          "histogram": [
           {
            "marker": {
             "pattern": {
              "fillmode": "overlay",
              "size": 10,
              "solidity": 0.2
             }
            },
            "type": "histogram"
           }
          ],
          "histogram2d": [
           {
            "colorbar": {
             "outlinewidth": 0,
             "ticks": ""
            },
            "colorscale": [
             [
              0,
              "#0d0887"
             ],
             [
              0.1111111111111111,
              "#46039f"
             ],
             [
              0.2222222222222222,
              "#7201a8"
             ],
             [
              0.3333333333333333,
              "#9c179e"
             ],
             [
              0.4444444444444444,
              "#bd3786"
             ],
             [
              0.5555555555555556,
              "#d8576b"
             ],
             [
              0.6666666666666666,
              "#ed7953"
             ],
             [
              0.7777777777777778,
              "#fb9f3a"
             ],
             [
              0.8888888888888888,
              "#fdca26"
             ],
             [
              1,
              "#f0f921"
             ]
            ],
            "type": "histogram2d"
           }
          ],
          "histogram2dcontour": [
           {
            "colorbar": {
             "outlinewidth": 0,
             "ticks": ""
            },
            "colorscale": [
             [
              0,
              "#0d0887"
             ],
             [
              0.1111111111111111,
              "#46039f"
             ],
             [
              0.2222222222222222,
              "#7201a8"
             ],
             [
              0.3333333333333333,
              "#9c179e"
             ],
             [
              0.4444444444444444,
              "#bd3786"
             ],
             [
              0.5555555555555556,
              "#d8576b"
             ],
             [
              0.6666666666666666,
              "#ed7953"
             ],
             [
              0.7777777777777778,
              "#fb9f3a"
             ],
             [
              0.8888888888888888,
              "#fdca26"
             ],
             [
              1,
              "#f0f921"
             ]
            ],
            "type": "histogram2dcontour"
           }
          ],
          "mesh3d": [
           {
            "colorbar": {
             "outlinewidth": 0,
             "ticks": ""
            },
            "type": "mesh3d"
           }
          ],
          "parcoords": [
           {
            "line": {
             "colorbar": {
              "outlinewidth": 0,
              "ticks": ""
             }
            },
            "type": "parcoords"
           }
          ],
          "pie": [
           {
            "automargin": true,
            "type": "pie"
           }
          ],
          "scatter": [
           {
            "fillpattern": {
             "fillmode": "overlay",
             "size": 10,
             "solidity": 0.2
            },
            "type": "scatter"
           }
          ],
          "scatter3d": [
           {
            "line": {
             "colorbar": {
              "outlinewidth": 0,
              "ticks": ""
             }
            },
            "marker": {
             "colorbar": {
              "outlinewidth": 0,
              "ticks": ""
             }
            },
            "type": "scatter3d"
           }
          ],
          "scattercarpet": [
           {
            "marker": {
             "colorbar": {
              "outlinewidth": 0,
              "ticks": ""
             }
            },
            "type": "scattercarpet"
           }
          ],
          "scattergeo": [
           {
            "marker": {
             "colorbar": {
              "outlinewidth": 0,
              "ticks": ""
             }
            },
            "type": "scattergeo"
           }
          ],
          "scattergl": [
           {
            "marker": {
             "colorbar": {
              "outlinewidth": 0,
              "ticks": ""
             }
            },
            "type": "scattergl"
           }
          ],
          "scattermapbox": [
           {
            "marker": {
             "colorbar": {
              "outlinewidth": 0,
              "ticks": ""
             }
            },
            "type": "scattermapbox"
           }
          ],
          "scatterpolar": [
           {
            "marker": {
             "colorbar": {
              "outlinewidth": 0,
              "ticks": ""
             }
            },
            "type": "scatterpolar"
           }
          ],
          "scatterpolargl": [
           {
            "marker": {
             "colorbar": {
              "outlinewidth": 0,
              "ticks": ""
             }
            },
            "type": "scatterpolargl"
           }
          ],
          "scatterternary": [
           {
            "marker": {
             "colorbar": {
              "outlinewidth": 0,
              "ticks": ""
             }
            },
            "type": "scatterternary"
           }
          ],
          "surface": [
           {
            "colorbar": {
             "outlinewidth": 0,
             "ticks": ""
            },
            "colorscale": [
             [
              0,
              "#0d0887"
             ],
             [
              0.1111111111111111,
              "#46039f"
             ],
             [
              0.2222222222222222,
              "#7201a8"
             ],
             [
              0.3333333333333333,
              "#9c179e"
             ],
             [
              0.4444444444444444,
              "#bd3786"
             ],
             [
              0.5555555555555556,
              "#d8576b"
             ],
             [
              0.6666666666666666,
              "#ed7953"
             ],
             [
              0.7777777777777778,
              "#fb9f3a"
             ],
             [
              0.8888888888888888,
              "#fdca26"
             ],
             [
              1,
              "#f0f921"
             ]
            ],
            "type": "surface"
           }
          ],
          "table": [
           {
            "cells": {
             "fill": {
              "color": "#EBF0F8"
             },
             "line": {
              "color": "white"
             }
            },
            "header": {
             "fill": {
              "color": "#C8D4E3"
             },
             "line": {
              "color": "white"
             }
            },
            "type": "table"
           }
          ]
         },
         "layout": {
          "annotationdefaults": {
           "arrowcolor": "#2a3f5f",
           "arrowhead": 0,
           "arrowwidth": 1
          },
          "autotypenumbers": "strict",
          "coloraxis": {
           "colorbar": {
            "outlinewidth": 0,
            "ticks": ""
           }
          },
          "colorscale": {
           "diverging": [
            [
             0,
             "#8e0152"
            ],
            [
             0.1,
             "#c51b7d"
            ],
            [
             0.2,
             "#de77ae"
            ],
            [
             0.3,
             "#f1b6da"
            ],
            [
             0.4,
             "#fde0ef"
            ],
            [
             0.5,
             "#f7f7f7"
            ],
            [
             0.6,
             "#e6f5d0"
            ],
            [
             0.7,
             "#b8e186"
            ],
            [
             0.8,
             "#7fbc41"
            ],
            [
             0.9,
             "#4d9221"
            ],
            [
             1,
             "#276419"
            ]
           ],
           "sequential": [
            [
             0,
             "#0d0887"
            ],
            [
             0.1111111111111111,
             "#46039f"
            ],
            [
             0.2222222222222222,
             "#7201a8"
            ],
            [
             0.3333333333333333,
             "#9c179e"
            ],
            [
             0.4444444444444444,
             "#bd3786"
            ],
            [
             0.5555555555555556,
             "#d8576b"
            ],
            [
             0.6666666666666666,
             "#ed7953"
            ],
            [
             0.7777777777777778,
             "#fb9f3a"
            ],
            [
             0.8888888888888888,
             "#fdca26"
            ],
            [
             1,
             "#f0f921"
            ]
           ],
           "sequentialminus": [
            [
             0,
             "#0d0887"
            ],
            [
             0.1111111111111111,
             "#46039f"
            ],
            [
             0.2222222222222222,
             "#7201a8"
            ],
            [
             0.3333333333333333,
             "#9c179e"
            ],
            [
             0.4444444444444444,
             "#bd3786"
            ],
            [
             0.5555555555555556,
             "#d8576b"
            ],
            [
             0.6666666666666666,
             "#ed7953"
            ],
            [
             0.7777777777777778,
             "#fb9f3a"
            ],
            [
             0.8888888888888888,
             "#fdca26"
            ],
            [
             1,
             "#f0f921"
            ]
           ]
          },
          "colorway": [
           "#636efa",
           "#EF553B",
           "#00cc96",
           "#ab63fa",
           "#FFA15A",
           "#19d3f3",
           "#FF6692",
           "#B6E880",
           "#FF97FF",
           "#FECB52"
          ],
          "font": {
           "color": "#2a3f5f"
          },
          "geo": {
           "bgcolor": "white",
           "lakecolor": "white",
           "landcolor": "#E5ECF6",
           "showlakes": true,
           "showland": true,
           "subunitcolor": "white"
          },
          "hoverlabel": {
           "align": "left"
          },
          "hovermode": "closest",
          "mapbox": {
           "style": "light"
          },
          "paper_bgcolor": "white",
          "plot_bgcolor": "#E5ECF6",
          "polar": {
           "angularaxis": {
            "gridcolor": "white",
            "linecolor": "white",
            "ticks": ""
           },
           "bgcolor": "#E5ECF6",
           "radialaxis": {
            "gridcolor": "white",
            "linecolor": "white",
            "ticks": ""
           }
          },
          "scene": {
           "xaxis": {
            "backgroundcolor": "#E5ECF6",
            "gridcolor": "white",
            "gridwidth": 2,
            "linecolor": "white",
            "showbackground": true,
            "ticks": "",
            "zerolinecolor": "white"
           },
           "yaxis": {
            "backgroundcolor": "#E5ECF6",
            "gridcolor": "white",
            "gridwidth": 2,
            "linecolor": "white",
            "showbackground": true,
            "ticks": "",
            "zerolinecolor": "white"
           },
           "zaxis": {
            "backgroundcolor": "#E5ECF6",
            "gridcolor": "white",
            "gridwidth": 2,
            "linecolor": "white",
            "showbackground": true,
            "ticks": "",
            "zerolinecolor": "white"
           }
          },
          "shapedefaults": {
           "line": {
            "color": "#2a3f5f"
           }
          },
          "ternary": {
           "aaxis": {
            "gridcolor": "white",
            "linecolor": "white",
            "ticks": ""
           },
           "baxis": {
            "gridcolor": "white",
            "linecolor": "white",
            "ticks": ""
           },
           "bgcolor": "#E5ECF6",
           "caxis": {
            "gridcolor": "white",
            "linecolor": "white",
            "ticks": ""
           }
          },
          "title": {
           "x": 0.05
          },
          "xaxis": {
           "automargin": true,
           "gridcolor": "white",
           "linecolor": "white",
           "ticks": "",
           "title": {
            "standoff": 15
           },
           "zerolinecolor": "white",
           "zerolinewidth": 2
          },
          "yaxis": {
           "automargin": true,
           "gridcolor": "white",
           "linecolor": "white",
           "ticks": "",
           "title": {
            "standoff": 15
           },
           "zerolinecolor": "white",
           "zerolinewidth": 2
          }
         }
        },
        "width": 1300,
        "xaxis": {
         "anchor": "y",
         "domain": [
          0,
          1
         ]
        },
        "yaxis": {
         "anchor": "x",
         "domain": [
          0,
          1
         ],
         "title": {
          "text": "Read coverage"
         }
        }
       }
      }
     },
     "metadata": {},
     "output_type": "display_data"
    },
    {
     "data": {
      "application/vnd.plotly.v1+json": {
       "config": {
        "plotlyServerURL": "https://plot.ly"
       },
       "data": [
        {
         "error_y": {
          "array": [
           null,
           null,
           0.003051305432553596,
           0.003038947917588493,
           0.0024996720546867027,
           null,
           null,
           null,
           null,
           null,
           null,
           0.0024996720546867027,
           0.0024996720546867027,
           null,
           0.0024996720546867027,
           null,
           0.0024996720546867027,
           null,
           null,
           null,
           null,
           0.007551625160529103,
           null,
           0.00730326277395745,
           null,
           null,
           0.012213084939140986,
           null,
           null,
           0.016006182048800388,
           null,
           null,
           0.013678934682803706,
           null,
           null,
           null,
           0.005078817502668278,
           null,
           0.00704084969469663,
           null,
           null,
           null,
           null,
           null,
           0.01165307156506315,
           0.007096897229628361,
           null,
           0.006068429327565732,
           null,
           0.0043561026941486775,
           null,
           null,
           null,
           null,
           0.014758094906028932,
           0.012196237052118107,
           0.014453631976523093,
           null,
           0.005867368870281253,
           0.005303139945126658,
           null,
           0.005451822479356267,
           null,
           null,
           null,
           null,
           null,
           null,
           null,
           0.0056422858824298925,
           null,
           0.02266385054667508,
           null,
           null,
           null,
           null,
           0.01629878676474336,
           0.013448232490302275,
           0.013290408079103769,
           null,
           0.006257975344837793,
           null,
           null,
           null,
           null,
           null,
           null,
           null,
           null,
           null,
           null,
           null,
           null,
           null,
           null,
           null,
           null,
           null,
           null,
           null,
           null,
           null,
           null,
           null,
           null,
           null,
           null,
           null,
           null,
           null,
           null,
           null,
           null,
           null,
           null,
           null,
           null,
           null,
           null,
           null,
           null,
           null,
           null,
           null,
           null,
           null,
           null,
           null,
           null,
           null,
           null,
           null,
           null,
           null,
           null,
           null,
           null,
           null,
           null,
           null,
           null,
           0.011223330511275435,
           null,
           null,
           0.009540541287427328,
           null,
           null,
           0.00816128484433375,
           null,
           null,
           null,
           null,
           null,
           null,
           null,
           0.003052255757222401,
           null,
           null,
           null,
           null,
           null,
           null,
           null,
           null,
           null,
           null,
           null,
           null,
           null,
           0.0024996720546867027
          ],
          "arrayminus": [
           null,
           null,
           0.0005550227637037569,
           0.0005425757600036867,
           0,
           null,
           null,
           null,
           null,
           null,
           null,
           0,
           0,
           null,
           0,
           null,
           0,
           null,
           null,
           null,
           null,
           0.00513068293433647,
           null,
           0.0048758545631644445,
           null,
           null,
           0.009970127065185762,
           null,
           null,
           0.014004412151348025,
           null,
           null,
           0.011517190460559733,
           null,
           null,
           null,
           0.0026057553966675247,
           null,
           0.0046069152351364655,
           null,
           null,
           null,
           null,
           null,
           0.009382577039948235,
           0.004664330465000359,
           null,
           0.003612999256147818,
           null,
           0.0018728004630028168,
           null,
           null,
           null,
           null,
           0.012665384681555938,
           0.009952423685857234,
           0.012340593797140989,
           null,
           0.003408014106799172,
           0.0028337058588434215,
           null,
           0.0029849115263037257,
           null,
           null,
           null,
           null,
           null,
           null,
           null,
           0.003178745749690042,
           null,
           0.021489711183168086,
           null,
           null,
           null,
           null,
           0.014320241615133789,
           0.011272785681202553,
           0.011105791643498078,
           null,
           0.0038064069448117254,
           null,
           null,
           null,
           null,
           null,
           null,
           null,
           null,
           null,
           null,
           null,
           null,
           null,
           null,
           null,
           null,
           null,
           null,
           null,
           null,
           null,
           null,
           null,
           null,
           null,
           null,
           null,
           null,
           null,
           null,
           null,
           null,
           null,
           null,
           null,
           null,
           null,
           null,
           null,
           null,
           null,
           null,
           null,
           null,
           null,
           null,
           null,
           null,
           null,
           null,
           null,
           null,
           null,
           null,
           null,
           null,
           null,
           null,
           null,
           null,
           0.008932933326283421,
           null,
           null,
           0.00718188498330723,
           null,
           null,
           0.005757424997081992,
           null,
           null,
           null,
           null,
           null,
           null,
           null,
           0.0005559799960882615,
           null,
           null,
           null,
           null,
           null,
           null,
           null,
           null,
           null,
           null,
           null,
           null,
           null,
           0
          ],
          "symmetric": false,
          "type": "data"
         },
         "marker": {
          "color": "red"
         },
         "name": "A",
         "showlegend": true,
         "type": "bar",
         "x": [
          0,
          1,
          2,
          3,
          4,
          5,
          6,
          7,
          8,
          9,
          10,
          11,
          12,
          13,
          14,
          15,
          16,
          17,
          18,
          19,
          20,
          21,
          22,
          23,
          24,
          25,
          26,
          27,
          28,
          29,
          30,
          31,
          32,
          33,
          34,
          35,
          36,
          37,
          38,
          39,
          40,
          41,
          42,
          43,
          44,
          45,
          46,
          47,
          48,
          49,
          50,
          51,
          52,
          53,
          54,
          55,
          56,
          57,
          58,
          59,
          60,
          61,
          62,
          63,
          64,
          65,
          66,
          67,
          68,
          69,
          70,
          71,
          72,
          73,
          74,
          75,
          76,
          77,
          78,
          79,
          80,
          81,
          82,
          83,
          84,
          85,
          86,
          87,
          88,
          89,
          90,
          91,
          92,
          93,
          94,
          95,
          96,
          97,
          98,
          99,
          100,
          101,
          102,
          103,
          104,
          105,
          106,
          107,
          108,
          109,
          110,
          111,
          112,
          113,
          114,
          115,
          116,
          117,
          118,
          119,
          120,
          121,
          122,
          123,
          124,
          125,
          126,
          127,
          128,
          129,
          130,
          131,
          132,
          133,
          134,
          135,
          136,
          137,
          138,
          139,
          140,
          141,
          142,
          143,
          144,
          145,
          146,
          147,
          148,
          149,
          150,
          151,
          152,
          153,
          154,
          155,
          156,
          157,
          158,
          159,
          160,
          161,
          162,
          163,
          164,
          165,
          166,
          167,
          168,
          169
         ],
         "xaxis": "x",
         "y": [
          null,
          null,
          0.0006779661016949153,
          0.0006600660066006601,
          0,
          null,
          null,
          null,
          null,
          null,
          null,
          0,
          0,
          null,
          0,
          null,
          0,
          null,
          null,
          null,
          null,
          0.015748031496062992,
          null,
          0.01445466491458607,
          null,
          null,
          0.051349572086899276,
          null,
          null,
          0.09959349593495935,
          null,
          null,
          0.06759443339960239,
          null,
          null,
          null,
          0.0053226879574184965,
          null,
          0.013149243918474688,
          null,
          null,
          null,
          null,
          null,
          0.045841519318926,
          0.013422818791946308,
          null,
          0.008849557522123894,
          null,
          0.0032743942370661427,
          null,
          null,
          null,
          null,
          0.0814030443414957,
          0.05117845117845118,
          0.0773369199731002,
          null,
          0.008064516129032258,
          0.006048387096774193,
          null,
          0.00655307994757536,
          null,
          null,
          null,
          null,
          null,
          null,
          null,
          0.007227332457293035,
          null,
          0.2651413189771198,
          null,
          null,
          null,
          null,
          0.10423905489923559,
          0.06485355648535565,
          0.06301939058171745,
          null,
          0.009621993127147767,
          null,
          null,
          null,
          null,
          null,
          null,
          null,
          null,
          null,
          null,
          null,
          null,
          null,
          null,
          null,
          null,
          null,
          null,
          null,
          null,
          null,
          null,
          null,
          null,
          null,
          null,
          null,
          null,
          null,
          null,
          null,
          null,
          null,
          null,
          null,
          null,
          null,
          null,
          null,
          null,
          null,
          null,
          null,
          null,
          null,
          null,
          null,
          null,
          null,
          null,
          null,
          null,
          null,
          null,
          null,
          null,
          null,
          null,
          null,
          null,
          0.04186046511627907,
          null,
          null,
          0.028206850235057087,
          null,
          null,
          0.019164955509924708,
          null,
          null,
          null,
          null,
          null,
          null,
          null,
          0.0006793478260869565,
          null,
          null,
          null,
          null,
          null,
          null,
          null,
          null,
          null,
          null,
          null,
          null,
          null,
          0
         ],
         "yaxis": "y"
        },
        {
         "error_y": {
          "array": [
           null,
           null,
           null,
           null,
           null,
           0.0024996720546867027,
           0.0024996720546867027,
           null,
           null,
           0.0024996720546867027,
           0.0024996720546867027,
           null,
           null,
           0.0024996720546867027,
           null,
           null,
           null,
           0.0024996720546867027,
           0.0024996720546867027,
           null,
           0.005463049168774782,
           null,
           null,
           null,
           null,
           null,
           null,
           null,
           null,
           null,
           null,
           0.016486876256632033,
           null,
           0.007787119766368974,
           0.004608439833787948,
           0.004844840820184191,
           null,
           null,
           null,
           null,
           null,
           0.0064611214389759045,
           null,
           0.015087316384921404,
           null,
           null,
           null,
           null,
           null,
           null,
           null,
           null,
           0.0046065550098694785,
           null,
           null,
           null,
           null,
           null,
           null,
           null,
           null,
           null,
           null,
           0.003036544313293475,
           null,
           null,
           null,
           0.015590687129497377,
           0.0058350900483306704,
           null,
           0.0030410692760062833,
           null,
           null,
           null,
           0.005289791559443733,
           null,
           null,
           null,
           null,
           null,
           null,
           0.0046236586190179655,
           null,
           null,
           null,
           null,
           null,
           0.0113693128368351,
           null,
           0.013058630487817045,
           null,
           0.013899389333432002,
           null,
           0.012138956111402331,
           null,
           null,
           0.006031183867231468,
           0.009045767812646412,
           null,
           null,
           null,
           null,
           null,
           0.0086505471019225,
           null,
           0.00901715211343495,
           null,
           null,
           0.01080009350588218,
           0.010737068628034523,
           null,
           0.010649240266907271,
           null,
           null,
           null,
           0.010783539296653634,
           null,
           0.010728704436895421,
           null,
           null,
           null,
           0.008717311407864997,
           null,
           0.008035241368252545,
           null,
           null,
           null,
           0.009475758423330892,
           null,
           0.012379792705313766,
           null,
           null,
           0.007512502236418653,
           null,
           0.013339611477413901,
           null,
           null,
           0.008727315764125755,
           null,
           null,
           null,
           null,
           null,
           null,
           null,
           0.01095935322358655,
           null,
           null,
           null,
           null,
           null,
           0.004621742519767971,
           null,
           0.0024996720546867027,
           null,
           null,
           0.0024996720546867027,
           null,
           0.0024996720546867027,
           null,
           null,
           null,
           0.0024996720546867027,
           0.0024996720546867027,
           null,
           null,
           null,
           0.0030413737273240794,
           null,
           null
          ],
          "arrayminus": [
           null,
           null,
           null,
           null,
           null,
           0,
           0,
           null,
           null,
           0,
           0,
           null,
           null,
           0,
           null,
           null,
           null,
           0,
           0,
           null,
           0.0029963325795420875,
           null,
           null,
           null,
           null,
           null,
           null,
           null,
           null,
           null,
           null,
           0.014523671015525208,
           null,
           0.005372570794094655,
           0.002128463159702847,
           0.0023682223944603426,
           null,
           null,
           null,
           null,
           null,
           0.004013867146903859,
           null,
           0.01301737797743148,
           null,
           null,
           null,
           null,
           null,
           null,
           null,
           null,
           0.00212655250577703,
           null,
           null,
           null,
           null,
           null,
           null,
           null,
           null,
           null,
           null,
           0.0005401548220403725,
           null,
           null,
           null,
           0.013557223751676839,
           0.003375121586835548,
           null,
           0.0005447124362462201,
           null,
           null,
           null,
           0.0028201355801301827,
           null,
           null,
           null,
           null,
           null,
           null,
           0.002143891053154247,
           null,
           null,
           null,
           null,
           null,
           0.009085559298500058,
           null,
           0.010860843180278953,
           null,
           0.01175107680450447,
           null,
           0.009892246874500153,
           null,
           null,
           0.0035750134681149463,
           0.006669825344613099,
           null,
           null,
           null,
           null,
           null,
           0.006261663836363184,
           null,
           0.006640247035513212,
           null,
           null,
           0.008491103785464218,
           0.00842539419305962,
           null,
           0.008333860387834194,
           null,
           null,
           null,
           0.008473842318123113,
           null,
           0.008416675324651682,
           null,
           null,
           null,
           0.006330560883369484,
           null,
           0.0056277073961276715,
           null,
           null,
           null,
           0.007114769121339931,
           null,
           0.01014539197071624,
           null,
           null,
           0.00509052269153978,
           null,
           0.011157836136509301,
           null,
           null,
           0.00634088668060407,
           null,
           null,
           null,
           null,
           null,
           null,
           null,
           0.008657243997066633,
           null,
           null,
           null,
           null,
           null,
           0.0021419485728720157,
           null,
           0,
           null,
           null,
           0,
           null,
           0,
           null,
           null,
           null,
           0,
           0,
           null,
           null,
           null,
           0.0005450190874412076,
           null,
           null
          ],
          "symmetric": false,
          "type": "data"
         },
         "marker": {
          "color": "blue"
         },
         "name": "C",
         "showlegend": true,
         "type": "bar",
         "x": [
          0,
          1,
          2,
          3,
          4,
          5,
          6,
          7,
          8,
          9,
          10,
          11,
          12,
          13,
          14,
          15,
          16,
          17,
          18,
          19,
          20,
          21,
          22,
          23,
          24,
          25,
          26,
          27,
          28,
          29,
          30,
          31,
          32,
          33,
          34,
          35,
          36,
          37,
          38,
          39,
          40,
          41,
          42,
          43,
          44,
          45,
          46,
          47,
          48,
          49,
          50,
          51,
          52,
          53,
          54,
          55,
          56,
          57,
          58,
          59,
          60,
          61,
          62,
          63,
          64,
          65,
          66,
          67,
          68,
          69,
          70,
          71,
          72,
          73,
          74,
          75,
          76,
          77,
          78,
          79,
          80,
          81,
          82,
          83,
          84,
          85,
          86,
          87,
          88,
          89,
          90,
          91,
          92,
          93,
          94,
          95,
          96,
          97,
          98,
          99,
          100,
          101,
          102,
          103,
          104,
          105,
          106,
          107,
          108,
          109,
          110,
          111,
          112,
          113,
          114,
          115,
          116,
          117,
          118,
          119,
          120,
          121,
          122,
          123,
          124,
          125,
          126,
          127,
          128,
          129,
          130,
          131,
          132,
          133,
          134,
          135,
          136,
          137,
          138,
          139,
          140,
          141,
          142,
          143,
          144,
          145,
          146,
          147,
          148,
          149,
          150,
          151,
          152,
          153,
          154,
          155,
          156,
          157,
          158,
          159,
          160,
          161,
          162,
          163,
          164,
          165,
          166,
          167,
          168,
          169
         ],
         "xaxis": "x",
         "y": [
          null,
          null,
          null,
          null,
          null,
          0,
          0,
          null,
          null,
          0,
          0,
          null,
          null,
          0,
          null,
          null,
          null,
          0,
          0,
          null,
          0.0065919578114700065,
          null,
          null,
          null,
          null,
          null,
          null,
          null,
          null,
          null,
          null,
          0.10730743910467412,
          null,
          0.017026850032743943,
          0.003939592908732764,
          0.00461133069828722,
          null,
          null,
          null,
          null,
          null,
          0.010484927916120577,
          null,
          0.08595800524934383,
          null,
          null,
          null,
          null,
          null,
          null,
          null,
          null,
          0.003934426229508197,
          null,
          null,
          null,
          null,
          null,
          null,
          null,
          null,
          null,
          null,
          0.0006565988181221273,
          null,
          null,
          null,
          0.09325396825396826,
          0.007941760423560556,
          null,
          0.000663129973474801,
          null,
          null,
          null,
          0.00600400266844563,
          null,
          null,
          null,
          null,
          null,
          null,
          0.003981420039814201,
          null,
          null,
          null,
          null,
          null,
          0.04318936877076412,
          null,
          0.06038487060384871,
          null,
          0.07028112449799197,
          null,
          0.05059920106524634,
          null,
          null,
          0.008701472556894244,
          0.024749163879598662,
          null,
          null,
          null,
          null,
          null,
          0.0221606648199446,
          null,
          0.02455661664392906,
          null,
          null,
          0.03814147018030513,
          0.037604456824512536,
          null,
          0.03686327077747989,
          null,
          null,
          null,
          0.038,
          null,
          0.03753351206434316,
          null,
          null,
          null,
          0.022587268993839837,
          null,
          0.018430034129692834,
          null,
          null,
          null,
          0.02774018944519621,
          null,
          0.053061224489795916,
          null,
          null,
          0.015540540540540541,
          null,
          0.06358768406961178,
          null,
          null,
          0.022651565622918056,
          null,
          null,
          null,
          null,
          null,
          null,
          null,
          0.03951774949765573,
          null,
          null,
          null,
          null,
          null,
          0.003976143141153081,
          null,
          0,
          null,
          null,
          0,
          null,
          0,
          null,
          null,
          null,
          0,
          0,
          null,
          null,
          null,
          0.0006635700066357001,
          null,
          null
         ],
         "yaxis": "y"
        },
        {
         "error_y": {
          "array": [
           null,
           null,
           null,
           null,
           null,
           null,
           null,
           0.0024996720546867027,
           0.0024996720546867027,
           null,
           null,
           null,
           null,
           null,
           null,
           null,
           null,
           null,
           null,
           0.0046430400787106346,
           null,
           null,
           null,
           null,
           null,
           0.004838662800313167,
           null,
           0.004087450358898197,
           0.0043637647461130715,
           null,
           null,
           null,
           null,
           null,
           null,
           null,
           null,
           null,
           null,
           null,
           0.004362909883209304,
           null,
           null,
           null,
           null,
           null,
           0.004411282715247647,
           null,
           null,
           null,
           null,
           null,
           null,
           0.004121075915326517,
           null,
           null,
           null,
           0.0024996720546867027,
           null,
           null,
           null,
           null,
           null,
           null,
           null,
           null,
           null,
           null,
           null,
           null,
           null,
           null,
           0.00530680671382754,
           null,
           null,
           0.004642061372993209,
           null,
           null,
           null,
           0.0024996720546867027,
           null,
           null,
           null,
           0.0038104090479100725,
           null,
           0.004895663823039374,
           null,
           null,
           null,
           null,
           null,
           null,
           null,
           null,
           null,
           null,
           null,
           null,
           null,
           null,
           null,
           null,
           null,
           null,
           null,
           null,
           null,
           null,
           null,
           null,
           null,
           null,
           null,
           null,
           null,
           null,
           null,
           null,
           null,
           null,
           null,
           null,
           null,
           null,
           null,
           null,
           null,
           null,
           null,
           null,
           null,
           null,
           null,
           null,
           null,
           null,
           null,
           null,
           null,
           0.00438017714869492,
           null,
           null,
           null,
           null,
           null,
           null,
           0.0041117492203241275,
           null,
           0.0034585750556599786,
           null,
           null,
           null,
           0.0024996720546867027,
           null,
           null,
           null,
           null,
           null,
           null,
           0.0024996720546867027,
           null,
           null,
           null,
           null,
           null,
           null,
           null,
           null,
           0.0024996720546867027,
           null
          ],
          "arrayminus": [
           null,
           null,
           null,
           null,
           null,
           null,
           null,
           0,
           0,
           null,
           null,
           null,
           null,
           null,
           null,
           null,
           null,
           null,
           null,
           0.0021635402262137355,
           null,
           null,
           null,
           null,
           null,
           0.0023619536122705662,
           null,
           0.001600899942293839,
           0.0018805595692569792,
           null,
           null,
           null,
           null,
           null,
           null,
           null,
           null,
           null,
           null,
           null,
           0.001879693865748978,
           null,
           null,
           null,
           null,
           null,
           0.001928684923229569,
           null,
           null,
           null,
           null,
           null,
           null,
           0.001634915601475958,
           null,
           null,
           null,
           0,
           null,
           null,
           null,
           null,
           null,
           null,
           null,
           null,
           null,
           null,
           null,
           null,
           null,
           null,
           0.002837433714349159,
           null,
           null,
           0.002162547963908818,
           null,
           null,
           null,
           0,
           null,
           null,
           null,
           0.0013208230943182713,
           null,
           0.002419798168873497,
           null,
           null,
           null,
           null,
           null,
           null,
           null,
           null,
           null,
           null,
           null,
           null,
           null,
           null,
           null,
           null,
           null,
           null,
           null,
           null,
           null,
           null,
           null,
           null,
           null,
           null,
           null,
           null,
           null,
           null,
           null,
           null,
           null,
           null,
           null,
           null,
           null,
           null,
           null,
           null,
           null,
           null,
           null,
           null,
           null,
           null,
           null,
           null,
           null,
           null,
           null,
           null,
           null,
           0.0018971806914377472,
           null,
           null,
           null,
           null,
           null,
           null,
           0.0016254802329547784,
           null,
           0.0009655910867383229,
           null,
           null,
           null,
           0,
           null,
           null,
           null,
           null,
           null,
           null,
           0,
           null,
           null,
           null,
           null,
           null,
           null,
           null,
           null,
           0,
           null
          ],
          "symmetric": false,
          "type": "data"
         },
         "marker": {
          "color": "yellow"
         },
         "name": "G",
         "showlegend": true,
         "type": "bar",
         "x": [
          0,
          1,
          2,
          3,
          4,
          5,
          6,
          7,
          8,
          9,
          10,
          11,
          12,
          13,
          14,
          15,
          16,
          17,
          18,
          19,
          20,
          21,
          22,
          23,
          24,
          25,
          26,
          27,
          28,
          29,
          30,
          31,
          32,
          33,
          34,
          35,
          36,
          37,
          38,
          39,
          40,
          41,
          42,
          43,
          44,
          45,
          46,
          47,
          48,
          49,
          50,
          51,
          52,
          53,
          54,
          55,
          56,
          57,
          58,
          59,
          60,
          61,
          62,
          63,
          64,
          65,
          66,
          67,
          68,
          69,
          70,
          71,
          72,
          73,
          74,
          75,
          76,
          77,
          78,
          79,
          80,
          81,
          82,
          83,
          84,
          85,
          86,
          87,
          88,
          89,
          90,
          91,
          92,
          93,
          94,
          95,
          96,
          97,
          98,
          99,
          100,
          101,
          102,
          103,
          104,
          105,
          106,
          107,
          108,
          109,
          110,
          111,
          112,
          113,
          114,
          115,
          116,
          117,
          118,
          119,
          120,
          121,
          122,
          123,
          124,
          125,
          126,
          127,
          128,
          129,
          130,
          131,
          132,
          133,
          134,
          135,
          136,
          137,
          138,
          139,
          140,
          141,
          142,
          143,
          144,
          145,
          146,
          147,
          148,
          149,
          150,
          151,
          152,
          153,
          154,
          155,
          156,
          157,
          158,
          159,
          160,
          161,
          162,
          163,
          164,
          165,
          166,
          167,
          168,
          169
         ],
         "xaxis": "x",
         "y": [
          null,
          null,
          null,
          null,
          null,
          null,
          null,
          0,
          0,
          null,
          null,
          null,
          null,
          null,
          null,
          null,
          null,
          null,
          null,
          0.004034969737726967,
          null,
          null,
          null,
          null,
          null,
          0.004593175853018373,
          null,
          0.0026246719160104987,
          0.0032938076416337285,
          null,
          null,
          null,
          null,
          null,
          null,
          null,
          null,
          null,
          null,
          null,
          0.0032916392363396972,
          null,
          null,
          null,
          null,
          null,
          0.0034153005464480873,
          null,
          null,
          null,
          null,
          null,
          null,
          0.002702702702702703,
          null,
          null,
          null,
          0,
          null,
          null,
          null,
          null,
          null,
          null,
          null,
          null,
          null,
          null,
          null,
          null,
          null,
          null,
          0.006060606060606061,
          null,
          null,
          0.004032258064516129,
          null,
          null,
          null,
          0,
          null,
          null,
          null,
          0.0020174848688634837,
          null,
          0.004761904761904762,
          null,
          null,
          null,
          null,
          null,
          null,
          null,
          null,
          null,
          null,
          null,
          null,
          null,
          null,
          null,
          null,
          null,
          null,
          null,
          null,
          null,
          null,
          null,
          null,
          null,
          null,
          null,
          null,
          null,
          null,
          null,
          null,
          null,
          null,
          null,
          null,
          null,
          null,
          null,
          null,
          null,
          null,
          null,
          null,
          null,
          null,
          null,
          null,
          null,
          null,
          null,
          null,
          null,
          0.00333555703802535,
          null,
          null,
          null,
          null,
          null,
          null,
          0.002680965147453083,
          null,
          0.0013377926421404682,
          null,
          null,
          null,
          0,
          null,
          null,
          null,
          null,
          null,
          null,
          0,
          null,
          null,
          null,
          null,
          null,
          null,
          null,
          null,
          0,
          null
         ],
         "yaxis": "y"
        },
        {
         "error_y": {
          "array": [
           0.0024996720546867027,
           0.0024996720546867027,
           null,
           null,
           null,
           null,
           null,
           null,
           null,
           null,
           null,
           null,
           null,
           null,
           null,
           0.0024996720546867027,
           null,
           null,
           null,
           null,
           null,
           null,
           0.0024996720546867027,
           null,
           0.003443798162743013,
           null,
           null,
           null,
           null,
           null,
           0.0034540907339012843,
           null,
           null,
           null,
           null,
           null,
           null,
           0.0024996720546867027,
           null,
           0.0030341626044694636,
           null,
           null,
           0.0024996720546867027,
           null,
           null,
           null,
           null,
           null,
           0.0024996720546867027,
           null,
           0.004087450358898197,
           0.0037867144645170594,
           null,
           null,
           null,
           null,
           null,
           null,
           null,
           null,
           0.0024996720546867027,
           null,
           0.00378797143747243,
           null,
           0.0034467148238444653,
           0.00303804398055558,
           0.003036245408574509,
           null,
           null,
           null,
           null,
           null,
           null,
           0.0024996720546867027,
           null,
           null,
           null,
           null,
           null,
           null,
           null,
           null,
           0.003038344946963991,
           null,
           0.0037911255768135785,
           null,
           0.0024996720546867027,
           null,
           0.0024996720546867027,
           null,
           0.0024996720546867027,
           null,
           0.00409269606987715,
           null,
           0.0024996720546867027,
           0.004103303805014795,
           null,
           null,
           0.0030484745075925507,
           0.0024996720546867027,
           0.0034610857127861635,
           0.0030500435465107096,
           0.0038123719453796996,
           null,
           0.0024996720546867027,
           null,
           0.0024996720546867027,
           0.0038126997174314156,
           null,
           null,
           0.004102540908753361,
           null,
           0.0024996720546867027,
           0.0030453638449032963,
           0.0024996720546867027,
           null,
           0.0024996720546867027,
           null,
           0.0024996720546867027,
           0.004269388577457532,
           0.00310833852409189,
           null,
           0.0024996720546867027,
           null,
           0.0031643215025117933,
           0.0031718419578425617,
           0.0024996720546867027,
           null,
           0.00410713041702003,
           null,
           0.003644107818042486,
           0.003644107818042486,
           null,
           0.0038052057509821466,
           null,
           0.0038097561678850783,
           0.0030432078467817433,
           null,
           0.003042901274744157,
           null,
           0.0030416785305307737,
           null,
           0.003455083403108775,
           0.003452605823261645,
           null,
           null,
           null,
           null,
           null,
           0.0037942965533948967,
           0.0034656402232803255,
           null,
           null,
           null,
           0.0024996720546867027,
           null,
           null,
           0.0024996720546867027,
           null,
           null,
           0.0030398549772012477,
           0.0024996720546867027,
           null,
           null,
           0.0024996720546867027,
           0.0024996720546867027,
           0.0024996720546867027,
           null,
           null,
           null
          ],
          "arrayminus": [
           0,
           0,
           null,
           null,
           null,
           null,
           null,
           null,
           null,
           null,
           null,
           null,
           null,
           null,
           null,
           0,
           null,
           null,
           null,
           null,
           null,
           null,
           0,
           null,
           0.000950682624921061,
           null,
           null,
           null,
           null,
           null,
           0.0009610667431898125,
           null,
           null,
           null,
           null,
           null,
           null,
           0,
           null,
           0.0005377559606967867,
           null,
           null,
           0,
           null,
           null,
           null,
           null,
           null,
           0,
           null,
           0.001600899942293839,
           0.001296883638392114,
           null,
           null,
           null,
           null,
           null,
           null,
           null,
           null,
           0,
           null,
           0.0012981535433166855,
           null,
           0.0009536251840483135,
           0.0005416653014349991,
           0.0005398537634083924,
           null,
           null,
           null,
           null,
           null,
           null,
           0,
           null,
           null,
           null,
           null,
           null,
           null,
           null,
           null,
           0.0005419684388226888,
           null,
           0.0013013401617630793,
           null,
           0,
           null,
           0,
           null,
           0,
           null,
           0.001606206201372051,
           null,
           0,
           0.0016169367246710675,
           null,
           null,
           0.0005521712831682288,
           0,
           0.0009681241871053306,
           0.0005537517109648946,
           0.0013228063814801402,
           null,
           0,
           null,
           0,
           0.0013231375598314122,
           null,
           null,
           0.0016161649820171198,
           null,
           0,
           0.0005490380714142997,
           0,
           null,
           0,
           null,
           0,
           0.0017850050368667715,
           0.0006124769450983073,
           null,
           0,
           null,
           0.0006688861801211694,
           0.0006764648723219873,
           0,
           null,
           0.0016208077458029473,
           null,
           0.0011528521675803172,
           0.0011528521675803172,
           null,
           0.0013155658249430153,
           null,
           0.0013201634359995312,
           0.0005468664677175408,
           null,
           0.0005465576781861983,
           null,
           0.0005453260934465757,
           null,
           0.0009620682646795606,
           0.0009595685981826051,
           null,
           null,
           null,
           null,
           null,
           0.0013045438322585362,
           0.0009727194773166114,
           null,
           null,
           null,
           0,
           null,
           null,
           0,
           null,
           null,
           0.0005434893670313261,
           0,
           null,
           null,
           0,
           0,
           0,
           null,
           null,
           null
          ],
          "symmetric": false,
          "type": "data"
         },
         "marker": {
          "color": "green"
         },
         "name": "T",
         "showlegend": true,
         "type": "bar",
         "x": [
          0,
          1,
          2,
          3,
          4,
          5,
          6,
          7,
          8,
          9,
          10,
          11,
          12,
          13,
          14,
          15,
          16,
          17,
          18,
          19,
          20,
          21,
          22,
          23,
          24,
          25,
          26,
          27,
          28,
          29,
          30,
          31,
          32,
          33,
          34,
          35,
          36,
          37,
          38,
          39,
          40,
          41,
          42,
          43,
          44,
          45,
          46,
          47,
          48,
          49,
          50,
          51,
          52,
          53,
          54,
          55,
          56,
          57,
          58,
          59,
          60,
          61,
          62,
          63,
          64,
          65,
          66,
          67,
          68,
          69,
          70,
          71,
          72,
          73,
          74,
          75,
          76,
          77,
          78,
          79,
          80,
          81,
          82,
          83,
          84,
          85,
          86,
          87,
          88,
          89,
          90,
          91,
          92,
          93,
          94,
          95,
          96,
          97,
          98,
          99,
          100,
          101,
          102,
          103,
          104,
          105,
          106,
          107,
          108,
          109,
          110,
          111,
          112,
          113,
          114,
          115,
          116,
          117,
          118,
          119,
          120,
          121,
          122,
          123,
          124,
          125,
          126,
          127,
          128,
          129,
          130,
          131,
          132,
          133,
          134,
          135,
          136,
          137,
          138,
          139,
          140,
          141,
          142,
          143,
          144,
          145,
          146,
          147,
          148,
          149,
          150,
          151,
          152,
          153,
          154,
          155,
          156,
          157,
          158,
          159,
          160,
          161,
          162,
          163,
          164,
          165,
          166,
          167,
          168,
          169
         ],
         "xaxis": "x",
         "y": [
          0,
          0,
          null,
          null,
          null,
          null,
          null,
          null,
          null,
          null,
          null,
          null,
          null,
          null,
          null,
          0,
          null,
          null,
          null,
          null,
          null,
          null,
          0,
          null,
          0.0013114754098360656,
          null,
          null,
          null,
          null,
          null,
          0.0013297872340425532,
          null,
          null,
          null,
          null,
          null,
          null,
          0,
          null,
          0.0006531678641410843,
          null,
          null,
          0,
          null,
          null,
          null,
          null,
          null,
          0,
          null,
          0.0026246719160104987,
          0.001968503937007874,
          null,
          null,
          null,
          null,
          null,
          null,
          null,
          null,
          0,
          null,
          0.0019710906701708277,
          null,
          0.0013166556945358788,
          0.0006587615283267457,
          0.0006561679790026247,
          null,
          null,
          null,
          null,
          null,
          null,
          0,
          null,
          null,
          null,
          null,
          null,
          null,
          null,
          null,
          0.0006591957811470006,
          null,
          0.001977587343441002,
          null,
          0,
          null,
          0,
          null,
          0,
          null,
          0.0026367831245880024,
          null,
          0,
          0.0026613439787092482,
          null,
          null,
          0.0006738544474393531,
          0,
          0.0013422818791946308,
          0.000676132521974307,
          0.0020215633423180594,
          null,
          0,
          null,
          0,
          0.0020222446916076846,
          null,
          null,
          0.0026595744680851063,
          null,
          0,
          0.0006693440428380187,
          0,
          null,
          0,
          null,
          0,
          0.0030581039755351682,
          0.0007621951219512195,
          null,
          0,
          null,
          0.000847457627118644,
          0.000859106529209622,
          0,
          null,
          0.0026702269692923898,
          null,
          0.0016835016835016834,
          0.0016835016835016834,
          null,
          0.002006688963210702,
          null,
          0.0020161290322580645,
          0.0006662225183211193,
          null,
          0.0006657789613848203,
          null,
          0.0006640106241699867,
          null,
          0.0013315579227696406,
          0.0013271400132714001,
          null,
          null,
          null,
          null,
          null,
          0.001984126984126984,
          0.0013504388926401081,
          null,
          null,
          null,
          0,
          null,
          null,
          0,
          null,
          null,
          0.0006613756613756613,
          0,
          null,
          null,
          0,
          0,
          0,
          null,
          null,
          null
         ],
         "yaxis": "y"
        }
       ],
       "layout": {
        "annotations": [
         {
          "font": {
           "size": 16
          },
          "showarrow": false,
          "text": "Mutation fraction at each position - 3042-O-flank_1=hp1-DB",
          "x": 0.5,
          "xanchor": "center",
          "xref": "paper",
          "y": 1,
          "yanchor": "bottom",
          "yref": "paper"
         }
        ],
        "barmode": "stack",
        "height": 500,
        "template": {
         "data": {
          "bar": [
           {
            "error_x": {
             "color": "#2a3f5f"
            },
            "error_y": {
             "color": "#2a3f5f"
            },
            "marker": {
             "line": {
              "color": "#E5ECF6",
              "width": 0.5
             },
             "pattern": {
              "fillmode": "overlay",
              "size": 10,
              "solidity": 0.2
             }
            },
            "type": "bar"
           }
          ],
          "barpolar": [
           {
            "marker": {
             "line": {
              "color": "#E5ECF6",
              "width": 0.5
             },
             "pattern": {
              "fillmode": "overlay",
              "size": 10,
              "solidity": 0.2
             }
            },
            "type": "barpolar"
           }
          ],
          "carpet": [
           {
            "aaxis": {
             "endlinecolor": "#2a3f5f",
             "gridcolor": "white",
             "linecolor": "white",
             "minorgridcolor": "white",
             "startlinecolor": "#2a3f5f"
            },
            "baxis": {
             "endlinecolor": "#2a3f5f",
             "gridcolor": "white",
             "linecolor": "white",
             "minorgridcolor": "white",
             "startlinecolor": "#2a3f5f"
            },
            "type": "carpet"
           }
          ],
          "choropleth": [
           {
            "colorbar": {
             "outlinewidth": 0,
             "ticks": ""
            },
            "type": "choropleth"
           }
          ],
          "contour": [
           {
            "colorbar": {
             "outlinewidth": 0,
             "ticks": ""
            },
            "colorscale": [
             [
              0,
              "#0d0887"
             ],
             [
              0.1111111111111111,
              "#46039f"
             ],
             [
              0.2222222222222222,
              "#7201a8"
             ],
             [
              0.3333333333333333,
              "#9c179e"
             ],
             [
              0.4444444444444444,
              "#bd3786"
             ],
             [
              0.5555555555555556,
              "#d8576b"
             ],
             [
              0.6666666666666666,
              "#ed7953"
             ],
             [
              0.7777777777777778,
              "#fb9f3a"
             ],
             [
              0.8888888888888888,
              "#fdca26"
             ],
             [
              1,
              "#f0f921"
             ]
            ],
            "type": "contour"
           }
          ],
          "contourcarpet": [
           {
            "colorbar": {
             "outlinewidth": 0,
             "ticks": ""
            },
            "type": "contourcarpet"
           }
          ],
          "heatmap": [
           {
            "colorbar": {
             "outlinewidth": 0,
             "ticks": ""
            },
            "colorscale": [
             [
              0,
              "#0d0887"
             ],
             [
              0.1111111111111111,
              "#46039f"
             ],
             [
              0.2222222222222222,
              "#7201a8"
             ],
             [
              0.3333333333333333,
              "#9c179e"
             ],
             [
              0.4444444444444444,
              "#bd3786"
             ],
             [
              0.5555555555555556,
              "#d8576b"
             ],
             [
              0.6666666666666666,
              "#ed7953"
             ],
             [
              0.7777777777777778,
              "#fb9f3a"
             ],
             [
              0.8888888888888888,
              "#fdca26"
             ],
             [
              1,
              "#f0f921"
             ]
            ],
            "type": "heatmap"
           }
          ],
          "heatmapgl": [
           {
            "colorbar": {
             "outlinewidth": 0,
             "ticks": ""
            },
            "colorscale": [
             [
              0,
              "#0d0887"
             ],
             [
              0.1111111111111111,
              "#46039f"
             ],
             [
              0.2222222222222222,
              "#7201a8"
             ],
             [
              0.3333333333333333,
              "#9c179e"
             ],
             [
              0.4444444444444444,
              "#bd3786"
             ],
             [
              0.5555555555555556,
              "#d8576b"
             ],
             [
              0.6666666666666666,
              "#ed7953"
             ],
             [
              0.7777777777777778,
              "#fb9f3a"
             ],
             [
              0.8888888888888888,
              "#fdca26"
             ],
             [
              1,
              "#f0f921"
             ]
            ],
            "type": "heatmapgl"
           }
          ],
          "histogram": [
           {
            "marker": {
             "pattern": {
              "fillmode": "overlay",
              "size": 10,
              "solidity": 0.2
             }
            },
            "type": "histogram"
           }
          ],
          "histogram2d": [
           {
            "colorbar": {
             "outlinewidth": 0,
             "ticks": ""
            },
            "colorscale": [
             [
              0,
              "#0d0887"
             ],
             [
              0.1111111111111111,
              "#46039f"
             ],
             [
              0.2222222222222222,
              "#7201a8"
             ],
             [
              0.3333333333333333,
              "#9c179e"
             ],
             [
              0.4444444444444444,
              "#bd3786"
             ],
             [
              0.5555555555555556,
              "#d8576b"
             ],
             [
              0.6666666666666666,
              "#ed7953"
             ],
             [
              0.7777777777777778,
              "#fb9f3a"
             ],
             [
              0.8888888888888888,
              "#fdca26"
             ],
             [
              1,
              "#f0f921"
             ]
            ],
            "type": "histogram2d"
           }
          ],
          "histogram2dcontour": [
           {
            "colorbar": {
             "outlinewidth": 0,
             "ticks": ""
            },
            "colorscale": [
             [
              0,
              "#0d0887"
             ],
             [
              0.1111111111111111,
              "#46039f"
             ],
             [
              0.2222222222222222,
              "#7201a8"
             ],
             [
              0.3333333333333333,
              "#9c179e"
             ],
             [
              0.4444444444444444,
              "#bd3786"
             ],
             [
              0.5555555555555556,
              "#d8576b"
             ],
             [
              0.6666666666666666,
              "#ed7953"
             ],
             [
              0.7777777777777778,
              "#fb9f3a"
             ],
             [
              0.8888888888888888,
              "#fdca26"
             ],
             [
              1,
              "#f0f921"
             ]
            ],
            "type": "histogram2dcontour"
           }
          ],
          "mesh3d": [
           {
            "colorbar": {
             "outlinewidth": 0,
             "ticks": ""
            },
            "type": "mesh3d"
           }
          ],
          "parcoords": [
           {
            "line": {
             "colorbar": {
              "outlinewidth": 0,
              "ticks": ""
             }
            },
            "type": "parcoords"
           }
          ],
          "pie": [
           {
            "automargin": true,
            "type": "pie"
           }
          ],
          "scatter": [
           {
            "fillpattern": {
             "fillmode": "overlay",
             "size": 10,
             "solidity": 0.2
            },
            "type": "scatter"
           }
          ],
          "scatter3d": [
           {
            "line": {
             "colorbar": {
              "outlinewidth": 0,
              "ticks": ""
             }
            },
            "marker": {
             "colorbar": {
              "outlinewidth": 0,
              "ticks": ""
             }
            },
            "type": "scatter3d"
           }
          ],
          "scattercarpet": [
           {
            "marker": {
             "colorbar": {
              "outlinewidth": 0,
              "ticks": ""
             }
            },
            "type": "scattercarpet"
           }
          ],
          "scattergeo": [
           {
            "marker": {
             "colorbar": {
              "outlinewidth": 0,
              "ticks": ""
             }
            },
            "type": "scattergeo"
           }
          ],
          "scattergl": [
           {
            "marker": {
             "colorbar": {
              "outlinewidth": 0,
              "ticks": ""
             }
            },
            "type": "scattergl"
           }
          ],
          "scattermapbox": [
           {
            "marker": {
             "colorbar": {
              "outlinewidth": 0,
              "ticks": ""
             }
            },
            "type": "scattermapbox"
           }
          ],
          "scatterpolar": [
           {
            "marker": {
             "colorbar": {
              "outlinewidth": 0,
              "ticks": ""
             }
            },
            "type": "scatterpolar"
           }
          ],
          "scatterpolargl": [
           {
            "marker": {
             "colorbar": {
              "outlinewidth": 0,
              "ticks": ""
             }
            },
            "type": "scatterpolargl"
           }
          ],
          "scatterternary": [
           {
            "marker": {
             "colorbar": {
              "outlinewidth": 0,
              "ticks": ""
             }
            },
            "type": "scatterternary"
           }
          ],
          "surface": [
           {
            "colorbar": {
             "outlinewidth": 0,
             "ticks": ""
            },
            "colorscale": [
             [
              0,
              "#0d0887"
             ],
             [
              0.1111111111111111,
              "#46039f"
             ],
             [
              0.2222222222222222,
              "#7201a8"
             ],
             [
              0.3333333333333333,
              "#9c179e"
             ],
             [
              0.4444444444444444,
              "#bd3786"
             ],
             [
              0.5555555555555556,
              "#d8576b"
             ],
             [
              0.6666666666666666,
              "#ed7953"
             ],
             [
              0.7777777777777778,
              "#fb9f3a"
             ],
             [
              0.8888888888888888,
              "#fdca26"
             ],
             [
              1,
              "#f0f921"
             ]
            ],
            "type": "surface"
           }
          ],
          "table": [
           {
            "cells": {
             "fill": {
              "color": "#EBF0F8"
             },
             "line": {
              "color": "white"
             }
            },
            "header": {
             "fill": {
              "color": "#C8D4E3"
             },
             "line": {
              "color": "white"
             }
            },
            "type": "table"
           }
          ]
         },
         "layout": {
          "annotationdefaults": {
           "arrowcolor": "#2a3f5f",
           "arrowhead": 0,
           "arrowwidth": 1
          },
          "autotypenumbers": "strict",
          "coloraxis": {
           "colorbar": {
            "outlinewidth": 0,
            "ticks": ""
           }
          },
          "colorscale": {
           "diverging": [
            [
             0,
             "#8e0152"
            ],
            [
             0.1,
             "#c51b7d"
            ],
            [
             0.2,
             "#de77ae"
            ],
            [
             0.3,
             "#f1b6da"
            ],
            [
             0.4,
             "#fde0ef"
            ],
            [
             0.5,
             "#f7f7f7"
            ],
            [
             0.6,
             "#e6f5d0"
            ],
            [
             0.7,
             "#b8e186"
            ],
            [
             0.8,
             "#7fbc41"
            ],
            [
             0.9,
             "#4d9221"
            ],
            [
             1,
             "#276419"
            ]
           ],
           "sequential": [
            [
             0,
             "#0d0887"
            ],
            [
             0.1111111111111111,
             "#46039f"
            ],
            [
             0.2222222222222222,
             "#7201a8"
            ],
            [
             0.3333333333333333,
             "#9c179e"
            ],
            [
             0.4444444444444444,
             "#bd3786"
            ],
            [
             0.5555555555555556,
             "#d8576b"
            ],
            [
             0.6666666666666666,
             "#ed7953"
            ],
            [
             0.7777777777777778,
             "#fb9f3a"
            ],
            [
             0.8888888888888888,
             "#fdca26"
            ],
            [
             1,
             "#f0f921"
            ]
           ],
           "sequentialminus": [
            [
             0,
             "#0d0887"
            ],
            [
             0.1111111111111111,
             "#46039f"
            ],
            [
             0.2222222222222222,
             "#7201a8"
            ],
            [
             0.3333333333333333,
             "#9c179e"
            ],
            [
             0.4444444444444444,
             "#bd3786"
            ],
            [
             0.5555555555555556,
             "#d8576b"
            ],
            [
             0.6666666666666666,
             "#ed7953"
            ],
            [
             0.7777777777777778,
             "#fb9f3a"
            ],
            [
             0.8888888888888888,
             "#fdca26"
            ],
            [
             1,
             "#f0f921"
            ]
           ]
          },
          "colorway": [
           "#636efa",
           "#EF553B",
           "#00cc96",
           "#ab63fa",
           "#FFA15A",
           "#19d3f3",
           "#FF6692",
           "#B6E880",
           "#FF97FF",
           "#FECB52"
          ],
          "font": {
           "color": "#2a3f5f"
          },
          "geo": {
           "bgcolor": "white",
           "lakecolor": "white",
           "landcolor": "#E5ECF6",
           "showlakes": true,
           "showland": true,
           "subunitcolor": "white"
          },
          "hoverlabel": {
           "align": "left"
          },
          "hovermode": "closest",
          "mapbox": {
           "style": "light"
          },
          "paper_bgcolor": "white",
          "plot_bgcolor": "#E5ECF6",
          "polar": {
           "angularaxis": {
            "gridcolor": "white",
            "linecolor": "white",
            "ticks": ""
           },
           "bgcolor": "#E5ECF6",
           "radialaxis": {
            "gridcolor": "white",
            "linecolor": "white",
            "ticks": ""
           }
          },
          "scene": {
           "xaxis": {
            "backgroundcolor": "#E5ECF6",
            "gridcolor": "white",
            "gridwidth": 2,
            "linecolor": "white",
            "showbackground": true,
            "ticks": "",
            "zerolinecolor": "white"
           },
           "yaxis": {
            "backgroundcolor": "#E5ECF6",
            "gridcolor": "white",
            "gridwidth": 2,
            "linecolor": "white",
            "showbackground": true,
            "ticks": "",
            "zerolinecolor": "white"
           },
           "zaxis": {
            "backgroundcolor": "#E5ECF6",
            "gridcolor": "white",
            "gridwidth": 2,
            "linecolor": "white",
            "showbackground": true,
            "ticks": "",
            "zerolinecolor": "white"
           }
          },
          "shapedefaults": {
           "line": {
            "color": "#2a3f5f"
           }
          },
          "ternary": {
           "aaxis": {
            "gridcolor": "white",
            "linecolor": "white",
            "ticks": ""
           },
           "baxis": {
            "gridcolor": "white",
            "linecolor": "white",
            "ticks": ""
           },
           "bgcolor": "#E5ECF6",
           "caxis": {
            "gridcolor": "white",
            "linecolor": "white",
            "ticks": ""
           }
          },
          "title": {
           "x": 0.05
          },
          "xaxis": {
           "automargin": true,
           "gridcolor": "white",
           "linecolor": "white",
           "ticks": "",
           "title": {
            "standoff": 15
           },
           "zerolinecolor": "white",
           "zerolinewidth": 2
          },
          "yaxis": {
           "automargin": true,
           "gridcolor": "white",
           "linecolor": "white",
           "ticks": "",
           "title": {
            "standoff": 15
           },
           "zerolinecolor": "white",
           "zerolinewidth": 2
          }
         }
        },
        "width": 1500,
        "xaxis": {
         "anchor": "y",
         "domain": [
          0,
          1
         ],
         "tickangle": 0,
         "tickfont": {
          "size": 8
         },
         "ticktext": [
          "T",
          "T",
          "A",
          "A",
          "A",
          "C",
          "C",
          "G",
          "G",
          "C",
          "C",
          "A",
          "A",
          "C",
          "A",
          "T",
          "A",
          "C",
          "C",
          "G",
          "C",
          "A",
          "T",
          "A",
          "T",
          "G",
          "A",
          "G",
          "G",
          "A",
          "T",
          "C",
          "A",
          "C",
          "C",
          "C",
          "A",
          "T",
          "A",
          "T",
          "G",
          "C",
          "T",
          "C",
          "A",
          "A",
          "G",
          "A",
          "T",
          "A",
          "T",
          "T",
          "C",
          "G",
          "A",
          "A",
          "A",
          "G",
          "A",
          "A",
          "T",
          "A",
          "T",
          "C",
          "T",
          "T",
          "T",
          "C",
          "C",
          "A",
          "C",
          "A",
          "G",
          "T",
          "C",
          "G",
          "A",
          "A",
          "A",
          "G",
          "A",
          "C",
          "T",
          "G",
          "T",
          "G",
          "T",
          "C",
          "T",
          "C",
          "T",
          "C",
          "T",
          "C",
          "T",
          "T",
          "C",
          "C",
          "T",
          "T",
          "T",
          "T",
          "T",
          "C",
          "T",
          "C",
          "T",
          "T",
          "C",
          "C",
          "T",
          "C",
          "T",
          "T",
          "T",
          "C",
          "T",
          "C",
          "T",
          "T",
          "T",
          "C",
          "T",
          "C",
          "T",
          "T",
          "T",
          "C",
          "T",
          "C",
          "T",
          "T",
          "C",
          "T",
          "C",
          "T",
          "T",
          "C",
          "T",
          "G",
          "T",
          "A",
          "T",
          "T",
          "A",
          "C",
          "G",
          "A",
          "G",
          "T",
          "T",
          "C",
          "G",
          "C",
          "T",
          "A",
          "C",
          "T",
          "C",
          "G",
          "T",
          "T",
          "C",
          "C",
          "T",
          "T",
          "T",
          "C",
          "G",
          "A"
         ],
         "tickvals": [
          0,
          1,
          2,
          3,
          4,
          5,
          6,
          7,
          8,
          9,
          10,
          11,
          12,
          13,
          14,
          15,
          16,
          17,
          18,
          19,
          20,
          21,
          22,
          23,
          24,
          25,
          26,
          27,
          28,
          29,
          30,
          31,
          32,
          33,
          34,
          35,
          36,
          37,
          38,
          39,
          40,
          41,
          42,
          43,
          44,
          45,
          46,
          47,
          48,
          49,
          50,
          51,
          52,
          53,
          54,
          55,
          56,
          57,
          58,
          59,
          60,
          61,
          62,
          63,
          64,
          65,
          66,
          67,
          68,
          69,
          70,
          71,
          72,
          73,
          74,
          75,
          76,
          77,
          78,
          79,
          80,
          81,
          82,
          83,
          84,
          85,
          86,
          87,
          88,
          89,
          90,
          91,
          92,
          93,
          94,
          95,
          96,
          97,
          98,
          99,
          100,
          101,
          102,
          103,
          104,
          105,
          106,
          107,
          108,
          109,
          110,
          111,
          112,
          113,
          114,
          115,
          116,
          117,
          118,
          119,
          120,
          121,
          122,
          123,
          124,
          125,
          126,
          127,
          128,
          129,
          130,
          131,
          132,
          133,
          134,
          135,
          136,
          137,
          138,
          139,
          140,
          141,
          142,
          143,
          144,
          145,
          146,
          147,
          148,
          149,
          150,
          151,
          152,
          153,
          154,
          155,
          156,
          157,
          158,
          159,
          160,
          161,
          162,
          163,
          164,
          165,
          166,
          167,
          168,
          169
         ]
        },
        "yaxis": {
         "anchor": "x",
         "domain": [
          0,
          1
         ],
         "title": {
          "text": "Mutation fraction"
         }
        }
       }
      }
     },
     "metadata": {},
     "output_type": "display_data"
    },
    {
     "data": {
      "application/vnd.plotly.v1+json": {
       "config": {
        "plotlyServerURL": "https://plot.ly"
       },
       "data": [
        {
         "marker": {
          "color": "red"
         },
         "name": "A",
         "showlegend": true,
         "type": "bar",
         "x": [
          0,
          1,
          2,
          3,
          4,
          5,
          6,
          7,
          8,
          9,
          10,
          11,
          12,
          13,
          14,
          15,
          16,
          17,
          18,
          19,
          20,
          21,
          22,
          23,
          24,
          25,
          26,
          27,
          28,
          29,
          30,
          31,
          32,
          33,
          34,
          35,
          36,
          37,
          38,
          39,
          40,
          41,
          42,
          43,
          44,
          45,
          46,
          47,
          48,
          49,
          50,
          51,
          52,
          53,
          54,
          55,
          56,
          57,
          58,
          59,
          60,
          61,
          62,
          63,
          64,
          65,
          66,
          67,
          68,
          69,
          70,
          71,
          72,
          73,
          74,
          75,
          76,
          77,
          78,
          79,
          80,
          81,
          82,
          83,
          84,
          85,
          86,
          87,
          88,
          89,
          90,
          91,
          92,
          93,
          94,
          95,
          96,
          97,
          98,
          99,
          100,
          101,
          102,
          103,
          104,
          105,
          106,
          107,
          108,
          109,
          110,
          111,
          112,
          113,
          114,
          115,
          116,
          117,
          118,
          119,
          120,
          121,
          122,
          123,
          124,
          125,
          126,
          127,
          128,
          129,
          130,
          131,
          132,
          133,
          134,
          135,
          136,
          137,
          138,
          139,
          140,
          141,
          142,
          143,
          144,
          145,
          146,
          147,
          148,
          149,
          150,
          151,
          152,
          153,
          154,
          155,
          156,
          157,
          158,
          159,
          160,
          161,
          162,
          163,
          164,
          165,
          166,
          167,
          168,
          169
         ],
         "xaxis": "x",
         "y": [
          0,
          0,
          0,
          0,
          0,
          0,
          0,
          0,
          0,
          0,
          0,
          0,
          0,
          0,
          0,
          0,
          0,
          0,
          0,
          0.0006724949562878278,
          0.003955174686882004,
          0,
          0,
          0,
          0.0006557377049180328,
          0.0013123359580052493,
          0,
          0.0013123359580052493,
          0.0006587615283267457,
          0,
          0,
          0.044107965766951945,
          0,
          0.009823182711198428,
          0.0026263952724885093,
          0.0006587615283267457,
          0,
          0,
          0,
          0,
          0.0006583278472679394,
          0.001965923984272608,
          0,
          0.04199475065616798,
          0,
          0,
          0,
          0,
          0,
          0,
          0,
          0.0006561679790026247,
          0.003278688524590164,
          0.002702702702702703,
          0,
          0,
          0,
          0,
          0,
          0,
          0,
          0,
          0,
          0,
          0.0006583278472679394,
          0,
          0.0006561679790026247,
          0.037698412698412696,
          0.0026472534745201853,
          0,
          0,
          0,
          0.00202020202020202,
          0,
          0,
          0.002688172043010753,
          0,
          0,
          0,
          0,
          0,
          0.0013271400132714001,
          0,
          0,
          0.0006591957811470006,
          0.0020408163265306124,
          0,
          0.015282392026578074,
          0,
          0.017252820172528202,
          0,
          0.020080321285140562,
          0.0006591957811470006,
          0.008655126498002663,
          0,
          0.001996007984031936,
          0.004685408299866131,
          0,
          0.0006738544474393531,
          0,
          0,
          0.000676132521974307,
          0.0020215633423180594,
          0.01038781163434903,
          0,
          0.0034106412005457027,
          0,
          0.0010111223458038423,
          0.014563106796116505,
          0.013231197771587743,
          0,
          0.006702412868632708,
          0,
          0.0006693440428380187,
          0,
          0.015333333333333332,
          0,
          0.003351206434316354,
          0,
          0.0015290519877675841,
          0,
          0.00889801505817933,
          0,
          0.0020477815699658703,
          0,
          0,
          0,
          0.012178619756427604,
          0.0006675567423230974,
          0.01292517006802721,
          0,
          0,
          0.008783783783783784,
          0.0013377926421404682,
          0.00535475234270415,
          0,
          0,
          0.010659560293137908,
          0.0006657789613848203,
          0.0020013342228152103,
          0.0006640106241699867,
          0,
          0.0006657789613848203,
          0.0013271400132714001,
          0,
          0.012056262558606833,
          0.0006702412868632708,
          0,
          0.0006688963210702341,
          0,
          0.0006752194463200541,
          0,
          0,
          0,
          0,
          0,
          0,
          0,
          0,
          0,
          0,
          0,
          0,
          0,
          0,
          0,
          0,
          0.0006635700066357001,
          0,
          0
         ],
         "yaxis": "y"
        },
        {
         "marker": {
          "color": "blue"
         },
         "name": "C",
         "showlegend": true,
         "type": "bar",
         "x": [
          0,
          1,
          2,
          3,
          4,
          5,
          6,
          7,
          8,
          9,
          10,
          11,
          12,
          13,
          14,
          15,
          16,
          17,
          18,
          19,
          20,
          21,
          22,
          23,
          24,
          25,
          26,
          27,
          28,
          29,
          30,
          31,
          32,
          33,
          34,
          35,
          36,
          37,
          38,
          39,
          40,
          41,
          42,
          43,
          44,
          45,
          46,
          47,
          48,
          49,
          50,
          51,
          52,
          53,
          54,
          55,
          56,
          57,
          58,
          59,
          60,
          61,
          62,
          63,
          64,
          65,
          66,
          67,
          68,
          69,
          70,
          71,
          72,
          73,
          74,
          75,
          76,
          77,
          78,
          79,
          80,
          81,
          82,
          83,
          84,
          85,
          86,
          87,
          88,
          89,
          90,
          91,
          92,
          93,
          94,
          95,
          96,
          97,
          98,
          99,
          100,
          101,
          102,
          103,
          104,
          105,
          106,
          107,
          108,
          109,
          110,
          111,
          112,
          113,
          114,
          115,
          116,
          117,
          118,
          119,
          120,
          121,
          122,
          123,
          124,
          125,
          126,
          127,
          128,
          129,
          130,
          131,
          132,
          133,
          134,
          135,
          136,
          137,
          138,
          139,
          140,
          141,
          142,
          143,
          144,
          145,
          146,
          147,
          148,
          149,
          150,
          151,
          152,
          153,
          154,
          155,
          156,
          157,
          158,
          159,
          160,
          161,
          162,
          163,
          164,
          165,
          166,
          167,
          168,
          169
         ],
         "xaxis": "x",
         "y": [
          0,
          0,
          0.0006779661016949153,
          0,
          0,
          0,
          0,
          0,
          0,
          0,
          0,
          0,
          0,
          0,
          0,
          0,
          0,
          0,
          0,
          0.0013449899125756557,
          0,
          0.009186351706036745,
          0,
          0,
          0,
          0,
          0.016458196181698487,
          0,
          0.0006587615283267457,
          0.014905149051490514,
          0.0013297872340425532,
          0,
          0.02253147779986746,
          0,
          0,
          0,
          0.0013306719893546241,
          0,
          0.0019723865877712033,
          0.0006531678641410843,
          0.0013166556945358788,
          0,
          0,
          0,
          0.0137524557956778,
          0.003355704697986577,
          0.001366120218579235,
          0.0013614703880190605,
          0,
          0.0006548788474132286,
          0.001968503937007874,
          0.0013123359580052493,
          0,
          0,
          0.004632693580410324,
          0.0047138047138047135,
          0.00941492938802959,
          0,
          0.002688172043010753,
          0.0013440860215053765,
          0,
          0.001965923984272608,
          0.0019710906701708277,
          0,
          0.0006583278472679394,
          0,
          0,
          0,
          0,
          0,
          0,
          0.002018842530282638,
          0,
          0,
          0,
          0.0006720430107526882,
          0.006254343293954135,
          0.007670850767085077,
          0.006232686980609419,
          0,
          0.0013745704467353953,
          0,
          0.0006591957811470006,
          0,
          0.0013183915622940012,
          0,
          0,
          0,
          0,
          0,
          0,
          0,
          0.001977587343441002,
          0,
          0,
          0.0006653359946773121,
          0,
          0,
          0,
          0,
          0.0013422818791946308,
          0,
          0,
          0,
          0,
          0,
          0,
          0.0010111223458038423,
          0,
          0,
          0.0006648936170212766,
          0,
          0,
          0,
          0,
          0,
          0,
          0,
          0,
          0.0015290519877675841,
          0,
          0,
          0,
          0,
          0,
          0,
          0,
          0,
          0.0020026702269692926,
          0,
          0,
          0,
          0,
          0.0006688963210702341,
          0,
          0.0013440860215053765,
          0,
          0,
          0,
          0,
          0,
          0.0033222591362126247,
          0,
          0,
          0.000671591672263264,
          0,
          0,
          0.0027378507871321013,
          0,
          0.0013227513227513227,
          0,
          0,
          0,
          0,
          0,
          0,
          0,
          0,
          0,
          0,
          0.0006613756613756613,
          0,
          0,
          0,
          0,
          0,
          0,
          0,
          0,
          0
         ],
         "yaxis": "y"
        },
        {
         "marker": {
          "color": "yellow"
         },
         "name": "G",
         "showlegend": true,
         "type": "bar",
         "x": [
          0,
          1,
          2,
          3,
          4,
          5,
          6,
          7,
          8,
          9,
          10,
          11,
          12,
          13,
          14,
          15,
          16,
          17,
          18,
          19,
          20,
          21,
          22,
          23,
          24,
          25,
          26,
          27,
          28,
          29,
          30,
          31,
          32,
          33,
          34,
          35,
          36,
          37,
          38,
          39,
          40,
          41,
          42,
          43,
          44,
          45,
          46,
          47,
          48,
          49,
          50,
          51,
          52,
          53,
          54,
          55,
          56,
          57,
          58,
          59,
          60,
          61,
          62,
          63,
          64,
          65,
          66,
          67,
          68,
          69,
          70,
          71,
          72,
          73,
          74,
          75,
          76,
          77,
          78,
          79,
          80,
          81,
          82,
          83,
          84,
          85,
          86,
          87,
          88,
          89,
          90,
          91,
          92,
          93,
          94,
          95,
          96,
          97,
          98,
          99,
          100,
          101,
          102,
          103,
          104,
          105,
          106,
          107,
          108,
          109,
          110,
          111,
          112,
          113,
          114,
          115,
          116,
          117,
          118,
          119,
          120,
          121,
          122,
          123,
          124,
          125,
          126,
          127,
          128,
          129,
          130,
          131,
          132,
          133,
          134,
          135,
          136,
          137,
          138,
          139,
          140,
          141,
          142,
          143,
          144,
          145,
          146,
          147,
          148,
          149,
          150,
          151,
          152,
          153,
          154,
          155,
          156,
          157,
          158,
          159,
          160,
          161,
          162,
          163,
          164,
          165,
          166,
          167,
          168,
          169
         ],
         "xaxis": "x",
         "y": [
          0,
          0,
          0,
          0.0006600660066006601,
          0,
          0,
          0,
          0,
          0,
          0,
          0,
          0,
          0,
          0,
          0,
          0,
          0,
          0,
          0,
          0,
          0.0006591957811470006,
          0,
          0,
          0.002628120893561104,
          0.0006557377049180328,
          0,
          0.012508229098090849,
          0,
          0,
          0.012872628726287264,
          0,
          0.008558262014483212,
          0.0033134526176275677,
          0.003929273084479371,
          0,
          0.002635046113306983,
          0,
          0,
          0.0019723865877712033,
          0,
          0,
          0.00655307994757536,
          0,
          0.007217847769028871,
          0,
          0.0013422818791946308,
          0,
          0.006126616746085773,
          0,
          0,
          0.0006561679790026247,
          0,
          0,
          0,
          0.05823957643944408,
          0,
          0.00941492938802959,
          0,
          0.002688172043010753,
          0.0006720430107526882,
          0,
          0.000655307994757536,
          0,
          0,
          0,
          0.0006587615283267457,
          0,
          0.01984126984126984,
          0.003970880211780278,
          0,
          0.000663129973474801,
          0.25639300134589504,
          0,
          0,
          0.0020013342228152103,
          0,
          0.07366226546212648,
          0.006276150627615063,
          0.011772853185595568,
          0,
          0.004123711340206186,
          0,
          0,
          0,
          0,
          0,
          0,
          0.005980066445182724,
          0,
          0.0046449900464499,
          0,
          0.00535475234270415,
          0,
          0.004660452729693742,
          0,
          0,
          0.0013386880856760374,
          0,
          0,
          0,
          0,
          0,
          0,
          0.004847645429362881,
          0,
          0.001364256480218281,
          0,
          0,
          0.0062413314840499305,
          0.005571030640668524,
          0.0019946808510638296,
          0.0020107238605898124,
          0,
          0,
          0,
          0.004666666666666667,
          0,
          0,
          0,
          0,
          0.0007621951219512195,
          0.004106776180698152,
          0,
          0,
          0.000847457627118644,
          0.000859106529209622,
          0,
          0.0013531799729364006,
          0,
          0.0020408163265306124,
          0.0016835016835016834,
          0.0016835016835016834,
          0.002027027027027027,
          0,
          0.002008032128514056,
          0.0006720430107526882,
          0.0006662225183211193,
          0.0033311125916055963,
          0,
          0,
          0,
          0,
          0.0006657789613848203,
          0,
          0.010073875083948958,
          0.012726054922973878,
          0,
          0.00889801505817933,
          0,
          0.0006613756613756613,
          0.0006752194463200541,
          0,
          0,
          0,
          0,
          0,
          0,
          0,
          0,
          0,
          0,
          0,
          0,
          0,
          0,
          0,
          0,
          0,
          0,
          0
         ],
         "yaxis": "y"
        },
        {
         "error_y": {
          "array": [
           0.0024996720546867027,
           0.0024996720546867027,
           0.003051305432553596,
           0.003038947917588493,
           0.0024996720546867027,
           0.0024996720546867027,
           0.0024996720546867027,
           0.0024996720546867027,
           0.0024996720546867027,
           0.0024996720546867027,
           0.0024996720546867027,
           0.0024996720546867027,
           0.0024996720546867027,
           0.0024996720546867027,
           0.0024996720546867027,
           0.0024996720546867027,
           0.0024996720546867027,
           0.0024996720546867027,
           0.0024996720546867027,
           0.0046430400787106346,
           0.005463049168774782,
           0.007551625160529103,
           0.0024996720546867027,
           0.00730326277395745,
           0.003443798162743013,
           0.004838662800313167,
           0.012213084939140986,
           0.004087450358898197,
           0.0043637647461130715,
           0.016006182048800388,
           0.0034540907339012843,
           0.016486876256632033,
           0.013678934682803706,
           0.007787119766368974,
           0.004608439833787948,
           0.004844840820184191,
           0.005078817502668278,
           0.0024996720546867027,
           0.00704084969469663,
           0.0030341626044694636,
           0.004362909883209304,
           0.0064611214389759045,
           0.0024996720546867027,
           0.015087316384921404,
           0.01165307156506315,
           0.007096897229628361,
           0.004411282715247647,
           0.006068429327565732,
           0.0024996720546867027,
           0.0043561026941486775,
           0.004087450358898197,
           0.0037867144645170594,
           0.0046065550098694785,
           0.004121075915326517,
           0.014758094906028932,
           0.012196237052118107,
           0.014453631976523093,
           0.0024996720546867027,
           0.005867368870281253,
           0.005303139945126658,
           0.0024996720546867027,
           0.005451822479356267,
           0.00378797143747243,
           0.003036544313293475,
           0.0034467148238444653,
           0.00303804398055558,
           0.003036245408574509,
           0.015590687129497377,
           0.0058350900483306704,
           0.0056422858824298925,
           0.0030410692760062833,
           0.02266385054667508,
           0.00530680671382754,
           0.0024996720546867027,
           0.005289791559443733,
           0.004642061372993209,
           0.01629878676474336,
           0.013448232490302275,
           0.013290408079103769,
           0.0024996720546867027,
           0.006257975344837793,
           0.0046236586190179655,
           0.003038344946963991,
           0.0038104090479100725,
           0.0037911255768135785,
           0.004895663823039374,
           0.0024996720546867027,
           0.0113693128368351,
           0.0024996720546867027,
           0.013058630487817045,
           0.0024996720546867027,
           0.013899389333432002,
           0.00409269606987715,
           0.012138956111402331,
           0.0024996720546867027,
           0.004103303805014795,
           0.006031183867231468,
           0.009045767812646412,
           0.0030484745075925507,
           0.0024996720546867027,
           0.0034610857127861635,
           0.0030500435465107096,
           0.0038123719453796996,
           0.0086505471019225,
           0.0024996720546867027,
           0.00901715211343495,
           0.0024996720546867027,
           0.0038126997174314156,
           0.01080009350588218,
           0.010737068628034523,
           0.004102540908753361,
           0.010649240266907271,
           0.0024996720546867027,
           0.0030453638449032963,
           0.0024996720546867027,
           0.010783539296653634,
           0.0024996720546867027,
           0.010728704436895421,
           0.0024996720546867027,
           0.004269388577457532,
           0.00310833852409189,
           0.008717311407864997,
           0.0024996720546867027,
           0.008035241368252545,
           0.0031643215025117933,
           0.0031718419578425617,
           0.0024996720546867027,
           0.009475758423330892,
           0.00410713041702003,
           0.012379792705313766,
           0.003644107818042486,
           0.003644107818042486,
           0.007512502236418653,
           0.0038052057509821466,
           0.013339611477413901,
           0.0038097561678850783,
           0.0030432078467817433,
           0.008727315764125755,
           0.003042901274744157,
           0.00438017714869492,
           0.0030416785305307737,
           0.011223330511275435,
           0.003455083403108775,
           0.003452605823261645,
           0.009540541287427328,
           0.01095935322358655,
           0.0041117492203241275,
           0.00816128484433375,
           0.0034585750556599786,
           0.0037942965533948967,
           0.0034656402232803255,
           0.004621742519767971,
           0.0024996720546867027,
           0.0024996720546867027,
           0.0024996720546867027,
           0.003052255757222401,
           0.0024996720546867027,
           0.0024996720546867027,
           0.0024996720546867027,
           0.0024996720546867027,
           0.0030398549772012477,
           0.0024996720546867027,
           0.0024996720546867027,
           0.0024996720546867027,
           0.0024996720546867027,
           0.0024996720546867027,
           0.0024996720546867027,
           0.0030413737273240794,
           0.0024996720546867027,
           0.0024996720546867027
          ],
          "arrayminus": [
           0,
           0,
           0.0005550227637037569,
           0.0005425757600036867,
           0,
           0,
           0,
           0,
           0,
           0,
           0,
           0,
           0,
           0,
           0,
           0,
           0,
           0,
           0,
           0.0021635402262137355,
           0.0029963325795420875,
           0.00513068293433647,
           0,
           0.0048758545631644445,
           0.000950682624921061,
           0.0023619536122705662,
           0.009970127065185762,
           0.001600899942293839,
           0.0018805595692569792,
           0.014004412151348025,
           0.0009610667431898125,
           0.014523671015525208,
           0.011517190460559733,
           0.005372570794094655,
           0.002128463159702847,
           0.0023682223944603426,
           0.0026057553966675247,
           0,
           0.0046069152351364655,
           0.0005377559606967867,
           0.001879693865748978,
           0.004013867146903859,
           0,
           0.01301737797743148,
           0.009382577039948235,
           0.004664330465000359,
           0.001928684923229569,
           0.003612999256147818,
           0,
           0.0018728004630028168,
           0.001600899942293839,
           0.001296883638392114,
           0.00212655250577703,
           0.001634915601475958,
           0.012665384681555938,
           0.009952423685857234,
           0.012340593797140989,
           0,
           0.003408014106799172,
           0.0028337058588434215,
           0,
           0.0029849115263037257,
           0.0012981535433166855,
           0.0005401548220403725,
           0.0009536251840483135,
           0.0005416653014349991,
           0.0005398537634083924,
           0.013557223751676839,
           0.003375121586835548,
           0.003178745749690042,
           0.0005447124362462201,
           0.021489711183168086,
           0.002837433714349159,
           0,
           0.0028201355801301827,
           0.002162547963908818,
           0.014320241615133789,
           0.011272785681202553,
           0.011105791643498078,
           0,
           0.0038064069448117254,
           0.002143891053154247,
           0.0005419684388226888,
           0.0013208230943182713,
           0.0013013401617630793,
           0.002419798168873497,
           0,
           0.009085559298500058,
           0,
           0.010860843180278953,
           0,
           0.01175107680450447,
           0.001606206201372051,
           0.009892246874500153,
           0,
           0.0016169367246710675,
           0.0035750134681149463,
           0.006669825344613099,
           0.0005521712831682288,
           0,
           0.0009681241871053306,
           0.0005537517109648946,
           0.0013228063814801402,
           0.006261663836363184,
           0,
           0.006640247035513212,
           0,
           0.0013231375598314122,
           0.008491103785464218,
           0.00842539419305962,
           0.0016161649820171198,
           0.008333860387834194,
           0,
           0.0005490380714142997,
           0,
           0.008473842318123113,
           0,
           0.008416675324651682,
           0,
           0.0017850050368667715,
           0.0006124769450983073,
           0.006330560883369484,
           0,
           0.0056277073961276715,
           0.0006688861801211694,
           0.0006764648723219873,
           0,
           0.007114769121339931,
           0.0016208077458029473,
           0.01014539197071624,
           0.0011528521675803172,
           0.0011528521675803172,
           0.00509052269153978,
           0.0013155658249430153,
           0.011157836136509301,
           0.0013201634359995312,
           0.0005468664677175408,
           0.00634088668060407,
           0.0005465576781861983,
           0.0018971806914377472,
           0.0005453260934465757,
           0.008932933326283421,
           0.0009620682646795606,
           0.0009595685981826051,
           0.00718188498330723,
           0.008657243997066633,
           0.0016254802329547784,
           0.005757424997081992,
           0.0009655910867383229,
           0.0013045438322585362,
           0.0009727194773166114,
           0.0021419485728720157,
           0,
           0,
           0,
           0.0005559799960882615,
           0,
           0,
           0,
           0,
           0.0005434893670313261,
           0,
           0,
           0,
           0,
           0,
           0,
           0.0005450190874412076,
           0,
           0
          ],
          "color": "black",
          "symmetric": false,
          "thickness": 1.5,
          "type": "data",
          "visible": true,
          "width": 2
         },
         "marker": {
          "color": "green"
         },
         "name": "T",
         "showlegend": true,
         "type": "bar",
         "x": [
          0,
          1,
          2,
          3,
          4,
          5,
          6,
          7,
          8,
          9,
          10,
          11,
          12,
          13,
          14,
          15,
          16,
          17,
          18,
          19,
          20,
          21,
          22,
          23,
          24,
          25,
          26,
          27,
          28,
          29,
          30,
          31,
          32,
          33,
          34,
          35,
          36,
          37,
          38,
          39,
          40,
          41,
          42,
          43,
          44,
          45,
          46,
          47,
          48,
          49,
          50,
          51,
          52,
          53,
          54,
          55,
          56,
          57,
          58,
          59,
          60,
          61,
          62,
          63,
          64,
          65,
          66,
          67,
          68,
          69,
          70,
          71,
          72,
          73,
          74,
          75,
          76,
          77,
          78,
          79,
          80,
          81,
          82,
          83,
          84,
          85,
          86,
          87,
          88,
          89,
          90,
          91,
          92,
          93,
          94,
          95,
          96,
          97,
          98,
          99,
          100,
          101,
          102,
          103,
          104,
          105,
          106,
          107,
          108,
          109,
          110,
          111,
          112,
          113,
          114,
          115,
          116,
          117,
          118,
          119,
          120,
          121,
          122,
          123,
          124,
          125,
          126,
          127,
          128,
          129,
          130,
          131,
          132,
          133,
          134,
          135,
          136,
          137,
          138,
          139,
          140,
          141,
          142,
          143,
          144,
          145,
          146,
          147,
          148,
          149,
          150,
          151,
          152,
          153,
          154,
          155,
          156,
          157,
          158,
          159,
          160,
          161,
          162,
          163,
          164,
          165,
          166,
          167,
          168,
          169
         ],
         "xaxis": "x",
         "y": [
          0,
          0,
          0,
          0,
          0,
          0,
          0,
          0,
          0,
          0,
          0,
          0,
          0,
          0,
          0,
          0,
          0,
          0,
          0,
          0.0020174848688634837,
          0.001977587343441002,
          0.006561679790026247,
          0,
          0.011826544021024968,
          0,
          0.0032808398950131233,
          0.02238314680710994,
          0.0013123359580052493,
          0.001976284584980237,
          0.07181571815718157,
          0,
          0.05464121132323897,
          0.041749502982107355,
          0.0032743942370661427,
          0.0013131976362442547,
          0.0013175230566534915,
          0.003992015968063872,
          0,
          0.009204470742932281,
          0,
          0.0013166556945358788,
          0.001965923984272608,
          0,
          0.03674540682414698,
          0.032089063523248196,
          0.0087248322147651,
          0.0020491803278688526,
          0.0013614703880190605,
          0,
          0.0026195153896529143,
          0,
          0,
          0.0006557377049180328,
          0,
          0.018530774321641297,
          0.04579124579124579,
          0.05850706119704102,
          0,
          0.002688172043010753,
          0.004032258064516129,
          0,
          0.003931847968545216,
          0,
          0.0006565988181221273,
          0,
          0,
          0,
          0.03571428571428571,
          0.0013236267372600927,
          0.007227332457293035,
          0,
          0.006729475100942127,
          0.00404040404040404,
          0,
          0.004002668445630421,
          0.0006720430107526882,
          0.024322446143154968,
          0.05090655509065551,
          0.045013850415512466,
          0,
          0.004123711340206186,
          0.0026542800265428003,
          0,
          0.0020174848688634837,
          0,
          0.0027210884353741495,
          0,
          0.021926910299003323,
          0,
          0.038487060384870604,
          0,
          0.04484605087014726,
          0,
          0.037283621837549935,
          0,
          0,
          0.002677376171352075,
          0.024749163879598662,
          0,
          0,
          0,
          0,
          0,
          0.006925207756232687,
          0,
          0.019781718963165076,
          0,
          0,
          0.017337031900138695,
          0.018802228412256268,
          0,
          0.028150134048257374,
          0,
          0,
          0,
          0.018,
          0,
          0.03418230563002681,
          0,
          0,
          0,
          0.009582477754962354,
          0,
          0.016382252559726963,
          0,
          0,
          0,
          0.014208389715832206,
          0,
          0.0380952380952381,
          0,
          0,
          0.00472972972972973,
          0,
          0.05622489959839357,
          0,
          0,
          0.008660892738174551,
          0,
          0.00133422281521014,
          0,
          0.038538205980066444,
          0,
          0,
          0.017461383478844864,
          0.014735432016075016,
          0.0020107238605898124,
          0.007529089664613279,
          0.0006688963210702341,
          0,
          0,
          0.003976143141153081,
          0,
          0,
          0,
          0.0006793478260869565,
          0,
          0,
          0,
          0,
          0,
          0,
          0,
          0,
          0,
          0,
          0,
          0,
          0,
          0
         ],
         "yaxis": "y"
        }
       ],
       "layout": {
        "annotations": [
         {
          "font": {
           "size": 16
          },
          "showarrow": false,
          "text": "Mutation identity at each position - 3042-O-flank_1=hp1-DB - 1533 reads",
          "x": 0.5,
          "xanchor": "center",
          "xref": "paper",
          "y": 1,
          "yanchor": "bottom",
          "yref": "paper"
         }
        ],
        "barmode": "stack",
        "height": 500,
        "template": {
         "data": {
          "bar": [
           {
            "error_x": {
             "color": "#2a3f5f"
            },
            "error_y": {
             "color": "#2a3f5f"
            },
            "marker": {
             "line": {
              "color": "#E5ECF6",
              "width": 0.5
             },
             "pattern": {
              "fillmode": "overlay",
              "size": 10,
              "solidity": 0.2
             }
            },
            "type": "bar"
           }
          ],
          "barpolar": [
           {
            "marker": {
             "line": {
              "color": "#E5ECF6",
              "width": 0.5
             },
             "pattern": {
              "fillmode": "overlay",
              "size": 10,
              "solidity": 0.2
             }
            },
            "type": "barpolar"
           }
          ],
          "carpet": [
           {
            "aaxis": {
             "endlinecolor": "#2a3f5f",
             "gridcolor": "white",
             "linecolor": "white",
             "minorgridcolor": "white",
             "startlinecolor": "#2a3f5f"
            },
            "baxis": {
             "endlinecolor": "#2a3f5f",
             "gridcolor": "white",
             "linecolor": "white",
             "minorgridcolor": "white",
             "startlinecolor": "#2a3f5f"
            },
            "type": "carpet"
           }
          ],
          "choropleth": [
           {
            "colorbar": {
             "outlinewidth": 0,
             "ticks": ""
            },
            "type": "choropleth"
           }
          ],
          "contour": [
           {
            "colorbar": {
             "outlinewidth": 0,
             "ticks": ""
            },
            "colorscale": [
             [
              0,
              "#0d0887"
             ],
             [
              0.1111111111111111,
              "#46039f"
             ],
             [
              0.2222222222222222,
              "#7201a8"
             ],
             [
              0.3333333333333333,
              "#9c179e"
             ],
             [
              0.4444444444444444,
              "#bd3786"
             ],
             [
              0.5555555555555556,
              "#d8576b"
             ],
             [
              0.6666666666666666,
              "#ed7953"
             ],
             [
              0.7777777777777778,
              "#fb9f3a"
             ],
             [
              0.8888888888888888,
              "#fdca26"
             ],
             [
              1,
              "#f0f921"
             ]
            ],
            "type": "contour"
           }
          ],
          "contourcarpet": [
           {
            "colorbar": {
             "outlinewidth": 0,
             "ticks": ""
            },
            "type": "contourcarpet"
           }
          ],
          "heatmap": [
           {
            "colorbar": {
             "outlinewidth": 0,
             "ticks": ""
            },
            "colorscale": [
             [
              0,
              "#0d0887"
             ],
             [
              0.1111111111111111,
              "#46039f"
             ],
             [
              0.2222222222222222,
              "#7201a8"
             ],
             [
              0.3333333333333333,
              "#9c179e"
             ],
             [
              0.4444444444444444,
              "#bd3786"
             ],
             [
              0.5555555555555556,
              "#d8576b"
             ],
             [
              0.6666666666666666,
              "#ed7953"
             ],
             [
              0.7777777777777778,
              "#fb9f3a"
             ],
             [
              0.8888888888888888,
              "#fdca26"
             ],
             [
              1,
              "#f0f921"
             ]
            ],
            "type": "heatmap"
           }
          ],
          "heatmapgl": [
           {
            "colorbar": {
             "outlinewidth": 0,
             "ticks": ""
            },
            "colorscale": [
             [
              0,
              "#0d0887"
             ],
             [
              0.1111111111111111,
              "#46039f"
             ],
             [
              0.2222222222222222,
              "#7201a8"
             ],
             [
              0.3333333333333333,
              "#9c179e"
             ],
             [
              0.4444444444444444,
              "#bd3786"
             ],
             [
              0.5555555555555556,
              "#d8576b"
             ],
             [
              0.6666666666666666,
              "#ed7953"
             ],
             [
              0.7777777777777778,
              "#fb9f3a"
             ],
             [
              0.8888888888888888,
              "#fdca26"
             ],
             [
              1,
              "#f0f921"
             ]
            ],
            "type": "heatmapgl"
           }
          ],
          "histogram": [
           {
            "marker": {
             "pattern": {
              "fillmode": "overlay",
              "size": 10,
              "solidity": 0.2
             }
            },
            "type": "histogram"
           }
          ],
          "histogram2d": [
           {
            "colorbar": {
             "outlinewidth": 0,
             "ticks": ""
            },
            "colorscale": [
             [
              0,
              "#0d0887"
             ],
             [
              0.1111111111111111,
              "#46039f"
             ],
             [
              0.2222222222222222,
              "#7201a8"
             ],
             [
              0.3333333333333333,
              "#9c179e"
             ],
             [
              0.4444444444444444,
              "#bd3786"
             ],
             [
              0.5555555555555556,
              "#d8576b"
             ],
             [
              0.6666666666666666,
              "#ed7953"
             ],
             [
              0.7777777777777778,
              "#fb9f3a"
             ],
             [
              0.8888888888888888,
              "#fdca26"
             ],
             [
              1,
              "#f0f921"
             ]
            ],
            "type": "histogram2d"
           }
          ],
          "histogram2dcontour": [
           {
            "colorbar": {
             "outlinewidth": 0,
             "ticks": ""
            },
            "colorscale": [
             [
              0,
              "#0d0887"
             ],
             [
              0.1111111111111111,
              "#46039f"
             ],
             [
              0.2222222222222222,
              "#7201a8"
             ],
             [
              0.3333333333333333,
              "#9c179e"
             ],
             [
              0.4444444444444444,
              "#bd3786"
             ],
             [
              0.5555555555555556,
              "#d8576b"
             ],
             [
              0.6666666666666666,
              "#ed7953"
             ],
             [
              0.7777777777777778,
              "#fb9f3a"
             ],
             [
              0.8888888888888888,
              "#fdca26"
             ],
             [
              1,
              "#f0f921"
             ]
            ],
            "type": "histogram2dcontour"
           }
          ],
          "mesh3d": [
           {
            "colorbar": {
             "outlinewidth": 0,
             "ticks": ""
            },
            "type": "mesh3d"
           }
          ],
          "parcoords": [
           {
            "line": {
             "colorbar": {
              "outlinewidth": 0,
              "ticks": ""
             }
            },
            "type": "parcoords"
           }
          ],
          "pie": [
           {
            "automargin": true,
            "type": "pie"
           }
          ],
          "scatter": [
           {
            "fillpattern": {
             "fillmode": "overlay",
             "size": 10,
             "solidity": 0.2
            },
            "type": "scatter"
           }
          ],
          "scatter3d": [
           {
            "line": {
             "colorbar": {
              "outlinewidth": 0,
              "ticks": ""
             }
            },
            "marker": {
             "colorbar": {
              "outlinewidth": 0,
              "ticks": ""
             }
            },
            "type": "scatter3d"
           }
          ],
          "scattercarpet": [
           {
            "marker": {
             "colorbar": {
              "outlinewidth": 0,
              "ticks": ""
             }
            },
            "type": "scattercarpet"
           }
          ],
          "scattergeo": [
           {
            "marker": {
             "colorbar": {
              "outlinewidth": 0,
              "ticks": ""
             }
            },
            "type": "scattergeo"
           }
          ],
          "scattergl": [
           {
            "marker": {
             "colorbar": {
              "outlinewidth": 0,
              "ticks": ""
             }
            },
            "type": "scattergl"
           }
          ],
          "scattermapbox": [
           {
            "marker": {
             "colorbar": {
              "outlinewidth": 0,
              "ticks": ""
             }
            },
            "type": "scattermapbox"
           }
          ],
          "scatterpolar": [
           {
            "marker": {
             "colorbar": {
              "outlinewidth": 0,
              "ticks": ""
             }
            },
            "type": "scatterpolar"
           }
          ],
          "scatterpolargl": [
           {
            "marker": {
             "colorbar": {
              "outlinewidth": 0,
              "ticks": ""
             }
            },
            "type": "scatterpolargl"
           }
          ],
          "scatterternary": [
           {
            "marker": {
             "colorbar": {
              "outlinewidth": 0,
              "ticks": ""
             }
            },
            "type": "scatterternary"
           }
          ],
          "surface": [
           {
            "colorbar": {
             "outlinewidth": 0,
             "ticks": ""
            },
            "colorscale": [
             [
              0,
              "#0d0887"
             ],
             [
              0.1111111111111111,
              "#46039f"
             ],
             [
              0.2222222222222222,
              "#7201a8"
             ],
             [
              0.3333333333333333,
              "#9c179e"
             ],
             [
              0.4444444444444444,
              "#bd3786"
             ],
             [
              0.5555555555555556,
              "#d8576b"
             ],
             [
              0.6666666666666666,
              "#ed7953"
             ],
             [
              0.7777777777777778,
              "#fb9f3a"
             ],
             [
              0.8888888888888888,
              "#fdca26"
             ],
             [
              1,
              "#f0f921"
             ]
            ],
            "type": "surface"
           }
          ],
          "table": [
           {
            "cells": {
             "fill": {
              "color": "#EBF0F8"
             },
             "line": {
              "color": "white"
             }
            },
            "header": {
             "fill": {
              "color": "#C8D4E3"
             },
             "line": {
              "color": "white"
             }
            },
            "type": "table"
           }
          ]
         },
         "layout": {
          "annotationdefaults": {
           "arrowcolor": "#2a3f5f",
           "arrowhead": 0,
           "arrowwidth": 1
          },
          "autotypenumbers": "strict",
          "coloraxis": {
           "colorbar": {
            "outlinewidth": 0,
            "ticks": ""
           }
          },
          "colorscale": {
           "diverging": [
            [
             0,
             "#8e0152"
            ],
            [
             0.1,
             "#c51b7d"
            ],
            [
             0.2,
             "#de77ae"
            ],
            [
             0.3,
             "#f1b6da"
            ],
            [
             0.4,
             "#fde0ef"
            ],
            [
             0.5,
             "#f7f7f7"
            ],
            [
             0.6,
             "#e6f5d0"
            ],
            [
             0.7,
             "#b8e186"
            ],
            [
             0.8,
             "#7fbc41"
            ],
            [
             0.9,
             "#4d9221"
            ],
            [
             1,
             "#276419"
            ]
           ],
           "sequential": [
            [
             0,
             "#0d0887"
            ],
            [
             0.1111111111111111,
             "#46039f"
            ],
            [
             0.2222222222222222,
             "#7201a8"
            ],
            [
             0.3333333333333333,
             "#9c179e"
            ],
            [
             0.4444444444444444,
             "#bd3786"
            ],
            [
             0.5555555555555556,
             "#d8576b"
            ],
            [
             0.6666666666666666,
             "#ed7953"
            ],
            [
             0.7777777777777778,
             "#fb9f3a"
            ],
            [
             0.8888888888888888,
             "#fdca26"
            ],
            [
             1,
             "#f0f921"
            ]
           ],
           "sequentialminus": [
            [
             0,
             "#0d0887"
            ],
            [
             0.1111111111111111,
             "#46039f"
            ],
            [
             0.2222222222222222,
             "#7201a8"
            ],
            [
             0.3333333333333333,
             "#9c179e"
            ],
            [
             0.4444444444444444,
             "#bd3786"
            ],
            [
             0.5555555555555556,
             "#d8576b"
            ],
            [
             0.6666666666666666,
             "#ed7953"
            ],
            [
             0.7777777777777778,
             "#fb9f3a"
            ],
            [
             0.8888888888888888,
             "#fdca26"
            ],
            [
             1,
             "#f0f921"
            ]
           ]
          },
          "colorway": [
           "#636efa",
           "#EF553B",
           "#00cc96",
           "#ab63fa",
           "#FFA15A",
           "#19d3f3",
           "#FF6692",
           "#B6E880",
           "#FF97FF",
           "#FECB52"
          ],
          "font": {
           "color": "#2a3f5f"
          },
          "geo": {
           "bgcolor": "white",
           "lakecolor": "white",
           "landcolor": "#E5ECF6",
           "showlakes": true,
           "showland": true,
           "subunitcolor": "white"
          },
          "hoverlabel": {
           "align": "left"
          },
          "hovermode": "closest",
          "mapbox": {
           "style": "light"
          },
          "paper_bgcolor": "white",
          "plot_bgcolor": "#E5ECF6",
          "polar": {
           "angularaxis": {
            "gridcolor": "white",
            "linecolor": "white",
            "ticks": ""
           },
           "bgcolor": "#E5ECF6",
           "radialaxis": {
            "gridcolor": "white",
            "linecolor": "white",
            "ticks": ""
           }
          },
          "scene": {
           "xaxis": {
            "backgroundcolor": "#E5ECF6",
            "gridcolor": "white",
            "gridwidth": 2,
            "linecolor": "white",
            "showbackground": true,
            "ticks": "",
            "zerolinecolor": "white"
           },
           "yaxis": {
            "backgroundcolor": "#E5ECF6",
            "gridcolor": "white",
            "gridwidth": 2,
            "linecolor": "white",
            "showbackground": true,
            "ticks": "",
            "zerolinecolor": "white"
           },
           "zaxis": {
            "backgroundcolor": "#E5ECF6",
            "gridcolor": "white",
            "gridwidth": 2,
            "linecolor": "white",
            "showbackground": true,
            "ticks": "",
            "zerolinecolor": "white"
           }
          },
          "shapedefaults": {
           "line": {
            "color": "#2a3f5f"
           }
          },
          "ternary": {
           "aaxis": {
            "gridcolor": "white",
            "linecolor": "white",
            "ticks": ""
           },
           "baxis": {
            "gridcolor": "white",
            "linecolor": "white",
            "ticks": ""
           },
           "bgcolor": "#E5ECF6",
           "caxis": {
            "gridcolor": "white",
            "linecolor": "white",
            "ticks": ""
           }
          },
          "title": {
           "x": 0.05
          },
          "xaxis": {
           "automargin": true,
           "gridcolor": "white",
           "linecolor": "white",
           "ticks": "",
           "title": {
            "standoff": 15
           },
           "zerolinecolor": "white",
           "zerolinewidth": 2
          },
          "yaxis": {
           "automargin": true,
           "gridcolor": "white",
           "linecolor": "white",
           "ticks": "",
           "title": {
            "standoff": 15
           },
           "zerolinecolor": "white",
           "zerolinewidth": 2
          }
         }
        },
        "width": 1500,
        "xaxis": {
         "anchor": "y",
         "domain": [
          0,
          1
         ],
         "tickangle": 0,
         "tickfont": {
          "size": 8
         },
         "ticktext": [
          "T",
          "T",
          "A",
          "A",
          "A",
          "C",
          "C",
          "G",
          "G",
          "C",
          "C",
          "A",
          "A",
          "C",
          "A",
          "T",
          "A",
          "C",
          "C",
          "G",
          "C",
          "A",
          "T",
          "A",
          "T",
          "G",
          "A",
          "G",
          "G",
          "A",
          "T",
          "C",
          "A",
          "C",
          "C",
          "C",
          "A",
          "T",
          "A",
          "T",
          "G",
          "C",
          "T",
          "C",
          "A",
          "A",
          "G",
          "A",
          "T",
          "A",
          "T",
          "T",
          "C",
          "G",
          "A",
          "A",
          "A",
          "G",
          "A",
          "A",
          "T",
          "A",
          "T",
          "C",
          "T",
          "T",
          "T",
          "C",
          "C",
          "A",
          "C",
          "A",
          "G",
          "T",
          "C",
          "G",
          "A",
          "A",
          "A",
          "G",
          "A",
          "C",
          "T",
          "G",
          "T",
          "G",
          "T",
          "C",
          "T",
          "C",
          "T",
          "C",
          "T",
          "C",
          "T",
          "T",
          "C",
          "C",
          "T",
          "T",
          "T",
          "T",
          "T",
          "C",
          "T",
          "C",
          "T",
          "T",
          "C",
          "C",
          "T",
          "C",
          "T",
          "T",
          "T",
          "C",
          "T",
          "C",
          "T",
          "T",
          "T",
          "C",
          "T",
          "C",
          "T",
          "T",
          "T",
          "C",
          "T",
          "C",
          "T",
          "T",
          "C",
          "T",
          "C",
          "T",
          "T",
          "C",
          "T",
          "G",
          "T",
          "A",
          "T",
          "T",
          "A",
          "C",
          "G",
          "A",
          "G",
          "T",
          "T",
          "C",
          "G",
          "C",
          "T",
          "A",
          "C",
          "T",
          "C",
          "G",
          "T",
          "T",
          "C",
          "C",
          "T",
          "T",
          "T",
          "C",
          "G",
          "A"
         ],
         "tickvals": [
          0,
          1,
          2,
          3,
          4,
          5,
          6,
          7,
          8,
          9,
          10,
          11,
          12,
          13,
          14,
          15,
          16,
          17,
          18,
          19,
          20,
          21,
          22,
          23,
          24,
          25,
          26,
          27,
          28,
          29,
          30,
          31,
          32,
          33,
          34,
          35,
          36,
          37,
          38,
          39,
          40,
          41,
          42,
          43,
          44,
          45,
          46,
          47,
          48,
          49,
          50,
          51,
          52,
          53,
          54,
          55,
          56,
          57,
          58,
          59,
          60,
          61,
          62,
          63,
          64,
          65,
          66,
          67,
          68,
          69,
          70,
          71,
          72,
          73,
          74,
          75,
          76,
          77,
          78,
          79,
          80,
          81,
          82,
          83,
          84,
          85,
          86,
          87,
          88,
          89,
          90,
          91,
          92,
          93,
          94,
          95,
          96,
          97,
          98,
          99,
          100,
          101,
          102,
          103,
          104,
          105,
          106,
          107,
          108,
          109,
          110,
          111,
          112,
          113,
          114,
          115,
          116,
          117,
          118,
          119,
          120,
          121,
          122,
          123,
          124,
          125,
          126,
          127,
          128,
          129,
          130,
          131,
          132,
          133,
          134,
          135,
          136,
          137,
          138,
          139,
          140,
          141,
          142,
          143,
          144,
          145,
          146,
          147,
          148,
          149,
          150,
          151,
          152,
          153,
          154,
          155,
          156,
          157,
          158,
          159,
          160,
          161,
          162,
          163,
          164,
          165,
          166,
          167,
          168,
          169
         ]
        },
        "yaxis": {
         "anchor": "x",
         "domain": [
          0,
          1
         ],
         "title": {
          "text": "Mutation fraction"
         }
        }
       }
      }
     },
     "metadata": {},
     "output_type": "display_data"
    },
    {
     "data": {
      "application/vnd.plotly.v1+json": {
       "config": {
        "plotlyServerURL": "https://plot.ly"
       },
       "data": [
        {
         "alignmentgroup": "True",
         "hovertemplate": "x=%{x}<br>y=%{y}<extra></extra>",
         "legendgroup": "",
         "marker": {
          "color": "#636efa",
          "pattern": {
           "shape": ""
          }
         },
         "name": "",
         "offsetgroup": "",
         "orientation": "v",
         "showlegend": false,
         "textposition": "auto",
         "type": "bar",
         "x": [
          0,
          1,
          2,
          3,
          4,
          5,
          6,
          7,
          8,
          9,
          10,
          11,
          12,
          13,
          14,
          15,
          16,
          17,
          18,
          19
         ],
         "xaxis": "x",
         "y": [
          59,
          220,
          315,
          288,
          212,
          113,
          62,
          40,
          21,
          19,
          20,
          10,
          16,
          15,
          6,
          11,
          11,
          11,
          5,
          7
         ],
         "yaxis": "y"
        }
       ],
       "layout": {
        "barmode": "stack",
        "legend": {
         "tracegroupgap": 0
        },
        "margin": {
         "t": 60
        },
        "template": {
         "data": {
          "bar": [
           {
            "error_x": {
             "color": "#2a3f5f"
            },
            "error_y": {
             "color": "#2a3f5f"
            },
            "marker": {
             "line": {
              "color": "#E5ECF6",
              "width": 0.5
             },
             "pattern": {
              "fillmode": "overlay",
              "size": 10,
              "solidity": 0.2
             }
            },
            "type": "bar"
           }
          ],
          "barpolar": [
           {
            "marker": {
             "line": {
              "color": "#E5ECF6",
              "width": 0.5
             },
             "pattern": {
              "fillmode": "overlay",
              "size": 10,
              "solidity": 0.2
             }
            },
            "type": "barpolar"
           }
          ],
          "carpet": [
           {
            "aaxis": {
             "endlinecolor": "#2a3f5f",
             "gridcolor": "white",
             "linecolor": "white",
             "minorgridcolor": "white",
             "startlinecolor": "#2a3f5f"
            },
            "baxis": {
             "endlinecolor": "#2a3f5f",
             "gridcolor": "white",
             "linecolor": "white",
             "minorgridcolor": "white",
             "startlinecolor": "#2a3f5f"
            },
            "type": "carpet"
           }
          ],
          "choropleth": [
           {
            "colorbar": {
             "outlinewidth": 0,
             "ticks": ""
            },
            "type": "choropleth"
           }
          ],
          "contour": [
           {
            "colorbar": {
             "outlinewidth": 0,
             "ticks": ""
            },
            "colorscale": [
             [
              0,
              "#0d0887"
             ],
             [
              0.1111111111111111,
              "#46039f"
             ],
             [
              0.2222222222222222,
              "#7201a8"
             ],
             [
              0.3333333333333333,
              "#9c179e"
             ],
             [
              0.4444444444444444,
              "#bd3786"
             ],
             [
              0.5555555555555556,
              "#d8576b"
             ],
             [
              0.6666666666666666,
              "#ed7953"
             ],
             [
              0.7777777777777778,
              "#fb9f3a"
             ],
             [
              0.8888888888888888,
              "#fdca26"
             ],
             [
              1,
              "#f0f921"
             ]
            ],
            "type": "contour"
           }
          ],
          "contourcarpet": [
           {
            "colorbar": {
             "outlinewidth": 0,
             "ticks": ""
            },
            "type": "contourcarpet"
           }
          ],
          "heatmap": [
           {
            "colorbar": {
             "outlinewidth": 0,
             "ticks": ""
            },
            "colorscale": [
             [
              0,
              "#0d0887"
             ],
             [
              0.1111111111111111,
              "#46039f"
             ],
             [
              0.2222222222222222,
              "#7201a8"
             ],
             [
              0.3333333333333333,
              "#9c179e"
             ],
             [
              0.4444444444444444,
              "#bd3786"
             ],
             [
              0.5555555555555556,
              "#d8576b"
             ],
             [
              0.6666666666666666,
              "#ed7953"
             ],
             [
              0.7777777777777778,
              "#fb9f3a"
             ],
             [
              0.8888888888888888,
              "#fdca26"
             ],
             [
              1,
              "#f0f921"
             ]
            ],
            "type": "heatmap"
           }
          ],
          "heatmapgl": [
           {
            "colorbar": {
             "outlinewidth": 0,
             "ticks": ""
            },
            "colorscale": [
             [
              0,
              "#0d0887"
             ],
             [
              0.1111111111111111,
              "#46039f"
             ],
             [
              0.2222222222222222,
              "#7201a8"
             ],
             [
              0.3333333333333333,
              "#9c179e"
             ],
             [
              0.4444444444444444,
              "#bd3786"
             ],
             [
              0.5555555555555556,
              "#d8576b"
             ],
             [
              0.6666666666666666,
              "#ed7953"
             ],
             [
              0.7777777777777778,
              "#fb9f3a"
             ],
             [
              0.8888888888888888,
              "#fdca26"
             ],
             [
              1,
              "#f0f921"
             ]
            ],
            "type": "heatmapgl"
           }
          ],
          "histogram": [
           {
            "marker": {
             "pattern": {
              "fillmode": "overlay",
              "size": 10,
              "solidity": 0.2
             }
            },
            "type": "histogram"
           }
          ],
          "histogram2d": [
           {
            "colorbar": {
             "outlinewidth": 0,
             "ticks": ""
            },
            "colorscale": [
             [
              0,
              "#0d0887"
             ],
             [
              0.1111111111111111,
              "#46039f"
             ],
             [
              0.2222222222222222,
              "#7201a8"
             ],
             [
              0.3333333333333333,
              "#9c179e"
             ],
             [
              0.4444444444444444,
              "#bd3786"
             ],
             [
              0.5555555555555556,
              "#d8576b"
             ],
             [
              0.6666666666666666,
              "#ed7953"
             ],
             [
              0.7777777777777778,
              "#fb9f3a"
             ],
             [
              0.8888888888888888,
              "#fdca26"
             ],
             [
              1,
              "#f0f921"
             ]
            ],
            "type": "histogram2d"
           }
          ],
          "histogram2dcontour": [
           {
            "colorbar": {
             "outlinewidth": 0,
             "ticks": ""
            },
            "colorscale": [
             [
              0,
              "#0d0887"
             ],
             [
              0.1111111111111111,
              "#46039f"
             ],
             [
              0.2222222222222222,
              "#7201a8"
             ],
             [
              0.3333333333333333,
              "#9c179e"
             ],
             [
              0.4444444444444444,
              "#bd3786"
             ],
             [
              0.5555555555555556,
              "#d8576b"
             ],
             [
              0.6666666666666666,
              "#ed7953"
             ],
             [
              0.7777777777777778,
              "#fb9f3a"
             ],
             [
              0.8888888888888888,
              "#fdca26"
             ],
             [
              1,
              "#f0f921"
             ]
            ],
            "type": "histogram2dcontour"
           }
          ],
          "mesh3d": [
           {
            "colorbar": {
             "outlinewidth": 0,
             "ticks": ""
            },
            "type": "mesh3d"
           }
          ],
          "parcoords": [
           {
            "line": {
             "colorbar": {
              "outlinewidth": 0,
              "ticks": ""
             }
            },
            "type": "parcoords"
           }
          ],
          "pie": [
           {
            "automargin": true,
            "type": "pie"
           }
          ],
          "scatter": [
           {
            "fillpattern": {
             "fillmode": "overlay",
             "size": 10,
             "solidity": 0.2
            },
            "type": "scatter"
           }
          ],
          "scatter3d": [
           {
            "line": {
             "colorbar": {
              "outlinewidth": 0,
              "ticks": ""
             }
            },
            "marker": {
             "colorbar": {
              "outlinewidth": 0,
              "ticks": ""
             }
            },
            "type": "scatter3d"
           }
          ],
          "scattercarpet": [
           {
            "marker": {
             "colorbar": {
              "outlinewidth": 0,
              "ticks": ""
             }
            },
            "type": "scattercarpet"
           }
          ],
          "scattergeo": [
           {
            "marker": {
             "colorbar": {
              "outlinewidth": 0,
              "ticks": ""
             }
            },
            "type": "scattergeo"
           }
          ],
          "scattergl": [
           {
            "marker": {
             "colorbar": {
              "outlinewidth": 0,
              "ticks": ""
             }
            },
            "type": "scattergl"
           }
          ],
          "scattermapbox": [
           {
            "marker": {
             "colorbar": {
              "outlinewidth": 0,
              "ticks": ""
             }
            },
            "type": "scattermapbox"
           }
          ],
          "scatterpolar": [
           {
            "marker": {
             "colorbar": {
              "outlinewidth": 0,
              "ticks": ""
             }
            },
            "type": "scatterpolar"
           }
          ],
          "scatterpolargl": [
           {
            "marker": {
             "colorbar": {
              "outlinewidth": 0,
              "ticks": ""
             }
            },
            "type": "scatterpolargl"
           }
          ],
          "scatterternary": [
           {
            "marker": {
             "colorbar": {
              "outlinewidth": 0,
              "ticks": ""
             }
            },
            "type": "scatterternary"
           }
          ],
          "surface": [
           {
            "colorbar": {
             "outlinewidth": 0,
             "ticks": ""
            },
            "colorscale": [
             [
              0,
              "#0d0887"
             ],
             [
              0.1111111111111111,
              "#46039f"
             ],
             [
              0.2222222222222222,
              "#7201a8"
             ],
             [
              0.3333333333333333,
              "#9c179e"
             ],
             [
              0.4444444444444444,
              "#bd3786"
             ],
             [
              0.5555555555555556,
              "#d8576b"
             ],
             [
              0.6666666666666666,
              "#ed7953"
             ],
             [
              0.7777777777777778,
              "#fb9f3a"
             ],
             [
              0.8888888888888888,
              "#fdca26"
             ],
             [
              1,
              "#f0f921"
             ]
            ],
            "type": "surface"
           }
          ],
          "table": [
           {
            "cells": {
             "fill": {
              "color": "#EBF0F8"
             },
             "line": {
              "color": "white"
             }
            },
            "header": {
             "fill": {
              "color": "#C8D4E3"
             },
             "line": {
              "color": "white"
             }
            },
            "type": "table"
           }
          ]
         },
         "layout": {
          "annotationdefaults": {
           "arrowcolor": "#2a3f5f",
           "arrowhead": 0,
           "arrowwidth": 1
          },
          "autotypenumbers": "strict",
          "coloraxis": {
           "colorbar": {
            "outlinewidth": 0,
            "ticks": ""
           }
          },
          "colorscale": {
           "diverging": [
            [
             0,
             "#8e0152"
            ],
            [
             0.1,
             "#c51b7d"
            ],
            [
             0.2,
             "#de77ae"
            ],
            [
             0.3,
             "#f1b6da"
            ],
            [
             0.4,
             "#fde0ef"
            ],
            [
             0.5,
             "#f7f7f7"
            ],
            [
             0.6,
             "#e6f5d0"
            ],
            [
             0.7,
             "#b8e186"
            ],
            [
             0.8,
             "#7fbc41"
            ],
            [
             0.9,
             "#4d9221"
            ],
            [
             1,
             "#276419"
            ]
           ],
           "sequential": [
            [
             0,
             "#0d0887"
            ],
            [
             0.1111111111111111,
             "#46039f"
            ],
            [
             0.2222222222222222,
             "#7201a8"
            ],
            [
             0.3333333333333333,
             "#9c179e"
            ],
            [
             0.4444444444444444,
             "#bd3786"
            ],
            [
             0.5555555555555556,
             "#d8576b"
            ],
            [
             0.6666666666666666,
             "#ed7953"
            ],
            [
             0.7777777777777778,
             "#fb9f3a"
            ],
            [
             0.8888888888888888,
             "#fdca26"
            ],
            [
             1,
             "#f0f921"
            ]
           ],
           "sequentialminus": [
            [
             0,
             "#0d0887"
            ],
            [
             0.1111111111111111,
             "#46039f"
            ],
            [
             0.2222222222222222,
             "#7201a8"
            ],
            [
             0.3333333333333333,
             "#9c179e"
            ],
            [
             0.4444444444444444,
             "#bd3786"
            ],
            [
             0.5555555555555556,
             "#d8576b"
            ],
            [
             0.6666666666666666,
             "#ed7953"
            ],
            [
             0.7777777777777778,
             "#fb9f3a"
            ],
            [
             0.8888888888888888,
             "#fdca26"
            ],
            [
             1,
             "#f0f921"
            ]
           ]
          },
          "colorway": [
           "#636efa",
           "#EF553B",
           "#00cc96",
           "#ab63fa",
           "#FFA15A",
           "#19d3f3",
           "#FF6692",
           "#B6E880",
           "#FF97FF",
           "#FECB52"
          ],
          "font": {
           "color": "#2a3f5f"
          },
          "geo": {
           "bgcolor": "white",
           "lakecolor": "white",
           "landcolor": "#E5ECF6",
           "showlakes": true,
           "showland": true,
           "subunitcolor": "white"
          },
          "hoverlabel": {
           "align": "left"
          },
          "hovermode": "closest",
          "mapbox": {
           "style": "light"
          },
          "paper_bgcolor": "white",
          "plot_bgcolor": "#E5ECF6",
          "polar": {
           "angularaxis": {
            "gridcolor": "white",
            "linecolor": "white",
            "ticks": ""
           },
           "bgcolor": "#E5ECF6",
           "radialaxis": {
            "gridcolor": "white",
            "linecolor": "white",
            "ticks": ""
           }
          },
          "scene": {
           "xaxis": {
            "backgroundcolor": "#E5ECF6",
            "gridcolor": "white",
            "gridwidth": 2,
            "linecolor": "white",
            "showbackground": true,
            "ticks": "",
            "zerolinecolor": "white"
           },
           "yaxis": {
            "backgroundcolor": "#E5ECF6",
            "gridcolor": "white",
            "gridwidth": 2,
            "linecolor": "white",
            "showbackground": true,
            "ticks": "",
            "zerolinecolor": "white"
           },
           "zaxis": {
            "backgroundcolor": "#E5ECF6",
            "gridcolor": "white",
            "gridwidth": 2,
            "linecolor": "white",
            "showbackground": true,
            "ticks": "",
            "zerolinecolor": "white"
           }
          },
          "shapedefaults": {
           "line": {
            "color": "#2a3f5f"
           }
          },
          "ternary": {
           "aaxis": {
            "gridcolor": "white",
            "linecolor": "white",
            "ticks": ""
           },
           "baxis": {
            "gridcolor": "white",
            "linecolor": "white",
            "ticks": ""
           },
           "bgcolor": "#E5ECF6",
           "caxis": {
            "gridcolor": "white",
            "linecolor": "white",
            "ticks": ""
           }
          },
          "title": {
           "x": 0.05
          },
          "xaxis": {
           "automargin": true,
           "gridcolor": "white",
           "linecolor": "white",
           "ticks": "",
           "title": {
            "standoff": 15
           },
           "zerolinecolor": "white",
           "zerolinewidth": 2
          },
          "yaxis": {
           "automargin": true,
           "gridcolor": "white",
           "linecolor": "white",
           "ticks": "",
           "title": {
            "standoff": 15
           },
           "zerolinecolor": "white",
           "zerolinewidth": 2
          }
         }
        },
        "title": {
         "text": "Number of mutations per read - lauren470_S1 - 3042-O-flank_1=hp1-DB"
        },
        "xaxis": {
         "anchor": "y",
         "domain": [
          0,
          1
         ],
         "title": {
          "text": "Number of mutations per read"
         }
        },
        "yaxis": {
         "anchor": "x",
         "domain": [
          0,
          1
         ],
         "title": {
          "text": "Count"
         }
        }
       }
      }
     },
     "metadata": {},
     "output_type": "display_data"
    }
   ],
   "source": [
    "%reload_ext autoreload\n",
    "###############\n",
    "# Parameters\n",
    "###############\n",
    "sample = 'lauren470_S1'\n",
    "construct = '3042-O-flank_1=hp1-DB'\n",
    "family = util.family_from_construct(construct)\n",
    "###############\n",
    "\n",
    "# Get data\n",
    "data = study.get_df(sample=sample, section='ROI', construct=construct)\n",
    "assert len(data) <= 1, 'More than one sequence found for {} - {}'.format(sample, construct)\n",
    "assert len(data) > 0, 'No sequence found for {} - {}'.format(sample, construct)\n",
    "data = data.iloc[0]\n",
    "\n",
    "# Construct info\n",
    "construct = construct\n",
    "sequence = data['sequence']\n",
    "type = 'Canonical base pair'\n",
    "gc_content = '{:.2f}%'.format(100*np.array([base in ['G','C'] for base in sequence]).mean())\n",
    "print('Construct info \\n ------------')\n",
    "print('Construct: {}'.format(construct))\n",
    "print('Sequence: {}'.format(sequence))\n",
    "print('Type: {}'.format(type))\n",
    "print('GC content: {}'.format(gc_content))\n",
    "print('')\n",
    "\n",
    "# Sample info\n",
    "library = 'TODO' # should be in samples.csv\n",
    "exp_env = data['exp_env']\n",
    "exp_env_name = 'cell_line' if exp_env == 'in_vivo' else 'buffer'\n",
    "exp_env_var = data['cell_line'] if exp_env == 'in_vivo' else data['buffer']\n",
    "DMS = data['DMS_conc_mM']\n",
    "reaction_time = data['inc_time_tot_secs']\n",
    "deltaG = data['deltaG']\n",
    "print('Library: {}'.format(library))\n",
    "print('Cell line: {}'.format(exp_env_var)) if exp_env == 'in_vivo' else print('Buffer: {}'.format(exp_env_var))\n",
    "print('DMS concentration: {} mM'.format(DMS))\n",
    "print('Reaction time: {} secs'.format(reaction_time))\n",
    "print('DeltaG: {}'.format(deltaG))\n",
    "print('')\n",
    "\n",
    "# Quality control\n",
    "num_reads = data['num_aligned']\n",
    "pearson_R_5_hp = get_avg_pearson_score_for_construct_in_family(study, sample, construct, 'MS2')\n",
    "pearson_R_3_hp = get_avg_pearson_score_for_construct_in_family(study, sample, construct, 'LAH')\n",
    "print('Number of reads: {}'.format(num_reads))\n",
    "print('Pearson R 5 hp: {}'.format(pearson_R_5_hp))\n",
    "print('Pearson R 3 hp: {}'.format(pearson_R_3_hp))\n",
    "print('')\n",
    "\n",
    "## Plots\n",
    "plots.read_coverage_per_position(study, sample, construct)['fig'].show()\n",
    "plots.mutation_fraction_at_each_position(study, sample, construct)['fig'].show()\n",
    "plots.mutation_identity_at_each_position(study, sample, construct)['fig'].show()\n",
    "plots.mutation_per_read_per_construct(study, sample, construct)['fig'].show()\n"
   ]
  }
 ],
 "metadata": {
  "kernelspec": {
   "display_name": "venv",
   "language": "python",
   "name": "python3"
  },
  "language_info": {
   "codemirror_mode": {
    "name": "ipython",
    "version": 3
   },
   "file_extension": ".py",
   "mimetype": "text/x-python",
   "name": "python",
   "nbconvert_exporter": "python",
   "pygments_lexer": "ipython3",
   "version": "3.11.0"
  },
  "orig_nbformat": 4,
  "vscode": {
   "interpreter": {
    "hash": "da229f0528e1c0d1c0b9dd42b2435d18e9f382f2b763d9e722ef981a0e650149"
   }
  }
 },
 "nbformat": 4,
 "nbformat_minor": 2
}
