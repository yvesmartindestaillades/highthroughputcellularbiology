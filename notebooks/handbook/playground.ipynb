{
 "cells": [
  {
   "attachments": {},
   "cell_type": "markdown",
   "metadata": {},
   "source": [
    "## Predict all structures and free energy"
   ]
  },
  {
   "cell_type": "code",
   "execution_count": 2,
   "metadata": {},
   "outputs": [
    {
     "ename": "ModuleNotFoundError",
     "evalue": "No module named 'rnastructure'",
     "output_type": "error",
     "traceback": [
      "\u001b[0;31m---------------------------------------------------------------------------\u001b[0m",
      "\u001b[0;31mModuleNotFoundError\u001b[0m                       Traceback (most recent call last)",
      "Cell \u001b[0;32mIn [2], line 5\u001b[0m\n\u001b[1;32m      3\u001b[0m \u001b[39mimport\u001b[39;00m \u001b[39mos\u001b[39;00m\n\u001b[1;32m      4\u001b[0m \u001b[39mfrom\u001b[39;00m \u001b[39mtqdm\u001b[39;00m \u001b[39mimport\u001b[39;00m tqdm\n\u001b[0;32m----> 5\u001b[0m \u001b[39mfrom\u001b[39;00m \u001b[39mrnastructure\u001b[39;00m \u001b[39mimport\u001b[39;00m RNAstructure\n\u001b[1;32m      7\u001b[0m path_data \u001b[39m=\u001b[39m \u001b[39m'\u001b[39m\u001b[39m/Users/ymdt/src/highthroughputcellularbiology/data 2\u001b[39m\u001b[39m'\u001b[39m\n\u001b[1;32m      8\u001b[0m path_out \u001b[39m=\u001b[39m \u001b[39m'\u001b[39m\u001b[39m/Users/ymdt/src/highthroughputcellularbiology/data\u001b[39m\u001b[39m'\u001b[39m\n",
      "\u001b[0;31mModuleNotFoundError\u001b[0m: No module named 'rnastructure'"
     ]
    }
   ],
   "source": [
    "# open all jsons in data_2\n",
    "import json\n",
    "import os\n",
    "from tqdm import tqdm\n",
    "import sys\n",
    "sys.path.append('../../src')\n",
    "from rnastructure import RNAstructure\n",
    "\n",
    "path_data = '/Users/ymdt/src/highthroughputcellularbiology/data 2'\n",
    "path_out = '/Users/ymdt/src/highthroughputcellularbiology/data'\n",
    "rna = RNAstructure('/Users/ymdt/src/RNAstructure/exe')\n",
    "os.system(f'rm -rf {path_out}')\n",
    "os.mkdir(path_out)\n",
    "for file in tqdm(os.listdir(path_data), desc='Loading data', unit='files', total=len(os.listdir(path_data))):\n",
    "    if file.endswith('.json'):   \n",
    "        with open(os.path.join(path_data, file)) as f:\n",
    "            data = json.load(f)\n",
    "            for k, v in tqdm(data.items(), desc='predicting free energy of '+file, unit='construct', total=len(data)):\n",
    "                if type(v) == dict:\n",
    "                    for k2, v2 in v.items():\n",
    "                        if type(v2) == dict:\n",
    "                            assert 'deltaG' in data[k][k2].keys(), f\"deltaG not in {k2}\"\n",
    "                            data[k][k2]['deltaG'], data[k][k2]['structure'] = rna.run(v2['sequence'])\n",
    "            json.dump(data, open(os.path.join(path_out, file), 'w'))"
   ]
  },
  {
   "attachments": {},
   "cell_type": "markdown",
   "metadata": {},
   "source": [
    "## Add library (5'UTR, 3'UTR, insert) to the data"
   ]
  },
  {
   "cell_type": "code",
   "execution_count": 2,
   "metadata": {},
   "outputs": [
    {
     "name": "stdout",
     "output_type": "stream",
     "text": [
      "Reading study from df.feather...\n",
      "Done reading study from df.feather.\n"
     ]
    }
   ],
   "source": [
    "\n",
    "%load_ext autoreload\n",
    "%autoreload 2\n",
    "import sys\n",
    "sys.path.append('../../src')\n",
    "import util\n",
    "from config import *\n",
    "import one_pager\n",
    "from study_gen import study\n",
    "\n",
    "df = study.df\n",
    "df['sample'].unique()\n",
    "df[df['exp_env']=='in_vitro']['sample'].unique()\n",
    "\n",
    "library = {}\n",
    "library['t7-insert'] = set(df[df['exp_env']=='in_vitro']['sample'])\n",
    "\n",
    "set(df['sample']) - set(df[df['exp_env']=='in_vitro']['sample'])\n",
    " \n",
    "library['5\\'utr'] = {\n",
    "                    '19_DMS_S9_L001',\n",
    "                    '19_RNA_S10_L001',\n",
    "                    '19_plasmid_S12_L001',\n",
    "                    'lauren472_S3',\n",
    "                    'lauren473_S4',\n",
    "                    'lauren475_S6',\n",
    "                    '36DMS_S2'\n",
    "                    }\n",
    "\n",
    "library['3\\'utr'] = set(df[df['exp_env']=='in_vivo']['sample']) - library['5\\'utr']\n",
    "\n",
    "assert len(set(df['sample'])) == len(set.union(*library.values()))\n",
    "assert len(set(df['sample'])) == sum([len(x) for x in library.values()])\n",
    "\n"
   ]
  },
  {
   "cell_type": "code",
   "execution_count": 3,
   "metadata": {},
   "outputs": [
    {
     "data": {
      "text/plain": [
       "('-0.6', '....((.......)).')"
      ]
     },
     "execution_count": 3,
     "metadata": {},
     "output_type": "execute_result"
    }
   ],
   "source": [
    "import sys\n",
    "sys.path.append('../../src')\n",
    "from rnastructure import RNAstructure\n",
    "rna = RNAstructure('/Users/ymdt/src/RNAstructure/exe')\n",
    "rna.run('GGACGCACGACGAGCA')"
   ]
  }
 ],
 "metadata": {
  "kernelspec": {
   "display_name": "venv",
   "language": "python",
   "name": "python3"
  },
  "language_info": {
   "codemirror_mode": {
    "name": "ipython",
    "version": 3
   },
   "file_extension": ".py",
   "mimetype": "text/x-python",
   "name": "python",
   "nbconvert_exporter": "python",
   "pygments_lexer": "ipython3",
   "version": "3.11.0"
  },
  "orig_nbformat": 4,
  "vscode": {
   "interpreter": {
    "hash": "da229f0528e1c0d1c0b9dd42b2435d18e9f382f2b763d9e722ef981a0e650149"
   }
  }
 },
 "nbformat": 4,
 "nbformat_minor": 2
}
