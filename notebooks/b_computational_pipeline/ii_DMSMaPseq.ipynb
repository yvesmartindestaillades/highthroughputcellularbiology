{
 "cells": [
  {
   "attachments": {},
   "cell_type": "markdown",
   "metadata": {},
   "source": [
    "# DMS-MaPseq"
   ]
  },
  {
   "cell_type": "code",
   "execution_count": null,
   "metadata": {},
   "outputs": [],
   "source": [
    "%load_ext autoreload\n",
    "%autoreload 2\n",
    "import sys\n",
    "sys.path.append('../../src')\n",
    "from util import *\n",
    "from config import *\n",
    "import plots\n",
    "import ipynbname"
   ]
  },
  {
   "attachments": {},
   "cell_type": "markdown",
   "metadata": {},
   "source": [
    "### # Mutations per read\n",
    "- histogram\n",
    "- x-axis = # mutations\n",
    "- y-axis = # reads\n"
   ]
  },
  {
   "cell_type": "code",
   "execution_count": null,
   "metadata": {},
   "outputs": [],
   "source": [
    "for sample in study.df['sample'].unique():\n",
    "    plots.mutations_per_read(study, sample)\n",
    "    savefig2(ipynbname.path(), '[A] Mutations per read/'+sample)\n",
    "    if not generate_plots:\n",
    "        break"
   ]
  },
  {
   "attachments": {},
   "cell_type": "markdown",
   "metadata": {},
   "source": [
    "### Mutation identity at each position\n",
    "- stacked bar graph (ACUG coloring)\n",
    "- x-axis = position (number/base/both??)\n",
    "- y-axis = # reads\n"
   ]
  },
  {
   "cell_type": "code",
   "execution_count": null,
   "metadata": {},
   "outputs": [],
   "source": [
    "%autoreload 2\n",
    "for sample in study.df['sample'].unique():\n",
    "    for construct in study.get_df(sample=sample)['construct'].unique():\n",
    "        plots.mutation_identity_at_each_position(study, sample, construct)\n",
    "        savefig2(ipynbname.path(), '[B] Mutation identity at each position/{}/{}'.format(sample, construct))\n",
    "        if not generate_plots:\n",
    "            break  \n",
    "    if not generate_plots:\n",
    "        break  "
   ]
  },
  {
   "attachments": {},
   "cell_type": "markdown",
   "metadata": {},
   "source": [
    "### Mutation fraction at each position \n",
    "- bar graph (ACUG coloring)\n",
    "- x-axis = position (number/base/both??)\n",
    "- y-axis = # reads\n"
   ]
  },
  {
   "cell_type": "code",
   "execution_count": null,
   "metadata": {},
   "outputs": [],
   "source": [
    "for sample in study.df['sample'].unique():\n",
    "    for construct in study.get_df(sample=sample)['construct'].unique():\n",
    "        plots.mutation_fraction_at_each_position(study, sample, construct)\n",
    "        savefig2(ipynbname.path(), '[C] Mutation fraction at each position/{}/{}'.format(sample, construct))\n",
    "        if not generate_plots:\n",
    "            break  \n",
    "    if not generate_plots:\n",
    "        break  "
   ]
  },
  {
   "attachments": {},
   "cell_type": "markdown",
   "metadata": {},
   "source": [
    "### Read coverage per position\n",
    "- bar graph\n",
    "- x-axis = position (number/base/both??)\n",
    "- y-axis = coverage fraction"
   ]
  },
  {
   "cell_type": "code",
   "execution_count": null,
   "metadata": {},
   "outputs": [],
   "source": [
    "\n",
    "for sample in study.df['sample'].unique():\n",
    "    for construct in study.get_df(sample=sample)['construct'].unique():\n",
    "        try:\n",
    "            plots.read_coverage_per_position(study, sample, construct)\n",
    "            savefig2(ipynbname.path(), '[D] Read coverage per position/{}/{}'.format(sample, construct))\n",
    "        except:\n",
    "            print('Error in sample {} construct {}'.format(sample, construct))\n",
    "        if not generate_plots:\n",
    "            break  \n",
    "    if not generate_plots:\n",
    "        break  "
   ]
  }
 ],
 "metadata": {
  "kernelspec": {
   "display_name": "venv",
   "language": "python",
   "name": "python3"
  },
  "language_info": {
   "codemirror_mode": {
    "name": "ipython",
    "version": 3
   },
   "file_extension": ".py",
   "mimetype": "text/x-python",
   "name": "python",
   "nbconvert_exporter": "python",
   "pygments_lexer": "ipython3",
   "version": "3.11.0"
  },
  "orig_nbformat": 4,
  "vscode": {
   "interpreter": {
    "hash": "da229f0528e1c0d1c0b9dd42b2435d18e9f382f2b763d9e722ef981a0e650149"
   }
  }
 },
 "nbformat": 4,
 "nbformat_minor": 2
}
