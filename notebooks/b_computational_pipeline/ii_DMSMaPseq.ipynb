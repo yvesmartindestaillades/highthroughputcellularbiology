{
 "cells": [
  {
   "attachments": {},
   "cell_type": "markdown",
   "metadata": {},
   "source": [
    "# DMS-MaPseq"
   ]
  },
  {
   "cell_type": "code",
   "execution_count": 1,
   "metadata": {},
   "outputs": [],
   "source": [
    "%load_ext autoreload\n",
    "%autoreload 2\n",
    "import sys\n",
    "sys.path.append('../../src')\n",
    "from util import *\n",
    "from config import *\n",
    "import plots\n",
    "import ipynbname\n",
    "\n",
    "import plotly.graph_objects as go\n",
    "from plotly.subplots import make_subplots"
   ]
  },
  {
   "attachments": {},
   "cell_type": "markdown",
   "metadata": {},
   "source": [
    "### # Mutations per read\n",
    "- histogram\n",
    "- x-axis = # mutations\n",
    "- y-axis = # reads\n"
   ]
  },
  {
   "cell_type": "code",
   "execution_count": null,
   "metadata": {},
   "outputs": [],
   "source": [
    "unique_samples = study.df['sample'].unique()\n",
    "fig = make_subplots(rows=len(unique_samples), cols=1, vertical_spacing=0.2/len(unique_samples),\n",
    "                     subplot_titles=['Number of mutations per read - {}'.format(sample) for sample in unique_samples])\n",
    "for i_s, sample in enumerate(unique_samples):\n",
    "    fig.add_trace( plots.mutations_per_read(study, sample), row=i_s+1, col=1 )\n",
    "    fig.update_yaxes(title='Count')\n",
    "    fig.update_xaxes(dtick=10)\n",
    "\n",
    "\n",
    "fig.update_layout(autosize=True, height=5000, title='Number of mutation per read across samples')\n",
    "\n",
    "save_plotly_fig(ipynbname.path(), '[A] Mutations per read', fig)\n",
    "# fig.show()"
   ]
  },
  {
   "cell_type": "code",
   "execution_count": null,
   "metadata": {},
   "outputs": [],
   "source": [
    "fig = make_subplots(cols=1, rows=2)\n",
    "\n",
    "x=[1,2,3]\n",
    "y1=[5,2,7]\n",
    "y2=[0,9,4]\n",
    "\n",
    "fig.add_trace( go.Bar(x=x, y=y1, showlegend=False), col=1, row=1 )\n",
    "fig.add_trace( go.Bar(x=x, y=y2, showlegend=False), col=1, row=1 )\n",
    "\n",
    "fig.add_trace( go.Bar(x=x, y=y1, showlegend=False), col=1, row=2 )\n",
    "fig.add_trace( go.Bar(x=x, y=y1, showlegend=False), col=1, row=2 )\n",
    "\n",
    "for trace, name in zip(fig[\"data\"][:2], ['A', 'B']):\n",
    "     trace.update(showlegend=True)\n",
    "     trace[\"name\"] = name\n",
    "\n",
    "fig.update_layout(barmode='stack')\n",
    "\n",
    "# fig.update_layout(legend=dict(x=0, y=1, traceindex = [0,1], font=dict(family=\"sans-serif\", size=12, color=\"black\"), bgcolor=\"white\", bordercolor=\"black\", borderwidth=2))"
   ]
  },
  {
   "attachments": {},
   "cell_type": "markdown",
   "metadata": {},
   "source": [
    "### Mutation identity at each position\n",
    "- stacked bar graph (ACUG coloring)\n",
    "- x-axis = position (number/base/both??)\n",
    "- y-axis = # reads\n"
   ]
  },
  {
   "cell_type": "code",
   "execution_count": null,
   "metadata": {},
   "outputs": [],
   "source": [
    "%autoreload 2\n",
    "for sample in study.df['sample'].unique():\n",
    "    \n",
    "    unique_constructs = study.get_df(sample=sample)['construct'].unique()\n",
    "    seg_len = 100\n",
    "    for i_seg in range(0, len(unique_constructs), seg_len):\n",
    "\n",
    "        sub_constructs = unique_constructs[i_seg:i_seg+seg_len]\n",
    "        print(i_seg, i_seg+seg_len)\n",
    "\n",
    "        fig = make_subplots(rows=len(sub_constructs), cols=1, vertical_spacing=0.2/len(sub_constructs),\n",
    "                            subplot_titles=['Mutation identity at each position - {} - {}'.format(sample, cst) for cst in sub_constructs])\n",
    "        for i_c, construct in enumerate(sub_constructs):\n",
    "            muts_identity = plots.mutation_identity_at_each_position(study, sample, construct)\n",
    "\n",
    "            for bar in muts_identity['fig']:\n",
    "                fig.add_trace( bar, row=i_c+1, col=1 )\n",
    "                \n",
    "            # savefig2(ipynbname.path(), '[B] Mutation identity at each position/{}/{}'.format(sample, construct))\n",
    "        for trace, name in zip(fig[\"data\"][:4], ['A','C','G','T']):\n",
    "            trace.update(showlegend=True)\n",
    "            trace[\"name\"] = name\n",
    "        \n",
    "        fig.update_xaxes(tickangle=0, tickvals=np.arange(len(muts_identity['data'].index)), ticktext=list(muts_identity['data'].index), tickfont={'size':8})\n",
    "        fig.update_yaxes(title='Mutation fraction')\n",
    "        fig.update_layout(barmode='stack', height=500*len(sub_constructs), width=1500)\n",
    "        save_plotly_fig(ipynbname.path(), '[B] Mutation identity at each position/{}/{}'.format(sample, i_seg), fig)\n",
    "        fig.show()\n",
    "        break\n",
    "    break"
   ]
  },
  {
   "attachments": {},
   "cell_type": "markdown",
   "metadata": {},
   "source": [
    "### Mutation fraction at each position \n",
    "- bar graph (ACUG coloring)\n",
    "- x-axis = position (number/base/both??)\n",
    "- y-axis = # reads\n"
   ]
  },
  {
   "cell_type": "code",
   "execution_count": null,
   "metadata": {},
   "outputs": [],
   "source": [
    "for sample in study.df['sample'].unique():\n",
    "    for construct in study.get_df(sample=sample)['construct'].unique():\n",
    "        plots.mutation_fraction_at_each_position(study, sample, construct)\n",
    "        savefig2(ipynbname.path(), '[C] Mutation fraction at each position/{}/{}'.format(sample, construct))\n",
    "        if not generate_plots:\n",
    "            break  \n",
    "    if not generate_plots:\n",
    "        break  "
   ]
  },
  {
   "attachments": {},
   "cell_type": "markdown",
   "metadata": {},
   "source": [
    "### Read coverage per position\n",
    "- bar graph\n",
    "- x-axis = position (number/base/both??)\n",
    "- y-axis = coverage fraction"
   ]
  },
  {
   "cell_type": "code",
   "execution_count": null,
   "metadata": {},
   "outputs": [],
   "source": [
    "\n",
    "for sample in study.df['sample'].unique():\n",
    "    for construct in study.get_df(sample=sample)['construct'].unique():\n",
    "        try:\n",
    "            plots.read_coverage_per_position(study, sample, construct)\n",
    "            savefig2(ipynbname.path(), '[D] Read coverage per position/{}/{}'.format(sample, construct))\n",
    "        except:\n",
    "            print('Error in sample {} construct {}'.format(sample, construct))\n",
    "        if not generate_plots:\n",
    "            break  \n",
    "    if not generate_plots:\n",
    "        break  "
   ]
  }
 ],
 "metadata": {
  "kernelspec": {
   "display_name": "venv",
   "language": "python",
   "name": "python3"
  },
  "language_info": {
   "codemirror_mode": {
    "name": "ipython",
    "version": 3
   },
   "file_extension": ".py",
   "mimetype": "text/x-python",
   "name": "python",
   "nbconvert_exporter": "python",
   "pygments_lexer": "ipython3",
   "version": "3.11.1"
  },
  "orig_nbformat": 4,
  "vscode": {
   "interpreter": {
    "hash": "da229f0528e1c0d1c0b9dd42b2435d18e9f382f2b763d9e722ef981a0e650149"
   }
  }
 },
 "nbformat": 4,
 "nbformat_minor": 2
}
