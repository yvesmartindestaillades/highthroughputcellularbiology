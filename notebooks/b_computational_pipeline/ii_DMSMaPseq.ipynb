{
 "cells": [
  {
   "attachments": {},
   "cell_type": "markdown",
   "metadata": {},
   "source": [
    "# DMS-MaPseq"
   ]
  },
  {
   "cell_type": "code",
   "execution_count": null,
   "metadata": {},
   "outputs": [],
   "source": [
    "%load_ext autoreload\n",
    "%autoreload 2\n",
    "import sys\n",
    "sys.path.append('../../src')\n",
    "from util import *\n",
    "from config import *\n",
    "import plots\n",
    "import ipynbname\n",
    "from study_gen import study\n",
    "\n",
    "import plotly.graph_objects as go\n",
    "from plotly.subplots import make_subplots"
   ]
  },
  {
   "attachments": {},
   "cell_type": "markdown",
   "metadata": {},
   "source": [
    "### # Mutations per read\n",
    "- histogram\n",
    "- x-axis = # mutations\n",
    "- y-axis = # reads\n"
   ]
  },
  {
   "cell_type": "code",
   "execution_count": null,
   "metadata": {},
   "outputs": [],
   "source": [
    "unique_samples = study.df['sample'].unique()\n",
    "fig = make_subplots(rows=len(unique_samples), cols=1, vertical_spacing=0.2/len(unique_samples),\n",
    "                     subplot_titles=['Number of mutations per read - {}'.format(sample) for sample in unique_samples])\n",
    "for i_s, sample in enumerate(unique_samples):\n",
    "    fig.add_trace( plots.mutations_per_read(study, sample), row=i_s+1, col=1 )\n",
    "    fig.update_yaxes(title='Count')\n",
    "    fig.update_xaxes(dtick=10)\n",
    "\n",
    "\n",
    "fig.update_layout(autosize=True, height=5000, title='Number of mutation per read across samples')\n",
    "\n",
    "save_plotly_fig(ipynbname.path(), '[A] Mutations per read', fig)\n",
    "# fig.show()"
   ]
  },
  {
   "attachments": {},
   "cell_type": "markdown",
   "metadata": {},
   "source": [
    "### Mutation identity at each position\n",
    "- stacked bar graph (ACUG coloring)\n",
    "- x-axis = position (number/base/both??)\n",
    "- y-axis = # reads\n"
   ]
  },
  {
   "cell_type": "code",
   "execution_count": null,
   "metadata": {},
   "outputs": [],
   "source": [
    "%autoreload 2\n",
    "for sample in study.df['sample'].unique():\n",
    "    \n",
    "    unique_families = study.get_df(sample=sample)['family'].unique()\n",
    "    for fam in unique_families:\n",
    "\n",
    "        unique_constructs = study.get_df(sample=sample, family=fam)['construct'].unique()\n",
    "\n",
    "        fig = make_subplots(rows=len(unique_constructs), cols=1, vertical_spacing=0.2/len(unique_constructs),\n",
    "                            subplot_titles=['Mutation identity at each position - {}'.format(cst) for cst in unique_constructs])\n",
    "        for i_c, construct in enumerate(unique_constructs):\n",
    "            muts_identity = plots.mutation_identity_at_each_position(study, sample, construct)\n",
    "\n",
    "            for bar in muts_identity['fig']:\n",
    "                fig.add_trace( bar, row=i_c+1, col=1 )\n",
    "            \n",
    "            fig.update_xaxes(tickangle=0, \n",
    "                    tickvals=np.arange(len(muts_identity['data'].index)), ticktext=list(muts_identity['data'].index), tickfont={'size':8},\n",
    "                    row=i_c+1, col=1)\n",
    "                \n",
    "        for trace, name in zip(fig[\"data\"][:4], ['A','C','G','T']):\n",
    "            trace.update(showlegend=True)\n",
    "            trace[\"name\"] = name\n",
    "        \n",
    "        fig.update_yaxes(title='Mutation fraction')\n",
    "        fig.update_layout(barmode='stack', height=500*len(unique_constructs), width=1500)\n",
    "        save_plotly_fig(ipynbname.path(), '[B] Mutation identity at each position/{}/{}'.format(sample, fam), fig)\n",
    "        fig.show()\n",
    "        break\n",
    "    break"
   ]
  },
  {
   "attachments": {},
   "cell_type": "markdown",
   "metadata": {},
   "source": [
    "### Mutation fraction at each position \n",
    "- bar graph (ACUG coloring)\n",
    "- x-axis = position (number/base/both??)\n",
    "- y-axis = # reads\n"
   ]
  },
  {
   "cell_type": "code",
   "execution_count": null,
   "metadata": {},
   "outputs": [],
   "source": [
    "for sample in study.df['sample'].unique():\n",
    "    \n",
    "    unique_families = study.get_df(sample=sample)['family'].unique()\n",
    "    for fam in unique_families:\n",
    "\n",
    "        unique_constructs = study.get_df(sample=sample, family=fam)['construct'].unique()\n",
    "\n",
    "        fig = make_subplots(rows=len(unique_constructs), cols=1, vertical_spacing=0.2/len(unique_constructs),\n",
    "                            subplot_titles=['Mutation fraction at each position - {}'.format(cst) for cst in unique_constructs])\n",
    "        for i_c, construct in enumerate(unique_constructs):\n",
    "            muts_identity = plots.mutation_fraction_at_each_position(study, sample, construct)\n",
    "\n",
    "            for bar in muts_identity['fig']:\n",
    "                fig.add_trace( bar, row=i_c+1, col=1 )\n",
    "            \n",
    "            fig.update_xaxes(tickangle=0, \n",
    "                    tickvals=np.arange(len(muts_identity['data'].index)), ticktext=list(muts_identity['data'].index), tickfont={'size':8},\n",
    "                    row=i_c+1, col=1)\n",
    "                \n",
    "        for trace, name in zip(fig[\"data\"][:4], ['A','C','G','T']):\n",
    "            trace.update(showlegend=True)\n",
    "            trace[\"name\"] = name\n",
    "        \n",
    "        fig.update_yaxes(title='Mutation fraction')\n",
    "        fig.update_layout(barmode='stack', height=500*len(unique_constructs), width=1500)\n",
    "        save_plotly_fig(ipynbname.path(), '[C] Mutation fraction at each position/{}/{}'.format(sample, fam), fig)\n",
    "    #     fig.show()\n",
    "    #     break\n",
    "    # break"
   ]
  },
  {
   "attachments": {},
   "cell_type": "markdown",
   "metadata": {},
   "source": [
    "### Read coverage per position\n",
    "- bar graph\n",
    "- x-axis = position (number/base/both??)\n",
    "- y-axis = coverage fraction"
   ]
  },
  {
   "cell_type": "code",
   "execution_count": null,
   "metadata": {},
   "outputs": [],
   "source": [
    "for sample in study.df['sample'].unique():\n",
    "    \n",
    "    unique_families = study.get_df(sample=sample)['family'].unique()\n",
    "    for fam in unique_families:\n",
    "\n",
    "        unique_constructs = study.get_df(sample=sample, family=fam)['construct'].unique()\n",
    "\n",
    "        fig = make_subplots(rows=len(unique_constructs), cols=1, vertical_spacing=0.2/len(unique_constructs),\n",
    "                            subplot_titles=['Read coverage per position - {}'.format(cst) for cst in unique_constructs])\n",
    "        for i_c, construct in enumerate(unique_constructs):\n",
    "            read_coverage = plots.read_coverage_per_position(study, sample, construct)\n",
    "\n",
    "            for bar in read_coverage['fig']:\n",
    "                fig.add_trace( bar, row=i_c+1, col=1 )\n",
    "        \n",
    "        # print a legend for each section\n",
    "        for trace, name in zip(fig[\"data\"][:len(read_coverage['data']['section'])], read_coverage['data']['section']):\n",
    "            trace.update(showlegend=True)\n",
    "            trace[\"name\"] = name\n",
    "        \n",
    "        fig.update_yaxes(title='Read coverage')\n",
    "        fig.update_layout(barmode='stack', height=500*len(unique_constructs), width=1300)\n",
    "        save_plotly_fig(ipynbname.path(), '[D] Read coverage per position/{}/{}'.format(sample, fam), fig)\n",
    "    #     fig.show()\n",
    "    #     break\n",
    "    # break"
   ]
  }
 ],
 "metadata": {
  "kernelspec": {
   "display_name": "venv",
   "language": "python",
   "name": "python3"
  },
  "language_info": {
   "codemirror_mode": {
    "name": "ipython",
    "version": 3
   },
   "file_extension": ".py",
   "mimetype": "text/x-python",
   "name": "python",
   "nbconvert_exporter": "python",
   "pygments_lexer": "ipython3",
   "version": "3.11.0 (v3.11.0:deaf509e8f, Oct 24 2022, 14:43:23) [Clang 13.0.0 (clang-1300.0.29.30)]"
  },
  "orig_nbformat": 4,
  "vscode": {
   "interpreter": {
    "hash": "da229f0528e1c0d1c0b9dd42b2435d18e9f382f2b763d9e722ef981a0e650149"
   }
  }
 },
 "nbformat": 4,
 "nbformat_minor": 2
}
