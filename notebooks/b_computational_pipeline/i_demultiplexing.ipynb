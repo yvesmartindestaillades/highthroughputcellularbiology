{
 "cells": [
  {
   "attachments": {},
   "cell_type": "markdown",
   "metadata": {
    "id": "kzUe9kdyAzUo"
   },
   "source": [
    "# Demultiplexing\n",
    "\n"
   ]
  },
  {
   "cell_type": "code",
   "execution_count": null,
   "metadata": {},
   "outputs": [],
   "source": [
    "%load_ext autoreload\n",
    "%autoreload 2\n",
    "import sys\n",
    "sys.path.append('../../src')\n",
    "from util import *\n",
    "from config import *\n",
    "import plots\n",
    "import ipynbname\n",
    "import matplotlib.pyplot as plt\n",
    "import json \n",
    "\n",
    "import plotly.graph_objects as go\n",
    "from plotly.subplots import make_subplots"
   ]
  },
  {
   "attachments": {},
   "cell_type": "markdown",
   "metadata": {},
   "source": [
    "### Mutations in barcodes\n",
    "- bar graph\n",
    "- x-axis = #mutations\n",
    "- y-axis = #reads\n",
    "- There should be more mutations in barcode when there is more DMS??\n"
   ]
  },
  {
   "cell_type": "code",
   "execution_count": null,
   "metadata": {},
   "outputs": [],
   "source": [
    "%autoreload 2\n",
    "unique_samples = study.df['sample'].unique()\n",
    "fig = make_subplots(rows=len(unique_samples), cols=1, vertical_spacing=0.2/len(unique_samples),\n",
    "                     subplot_titles=['Number of mutations in barcodes - {}'.format(sample) for sample in unique_samples])\n",
    "for i_s, sample in enumerate(unique_samples):\n",
    "    fig.add_trace( plots.mutations_in_barcodes(study, sample), row=i_s+1, col=1 )\n",
    "    fig.update_yaxes(type=\"log\", title='Count')\n",
    "    fig.update_xaxes(dtick=1)\n",
    "    # if not generate_plots:\n",
    "    #     break\n",
    "\n",
    "fig.update_layout(autosize=True, height=5000, title='Mutations in barcodes across samples')\n",
    "save_plotly_fig(ipynbname.path(), '[A] mutations in barcodes', fig)\n",
    "# fig.show()"
   ]
  },
  {
   "attachments": {},
   "cell_type": "markdown",
   "metadata": {},
   "source": [
    "### Reads used when X # mutations allowed in barcode\n",
    "- bar graph\n",
    "- x-axis = sample\n",
    "- y-axis = % reads recovered\n"
   ]
  },
  {
   "cell_type": "code",
   "execution_count": null,
   "metadata": {},
   "outputs": [],
   "source": [
    "# stacked plot using the 'sample' column and the 'num_of_mutations' column\n",
    "savefig2(ipynbname.path(), '[B] Reads used when X mutations allowed in barcode')"
   ]
  },
  {
   "attachments": {},
   "cell_type": "markdown",
   "metadata": {},
   "source": [
    "### % Template switched\n",
    "- bar graph\n",
    "- x-axis = sample\n",
    "- y-axis = % reads recovered\n",
    "- Is this +/- sequencing error?? May need to explain in text\n"
   ]
  },
  {
   "cell_type": "code",
   "execution_count": null,
   "metadata": {},
   "outputs": [],
   "source": [
    "\n",
    "savefig2(ipynbname.path(), '[C] Template switched reads')"
   ]
  },
  {
   "attachments": {},
   "cell_type": "markdown",
   "metadata": {},
   "source": [
    "### Final %reads recovered (combine b and c)\n",
    "- bar graph\n",
    "- x-axis = sample\n",
    "- y-axis = % reads recovered\n"
   ]
  },
  {
   "cell_type": "code",
   "execution_count": null,
   "metadata": {},
   "outputs": [],
   "source": [
    "\n",
    "savefig2(ipynbname.path(), '[D] % reads recovered')"
   ]
  },
  {
   "attachments": {},
   "cell_type": "markdown",
   "metadata": {},
   "source": [
    "### Num Aligned Reads per construct frequency distribution: \n",
    "- histogram\n",
    "- x-axis= # reads (binned)\n",
    "- y-axis = # constructs\n",
    "- Let’s also make a version with fraction of total reads\n"
   ]
  },
  {
   "cell_type": "code",
   "execution_count": null,
   "metadata": {},
   "outputs": [],
   "source": [
    "for sample in study.df['sample'].unique():\n",
    "    plots.num_aligned_reads_per_construct_frequency_distribution(study, sample)\n",
    "    savefig2(ipynbname.path(), '[E]  Num Reads per construct frequency distribution/{}'.format(sample))\n",
    "    if not generate_plots:\n",
    "        break"
   ]
  },
  {
   "attachments": {},
   "cell_type": "markdown",
   "metadata": {},
   "source": [
    "### Num Aligned Reads per construct:\n",
    "- bar graph\n",
    "- x-axis = Construct name/number\n",
    "- y-axis = # reads\n"
   ]
  },
  {
   "cell_type": "code",
   "execution_count": null,
   "metadata": {},
   "outputs": [],
   "source": [
    "for sample in study.df['sample'].unique():\n",
    "    plots.num_aligned_reads_per_construct(study, sample)\n",
    "    savefig2(ipynbname.path(), '[F]  Num Reads per construct/{}'.format(sample))\n",
    "    if not generate_plots:\n",
    "        break"
   ]
  }
 ],
 "metadata": {
  "colab": {
   "provenance": []
  },
  "kernelspec": {
   "display_name": "Python 3",
   "language": "python",
   "name": "python3"
  },
  "language_info": {
   "codemirror_mode": {
    "name": "ipython",
    "version": 3
   },
   "file_extension": ".py",
   "mimetype": "text/x-python",
   "name": "python",
   "nbconvert_exporter": "python",
   "pygments_lexer": "ipython3",
   "version": "3.11.1"
  },
  "vscode": {
   "interpreter": {
    "hash": "504d14d30f9136d1bd7245527e106d7a5d0ee4cf0ded86654b2885fd422c2aaa"
   }
  }
 },
 "nbformat": 4,
 "nbformat_minor": 0
}
