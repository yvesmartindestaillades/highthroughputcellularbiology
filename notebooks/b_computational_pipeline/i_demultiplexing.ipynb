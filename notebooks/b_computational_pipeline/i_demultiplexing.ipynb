{
 "cells": [
  {
   "attachments": {},
   "cell_type": "markdown",
   "metadata": {
    "id": "kzUe9kdyAzUo"
   },
   "source": [
    "# Demultiplexing\n",
    "\n"
   ]
  },
  {
   "cell_type": "code",
   "execution_count": 12,
   "metadata": {},
   "outputs": [
    {
     "name": "stdout",
     "output_type": "stream",
     "text": [
      "\n",
      "/Users/ymdt/src/highthroughputcellularbiology/notebooks/b_computational_pipeline/\n"
     ]
    }
   ],
   "source": [
    "import sys\n",
    "sys.path.append('../../src')\n",
    "from util import *\n",
    "from config import *\n",
    "import ipyparams\n",
    "currentNotebook = ipyparams.notebook_name\n",
    "print(currentNotebook)\n",
    "path = os.path.join(os.path.abspath(''), currentNotebook)\n",
    "print(path)\n",
    "import matplotlib.pyplot as plt"
   ]
  },
  {
   "attachments": {},
   "cell_type": "markdown",
   "metadata": {},
   "source": [
    "### Mutations in barcodes\n",
    "- bar graph\n",
    "- x-axis = #mutations\n",
    "- y-axis = #reads\n",
    "- There should be more mutations in barcode when there is more DMS??\n"
   ]
  },
  {
   "cell_type": "code",
   "execution_count": 7,
   "metadata": {},
   "outputs": [],
   "source": [
    "# plot by sample the 'num_of_mutations' column\n",
    "\n",
    "plt.plot([1,2,3],[9,8,7])\n",
    "savefig2(path, '[A] mutations in barcodes', close=generate_plots)"
   ]
  },
  {
   "attachments": {},
   "cell_type": "markdown",
   "metadata": {},
   "source": [
    "### Reads used when X # mutations allowed in barcode\n",
    "- bar graph\n",
    "- x-axis = sample\n",
    "- y-axis = % reads recovered\n"
   ]
  },
  {
   "cell_type": "code",
   "execution_count": null,
   "metadata": {},
   "outputs": [],
   "source": [
    "# stacked plot using the 'sample' column and the 'num_of_mutations' column\n",
    "\n",
    "savefig2(path, '[B] Reads used when X mutations allowed in barcode', close=generate_plots)"
   ]
  },
  {
   "attachments": {},
   "cell_type": "markdown",
   "metadata": {},
   "source": [
    "### % Template switched\n",
    "- bar graph\n",
    "- x-axis = sample\n",
    "- y-axis = % reads recovered\n",
    "- Is this +/- sequencing error?? May need to explain in text\n"
   ]
  },
  {
   "cell_type": "code",
   "execution_count": null,
   "metadata": {},
   "outputs": [],
   "source": [
    "\n",
    "savefig2(path, '[B] Reads used when X mutations allowed in barcode', close=generate_plots)"
   ]
  },
  {
   "attachments": {},
   "cell_type": "markdown",
   "metadata": {},
   "source": [
    "### Final %reads recovered (combine b and c)\n",
    "- bar graph\n",
    "- x-axis = sample\n",
    "- y-axis = % reads recovered\n"
   ]
  },
  {
   "cell_type": "code",
   "execution_count": 17,
   "metadata": {},
   "outputs": [
    {
     "data": {
      "text/plain": [
       "PosixPath('/Users/ymdt/src/highthroughputcellularbiology/notebooks/b_computational_pipeline')"
      ]
     },
     "execution_count": 17,
     "metadata": {},
     "output_type": "execute_result"
    }
   ],
   "source": []
  },
  {
   "attachments": {},
   "cell_type": "markdown",
   "metadata": {},
   "source": [
    "### Num Reads per construct frequency distribution: \n",
    "- histogram\n",
    "- x-axis= # reads (binned)\n",
    "- y-axis = # constructs\n",
    "- Let’s also make a version with fraction of total reads\n"
   ]
  },
  {
   "cell_type": "code",
   "execution_count": null,
   "metadata": {},
   "outputs": [],
   "source": []
  },
  {
   "attachments": {},
   "cell_type": "markdown",
   "metadata": {},
   "source": [
    "### Num Reads per construct:\n",
    "- bar graph\n",
    "- x-axis = Construct name/number\n",
    "- y-axis = # reads\n"
   ]
  },
  {
   "cell_type": "code",
   "execution_count": null,
   "metadata": {},
   "outputs": [],
   "source": []
  }
 ],
 "metadata": {
  "colab": {
   "provenance": []
  },
  "kernelspec": {
   "display_name": "venv",
   "language": "python",
   "name": "python3"
  },
  "language_info": {
   "codemirror_mode": {
    "name": "ipython",
    "version": 3
   },
   "file_extension": ".py",
   "mimetype": "text/x-python",
   "name": "python",
   "nbconvert_exporter": "python",
   "pygments_lexer": "ipython3",
   "version": "3.11.0"
  },
  "vscode": {
   "interpreter": {
    "hash": "da229f0528e1c0d1c0b9dd42b2435d18e9f382f2b763d9e722ef981a0e650149"
   }
  }
 },
 "nbformat": 4,
 "nbformat_minor": 0
}
