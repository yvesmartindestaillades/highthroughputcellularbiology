{
 "cells": [
  {
   "attachments": {},
   "cell_type": "markdown",
   "metadata": {
    "id": "kzUe9kdyAzUo"
   },
   "source": [
    "# Demultiplexing\n",
    "\n"
   ]
  },
  {
   "cell_type": "code",
   "execution_count": 2,
   "metadata": {},
   "outputs": [
    {
     "name": "stdout",
     "output_type": "stream",
     "text": [
      "The autoreload extension is already loaded. To reload it, use:\n",
      "  %reload_ext autoreload\n"
     ]
    },
    {
     "ename": "FileNotFoundError",
     "evalue": "[Errno 2] No such file or directory: '../data/dreem_output/'",
     "output_type": "error",
     "traceback": [
      "\u001b[0;31m---------------------------------------------------------------------------\u001b[0m",
      "\u001b[0;31mFileNotFoundError\u001b[0m                         Traceback (most recent call last)",
      "Cell \u001b[0;32mIn [2], line 5\u001b[0m\n\u001b[1;32m      3\u001b[0m \u001b[39mimport\u001b[39;00m \u001b[39msys\u001b[39;00m\n\u001b[1;32m      4\u001b[0m sys\u001b[39m.\u001b[39mpath\u001b[39m.\u001b[39mappend(\u001b[39m'\u001b[39m\u001b[39m../../src\u001b[39m\u001b[39m'\u001b[39m)\n\u001b[0;32m----> 5\u001b[0m \u001b[39mfrom\u001b[39;00m \u001b[39mutil\u001b[39;00m \u001b[39mimport\u001b[39;00m \u001b[39m*\u001b[39m\n\u001b[1;32m      6\u001b[0m \u001b[39mfrom\u001b[39;00m \u001b[39mconfig\u001b[39;00m \u001b[39mimport\u001b[39;00m \u001b[39m*\u001b[39m\n\u001b[1;32m      7\u001b[0m \u001b[39mimport\u001b[39;00m \u001b[39mplots\u001b[39;00m\n",
      "File \u001b[0;32m~/src/highthroughputcellularbiology/notebooks/b_computational_pipeline/../../src/util.py:7\u001b[0m\n\u001b[1;32m      5\u001b[0m \u001b[39mimport\u001b[39;00m \u001b[39mmatplotlib\u001b[39;00m\u001b[39m.\u001b[39;00m\u001b[39mpyplot\u001b[39;00m \u001b[39mas\u001b[39;00m \u001b[39mplt\u001b[39;00m\n\u001b[1;32m      6\u001b[0m \u001b[39mimport\u001b[39;00m \u001b[39mdatetime\u001b[39;00m\n\u001b[0;32m----> 7\u001b[0m \u001b[39mfrom\u001b[39;00m \u001b[39mconfig\u001b[39;00m \u001b[39mimport\u001b[39;00m version, generate_plots\n\u001b[1;32m      8\u001b[0m \u001b[39mfrom\u001b[39;00m \u001b[39mscipy\u001b[39;00m \u001b[39mimport\u001b[39;00m stats\n\u001b[1;32m      9\u001b[0m \u001b[39mfrom\u001b[39;00m \u001b[39msklearn\u001b[39;00m\u001b[39m.\u001b[39;00m\u001b[39mlinear_model\u001b[39;00m \u001b[39mimport\u001b[39;00m LinearRegression\n",
      "File \u001b[0;32m~/src/highthroughputcellularbiology/notebooks/b_computational_pipeline/../../src/config.py:36\u001b[0m\n\u001b[1;32m     32\u001b[0m saved_feather \u001b[39m=\u001b[39m path_data\u001b[39m+\u001b[39m\u001b[39m'\u001b[39m\u001b[39mdf.feather\u001b[39m\u001b[39m'\u001b[39m\n\u001b[1;32m     34\u001b[0m \u001b[39mif\u001b[39;00m \u001b[39mnot\u001b[39;00m os\u001b[39m.\u001b[39mpath\u001b[39m.\u001b[39mexists(saved_feather):\n\u001b[1;32m     35\u001b[0m     study \u001b[39m=\u001b[39m dreem\u001b[39m.\u001b[39mdraw\u001b[39m.\u001b[39mstudy\u001b[39m.\u001b[39mStudy(\n\u001b[0;32m---> 36\u001b[0m         data \u001b[39m=\u001b[39m [json\u001b[39m.\u001b[39mload(\u001b[39mopen\u001b[39m(path_data \u001b[39m+\u001b[39m f, \u001b[39m'\u001b[39m\u001b[39mr\u001b[39m\u001b[39m'\u001b[39m)) \u001b[39mfor\u001b[39;00m f \u001b[39min\u001b[39;00m os\u001b[39m.\u001b[39;49mlistdir(path_data) \u001b[39mif\u001b[39;00m f\u001b[39m.\u001b[39mendswith(\u001b[39m'\u001b[39m\u001b[39m.json\u001b[39m\u001b[39m'\u001b[39m)]\n\u001b[1;32m     37\u001b[0m     )\n\u001b[1;32m     38\u001b[0m     study\u001b[39m.\u001b[39mdf[\u001b[39m'\u001b[39m\u001b[39mdeltaG\u001b[39m\u001b[39m'\u001b[39m] \u001b[39m=\u001b[39m study\u001b[39m.\u001b[39mdf[\u001b[39m'\u001b[39m\u001b[39mdeltaG\u001b[39m\u001b[39m'\u001b[39m]\u001b[39m.\u001b[39mapply(\u001b[39mlambda\u001b[39;00m x: \u001b[39m0\u001b[39m \u001b[39mif\u001b[39;00m x \u001b[39m==\u001b[39m \u001b[39m'\u001b[39m\u001b[39mvoid\u001b[39m\u001b[39m'\u001b[39m \u001b[39melse\u001b[39;00m x)\n\u001b[1;32m     39\u001b[0m     study\u001b[39m.\u001b[39mdf\u001b[39m.\u001b[39mto_feather(saved_feather)\n",
      "\u001b[0;31mFileNotFoundError\u001b[0m: [Errno 2] No such file or directory: '../data/dreem_output/'"
     ]
    }
   ],
   "source": [
    "%load_ext autoreload\n",
    "%autoreload 2\n",
    "import sys\n",
    "sys.path.append('../../src')\n",
    "from util import *\n",
    "from config import *\n",
    "import plots\n",
    "import ipynbname\n",
    "import matplotlib.pyplot as plt\n",
    "import json "
   ]
  },
  {
   "attachments": {},
   "cell_type": "markdown",
   "metadata": {},
   "source": [
    "### Mutations in barcodes\n",
    "- bar graph\n",
    "- x-axis = #mutations\n",
    "- y-axis = #reads\n",
    "- There should be more mutations in barcode when there is more DMS??\n"
   ]
  },
  {
   "cell_type": "code",
   "execution_count": 10,
   "metadata": {},
   "outputs": [],
   "source": [
    "%autoreload 2\n",
    "for sample in study.df['sample'].unique():\n",
    "    plots.mutations_in_barcodes(study, sample)\n",
    "    savefig2(ipynbname.path(), '[A] mutations in barcodes/{}'.format(sample))\n",
    "    if not generate_plots:\n",
    "        break"
   ]
  },
  {
   "attachments": {},
   "cell_type": "markdown",
   "metadata": {},
   "source": [
    "### Reads used when X # mutations allowed in barcode\n",
    "- bar graph\n",
    "- x-axis = sample\n",
    "- y-axis = % reads recovered\n"
   ]
  },
  {
   "cell_type": "code",
   "execution_count": 11,
   "metadata": {},
   "outputs": [],
   "source": [
    "# stacked plot using the 'sample' column and the 'num_of_mutations' column\n",
    "savefig2(ipynbname.path(), '[B] Reads used when X mutations allowed in barcode')"
   ]
  },
  {
   "attachments": {},
   "cell_type": "markdown",
   "metadata": {},
   "source": [
    "### % Template switched\n",
    "- bar graph\n",
    "- x-axis = sample\n",
    "- y-axis = % reads recovered\n",
    "- Is this +/- sequencing error?? May need to explain in text\n"
   ]
  },
  {
   "cell_type": "code",
   "execution_count": 12,
   "metadata": {},
   "outputs": [],
   "source": [
    "\n",
    "savefig2(ipynbname.path(), '[C] Template switched reads')"
   ]
  },
  {
   "attachments": {},
   "cell_type": "markdown",
   "metadata": {},
   "source": [
    "### Final %reads recovered (combine b and c)\n",
    "- bar graph\n",
    "- x-axis = sample\n",
    "- y-axis = % reads recovered\n"
   ]
  },
  {
   "cell_type": "code",
   "execution_count": 13,
   "metadata": {},
   "outputs": [],
   "source": [
    "\n",
    "savefig2(ipynbname.path(), '[D] % reads recovered')"
   ]
  },
  {
   "attachments": {},
   "cell_type": "markdown",
   "metadata": {},
   "source": [
    "### Num Aligned Reads per construct frequency distribution: \n",
    "- histogram\n",
    "- x-axis= # reads (binned)\n",
    "- y-axis = # constructs\n",
    "- Let’s also make a version with fraction of total reads\n"
   ]
  },
  {
   "cell_type": "code",
   "execution_count": 14,
   "metadata": {},
   "outputs": [],
   "source": [
    "for sample in study.df['sample'].unique():\n",
    "    plots.num_aligned_reads_per_construct_frequency_distribution(study, sample)\n",
    "    savefig2(ipynbname.path(), '[E]  Num Reads per construct frequency distribution/{}'.format(sample))\n",
    "    if not generate_plots:\n",
    "        break"
   ]
  },
  {
   "attachments": {},
   "cell_type": "markdown",
   "metadata": {},
   "source": [
    "### Num Aligned Reads per construct:\n",
    "- bar graph\n",
    "- x-axis = Construct name/number\n",
    "- y-axis = # reads\n"
   ]
  },
  {
   "cell_type": "code",
   "execution_count": 15,
   "metadata": {},
   "outputs": [],
   "source": [
    "for sample in study.df['sample'].unique():\n",
    "    plots.num_aligned_reads_per_construct(study, sample)\n",
    "    savefig2(ipynbname.path(), '[F]  Num Reads per construct/{}'.format(sample))\n",
    "    if not generate_plots:\n",
    "        break"
   ]
  }
 ],
 "metadata": {
  "colab": {
   "provenance": []
  },
  "kernelspec": {
   "display_name": "venv",
   "language": "python",
   "name": "python3"
  },
  "language_info": {
   "codemirror_mode": {
    "name": "ipython",
    "version": 3
   },
   "file_extension": ".py",
   "mimetype": "text/x-python",
   "name": "python",
   "nbconvert_exporter": "python",
   "pygments_lexer": "ipython3",
   "version": "3.11.0"
  },
  "vscode": {
   "interpreter": {
    "hash": "da229f0528e1c0d1c0b9dd42b2435d18e9f382f2b763d9e722ef981a0e650149"
   }
  }
 },
 "nbformat": 4,
 "nbformat_minor": 0
}
