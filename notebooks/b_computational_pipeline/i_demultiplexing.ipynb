{
 "cells": [
  {
   "attachments": {},
   "cell_type": "markdown",
   "metadata": {
    "id": "kzUe9kdyAzUo"
   },
   "source": [
    "# Demultiplexing\n",
    "\n"
   ]
  },
  {
   "cell_type": "code",
   "execution_count": 1,
   "metadata": {},
   "outputs": [],
   "source": [
    "%load_ext autoreload\n",
    "%autoreload 2\n",
    "import sys\n",
    "sys.path.append('../../src')\n",
    "from util import *\n",
    "from config import *\n",
    "import plots\n",
    "import ipynbname\n",
    "import matplotlib.pyplot as plt\n",
    "import json "
   ]
  },
  {
   "attachments": {},
   "cell_type": "markdown",
   "metadata": {},
   "source": [
    "### Mutations in barcodes\n",
    "- bar graph\n",
    "- x-axis = #mutations\n",
    "- y-axis = #reads\n",
    "- There should be more mutations in barcode when there is more DMS??\n"
   ]
  },
  {
   "cell_type": "code",
   "execution_count": 2,
   "metadata": {},
   "outputs": [],
   "source": [
    "%autoreload 2\n",
    "for sample in study.df['sample'].unique():\n",
    "    plots.mutations_in_barcodes(study, sample)\n",
    "    savefig2(ipynbname.path(), '[A] mutations in barcodes/{}'.format(sample))\n",
    "    if not generate_plots:\n",
    "        break"
   ]
  },
  {
   "attachments": {},
   "cell_type": "markdown",
   "metadata": {},
   "source": [
    "### Reads used when X # mutations allowed in barcode\n",
    "- bar graph\n",
    "- x-axis = sample\n",
    "- y-axis = % reads recovered\n"
   ]
  },
  {
   "cell_type": "code",
   "execution_count": 3,
   "metadata": {},
   "outputs": [],
   "source": [
    "# stacked plot using the 'sample' column and the 'num_of_mutations' column\n",
    "savefig2(ipynbname.path(), '[B] Reads used when X mutations allowed in barcode')"
   ]
  },
  {
   "attachments": {},
   "cell_type": "markdown",
   "metadata": {},
   "source": [
    "### % Template switched\n",
    "- bar graph\n",
    "- x-axis = sample\n",
    "- y-axis = % reads recovered\n",
    "- Is this +/- sequencing error?? May need to explain in text\n"
   ]
  },
  {
   "cell_type": "code",
   "execution_count": 4,
   "metadata": {},
   "outputs": [],
   "source": [
    "\n",
    "savefig2(ipynbname.path(), '[C] Template switched reads')"
   ]
  },
  {
   "attachments": {},
   "cell_type": "markdown",
   "metadata": {},
   "source": [
    "### Final %reads recovered (combine b and c)\n",
    "- bar graph\n",
    "- x-axis = sample\n",
    "- y-axis = % reads recovered\n"
   ]
  },
  {
   "cell_type": "code",
   "execution_count": 5,
   "metadata": {},
   "outputs": [],
   "source": [
    "\n",
    "savefig2(ipynbname.path(), '[D] % reads recovered')"
   ]
  },
  {
   "attachments": {},
   "cell_type": "markdown",
   "metadata": {},
   "source": [
    "### Num Aligned Reads per construct frequency distribution: \n",
    "- histogram\n",
    "- x-axis= # reads (binned)\n",
    "- y-axis = # constructs\n",
    "- Let’s also make a version with fraction of total reads\n"
   ]
  },
  {
   "cell_type": "code",
   "execution_count": 6,
   "metadata": {},
   "outputs": [],
   "source": [
    "for sample in study.df['sample'].unique():\n",
    "    plots.num_aligned_reads_per_construct_frequency_distribution(study, sample)\n",
    "    savefig2(ipynbname.path(), '[E]  Num Reads per construct frequency distribution/{}'.format(sample))\n",
    "    if not generate_plots:\n",
    "        break"
   ]
  },
  {
   "attachments": {},
   "cell_type": "markdown",
   "metadata": {},
   "source": [
    "### Num Aligned Reads per construct:\n",
    "- bar graph\n",
    "- x-axis = Construct name/number\n",
    "- y-axis = # reads\n"
   ]
  },
  {
   "cell_type": "code",
   "execution_count": 7,
   "metadata": {},
   "outputs": [],
   "source": [
    "for sample in study.df['sample'].unique():\n",
    "    plots.num_aligned_reads_per_construct(study, sample)\n",
    "    savefig2(ipynbname.path(), '[F]  Num Reads per construct/{}'.format(sample))\n",
    "    if not generate_plots:\n",
    "        break"
   ]
  }
 ],
 "metadata": {
  "colab": {
   "provenance": []
  },
  "kernelspec": {
   "display_name": "venv",
   "language": "python",
   "name": "python3"
  },
  "language_info": {
   "codemirror_mode": {
    "name": "ipython",
    "version": 3
   },
   "file_extension": ".py",
   "mimetype": "text/x-python",
   "name": "python",
   "nbconvert_exporter": "python",
   "pygments_lexer": "ipython3",
   "version": "3.11.0"
  },
  "vscode": {
   "interpreter": {
    "hash": "da229f0528e1c0d1c0b9dd42b2435d18e9f382f2b763d9e722ef981a0e650149"
   }
  }
 },
 "nbformat": 4,
 "nbformat_minor": 0
}
