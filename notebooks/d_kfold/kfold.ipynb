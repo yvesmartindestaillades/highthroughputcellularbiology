{
 "cells": [
  {
   "attachments": {},
   "cell_type": "markdown",
   "metadata": {},
   "source": [
    "# How we get Kfold for one family\n",
    "\n",
    "**Note: first run of this cell takes a while**"
   ]
  },
  {
   "cell_type": "code",
   "execution_count": 13,
   "metadata": {},
   "outputs": [
    {
     "name": "stdout",
     "output_type": "stream",
     "text": [
      "The autoreload extension is already loaded. To reload it, use:\n",
      "  %reload_ext autoreload\n"
     ]
    }
   ],
   "source": [
    "%load_ext autoreload\n",
    "%autoreload 2\n",
    "import sys\n",
    "sys.path.append('../../src')\n",
    "from util import *\n",
    "from config import *\n",
    "from study_gen import study\n",
    "import plots\n",
    "import generate_dataset\n",
    "import ipynbname\n"
   ]
  },
  {
   "cell_type": "markdown",
   "metadata": {},
   "source": [
    "\n",
    "### Heatmap across family members with all bases\n"
   ]
  },
  {
   "cell_type": "code",
   "execution_count": 16,
   "metadata": {},
   "outputs": [
    {
     "name": "stdout",
     "output_type": "stream",
     "text": [
      "             sample family                    construct  frame_shift_ROI  \\\n",
      "0    01_1_S22_reads    hp1        3042-O-flank_1=hp1-DB              0.0   \n",
      "1    01_1_S22_reads    hp1       3043-CC-flank_1=hp1-DB              0.0   \n",
      "2    01_1_S22_reads    hp1        3044-O-flank_1=hp1-DB              1.0   \n",
      "3    01_1_S22_reads    hp1       3045-CC-flank_1=hp1-DB              1.0   \n",
      "4    01_1_S22_reads    hp1        3046-O-flank_1=hp1-DB              2.0   \n",
      "..              ...    ...                          ...              ...   \n",
      "623  01_1_S22_reads   bi12  3666-O-flank_1=bi12-kshv-DB              8.0   \n",
      "624  01_1_S22_reads   bi12  3667-O-flank_1=bi12-kshv-DB              9.0   \n",
      "625  01_1_S22_reads   bi12  3668-O-flank_1=bi12-kshv-DB             10.0   \n",
      "626  01_1_S22_reads   bi12  3669-O-flank_1=bi12-kshv-DB             11.0   \n",
      "627  01_1_S22_reads   bi12  3670-O-flank_1=bi12-kshv-DB             12.0   \n",
      "\n",
      "                                             mut_rates                sequence  \n",
      "0    [[0.0023004600920184036, 0.0017011908335835084...  AAGATATTCGAAAGAATATCTT  \n",
      "1    [[0.0034761217177389165, 0.0014424618014745164...  AAGATATTCGAAAGAATATCTT  \n",
      "2    [[nan, 0.0032633525508539104, 0.01016504536014...    AGATATTCGAAAGAATATCT  \n",
      "3    [[nan, 0.0018835476209974613, 0.01011762770420...    AGATATTCGAAAGAATATCT  \n",
      "4    [[nan, nan, 0.018468118195956455, 0.0018491484...      GATATTCGAAAGAATATC  \n",
      "..                                                 ...                     ...  \n",
      "623  [[nan, nan, nan, nan, nan, nan, nan, nan, 0.01...            CGGACACCTCCA  \n",
      "624  [[nan, nan, nan, nan, nan, nan, nan, nan, nan,...              GGACACCTCC  \n",
      "625  [[nan, nan, nan, nan, nan, nan, nan, nan, nan,...                GACACCTC  \n",
      "626  [[nan, nan, nan, nan, nan, nan, nan, nan, nan,...                  ACACCT  \n",
      "627  [[nan, nan, nan, nan, nan, nan, nan, nan, nan,...                    CACC  \n",
      "\n",
      "[628 rows x 6 columns]\n"
     ]
    },
    {
     "ename": "ValueError",
     "evalue": "Shape of passed values is (12, 1), indices imply (12, 22)",
     "output_type": "error",
     "traceback": [
      "\u001b[0;31m---------------------------------------------------------------------------\u001b[0m",
      "\u001b[0;31mValueError\u001b[0m                                Traceback (most recent call last)",
      "Cell \u001b[0;32mIn [16], line 5\u001b[0m\n\u001b[1;32m      3\u001b[0m \u001b[39m#########################\u001b[39;00m\n\u001b[1;32m      4\u001b[0m get_ipython()\u001b[39m.\u001b[39mrun_line_magic(\u001b[39m'\u001b[39m\u001b[39mreload_ext\u001b[39m\u001b[39m'\u001b[39m, \u001b[39m'\u001b[39m\u001b[39mautoreload\u001b[39m\u001b[39m'\u001b[39m)\n\u001b[0;32m----> 5\u001b[0m plot \u001b[39m=\u001b[39m plots\u001b[39m.\u001b[39;49mheatmap_across_family_members(study, sample)\n\u001b[1;32m      6\u001b[0m save_plotly_fig(ipynbname\u001b[39m.\u001b[39mpath(), \u001b[39m'\u001b[39m\u001b[39m[A] Heatmap across family members with all bases/\u001b[39m\u001b[39m{}\u001b[39;00m\u001b[39m'\u001b[39m\u001b[39m.\u001b[39mformat(sample), plot[\u001b[39m'\u001b[39m\u001b[39mfig\u001b[39m\u001b[39m'\u001b[39m])\n\u001b[1;32m      7\u001b[0m plot[\u001b[39m'\u001b[39m\u001b[39mfig\u001b[39m\u001b[39m'\u001b[39m]\u001b[39m.\u001b[39mshow()\n",
      "File \u001b[0;32m~/src/highthroughputcellularbiology/notebooks/d_kfold/../../src/plots.py:764\u001b[0m, in \u001b[0;36mheatmap_across_family_members\u001b[0;34m(study, sample)\u001b[0m\n\u001b[1;32m    761\u001b[0m sequences_ROI \u001b[39m=\u001b[39m data_all_samples\u001b[39m.\u001b[39msort_values(\u001b[39m'\u001b[39m\u001b[39msequence\u001b[39m\u001b[39m'\u001b[39m, key\u001b[39m=\u001b[39m\u001b[39mlambda\u001b[39;00m x: x\u001b[39m.\u001b[39mstr\u001b[39m.\u001b[39mlen(), ascending\u001b[39m=\u001b[39m\u001b[39mFalse\u001b[39;00m)[\u001b[39m'\u001b[39m\u001b[39msequence\u001b[39m\u001b[39m'\u001b[39m]\u001b[39m.\u001b[39mvalues\n\u001b[1;32m    762\u001b[0m reference \u001b[39m=\u001b[39m sequences_ROI[\u001b[39m0\u001b[39m]\n\u001b[0;32m--> 764\u001b[0m df \u001b[39m=\u001b[39m pd\u001b[39m.\u001b[39;49mDataFrame(\n\u001b[1;32m    765\u001b[0m     columns \u001b[39m=\u001b[39;49m [base \u001b[39m+\u001b[39;49m \u001b[39mstr\u001b[39;49m(idx \u001b[39m+\u001b[39;49m \u001b[39m1\u001b[39;49m) \u001b[39mfor\u001b[39;49;00m base, idx \u001b[39min\u001b[39;49;00m \u001b[39mzip\u001b[39;49m(reference, \u001b[39mrange\u001b[39;49m(\u001b[39mlen\u001b[39;49m(reference)))],\n\u001b[1;32m    766\u001b[0m     data \u001b[39m=\u001b[39;49m data[\u001b[39m'\u001b[39;49m\u001b[39mmut_rates\u001b[39;49m\u001b[39m'\u001b[39;49m]\u001b[39m.\u001b[39;49mvalues,\n\u001b[1;32m    767\u001b[0m     index \u001b[39m=\u001b[39;49m data[\u001b[39m'\u001b[39;49m\u001b[39mconstruct\u001b[39;49m\u001b[39m'\u001b[39;49m]\u001b[39m.\u001b[39;49mvalues \n\u001b[1;32m    768\u001b[0m )\u001b[39m.\u001b[39msort_index(ascending\u001b[39m=\u001b[39m\u001b[39mFalse\u001b[39;00m)\n\u001b[1;32m    771\u001b[0m fig\u001b[39m.\u001b[39madd_trace(go\u001b[39m.\u001b[39mHeatmap(\n\u001b[1;32m    772\u001b[0m     z \u001b[39m=\u001b[39m df\u001b[39m.\u001b[39mvalues,\n\u001b[1;32m    773\u001b[0m     x \u001b[39m=\u001b[39m df\u001b[39m.\u001b[39mcolumns,\n\u001b[0;32m   (...)\u001b[0m\n\u001b[1;32m    788\u001b[0m     hovertemplate \u001b[39m=\u001b[39m \u001b[39m'\u001b[39m\u001b[39mConstruct: \u001b[39m\u001b[39m%\u001b[39m\u001b[39m{y}\u001b[39;00m\u001b[39m<br>Base: \u001b[39m\u001b[39m%\u001b[39m\u001b[39m{x}\u001b[39;00m\u001b[39m<br>Mutation fraction: \u001b[39m\u001b[39m%\u001b[39m\u001b[39m{z:.2f}\u001b[39;00m\u001b[39m<extra></extra>\u001b[39m\u001b[39m'\u001b[39m,\n\u001b[1;32m    789\u001b[0m ))\n\u001b[1;32m    792\u001b[0m \u001b[39m# place the xticks on top of the plot\u001b[39;00m\n",
      "File \u001b[0;32m~/src/highthroughputcellularbiology/venv/lib/python3.11/site-packages/pandas/core/frame.py:721\u001b[0m, in \u001b[0;36mDataFrame.__init__\u001b[0;34m(self, data, index, columns, dtype, copy)\u001b[0m\n\u001b[1;32m    711\u001b[0m         mgr \u001b[39m=\u001b[39m dict_to_mgr(\n\u001b[1;32m    712\u001b[0m             \u001b[39m# error: Item \"ndarray\" of \"Union[ndarray, Series, Index]\" has no\u001b[39;00m\n\u001b[1;32m    713\u001b[0m             \u001b[39m# attribute \"name\"\u001b[39;00m\n\u001b[0;32m   (...)\u001b[0m\n\u001b[1;32m    718\u001b[0m             typ\u001b[39m=\u001b[39mmanager,\n\u001b[1;32m    719\u001b[0m         )\n\u001b[1;32m    720\u001b[0m     \u001b[39melse\u001b[39;00m:\n\u001b[0;32m--> 721\u001b[0m         mgr \u001b[39m=\u001b[39m ndarray_to_mgr(\n\u001b[1;32m    722\u001b[0m             data,\n\u001b[1;32m    723\u001b[0m             index,\n\u001b[1;32m    724\u001b[0m             columns,\n\u001b[1;32m    725\u001b[0m             dtype\u001b[39m=\u001b[39;49mdtype,\n\u001b[1;32m    726\u001b[0m             copy\u001b[39m=\u001b[39;49mcopy,\n\u001b[1;32m    727\u001b[0m             typ\u001b[39m=\u001b[39;49mmanager,\n\u001b[1;32m    728\u001b[0m         )\n\u001b[1;32m    730\u001b[0m \u001b[39m# For data is list-like, or Iterable (will consume into list)\u001b[39;00m\n\u001b[1;32m    731\u001b[0m \u001b[39melif\u001b[39;00m is_list_like(data):\n",
      "File \u001b[0;32m~/src/highthroughputcellularbiology/venv/lib/python3.11/site-packages/pandas/core/internals/construction.py:349\u001b[0m, in \u001b[0;36mndarray_to_mgr\u001b[0;34m(values, index, columns, dtype, copy, typ)\u001b[0m\n\u001b[1;32m    344\u001b[0m \u001b[39m# _prep_ndarraylike ensures that values.ndim == 2 at this point\u001b[39;00m\n\u001b[1;32m    345\u001b[0m index, columns \u001b[39m=\u001b[39m _get_axes(\n\u001b[1;32m    346\u001b[0m     values\u001b[39m.\u001b[39mshape[\u001b[39m0\u001b[39m], values\u001b[39m.\u001b[39mshape[\u001b[39m1\u001b[39m], index\u001b[39m=\u001b[39mindex, columns\u001b[39m=\u001b[39mcolumns\n\u001b[1;32m    347\u001b[0m )\n\u001b[0;32m--> 349\u001b[0m _check_values_indices_shape_match(values, index, columns)\n\u001b[1;32m    351\u001b[0m \u001b[39mif\u001b[39;00m typ \u001b[39m==\u001b[39m \u001b[39m\"\u001b[39m\u001b[39marray\u001b[39m\u001b[39m\"\u001b[39m:\n\u001b[1;32m    353\u001b[0m     \u001b[39mif\u001b[39;00m \u001b[39missubclass\u001b[39m(values\u001b[39m.\u001b[39mdtype\u001b[39m.\u001b[39mtype, \u001b[39mstr\u001b[39m):\n",
      "File \u001b[0;32m~/src/highthroughputcellularbiology/venv/lib/python3.11/site-packages/pandas/core/internals/construction.py:420\u001b[0m, in \u001b[0;36m_check_values_indices_shape_match\u001b[0;34m(values, index, columns)\u001b[0m\n\u001b[1;32m    418\u001b[0m passed \u001b[39m=\u001b[39m values\u001b[39m.\u001b[39mshape\n\u001b[1;32m    419\u001b[0m implied \u001b[39m=\u001b[39m (\u001b[39mlen\u001b[39m(index), \u001b[39mlen\u001b[39m(columns))\n\u001b[0;32m--> 420\u001b[0m \u001b[39mraise\u001b[39;00m \u001b[39mValueError\u001b[39;00m(\u001b[39mf\u001b[39m\u001b[39m\"\u001b[39m\u001b[39mShape of passed values is \u001b[39m\u001b[39m{\u001b[39;00mpassed\u001b[39m}\u001b[39;00m\u001b[39m, indices imply \u001b[39m\u001b[39m{\u001b[39;00mimplied\u001b[39m}\u001b[39;00m\u001b[39m\"\u001b[39m)\n",
      "\u001b[0;31mValueError\u001b[0m: Shape of passed values is (12, 1), indices imply (12, 22)"
     ]
    }
   ],
   "source": [
    "## Edit parameters here\n",
    "sample = '01_1_S22_reads'\n",
    "#########################\n",
    "%reload_ext autoreload\n",
    "plot = plots.heatmap_across_family_members(study, sample)\n",
    "save_plotly_fig(ipynbname.path(), '[A] Heatmap across family members with all bases/{}'.format(sample), plot['fig'])\n",
    "plot['fig'].show()\n"
   ]
  },
  {
   "cell_type": "code",
   "execution_count": 7,
   "metadata": {},
   "outputs": [
    {
     "data": {
      "text/html": [
       "<div>\n",
       "<style scoped>\n",
       "    .dataframe tbody tr th:only-of-type {\n",
       "        vertical-align: middle;\n",
       "    }\n",
       "\n",
       "    .dataframe tbody tr th {\n",
       "        vertical-align: top;\n",
       "    }\n",
       "\n",
       "    .dataframe thead th {\n",
       "        text-align: right;\n",
       "    }\n",
       "</style>\n",
       "<table border=\"1\" class=\"dataframe\">\n",
       "  <thead>\n",
       "    <tr style=\"text-align: right;\">\n",
       "      <th></th>\n",
       "      <th>sample</th>\n",
       "      <th>family</th>\n",
       "      <th>construct</th>\n",
       "      <th>frame_shift_ROI</th>\n",
       "      <th>mut_rates</th>\n",
       "    </tr>\n",
       "  </thead>\n",
       "  <tbody>\n",
       "    <tr>\n",
       "      <th>0</th>\n",
       "      <td>01_1_S22_reads</td>\n",
       "      <td>hp1</td>\n",
       "      <td>3042-O-flank_1=hp1-DB</td>\n",
       "      <td>0.0</td>\n",
       "      <td>[0.0023004600920184036, 0.0017011908335835084,...</td>\n",
       "    </tr>\n",
       "    <tr>\n",
       "      <th>1</th>\n",
       "      <td>01_1_S22_reads</td>\n",
       "      <td>hp1</td>\n",
       "      <td>3043-CC-flank_1=hp1-DB</td>\n",
       "      <td>0.0</td>\n",
       "      <td>[0.0034761217177389165, 0.0014424618014745164,...</td>\n",
       "    </tr>\n",
       "    <tr>\n",
       "      <th>2</th>\n",
       "      <td>01_1_S22_reads</td>\n",
       "      <td>hp1</td>\n",
       "      <td>3044-O-flank_1=hp1-DB</td>\n",
       "      <td>1.0</td>\n",
       "      <td>[0.0032633525508539104, 0.01016504536014865, 0...</td>\n",
       "    </tr>\n",
       "    <tr>\n",
       "      <th>3</th>\n",
       "      <td>01_1_S22_reads</td>\n",
       "      <td>hp1</td>\n",
       "      <td>3045-CC-flank_1=hp1-DB</td>\n",
       "      <td>1.0</td>\n",
       "      <td>[0.0018835476209974613, 0.01011762770420334, 0...</td>\n",
       "    </tr>\n",
       "    <tr>\n",
       "      <th>4</th>\n",
       "      <td>01_1_S22_reads</td>\n",
       "      <td>hp1</td>\n",
       "      <td>3046-O-flank_1=hp1-DB</td>\n",
       "      <td>2.0</td>\n",
       "      <td>[0.018468118195956455, 0.0018491484184914842, ...</td>\n",
       "    </tr>\n",
       "    <tr>\n",
       "      <th>...</th>\n",
       "      <td>...</td>\n",
       "      <td>...</td>\n",
       "      <td>...</td>\n",
       "      <td>...</td>\n",
       "      <td>...</td>\n",
       "    </tr>\n",
       "    <tr>\n",
       "      <th>623</th>\n",
       "      <td>01_1_S22_reads</td>\n",
       "      <td>bi12</td>\n",
       "      <td>3666-O-flank_1=bi12-kshv-DB</td>\n",
       "      <td>8.0</td>\n",
       "      <td>[0.013376364176822794, 0.012906578890380702, 0...</td>\n",
       "    </tr>\n",
       "    <tr>\n",
       "      <th>624</th>\n",
       "      <td>01_1_S22_reads</td>\n",
       "      <td>bi12</td>\n",
       "      <td>3667-O-flank_1=bi12-kshv-DB</td>\n",
       "      <td>9.0</td>\n",
       "      <td>[0.018667917448405253, 0.007429420505200594, 0...</td>\n",
       "    </tr>\n",
       "    <tr>\n",
       "      <th>625</th>\n",
       "      <td>01_1_S22_reads</td>\n",
       "      <td>bi12</td>\n",
       "      <td>3668-O-flank_1=bi12-kshv-DB</td>\n",
       "      <td>10.0</td>\n",
       "      <td>[0.012968804766912022, 0.009210060219624512, 0...</td>\n",
       "    </tr>\n",
       "    <tr>\n",
       "      <th>626</th>\n",
       "      <td>01_1_S22_reads</td>\n",
       "      <td>bi12</td>\n",
       "      <td>3669-O-flank_1=bi12-kshv-DB</td>\n",
       "      <td>11.0</td>\n",
       "      <td>[0.014214831701756738, 0.020717131474103586, 0...</td>\n",
       "    </tr>\n",
       "    <tr>\n",
       "      <th>627</th>\n",
       "      <td>01_1_S22_reads</td>\n",
       "      <td>bi12</td>\n",
       "      <td>3670-O-flank_1=bi12-kshv-DB</td>\n",
       "      <td>12.0</td>\n",
       "      <td>[0.02952717284677261, 0.012806179489785548, 0....</td>\n",
       "    </tr>\n",
       "  </tbody>\n",
       "</table>\n",
       "<p>628 rows × 5 columns</p>\n",
       "</div>"
      ],
      "text/plain": [
       "             sample family                    construct  frame_shift_ROI  \\\n",
       "0    01_1_S22_reads    hp1        3042-O-flank_1=hp1-DB              0.0   \n",
       "1    01_1_S22_reads    hp1       3043-CC-flank_1=hp1-DB              0.0   \n",
       "2    01_1_S22_reads    hp1        3044-O-flank_1=hp1-DB              1.0   \n",
       "3    01_1_S22_reads    hp1       3045-CC-flank_1=hp1-DB              1.0   \n",
       "4    01_1_S22_reads    hp1        3046-O-flank_1=hp1-DB              2.0   \n",
       "..              ...    ...                          ...              ...   \n",
       "623  01_1_S22_reads   bi12  3666-O-flank_1=bi12-kshv-DB              8.0   \n",
       "624  01_1_S22_reads   bi12  3667-O-flank_1=bi12-kshv-DB              9.0   \n",
       "625  01_1_S22_reads   bi12  3668-O-flank_1=bi12-kshv-DB             10.0   \n",
       "626  01_1_S22_reads   bi12  3669-O-flank_1=bi12-kshv-DB             11.0   \n",
       "627  01_1_S22_reads   bi12  3670-O-flank_1=bi12-kshv-DB             12.0   \n",
       "\n",
       "                                             mut_rates  \n",
       "0    [0.0023004600920184036, 0.0017011908335835084,...  \n",
       "1    [0.0034761217177389165, 0.0014424618014745164,...  \n",
       "2    [0.0032633525508539104, 0.01016504536014865, 0...  \n",
       "3    [0.0018835476209974613, 0.01011762770420334, 0...  \n",
       "4    [0.018468118195956455, 0.0018491484184914842, ...  \n",
       "..                                                 ...  \n",
       "623  [0.013376364176822794, 0.012906578890380702, 0...  \n",
       "624  [0.018667917448405253, 0.007429420505200594, 0...  \n",
       "625  [0.012968804766912022, 0.009210060219624512, 0...  \n",
       "626  [0.014214831701756738, 0.020717131474103586, 0...  \n",
       "627  [0.02952717284677261, 0.012806179489785548, 0....  \n",
       "\n",
       "[628 rows x 5 columns]"
      ]
     },
     "execution_count": 7,
     "metadata": {},
     "output_type": "execute_result"
    }
   ],
   "source": [
    "plot['data']"
   ]
  },
  {
   "attachments": {},
   "cell_type": "markdown",
   "metadata": {},
   "source": [
    "### 2-3 common bases w/ CI/bootstraping on fit and individual points"
   ]
  },
  {
   "cell_type": "code",
   "execution_count": 3,
   "metadata": {},
   "outputs": [
    {
     "data": {
      "text/plain": [
       "<Figure size 640x480 with 0 Axes>"
      ]
     },
     "metadata": {},
     "output_type": "display_data"
    }
   ],
   "source": [
    "savefig2(ipynbname.path(), '[B]  2-3 common bases w CI-bootstraping on fit and individual points')"
   ]
  },
  {
   "attachments": {},
   "cell_type": "markdown",
   "metadata": {},
   "source": [
    "### Supplemental: what are ranges for unpaired/paired bases; how do we get fraction folded and be confident in it "
   ]
  },
  {
   "cell_type": "code",
   "execution_count": null,
   "metadata": {},
   "outputs": [],
   "source": []
  }
 ],
 "metadata": {
  "kernelspec": {
   "display_name": "venv",
   "language": "python",
   "name": "python3"
  },
  "language_info": {
   "codemirror_mode": {
    "name": "ipython",
    "version": 3
   },
   "file_extension": ".py",
   "mimetype": "text/x-python",
   "name": "python",
   "nbconvert_exporter": "python",
   "pygments_lexer": "ipython3",
   "version": "3.11.0"
  },
  "orig_nbformat": 4,
  "vscode": {
   "interpreter": {
    "hash": "da229f0528e1c0d1c0b9dd42b2435d18e9f382f2b763d9e722ef981a0e650149"
   }
  }
 },
 "nbformat": 4,
 "nbformat_minor": 2
}
