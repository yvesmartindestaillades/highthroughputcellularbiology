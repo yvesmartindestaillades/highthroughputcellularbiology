{
 "cells": [
  {
   "attachments": {},
   "cell_type": "markdown",
   "metadata": {},
   "source": [
    "# How we get Kfold for one family\n"
   ]
  },
  {
   "cell_type": "code",
   "execution_count": 1,
   "metadata": {},
   "outputs": [],
   "source": [
    "%load_ext autoreload\n",
    "%autoreload 2\n",
    "import sys\n",
    "sys.path.append('../../src')\n",
    "from util import *\n",
    "from config import *\n",
    "import plots\n",
    "import generate_dataset\n",
    "import ipynbname\n"
   ]
  },
  {
   "cell_type": "markdown",
   "metadata": {},
   "source": [
    "\n",
    "### Heatmap across family members with all bases\n"
   ]
  },
  {
   "cell_type": "code",
   "execution_count": 3,
   "metadata": {},
   "outputs": [
    {
     "name": "stdout",
     "output_type": "stream",
     "text": [
      "Failed to generate heatmap for lauren473_S4 hp2\n",
      "Failed to generate heatmap for lauren473_S4 hp3\n",
      "Failed to generate heatmap for lauren473_S4 hp10\n",
      "Failed to generate heatmap for lauren473_S4 hp14\n",
      "Failed to generate heatmap for lauren473_S4 cb2\n",
      "Failed to generate heatmap for lauren473_S4 lp2\n",
      "Failed to generate heatmap for lauren473_S4 lp3\n",
      "Failed to generate heatmap for lauren473_S4 lp5\n",
      "Failed to generate heatmap for lauren473_S4 lp6\n",
      "Failed to generate heatmap for lauren473_S4 lp11\n",
      "Failed to generate heatmap for lauren473_S4 lp12\n",
      "Failed to generate heatmap for lauren473_S4 bi7\n",
      "Failed to generate heatmap for lauren473_S4 bi8\n",
      "Failed to generate heatmap for lauren473_S4 bi10\n",
      "Failed to generate heatmap for lauren471_S2 hp2\n",
      "Failed to generate heatmap for lauren471_S2 hp10\n",
      "Failed to generate heatmap for lauren471_S2 cb6\n",
      "Failed to generate heatmap for lauren471_S2 lp3\n",
      "Failed to generate heatmap for lauren471_S2 lp5\n",
      "Failed to generate heatmap for lauren471_S2 bi7\n",
      "Failed to generate heatmap for lauren471_S2 bi8\n",
      "Failed to generate heatmap for 1_2_S27new_reads bi10\n"
     ]
    }
   ],
   "source": [
    "%autoreload 2\n",
    "for sample in study.df['sample'].unique():\n",
    "    for family in study.get_df(sample=sample).family.unique():\n",
    "        try:\n",
    "            plots.heatmap_across_family_members(study, sample, family)\n",
    "            savefig2(ipynbname.path(), '[A] Heatmap across family members with all bases/{}/{}'.format(sample, family))\n",
    "        except:\n",
    "            print('Failed to generate heatmap for {} {}'.format(sample, family))\n",
    "        if not generate_plots:\n",
    "            break\n",
    "    if not generate_plots:\n",
    "        break\n"
   ]
  },
  {
   "attachments": {},
   "cell_type": "markdown",
   "metadata": {},
   "source": [
    "### 2-3 common bases w/ CI/bootstraping on fit and individual points"
   ]
  },
  {
   "cell_type": "code",
   "execution_count": null,
   "metadata": {},
   "outputs": [],
   "source": [
    "savefig2(ipynbname.path(), '[B]  2-3 common bases w CI-bootstraping on fit and individual points')"
   ]
  },
  {
   "attachments": {},
   "cell_type": "markdown",
   "metadata": {},
   "source": [
    "### Supplemental: what are ranges for unpaired/paired bases; how do we get fraction folded and be confident in it "
   ]
  },
  {
   "cell_type": "code",
   "execution_count": null,
   "metadata": {},
   "outputs": [],
   "source": []
  }
 ],
 "metadata": {
  "kernelspec": {
   "display_name": "venv",
   "language": "python",
   "name": "python3"
  },
  "language_info": {
   "codemirror_mode": {
    "name": "ipython",
    "version": 3
   },
   "file_extension": ".py",
   "mimetype": "text/x-python",
   "name": "python",
   "nbconvert_exporter": "python",
   "pygments_lexer": "ipython3",
   "version": "3.11.0"
  },
  "orig_nbformat": 4,
  "vscode": {
   "interpreter": {
    "hash": "da229f0528e1c0d1c0b9dd42b2435d18e9f382f2b763d9e722ef981a0e650149"
   }
  }
 },
 "nbformat": 4,
 "nbformat_minor": 2
}
