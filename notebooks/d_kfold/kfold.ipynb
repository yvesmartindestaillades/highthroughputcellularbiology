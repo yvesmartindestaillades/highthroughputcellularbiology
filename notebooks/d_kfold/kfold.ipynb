{
 "cells": [
  {
   "attachments": {},
   "cell_type": "markdown",
   "metadata": {},
   "source": [
    "# How we get Kfold for one family\n"
   ]
  },
  {
   "cell_type": "code",
   "execution_count": 1,
   "metadata": {},
   "outputs": [
    {
     "name": "stdout",
     "output_type": "stream",
     "text": [
      "Index(['DMS_conc_mM', 'buffer', 'cell_line', 'date', 'exp_env',\n",
      "       'inc_time_tot_secs', 'sample', 'temperature_k', 'user', 'construct',\n",
      "       'barcode_end', 'barcode_start', 'family', 'flank', 'num_aligned',\n",
      "       'secondary_signature', 'secondary_signature_end',\n",
      "       'secondary_signature_start', 'section_boundaries', 'sequence',\n",
      "       'section', 'cluster', 'deltaG', 'section_end', 'section_start',\n",
      "       'structure', 'worst_cov_bases', 'cov_bases', 'del_bases', 'info_bases',\n",
      "       'ins_bases', 'mod_bases_A', 'mod_bases_C', 'mod_bases_G', 'mod_bases_N',\n",
      "       'mod_bases_T', 'mut_bases', 'mut_rates', 'num_of_mutations',\n",
      "       'poisson_high', 'poisson_low', 'frame_shift_ROI'],\n",
      "      dtype='object')\n"
     ]
    }
   ],
   "source": [
    "%load_ext autoreload\n",
    "%autoreload 2\n",
    "import sys\n",
    "sys.path.append('../../src')\n",
    "from util import *\n",
    "from config import *\n",
    "from study_gen import study\n",
    "import plots\n",
    "import generate_dataset\n",
    "import ipynbname\n"
   ]
  },
  {
   "cell_type": "code",
   "execution_count": 2,
   "metadata": {},
   "outputs": [
    {
     "data": {
      "text/plain": [
       "Index(['DMS_conc_mM', 'buffer', 'cell_line', 'date', 'exp_env',\n",
       "       'inc_time_tot_secs', 'sample', 'temperature_k', 'user', 'construct',\n",
       "       'barcode_end', 'barcode_start', 'family', 'flank', 'num_aligned',\n",
       "       'secondary_signature', 'secondary_signature_end',\n",
       "       'secondary_signature_start', 'section_boundaries', 'sequence',\n",
       "       'section', 'cluster', 'deltaG', 'section_end', 'section_start',\n",
       "       'structure', 'worst_cov_bases', 'cov_bases', 'del_bases', 'info_bases',\n",
       "       'ins_bases', 'mod_bases_A', 'mod_bases_C', 'mod_bases_G', 'mod_bases_N',\n",
       "       'mod_bases_T', 'mut_bases', 'mut_rates', 'num_of_mutations',\n",
       "       'poisson_high', 'poisson_low', 'frame_shift_ROI'],\n",
       "      dtype='object')"
      ]
     },
     "execution_count": 2,
     "metadata": {},
     "output_type": "execute_result"
    }
   ],
   "source": [
    "study.df.columns"
   ]
  },
  {
   "cell_type": "markdown",
   "metadata": {},
   "source": [
    "\n",
    "### Heatmap across family members with all bases\n"
   ]
  },
  {
   "cell_type": "code",
   "execution_count": 13,
   "metadata": {},
   "outputs": [
    {
     "name": "stdout",
     "output_type": "stream",
     "text": [
      "05_1_S24_reads\n",
      "lauren474_S5\n",
      "2_1_s28new_reads\n",
      "1_1_S26new_reads\n",
      "10_1_s32new_reads\n",
      "01_02_S23_reads\n",
      "lauren470_S1\n",
      "5_1_S30new_reads\n",
      "lauren473_S4\n",
      "2_2_S29new_reads\n",
      "lauren471_S2\n",
      "5_2_S31_reads\n",
      "10_2_s33new_reads\n",
      "1_2_S27new_reads\n",
      "lauren472_S3\n",
      "Lauren_603_10min_S9_L001\n",
      "lauren475_S6\n",
      "01_1_S22_reads\n",
      "05_2_S25_reads\n"
     ]
    }
   ],
   "source": [
    "%reload_ext autoreload\n",
    "for sample in study.df['sample'].unique():\n",
    "    plot = plots.heatmap_across_family_members(study, sample)\n",
    "    save_plotly_fig(ipynbname.path(), '[A] Heatmap across family members with all bases/{}'.format(sample), plot['fig'])\n",
    "#    if not generate_plots:\n",
    "#        plot['fig'].show()\n",
    "#        break\n"
   ]
  },
  {
   "attachments": {},
   "cell_type": "markdown",
   "metadata": {},
   "source": [
    "### 2-3 common bases w/ CI/bootstraping on fit and individual points"
   ]
  },
  {
   "cell_type": "code",
   "execution_count": 3,
   "metadata": {},
   "outputs": [
    {
     "data": {
      "text/plain": [
       "<Figure size 640x480 with 0 Axes>"
      ]
     },
     "metadata": {},
     "output_type": "display_data"
    }
   ],
   "source": [
    "savefig2(ipynbname.path(), '[B]  2-3 common bases w CI-bootstraping on fit and individual points')"
   ]
  },
  {
   "attachments": {},
   "cell_type": "markdown",
   "metadata": {},
   "source": [
    "### Supplemental: what are ranges for unpaired/paired bases; how do we get fraction folded and be confident in it "
   ]
  },
  {
   "cell_type": "code",
   "execution_count": null,
   "metadata": {},
   "outputs": [],
   "source": []
  }
 ],
 "metadata": {
  "kernelspec": {
   "display_name": "venv",
   "language": "python",
   "name": "python3"
  },
  "language_info": {
   "codemirror_mode": {
    "name": "ipython",
    "version": 3
   },
   "file_extension": ".py",
   "mimetype": "text/x-python",
   "name": "python",
   "nbconvert_exporter": "python",
   "pygments_lexer": "ipython3",
   "version": "3.11.0"
  },
  "orig_nbformat": 4,
  "vscode": {
   "interpreter": {
    "hash": "da229f0528e1c0d1c0b9dd42b2435d18e9f382f2b763d9e722ef981a0e650149"
   }
  }
 },
 "nbformat": 4,
 "nbformat_minor": 2
}
