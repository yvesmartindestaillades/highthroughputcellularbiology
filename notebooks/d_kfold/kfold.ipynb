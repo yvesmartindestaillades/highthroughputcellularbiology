{
 "cells": [
  {
   "attachments": {},
   "cell_type": "markdown",
   "metadata": {},
   "source": [
    "# How we get Kfold for one family\n",
    "\n",
    "**Note: first run of this cell takes a while**"
   ]
  },
  {
   "cell_type": "code",
   "execution_count": null,
   "metadata": {},
   "outputs": [],
   "source": [
    "%load_ext autoreload\n",
    "%autoreload 2\n",
    "import sys\n",
    "sys.path.append('../../src')\n",
    "from util import *\n",
    "from config import *\n",
    "from study_gen import study\n",
    "import plots\n",
    "import generate_dataset\n",
    "import ipynbname\n"
   ]
  },
  {
   "cell_type": "markdown",
   "metadata": {},
   "source": [
    "\n",
    "### Heatmap across family members with all bases\n"
   ]
  },
  {
   "cell_type": "code",
   "execution_count": null,
   "metadata": {},
   "outputs": [],
   "source": [
    "## Edit parameters here\n",
    "sample = '01_1_S22_reads'\n",
    "#########################\n",
    "%reload_ext autoreload\n",
    "plot = plots.heatmap_across_family_members(study, sample)\n",
    "save_plotly_fig(ipynbname.path(), '[A] Heatmap across family members with all bases/{}'.format(sample), plot['fig'])\n",
    "plot['fig'].show()\n"
   ]
  },
  {
   "cell_type": "code",
   "execution_count": null,
   "metadata": {},
   "outputs": [],
   "source": [
    "plot['data']"
   ]
  },
  {
   "attachments": {},
   "cell_type": "markdown",
   "metadata": {},
   "source": [
    "### 2-3 common bases w/ CI/bootstraping on fit and individual points"
   ]
  },
  {
   "cell_type": "code",
   "execution_count": null,
   "metadata": {},
   "outputs": [],
   "source": [
    "savefig2(ipynbname.path(), '[B]  2-3 common bases w CI-bootstraping on fit and individual points')"
   ]
  },
  {
   "attachments": {},
   "cell_type": "markdown",
   "metadata": {},
   "source": [
    "## Kfold estimation \n",
    "### Using Turner rules"
   ]
  },
  {
   "cell_type": "code",
   "execution_count": null,
   "metadata": {},
   "outputs": [],
   "source": [
    "%reload_ext autoreload\n",
    "import plotly.express as px\n",
    "import plotly.graph_objects as go\n",
    "\n",
    "plots.mut_rates_for_kfold(\n",
    "    study,\n",
    "    samples=['18_DMS_S7_L001', 'Lauren_601_2_S2_L001', 'Lauren_603_3min_S7_L001', 'lauren470_S1'],\n",
    "    family='hp2')['fig'].show()"
   ]
  },
  {
   "cell_type": "code",
   "execution_count": null,
   "metadata": {},
   "outputs": [],
   "source": [
    "%reload_ext autoreload\n",
    "sample = 'lauren472_S3'\n",
    "family = 'hp2'\n",
    "\n",
    "plots.kfold_per_family(study, sample, family, stride='turner')['fig'].show()\n",
    "plots.mut_rate_across_family_vs_deltaG(study=study, sample=sample, family=family)['fig'].show()"
   ]
  },
  {
   "attachments": {},
   "cell_type": "markdown",
   "metadata": {},
   "source": [
    "### Using child number"
   ]
  },
  {
   "cell_type": "code",
   "execution_count": null,
   "metadata": {},
   "outputs": [],
   "source": [
    "%reload_ext autoreload\n",
    "sample = 'lauren472_S3'\n",
    "family = 'hp13'\n",
    "\n",
    "plots.kfold_per_family(study, sample, family, stride='child#')['fig'].show()\n",
    "for sample in ['18_DMS_S7_L001', 'Lauren_601_2_S2_L001', 'Lauren_603_3min_S7_L001', 'lauren470_S1']:\n",
    "    plots.mut_rate_across_family_vs_deltaG(study=study, sample=sample, family=family)['fig'].show()"
   ]
  },
  {
   "attachments": {},
   "cell_type": "markdown",
   "metadata": {},
   "source": [
    "## Kfold estimation per sample\n",
    "\n",
    "You can typically use replicates here to get a better estimate of the Kfold."
   ]
  },
  {
   "cell_type": "code",
   "execution_count": null,
   "metadata": {},
   "outputs": [],
   "source": [
    "%reload_ext autoreload\n",
    "\n",
    "plots.kfold_per_samples(\n",
    "    study=study,\n",
    "    samples= ['18_DMS_S7_L001', 'Lauren_601_2_S2_L001', 'Lauren_603_3min_S7_L001', 'lauren470_S1'],\n",
    "    family='hp9',\n",
    "    stride='turner'\n",
    ")['fig'].show()"
   ]
  },
  {
   "attachments": {},
   "cell_type": "markdown",
   "metadata": {},
   "source": [
    "### Supplemental: what are ranges for unpaired/paired bases; how do we get fraction folded and be confident in it "
   ]
  }
 ],
 "metadata": {
  "kernelspec": {
   "display_name": "venv",
   "language": "python",
   "name": "python3"
  },
  "language_info": {
   "codemirror_mode": {
    "name": "ipython",
    "version": 3
   },
   "file_extension": ".py",
   "mimetype": "text/x-python",
   "name": "python",
   "nbconvert_exporter": "python",
   "pygments_lexer": "ipython3",
   "version": "3.11.0"
  },
  "orig_nbformat": 4,
  "vscode": {
   "interpreter": {
    "hash": "da229f0528e1c0d1c0b9dd42b2435d18e9f382f2b763d9e722ef981a0e650149"
   }
  }
 },
 "nbformat": 4,
 "nbformat_minor": 2
}
