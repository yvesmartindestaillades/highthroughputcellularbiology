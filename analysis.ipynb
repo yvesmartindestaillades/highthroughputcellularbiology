{
  "cells": [
    {
      "cell_type": "markdown",
      "metadata": {
        "id": "kzUe9kdyAzUo"
      },
      "source": [
        "# High-throughput cellular biology analysis\n",
        "\n",
        "This notebook shows the plots for Lauren Halger's paper: «high-throughput cellular biology».\n",
        "\n",
        "This notebook and its backend plotting functions are imported from [GitHub](https://github.com/yvesmartindestaillades/highthroughputcellularbiology). \n",
        "\n",
        "The data is stored under the folder `data`. The sequencer output was processed using Prof. Silvi Rouskin's DREEM. Then the data was post-processed using `src/dreem_post_processing.py` and `src/generate_dataset.py`.\n",
        "\n",
        "Figures generated in the google colab are automatically outputted in the folder `figs`."
      ]
    },
    {
      "cell_type": "markdown",
      "metadata": {
        "id": "FOcf6ZhWM62B"
      },
      "source": [
        "## Hyperparameters"
      ]
    },
    {
      "cell_type": "code",
      "execution_count": null,
      "metadata": {
        "id": "4tVd5WQJM62C"
      },
      "outputs": [],
      "source": [
        "mode = 'local' # 'local' or 'colab'"
      ]
    },
    {
      "cell_type": "markdown",
      "metadata": {
        "id": "unxvpJyIM62C"
      },
      "source": [
        "## Import data"
      ]
    },
    {
      "cell_type": "code",
      "execution_count": null,
      "metadata": {
        "id": "ZSlk5asoAkxD"
      },
      "outputs": [],
      "source": [
        "import os\n",
        "import pandas as pd\n",
        "\n",
        "if mode == 'local':\n",
        "    path = ''\n",
        "    \n",
        "if mode == 'colab':\n",
        "    from google.colab import drive\n",
        "    drive.mount('/content/gdrive/', force_remount=True)\n",
        "    path = '/content/gdrive/Shareddrives/High-throughput cellular biology - Lauren Hagler, PhD'\n",
        "\n",
        "path_data, path_figs = os.path.join(path,'data'), os.path.join(path,'figs')\n"
      ]
    }
  ],
  "metadata": {
    "colab": {
      "provenance": []
    },
    "kernelspec": {
      "display_name": "venv",
      "language": "python",
      "name": "python3"
    },
    "language_info": {
      "codemirror_mode": {
        "name": "ipython",
        "version": 3
      },
      "file_extension": ".py",
      "mimetype": "text/x-python",
      "name": "python",
      "nbconvert_exporter": "python",
      "pygments_lexer": "ipython3",
      "version": "3.11.0"
    },
    "vscode": {
      "interpreter": {
        "hash": "da229f0528e1c0d1c0b9dd42b2435d18e9f382f2b763d9e722ef981a0e650149"
      }
    }
  },
  "nbformat": 4,
  "nbformat_minor": 0
}