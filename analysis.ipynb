{
 "cells": [
  {
   "attachments": {},
   "cell_type": "markdown",
   "metadata": {
    "id": "kzUe9kdyAzUo"
   },
   "source": [
    "# High-throughput cellular biology analysis\n",
    "\n",
    "This notebook shows the plots for Lauren Halger's paper: «high-throughput cellular biology».\n",
    "\n",
    "The plotting functions are imported from [GitHub](https://github.com/yvesmartindestaillades/highthroughputcellularbiology).\n",
    "\n",
    "The data is stored under the folder `data`.\n",
    "\n",
    "Figures generated in the google colab are automatically outputted in the folder `figs`."
   ]
  },
  {
   "cell_type": "markdown",
   "metadata": {},
   "source": [
    "## Hyperparameters"
   ]
  },
  {
   "cell_type": "code",
   "execution_count": null,
   "metadata": {},
   "outputs": [],
   "source": [
    "mode = 'local' # 'local' or 'colab'"
   ]
  },
  {
   "cell_type": "markdown",
   "metadata": {},
   "source": [
    "## Import data"
   ]
  },
  {
   "cell_type": "code",
   "execution_count": null,
   "metadata": {
    "colab": {
     "base_uri": "https://localhost:8080/"
    },
    "id": "ZSlk5asoAkxD",
    "outputId": "a3263e8b-5306-453b-fa9b-fae5770a1c23"
   },
   "outputs": [],
   "source": [
    "import os\n",
    "import pandas as pd\n",
    "\n",
    "if mode == 'local':\n",
    "    path = ''\n",
    "    \n",
    "if mode == 'colab':\n",
    "    from google.colab import drive\n",
    "    drive.mount('/content/gdrive/', force_remount=True)\n",
    "    path = '/content/gdrive/Shareddrives/High-throughput cellular biology - Lauren Hagler, PhD'\n",
    "\n",
    "path_data, path_figs = os.path.join(path,'data'), os.path.join(path,'figs')\n"
   ]
  }
 ],
 "metadata": {
  "colab": {
   "provenance": []
  },
  "kernelspec": {
   "display_name": "venv",
   "language": "python",
   "name": "python3"
  },
  "language_info": {
   "codemirror_mode": {
    "name": "ipython",
    "version": 3
   },
   "file_extension": ".py",
   "mimetype": "text/x-python",
   "name": "python",
   "nbconvert_exporter": "python",
   "pygments_lexer": "ipython3",
   "version": "3.11.0"
  },
  "vscode": {
   "interpreter": {
    "hash": "da229f0528e1c0d1c0b9dd42b2435d18e9f382f2b763d9e722ef981a0e650149"
   }
  }
 },
 "nbformat": 4,
 "nbformat_minor": 0
}
